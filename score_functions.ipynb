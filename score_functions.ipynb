{
 "cells": [
  {
   "cell_type": "code",
   "execution_count": 1,
   "metadata": {},
   "outputs": [],
   "source": [
    "import numpy as np\n",
    "from random import randint, shuffle\n",
    "import time\n",
    "import datetime\n",
    "import pandas as pd\n",
    "import plotly.express as px\n",
    "import plotly.graph_objects as go\n",
    "from plotly.subplots import make_subplots\n",
    "import plotly.io as pio\n",
    "\n",
    "from plotly.validators.scatter.marker import SymbolValidator\n",
    "\n",
    "from sklearn.preprocessing import Normalizer\n",
    "from sklearn.metrics import silhouette_samples, silhouette_score\n",
    "from sklearn.cluster import KMeans\n",
    "\n",
    "import warnings\n",
    "warnings.simplefilter(\"ignore\", UserWarning)"
   ]
  },
  {
   "cell_type": "markdown",
   "metadata": {},
   "source": [
    "## 1 - Simulated Data"
   ]
  },
  {
   "cell_type": "markdown",
   "metadata": {},
   "source": [
    "### Random data functions"
   ]
  },
  {
   "cell_type": "code",
   "execution_count": 2,
   "metadata": {},
   "outputs": [],
   "source": [
    "#### DATA SIMULADA\n",
    "# 1 - lista de usuarios/jugadores\n",
    "\n",
    "def players_ids_list(n_players) -> pd.DataFrame:\n",
    "\n",
    "    \"\"\"\n",
    "    Create a list of lists containing each team's players.\n",
    "    \"\"\"\n",
    "    # random player ids, shuffled\n",
    "    player_ids = [i for i in range(10000,100000)]\n",
    "    shuffle(player_ids)\n",
    "\n",
    "    n_first = 0\n",
    "    n_last = n_players[0]\n",
    "    \n",
    "    # first team\n",
    "    player_list = player_ids[n_first : n_last]\n",
    "    all_players_list = [player_list]\n",
    "\n",
    "    # other teams if n_players recieved more than 1 user input\n",
    "    if len(n_players) > 1:\n",
    "        for n in n_players[1:]:\n",
    "            n_first = n_last\n",
    "            n_last += n\n",
    "\n",
    "            player_list = player_ids[n_first : n_last]\n",
    "            all_players_list.extend([player_list])\n",
    "\n",
    "    return all_players_list\n",
    "\n",
    "#----- create individual player\n",
    "def player_score(player_id = randint(10000, 99999), date = datetime.date.today().isoformat(),\n",
    "                 events=['A','B']) -> pd.DataFrame:\n",
    "    \"\"\"\n",
    "    Creates a DataFrame with a single random player and scores for each event (game)\n",
    "\n",
    "    **Parameters**\n",
    "    -------------\n",
    "    player_id: player unique identifier\n",
    "    date: date in YYYY-MM-DD (today by default)\n",
    "    events: list of str of simultaneous activities\n",
    "    \"\"\"\n",
    "    player = pd.DataFrame(\n",
    "        {\n",
    "            'player_id'  : [f\"{player_id}\" for i in range(len(events))],\n",
    "            'event_date' : [date for i in range(len(events))],\n",
    "            'event_game' : events,\n",
    "            'score'      : [randint(0,3) for i in range(len(events))]\n",
    "        }\n",
    "    )\n",
    "\n",
    "    return player\n",
    "\n",
    "#----- create a team\n",
    "def team_players(player_id= [randint(10000,99999)], date = datetime.date.today().isoformat(),\n",
    "                 events=['A','B']) -> pd.DataFrame:\n",
    "\n",
    "    \"\"\"\n",
    "    Creates a team score data with a given list of players with random scores for each event.\n",
    "    \"\"\"\n",
    "    \n",
    "    # creates a dataframe with the first player on list (player_id)\n",
    "    team = player_score(player_id[0], date, events)\n",
    "    \n",
    "    # if more players on list, it will concatenate this new players (from team_player[1])\n",
    "    if len(player_id) > 1:\n",
    "        for player in range(1, len(player_id)):\n",
    "            team = pd.concat([team, # main dataframe\n",
    "                              player_score(player_id[player], date, events)\n",
    "                             ])\n",
    "    # row reindex\n",
    "    team.reset_index(drop = True, inplace = True)\n",
    "    \n",
    "    return team\n",
    "\n",
    "#----- create a team with random scores\n",
    "def team_scores(player_id = [randint(10000,99999)], date = datetime.date.today().isoformat(),\n",
    "                events=['A','B']) -> pd.DataFrame:\n",
    "    \"\"\"\n",
    "    Creates a team score data with a given list of players with random scores\n",
    "    for each event, and asigns score description.\n",
    "    \"\"\"\n",
    "\n",
    "    team = team_players(player_id, date, events)\n",
    "\n",
    "    medal = []\n",
    "\n",
    "    for s in team['score'].values:\n",
    "        if s == 1:\n",
    "            medal.append('bronze')\n",
    "        elif s == 2:\n",
    "            medal.append('silver')\n",
    "        elif s == 3:\n",
    "            medal.append('gold')\n",
    "        else:\n",
    "            medal.append('not played')\n",
    "\n",
    "    team['medal'] = pd.Series(medal)\n",
    "    \n",
    "    return team"
   ]
  },
  {
   "cell_type": "markdown",
   "metadata": {},
   "source": [
    "### Main data simulation function"
   ]
  },
  {
   "cell_type": "code",
   "execution_count": 3,
   "metadata": {},
   "outputs": [],
   "source": [
    "# ejecuta todo de 1 - simulated data\n",
    "# streamlit user inputs example\n",
    "\n",
    "#input_n_players = [3, 0, 0, 0]\n",
    "input_n_players = [3, 6, 4, 0]\n",
    "#input_n_players = [3, 6, 4, 1]\n",
    "\n",
    "events_input = ['A', 'B', 'C']\n",
    "team_names_input = ['summer', 'autumn', 'winter', 'spring']\n",
    "\n",
    "# esta funcion debe estar antes del pipeline (en sidebar)\n",
    "first_team, *teams= players_ids_list(input_n_players)"
   ]
  },
  {
   "cell_type": "code",
   "execution_count": 4,
   "metadata": {},
   "outputs": [],
   "source": [
    "# agregar date = date_input\n",
    "def data_sim() -> dict:\n",
    "    \"\"\"\n",
    "    Simulated data from user defined parameters. Returns a dict with all needed variables for\n",
    "    the pipeline (individual teams raw data, bool list for iteration, full df with teams raw data\n",
    "    and aggregated teams data)\n",
    "    \"\"\"\n",
    "\n",
    "    df_first_team = team_scores(player_id = first_team,\n",
    "                                #date = date_input,\n",
    "                                events=events_input)\n",
    "    df_first_team['team'] = pd.Series([team_names_input[0] for i in range(len(df_first_team))])\n",
    "\n",
    "    *df_teams, = [pd.DataFrame() for i in range(3)]\n",
    "    bool_list = []\n",
    "\n",
    "    for l_idx in range(len(teams)):\n",
    "        if len(teams[l_idx]) > 1:\n",
    "            df_teams[l_idx] = team_scores(player_id = teams[l_idx],\n",
    "                                        #date = date_input,\n",
    "                                        events=events_input)\n",
    "            df_teams[l_idx]['team'] = pd.Series([team_names_input[1:][l_idx] for i in range(len(df_teams[l_idx]))])\n",
    "            bool_list.append(True)\n",
    "        else:\n",
    "            bool_list.append(False)\n",
    "\n",
    "    # concatenate all teams\n",
    "    df_teams_disagg = df_first_team.copy()\n",
    "    for i in range(len(bool_list)):\n",
    "        if bool_list[i] == True:\n",
    "            df_teams_disagg = pd.concat([df_teams_disagg, df_teams[i]]).reset_index(drop=True)\n",
    "    \n",
    "    # teams aggregated data\n",
    "    df_teams_agg = df_teams_disagg.groupby(['event_date', 'event_game', 'team', 'medal']).sum('score').reset_index()\n",
    "\n",
    "    # full output\n",
    "    data_sim_output = {\n",
    "        'teams_raw' : [df_first_team, df_teams],\n",
    "        'bool_list' : bool_list,\n",
    "        'all_teams_disagg' :df_teams_disagg,\n",
    "        'all_teams_agg' : df_teams_agg\n",
    "    }\n",
    "\n",
    "    del df_first_team, df_teams, bool_list, df_teams_disagg, df_teams_agg\n",
    "    \n",
    "    return data_sim_output"
   ]
  },
  {
   "cell_type": "code",
   "execution_count": 5,
   "metadata": {},
   "outputs": [
    {
     "name": "stdout",
     "output_type": "stream",
     "text": [
      "dict_keys(['teams_raw', 'bool_list', 'all_teams_disagg', 'all_teams_agg'])\n"
     ]
    }
   ],
   "source": [
    "# save output in a variable\n",
    "simulated_data = data_sim()\n",
    "\n",
    "# show\n",
    "print(simulated_data.keys())"
   ]
  },
  {
   "cell_type": "markdown",
   "metadata": {},
   "source": [
    "## 2 - Pipeline"
   ]
  },
  {
   "cell_type": "markdown",
   "metadata": {},
   "source": [
    "### Streamlit output and global required variables"
   ]
  },
  {
   "cell_type": "code",
   "execution_count": 6,
   "metadata": {},
   "outputs": [],
   "source": [
    "# streamlit user inputs example\n",
    "\n",
    "#input_n_players = [3, 0, 0, 0]\n",
    "input_n_players = [3, 6, 4, 0]\n",
    "#input_n_players = [3, 6, 4, 1]\n",
    "\n",
    "events_input = ['A', 'B', 'C']\n",
    "team_names_input = ['summer', 'autumn', 'winter', 'spring']\n",
    "\n",
    "# esta funcion debe estar antes del pipeline (en sidebar)\n",
    "first_team, *teams= players_ids_list(input_n_players)\n",
    "\n",
    "# streamlit output\n",
    "simulated_data = data_sim()"
   ]
  },
  {
   "cell_type": "markdown",
   "metadata": {},
   "source": [
    "### Pipeline functions (directly from modules)"
   ]
  },
  {
   "cell_type": "code",
   "execution_count": 7,
   "metadata": {},
   "outputs": [],
   "source": [
    "df_first_team = simulated_data['teams_raw'][0]\n",
    "df_teams = simulated_data['teams_raw'][1]\n",
    "bool_list = simulated_data['bool_list']\n",
    "df_teams_disagg = simulated_data['all_teams_disagg']\n",
    "df_teams_agg = simulated_data['all_teams_agg']"
   ]
  },
  {
   "cell_type": "code",
   "execution_count": 8,
   "metadata": {},
   "outputs": [],
   "source": [
    "def pipeline(df_agg_data: pd.DataFrame, df_disagg_data: pd.DataFrame,\n",
    "             df_first_team_data: pd.DataFrame, df_teams_l_data = list[pd.DataFrame],\n",
    "             b_l = list[bool]\n",
    "             ) -> pd.DataFrame:\n",
    "\n",
    "    \"\"\"\n",
    "    Pipeline Function\n",
    "    ----------\n",
    "    Generates all metric columns in the aggregated DataFrame from simulated data.\n",
    "\n",
    "    Output\n",
    "    ----------\n",
    "    A transformed pandas DataFrame with relative and absolute metrics and score methods\n",
    "    \"\"\"\n",
    "\n",
    "    if len(df_agg_data) > 0 and len(df_disagg_data) > 0:\n",
    "\n",
    "            # P: absolute medal count procedure\n",
    "        def abs_medal_count(df_agg_data: pd.DataFrame) -> None:\n",
    "            \"\"\"\n",
    "            *Procedure*\n",
    "            -\n",
    "            Adds absolute medal count (absoute frequence) column in df with aggregated data.\n",
    "            \"\"\"\n",
    "\n",
    "\n",
    "            # create an empty list for absolute medal count\n",
    "            medal_abs_frequence_l = []\n",
    "            # rename score column\n",
    "            df_agg_data.columns = ['event_date', 'event_game', 'team', 'medal', 'acc_w_score']\n",
    "\n",
    "            for i in range(len(df_agg_data)):\n",
    "                if df_agg_data['medal'].iat[i] == 'gold':\n",
    "                    medal_abs_frequence_l.append(int(df_agg_data['acc_w_score'].iat[i]/3))\n",
    "                elif df_agg_data['medal'].iat[i] == 'silver':\n",
    "                    medal_abs_frequence_l.append(int(df_agg_data['acc_w_score'].iat[i]/2))\n",
    "                elif df_agg_data['medal'].iat[i] == 'bronze':\n",
    "                    medal_abs_frequence_l.append(int(df_agg_data['acc_w_score'].iat[i]/1))\n",
    "                else:\n",
    "                    medal_abs_frequence_l.append(0)\n",
    "\n",
    "                # adds a column in df with aggregated data\n",
    "                df_agg_data['medal_abs_frequence'] = pd.Series(medal_abs_frequence_l)\n",
    "                \n",
    "\n",
    "            # P: set categorical type on columns for category order procedure\n",
    "        def agg_categories(df_agg_data: pd.DataFrame, df_disagg_data: pd.DataFrame) -> None:\n",
    "            \"\"\"\n",
    "            *Procedure*\n",
    "            -\n",
    "            Set categorical type on team and medal columns in df with aggregated data.\n",
    "            \"\"\"    \n",
    "            # set categorical type on teams to order by team\n",
    "            df_agg_data['team'] = pd.Categorical(\n",
    "                values = [i for i in df_agg_data['team'].values],\n",
    "                categories = [i for i in df_disagg_data['team'].unique()],\n",
    "                ordered = True)\n",
    "            df_agg_data.sort_values(by=['event_game','team', 'medal'], ascending=[True,True, True], ignore_index=True, inplace=True)\n",
    "\n",
    "            # set categorical type on medal to order by medal\n",
    "            df_agg_data['medal'] = pd.Categorical(df_agg_data['medal'],\n",
    "                                                ordered=True,\n",
    "                                                categories = ['not played','bronze', 'silver', 'gold'])\n",
    "\n",
    "            #----- data metrics\n",
    "\n",
    "            #---------- active players count in each team function \n",
    "        def players_count(df_first_team_data: pd.DataFrame, df_teams_l_data = list[pd.DataFrame],\n",
    "                            b_l = list[bool]) -> list:\n",
    "            \"\"\"\n",
    "            *Function*\n",
    "            -\n",
    "            Returns a list of active players in each team.\n",
    "            \"\"\"\n",
    "\n",
    "            # first team players (active)\n",
    "            team_n_players = [len(df_first_team_data['player_id'].unique())]\n",
    "            # all other team players\n",
    "            for i in range(len(b_l)):\n",
    "                if b_l[i] == True:\n",
    "                    team_n_players.append(len(df_teams_l_data[i]['player_id'].unique()))  # type: ignore\n",
    "\n",
    "            return team_n_players\n",
    "\n",
    "            #---------- total active players during the event day function\n",
    "            # in review: changed players_count in params (df_first_team_data, df_teams_l_data, b_l)\n",
    "        def total_players_count(df_first_team_data = df_first_team_data, \n",
    "                                df_teams_l_data = df_teams_l_data, \n",
    "                                b_l = b_l) -> int: \n",
    "            \"\"\"\n",
    "            *Function*\n",
    "            -\n",
    "            Returns the sum of all values in players_count function.\n",
    "            \"\"\"\n",
    "            t_p_count = players_count(df_first_team_data = df_first_team_data,\n",
    "                                    df_teams_l_data = df_teams_l_data,\n",
    "                                    b_l = b_l)\n",
    "\n",
    "            total_count = 0\n",
    "\n",
    "            for n in t_p_count:\n",
    "                total_count += n\n",
    "\n",
    "            return total_count\n",
    "\n",
    "        #---------- participation ratio for all purposes function\n",
    "        def participation_ratio(total_players: int, group_count: int) -> float:\n",
    "            \"\"\"\n",
    "            *Function*\n",
    "            -\n",
    "            Simple user ratio. Used for relative comparison.\n",
    "\n",
    "            *Params*\n",
    "            -\n",
    "            total_players: can be: base number of users, total active users, or team users.\n",
    "            group_count: can be: team users or active users.\n",
    "            \"\"\"\n",
    "            if total_players >= group_count:\n",
    "                p_r = group_count / total_players\n",
    "\n",
    "                return round(p_r*100, 2)\n",
    "\n",
    "        # P: adds teams relative size column from total active players function\n",
    "        # in review: players_count\n",
    "        def add_team_rel_size(df_agg_data: pd.DataFrame, df_disagg_data: pd.DataFrame,\n",
    "                            df_first_team_data: pd.DataFrame,\n",
    "                            df_teams_l_data: list[pd.DataFrame],\n",
    "                            b_l: list[bool]) -> pd.DataFrame:\n",
    "            \"\"\"\n",
    "            *Function*\n",
    "            -\n",
    "            Adds a column that indicates the relative portion of a team in face to total active players\n",
    "            \"\"\"\n",
    "\n",
    "            # count team players\n",
    "            team_count_l = players_count(df_first_team_data = df_first_team_data,\n",
    "                                        df_teams_l_data = df_teams_l_data,\n",
    "                                        b_l = b_l)\n",
    "            # team relative size compared to all active players during the day\n",
    "            team_rel_size_l = [participation_ratio(total_players = total_players_count(),\n",
    "                                                group_count = team_count_l[n])\\\n",
    "                                    for n in range(len(team_count_l))]\n",
    "                    \n",
    "            # aux df with relative size data\n",
    "            df_aux = pd.DataFrame({\n",
    "                    'team' : list(df_disagg_data['team'].unique()),\n",
    "                    'team_relative_size' : team_rel_size_l})\n",
    "                    \n",
    "            # merges with df with aggregated data\n",
    "            df_agg_data = df_agg_data.merge(right=df_aux, on='team', how='inner')\n",
    "\n",
    "            return df_agg_data\n",
    "\n",
    "        #---------- participants from each team in a given event function\n",
    "        def team_event_participation(event: str, filter: str,\n",
    "                                    df_first_team_data, df_teams_l_data, b_l) -> list[float]:\n",
    "            \"\"\"\n",
    "            *Function*\n",
    "            -\n",
    "            List of relative count participation of each team in a given event. The order will be:\n",
    "            - first team participation ratio (df_first_team)\n",
    "            - other teams participation ratios, in order, from df_teams (list of dfs)\n",
    "                \n",
    "            *Params*\n",
    "            -\n",
    "            event: str, name of a common event in each team df\n",
    "            filter: str, value that represents non participants in given event\n",
    "            \"\"\"\n",
    "            # all active players in each team\n",
    "            players_count_l = players_count(df_first_team_data = df_first_team_data,\n",
    "                                            df_teams_l_data = df_teams_l_data,\n",
    "                                            b_l = b_l)\n",
    "            # active players that played in an event\n",
    "            #----- first team filter\n",
    "            teams_notplayed_count = [len(df_first_team_data[df_first_team_data['event_game']==event][df_first_team_data['medal']!=filter])]\n",
    "            #------ other teams filter\n",
    "            for team, b in zip(df_teams_l_data, b_l):\n",
    "                if b == True:\n",
    "                    teams_notplayed_count.append(len(team[team['event_game']==event][team['medal']!=filter]))\n",
    "\n",
    "            # participation relative count from teams and events, not from total players\n",
    "            teams_participants_ratio = [participation_ratio(t_players, t_particip)\n",
    "                                        for t_players, t_particip in zip(players_count_l, teams_notplayed_count)]\n",
    "                \n",
    "            return teams_participants_ratio\n",
    "\n",
    "        # P: adds participation ratio column function\n",
    "        def add_team_event_participation(df_agg_data: pd.DataFrame,\n",
    "                                        df_disagg_data: pd.DataFrame,\n",
    "                                        df_first_team_data: pd.DataFrame,\n",
    "                                        df_teams_l_data: list[pd.DataFrame],\n",
    "                                        b_l: list[bool]) -> pd.DataFrame:\n",
    "            \"\"\"\n",
    "            *Function*\n",
    "            -\n",
    "            Adds team participation ratio column to df with aggregated data\n",
    "            \"\"\"\n",
    "            event_aux = df_disagg_data['event_game'].unique()\n",
    "            team_aux = df_disagg_data['team'].unique()\n",
    "\n",
    "            # list of lists with team participation in each event\n",
    "            team_event_r = [team_event_participation(event_aux[e], 'not played', df_first_team_data, df_teams_l_data, b_l)\n",
    "                            for e in range(len(event_aux))]\n",
    "\n",
    "            # lists to create an aux df to add participation ratios to aggregated data\n",
    "            event_aux_l, team_aux_l, team_event_r_l = [], [], []\n",
    "            for t in range(len(team_aux)):\n",
    "                for e in range(len(event_aux)):\n",
    "                    team_aux_l.append(team_aux[t])\n",
    "                    event_aux_l.append(event_aux[e])\n",
    "                    team_event_r_l.append(team_event_r[e][t])\n",
    "\n",
    "            df_aux = pd.DataFrame({\n",
    "                'team' : team_aux_l,\n",
    "                'event_game' : event_aux_l,\n",
    "                'team_participation_ratio': team_event_r_l})\n",
    "                \n",
    "            df_agg_data = df_agg_data.merge(right=df_aux, on=['team', 'event_game'], how='inner')\n",
    "\n",
    "            return df_agg_data\n",
    "\n",
    "        # P: add medal relative count from each team player counts procedure\n",
    "        def add_medal_rel_frequence(df_agg_data: pd.DataFrame,\n",
    "                                    df_disagg_data: pd.DataFrame,\n",
    "                                    df_first_team_data: pd.DataFrame,\n",
    "                                    df_teams_l_data: list[pd.DataFrame],\n",
    "                                    b_l: list[bool]) -> None:\n",
    "            \"\"\"\n",
    "            *Procedure*\n",
    "            -\n",
    "            Adds medal relative count column from each team size (n players) to df with aggregated data\n",
    "            \"\"\"\n",
    "            teams_aux = df_disagg_data['team'].unique()\n",
    "            team_count = players_count(df_first_team_data = df_first_team_data,\n",
    "                                    df_teams_l_data = df_teams_l_data, b_l = b_l)\n",
    "                \n",
    "            # creates list of medal relative frequences by team\n",
    "            m_rel_f_l = []\n",
    "            for count, team in zip(team_count, teams_aux):\n",
    "                m_rel_f_l.extend(df_agg_data[df_agg_data['team']==team]['medal_abs_frequence'].map(lambda x: round((x/count)*100, 2)))\n",
    "                \n",
    "            # appends to aggregated df data\n",
    "            df_agg_data['medal_rel_frequence'] = pd.Series(m_rel_f_l)\n",
    "\n",
    "        # P: adds performance score method column procedure\n",
    "        def team_performance_score(df_agg_data: pd.DataFrame) -> None:\n",
    "            \"\"\"\n",
    "            *Procedure*\n",
    "            -\n",
    "            Adds team medals` performance score to df with aggregated data. It`s calculated as:\n",
    "\n",
    "                performance_score = medal_relative_frequence * medal_weight\n",
    "                    \n",
    "            where medal_weight = (acc_w_score/medal_abs_frequence), acc_w_score is accumulated score by\n",
    "            medal and medal_abs_frequence is each medal count.\n",
    "            \"\"\"\n",
    "            medal_w = (df_agg_data['acc_w_score']/df_agg_data['medal_abs_frequence']).fillna(0)\n",
    "\n",
    "            df_agg_data['perform_score'] = df_agg_data['medal_rel_frequence']*medal_w\n",
    "\n",
    "        # P: adds total scores to aggregated data\n",
    "        def total_scores(df_agg_data: pd.DataFrame):\n",
    "            \"\"\"\n",
    "            *Function*\n",
    "            -\n",
    "            Adds columns with sum of accumulative and performance scores.\n",
    "            \"\"\"\n",
    "            df_aux = df_agg_data[['event_game', 'team', 'acc_w_score', 'perform_score']]\\\n",
    "                        .groupby(['event_game', 'team']).sum(['acc_w_score', 'perform_score'])\\\n",
    "                        .reset_index()\n",
    "            df_aux.columns = ['event_game', 'team', 'acc_w_score_total', 'perform_score_total']\n",
    "\n",
    "            df_agg_data = pd.merge(left = df_agg_data, right= df_aux,\n",
    "                                   how = 'inner', on = ['event_game', 'team'])\n",
    "            return df_agg_data\n",
    "\n",
    "        # Pipeline Excecution\n",
    "        abs_medal_count(df_agg_data)\n",
    "        agg_categories(df_agg_data, df_disagg_data)\n",
    "        df_agg_data = add_team_rel_size(df_agg_data, df_disagg_data,\n",
    "                                            df_first_team_data, df_teams_l_data, b_l) \n",
    "        df_agg_data = add_team_event_participation(df_agg_data, df_disagg_data,\n",
    "                                                    df_first_team_data, df_teams_l_data, b_l)\n",
    "        add_medal_rel_frequence(df_agg_data, df_disagg_data, df_first_team_data, df_teams_l_data, b_l) \n",
    "        team_performance_score(df_agg_data)\n",
    "        df_agg_data = total_scores(df_agg_data)\n",
    "\n",
    "        return df_agg_data"
   ]
  },
  {
   "cell_type": "markdown",
   "metadata": {},
   "source": [
    "### Output"
   ]
  },
  {
   "cell_type": "code",
   "execution_count": 9,
   "metadata": {},
   "outputs": [],
   "source": [
    "pipe_data =pipeline(df_agg_data = df_teams_agg,\n",
    "                    df_disagg_data = df_teams_disagg,\n",
    "                    df_first_team_data = df_first_team,\n",
    "                    df_teams_l_data = df_teams,\n",
    "                    b_l = bool_list)"
   ]
  },
  {
   "cell_type": "markdown",
   "metadata": {},
   "source": [
    "## 3 - Metric selectors"
   ]
  },
  {
   "cell_type": "code",
   "execution_count": 10,
   "metadata": {},
   "outputs": [
    {
     "data": {
      "text/html": [
       "<div>\n",
       "<style scoped>\n",
       "    .dataframe tbody tr th:only-of-type {\n",
       "        vertical-align: middle;\n",
       "    }\n",
       "\n",
       "    .dataframe tbody tr th {\n",
       "        vertical-align: top;\n",
       "    }\n",
       "\n",
       "    .dataframe thead th {\n",
       "        text-align: right;\n",
       "    }\n",
       "</style>\n",
       "<table border=\"1\" class=\"dataframe\">\n",
       "  <thead>\n",
       "    <tr style=\"text-align: right;\">\n",
       "      <th></th>\n",
       "      <th>event_date</th>\n",
       "      <th>event_game</th>\n",
       "      <th>team</th>\n",
       "      <th>medal</th>\n",
       "      <th>acc_w_score</th>\n",
       "      <th>medal_abs_frequence</th>\n",
       "      <th>team_relative_size</th>\n",
       "      <th>team_participation_ratio</th>\n",
       "      <th>medal_rel_frequence</th>\n",
       "      <th>perform_score</th>\n",
       "      <th>acc_w_score_total</th>\n",
       "      <th>perform_score_total</th>\n",
       "    </tr>\n",
       "  </thead>\n",
       "  <tbody>\n",
       "    <tr>\n",
       "      <th>0</th>\n",
       "      <td>2025-01-12</td>\n",
       "      <td>A</td>\n",
       "      <td>summer</td>\n",
       "      <td>bronze</td>\n",
       "      <td>2</td>\n",
       "      <td>2</td>\n",
       "      <td>23.08</td>\n",
       "      <td>100.00</td>\n",
       "      <td>66.67</td>\n",
       "      <td>66.67</td>\n",
       "      <td>4</td>\n",
       "      <td>133.33</td>\n",
       "    </tr>\n",
       "    <tr>\n",
       "      <th>1</th>\n",
       "      <td>2025-01-12</td>\n",
       "      <td>A</td>\n",
       "      <td>summer</td>\n",
       "      <td>silver</td>\n",
       "      <td>2</td>\n",
       "      <td>1</td>\n",
       "      <td>23.08</td>\n",
       "      <td>100.00</td>\n",
       "      <td>33.33</td>\n",
       "      <td>66.66</td>\n",
       "      <td>4</td>\n",
       "      <td>133.33</td>\n",
       "    </tr>\n",
       "    <tr>\n",
       "      <th>2</th>\n",
       "      <td>2025-01-12</td>\n",
       "      <td>B</td>\n",
       "      <td>summer</td>\n",
       "      <td>bronze</td>\n",
       "      <td>1</td>\n",
       "      <td>1</td>\n",
       "      <td>23.08</td>\n",
       "      <td>66.67</td>\n",
       "      <td>33.33</td>\n",
       "      <td>33.33</td>\n",
       "      <td>3</td>\n",
       "      <td>99.99</td>\n",
       "    </tr>\n",
       "    <tr>\n",
       "      <th>3</th>\n",
       "      <td>2025-01-12</td>\n",
       "      <td>B</td>\n",
       "      <td>summer</td>\n",
       "      <td>not played</td>\n",
       "      <td>0</td>\n",
       "      <td>0</td>\n",
       "      <td>23.08</td>\n",
       "      <td>66.67</td>\n",
       "      <td>0.00</td>\n",
       "      <td>0.00</td>\n",
       "      <td>3</td>\n",
       "      <td>99.99</td>\n",
       "    </tr>\n",
       "    <tr>\n",
       "      <th>4</th>\n",
       "      <td>2025-01-12</td>\n",
       "      <td>B</td>\n",
       "      <td>summer</td>\n",
       "      <td>silver</td>\n",
       "      <td>2</td>\n",
       "      <td>1</td>\n",
       "      <td>23.08</td>\n",
       "      <td>66.67</td>\n",
       "      <td>33.33</td>\n",
       "      <td>66.66</td>\n",
       "      <td>3</td>\n",
       "      <td>99.99</td>\n",
       "    </tr>\n",
       "  </tbody>\n",
       "</table>\n",
       "</div>"
      ],
      "text/plain": [
       "   event_date event_game    team       medal  acc_w_score  \\\n",
       "0  2025-01-12          A  summer      bronze            2   \n",
       "1  2025-01-12          A  summer      silver            2   \n",
       "2  2025-01-12          B  summer      bronze            1   \n",
       "3  2025-01-12          B  summer  not played            0   \n",
       "4  2025-01-12          B  summer      silver            2   \n",
       "\n",
       "   medal_abs_frequence  team_relative_size  team_participation_ratio  \\\n",
       "0                    2               23.08                    100.00   \n",
       "1                    1               23.08                    100.00   \n",
       "2                    1               23.08                     66.67   \n",
       "3                    0               23.08                     66.67   \n",
       "4                    1               23.08                     66.67   \n",
       "\n",
       "   medal_rel_frequence  perform_score  acc_w_score_total  perform_score_total  \n",
       "0                66.67          66.67                  4               133.33  \n",
       "1                33.33          66.66                  4               133.33  \n",
       "2                33.33          33.33                  3                99.99  \n",
       "3                 0.00           0.00                  3                99.99  \n",
       "4                33.33          66.66                  3                99.99  "
      ]
     },
     "execution_count": 10,
     "metadata": {},
     "output_type": "execute_result"
    }
   ],
   "source": [
    "pipe_data.head()"
   ]
  },
  {
   "cell_type": "code",
   "execution_count": 11,
   "metadata": {},
   "outputs": [
    {
     "data": {
      "text/html": [
       "<div>\n",
       "<style scoped>\n",
       "    .dataframe tbody tr th:only-of-type {\n",
       "        vertical-align: middle;\n",
       "    }\n",
       "\n",
       "    .dataframe tbody tr th {\n",
       "        vertical-align: top;\n",
       "    }\n",
       "\n",
       "    .dataframe thead th {\n",
       "        text-align: right;\n",
       "    }\n",
       "</style>\n",
       "<table border=\"1\" class=\"dataframe\">\n",
       "  <thead>\n",
       "    <tr style=\"text-align: right;\">\n",
       "      <th></th>\n",
       "      <th>event_date</th>\n",
       "      <th>event_game</th>\n",
       "      <th>team</th>\n",
       "      <th>medal</th>\n",
       "      <th>acc_w_score</th>\n",
       "      <th>medal_abs_frequence</th>\n",
       "      <th>team_relative_size</th>\n",
       "      <th>team_participation_ratio</th>\n",
       "      <th>medal_rel_frequence</th>\n",
       "      <th>perform_score</th>\n",
       "      <th>acc_w_score_total_x</th>\n",
       "      <th>perform_score_total_x</th>\n",
       "      <th>acc_w_score_total_y</th>\n",
       "      <th>perform_score_total_y</th>\n",
       "    </tr>\n",
       "  </thead>\n",
       "  <tbody>\n",
       "    <tr>\n",
       "      <th>0</th>\n",
       "      <td>2025-01-12</td>\n",
       "      <td>A</td>\n",
       "      <td>summer</td>\n",
       "      <td>bronze</td>\n",
       "      <td>2</td>\n",
       "      <td>2</td>\n",
       "      <td>23.08</td>\n",
       "      <td>100.00</td>\n",
       "      <td>66.67</td>\n",
       "      <td>66.67</td>\n",
       "      <td>4</td>\n",
       "      <td>133.33</td>\n",
       "      <td>4</td>\n",
       "      <td>133.33</td>\n",
       "    </tr>\n",
       "    <tr>\n",
       "      <th>1</th>\n",
       "      <td>2025-01-12</td>\n",
       "      <td>A</td>\n",
       "      <td>summer</td>\n",
       "      <td>silver</td>\n",
       "      <td>2</td>\n",
       "      <td>1</td>\n",
       "      <td>23.08</td>\n",
       "      <td>100.00</td>\n",
       "      <td>33.33</td>\n",
       "      <td>66.66</td>\n",
       "      <td>4</td>\n",
       "      <td>133.33</td>\n",
       "      <td>4</td>\n",
       "      <td>133.33</td>\n",
       "    </tr>\n",
       "    <tr>\n",
       "      <th>2</th>\n",
       "      <td>2025-01-12</td>\n",
       "      <td>B</td>\n",
       "      <td>summer</td>\n",
       "      <td>bronze</td>\n",
       "      <td>1</td>\n",
       "      <td>1</td>\n",
       "      <td>23.08</td>\n",
       "      <td>66.67</td>\n",
       "      <td>33.33</td>\n",
       "      <td>33.33</td>\n",
       "      <td>3</td>\n",
       "      <td>99.99</td>\n",
       "      <td>3</td>\n",
       "      <td>99.99</td>\n",
       "    </tr>\n",
       "    <tr>\n",
       "      <th>3</th>\n",
       "      <td>2025-01-12</td>\n",
       "      <td>B</td>\n",
       "      <td>summer</td>\n",
       "      <td>not played</td>\n",
       "      <td>0</td>\n",
       "      <td>0</td>\n",
       "      <td>23.08</td>\n",
       "      <td>66.67</td>\n",
       "      <td>0.00</td>\n",
       "      <td>0.00</td>\n",
       "      <td>3</td>\n",
       "      <td>99.99</td>\n",
       "      <td>3</td>\n",
       "      <td>99.99</td>\n",
       "    </tr>\n",
       "    <tr>\n",
       "      <th>4</th>\n",
       "      <td>2025-01-12</td>\n",
       "      <td>B</td>\n",
       "      <td>summer</td>\n",
       "      <td>silver</td>\n",
       "      <td>2</td>\n",
       "      <td>1</td>\n",
       "      <td>23.08</td>\n",
       "      <td>66.67</td>\n",
       "      <td>33.33</td>\n",
       "      <td>66.66</td>\n",
       "      <td>3</td>\n",
       "      <td>99.99</td>\n",
       "      <td>3</td>\n",
       "      <td>99.99</td>\n",
       "    </tr>\n",
       "    <tr>\n",
       "      <th>5</th>\n",
       "      <td>2025-01-12</td>\n",
       "      <td>C</td>\n",
       "      <td>summer</td>\n",
       "      <td>bronze</td>\n",
       "      <td>1</td>\n",
       "      <td>1</td>\n",
       "      <td>23.08</td>\n",
       "      <td>66.67</td>\n",
       "      <td>33.33</td>\n",
       "      <td>33.33</td>\n",
       "      <td>3</td>\n",
       "      <td>99.99</td>\n",
       "      <td>3</td>\n",
       "      <td>99.99</td>\n",
       "    </tr>\n",
       "    <tr>\n",
       "      <th>6</th>\n",
       "      <td>2025-01-12</td>\n",
       "      <td>C</td>\n",
       "      <td>summer</td>\n",
       "      <td>not played</td>\n",
       "      <td>0</td>\n",
       "      <td>0</td>\n",
       "      <td>23.08</td>\n",
       "      <td>66.67</td>\n",
       "      <td>0.00</td>\n",
       "      <td>0.00</td>\n",
       "      <td>3</td>\n",
       "      <td>99.99</td>\n",
       "      <td>3</td>\n",
       "      <td>99.99</td>\n",
       "    </tr>\n",
       "    <tr>\n",
       "      <th>7</th>\n",
       "      <td>2025-01-12</td>\n",
       "      <td>C</td>\n",
       "      <td>summer</td>\n",
       "      <td>silver</td>\n",
       "      <td>2</td>\n",
       "      <td>1</td>\n",
       "      <td>23.08</td>\n",
       "      <td>66.67</td>\n",
       "      <td>33.33</td>\n",
       "      <td>66.66</td>\n",
       "      <td>3</td>\n",
       "      <td>99.99</td>\n",
       "      <td>3</td>\n",
       "      <td>99.99</td>\n",
       "    </tr>\n",
       "    <tr>\n",
       "      <th>8</th>\n",
       "      <td>2025-01-12</td>\n",
       "      <td>A</td>\n",
       "      <td>autumn</td>\n",
       "      <td>bronze</td>\n",
       "      <td>4</td>\n",
       "      <td>4</td>\n",
       "      <td>46.15</td>\n",
       "      <td>83.33</td>\n",
       "      <td>66.67</td>\n",
       "      <td>66.67</td>\n",
       "      <td>7</td>\n",
       "      <td>116.68</td>\n",
       "      <td>7</td>\n",
       "      <td>116.68</td>\n",
       "    </tr>\n",
       "    <tr>\n",
       "      <th>9</th>\n",
       "      <td>2025-01-12</td>\n",
       "      <td>A</td>\n",
       "      <td>autumn</td>\n",
       "      <td>gold</td>\n",
       "      <td>3</td>\n",
       "      <td>1</td>\n",
       "      <td>46.15</td>\n",
       "      <td>83.33</td>\n",
       "      <td>16.67</td>\n",
       "      <td>50.01</td>\n",
       "      <td>7</td>\n",
       "      <td>116.68</td>\n",
       "      <td>7</td>\n",
       "      <td>116.68</td>\n",
       "    </tr>\n",
       "    <tr>\n",
       "      <th>10</th>\n",
       "      <td>2025-01-12</td>\n",
       "      <td>A</td>\n",
       "      <td>autumn</td>\n",
       "      <td>not played</td>\n",
       "      <td>0</td>\n",
       "      <td>0</td>\n",
       "      <td>46.15</td>\n",
       "      <td>83.33</td>\n",
       "      <td>0.00</td>\n",
       "      <td>0.00</td>\n",
       "      <td>7</td>\n",
       "      <td>116.68</td>\n",
       "      <td>7</td>\n",
       "      <td>116.68</td>\n",
       "    </tr>\n",
       "    <tr>\n",
       "      <th>11</th>\n",
       "      <td>2025-01-12</td>\n",
       "      <td>B</td>\n",
       "      <td>autumn</td>\n",
       "      <td>bronze</td>\n",
       "      <td>4</td>\n",
       "      <td>4</td>\n",
       "      <td>46.15</td>\n",
       "      <td>100.00</td>\n",
       "      <td>66.67</td>\n",
       "      <td>66.67</td>\n",
       "      <td>9</td>\n",
       "      <td>150.02</td>\n",
       "      <td>9</td>\n",
       "      <td>150.02</td>\n",
       "    </tr>\n",
       "    <tr>\n",
       "      <th>12</th>\n",
       "      <td>2025-01-12</td>\n",
       "      <td>B</td>\n",
       "      <td>autumn</td>\n",
       "      <td>gold</td>\n",
       "      <td>3</td>\n",
       "      <td>1</td>\n",
       "      <td>46.15</td>\n",
       "      <td>100.00</td>\n",
       "      <td>16.67</td>\n",
       "      <td>50.01</td>\n",
       "      <td>9</td>\n",
       "      <td>150.02</td>\n",
       "      <td>9</td>\n",
       "      <td>150.02</td>\n",
       "    </tr>\n",
       "    <tr>\n",
       "      <th>13</th>\n",
       "      <td>2025-01-12</td>\n",
       "      <td>B</td>\n",
       "      <td>autumn</td>\n",
       "      <td>silver</td>\n",
       "      <td>2</td>\n",
       "      <td>1</td>\n",
       "      <td>46.15</td>\n",
       "      <td>100.00</td>\n",
       "      <td>16.67</td>\n",
       "      <td>33.34</td>\n",
       "      <td>9</td>\n",
       "      <td>150.02</td>\n",
       "      <td>9</td>\n",
       "      <td>150.02</td>\n",
       "    </tr>\n",
       "    <tr>\n",
       "      <th>14</th>\n",
       "      <td>2025-01-12</td>\n",
       "      <td>C</td>\n",
       "      <td>autumn</td>\n",
       "      <td>bronze</td>\n",
       "      <td>1</td>\n",
       "      <td>1</td>\n",
       "      <td>46.15</td>\n",
       "      <td>100.00</td>\n",
       "      <td>16.67</td>\n",
       "      <td>16.67</td>\n",
       "      <td>13</td>\n",
       "      <td>216.66</td>\n",
       "      <td>13</td>\n",
       "      <td>216.66</td>\n",
       "    </tr>\n",
       "    <tr>\n",
       "      <th>15</th>\n",
       "      <td>2025-01-12</td>\n",
       "      <td>C</td>\n",
       "      <td>autumn</td>\n",
       "      <td>gold</td>\n",
       "      <td>6</td>\n",
       "      <td>2</td>\n",
       "      <td>46.15</td>\n",
       "      <td>100.00</td>\n",
       "      <td>33.33</td>\n",
       "      <td>99.99</td>\n",
       "      <td>13</td>\n",
       "      <td>216.66</td>\n",
       "      <td>13</td>\n",
       "      <td>216.66</td>\n",
       "    </tr>\n",
       "    <tr>\n",
       "      <th>16</th>\n",
       "      <td>2025-01-12</td>\n",
       "      <td>C</td>\n",
       "      <td>autumn</td>\n",
       "      <td>silver</td>\n",
       "      <td>6</td>\n",
       "      <td>3</td>\n",
       "      <td>46.15</td>\n",
       "      <td>100.00</td>\n",
       "      <td>50.00</td>\n",
       "      <td>100.00</td>\n",
       "      <td>13</td>\n",
       "      <td>216.66</td>\n",
       "      <td>13</td>\n",
       "      <td>216.66</td>\n",
       "    </tr>\n",
       "    <tr>\n",
       "      <th>17</th>\n",
       "      <td>2025-01-12</td>\n",
       "      <td>A</td>\n",
       "      <td>winter</td>\n",
       "      <td>gold</td>\n",
       "      <td>6</td>\n",
       "      <td>2</td>\n",
       "      <td>30.77</td>\n",
       "      <td>100.00</td>\n",
       "      <td>50.00</td>\n",
       "      <td>150.00</td>\n",
       "      <td>10</td>\n",
       "      <td>250.00</td>\n",
       "      <td>10</td>\n",
       "      <td>250.00</td>\n",
       "    </tr>\n",
       "    <tr>\n",
       "      <th>18</th>\n",
       "      <td>2025-01-12</td>\n",
       "      <td>A</td>\n",
       "      <td>winter</td>\n",
       "      <td>silver</td>\n",
       "      <td>4</td>\n",
       "      <td>2</td>\n",
       "      <td>30.77</td>\n",
       "      <td>100.00</td>\n",
       "      <td>50.00</td>\n",
       "      <td>100.00</td>\n",
       "      <td>10</td>\n",
       "      <td>250.00</td>\n",
       "      <td>10</td>\n",
       "      <td>250.00</td>\n",
       "    </tr>\n",
       "    <tr>\n",
       "      <th>19</th>\n",
       "      <td>2025-01-12</td>\n",
       "      <td>B</td>\n",
       "      <td>winter</td>\n",
       "      <td>bronze</td>\n",
       "      <td>3</td>\n",
       "      <td>3</td>\n",
       "      <td>30.77</td>\n",
       "      <td>75.00</td>\n",
       "      <td>75.00</td>\n",
       "      <td>75.00</td>\n",
       "      <td>3</td>\n",
       "      <td>75.00</td>\n",
       "      <td>3</td>\n",
       "      <td>75.00</td>\n",
       "    </tr>\n",
       "    <tr>\n",
       "      <th>20</th>\n",
       "      <td>2025-01-12</td>\n",
       "      <td>B</td>\n",
       "      <td>winter</td>\n",
       "      <td>not played</td>\n",
       "      <td>0</td>\n",
       "      <td>0</td>\n",
       "      <td>30.77</td>\n",
       "      <td>75.00</td>\n",
       "      <td>0.00</td>\n",
       "      <td>0.00</td>\n",
       "      <td>3</td>\n",
       "      <td>75.00</td>\n",
       "      <td>3</td>\n",
       "      <td>75.00</td>\n",
       "    </tr>\n",
       "    <tr>\n",
       "      <th>21</th>\n",
       "      <td>2025-01-12</td>\n",
       "      <td>C</td>\n",
       "      <td>winter</td>\n",
       "      <td>bronze</td>\n",
       "      <td>2</td>\n",
       "      <td>2</td>\n",
       "      <td>30.77</td>\n",
       "      <td>100.00</td>\n",
       "      <td>50.00</td>\n",
       "      <td>50.00</td>\n",
       "      <td>7</td>\n",
       "      <td>175.00</td>\n",
       "      <td>7</td>\n",
       "      <td>175.00</td>\n",
       "    </tr>\n",
       "    <tr>\n",
       "      <th>22</th>\n",
       "      <td>2025-01-12</td>\n",
       "      <td>C</td>\n",
       "      <td>winter</td>\n",
       "      <td>gold</td>\n",
       "      <td>3</td>\n",
       "      <td>1</td>\n",
       "      <td>30.77</td>\n",
       "      <td>100.00</td>\n",
       "      <td>25.00</td>\n",
       "      <td>75.00</td>\n",
       "      <td>7</td>\n",
       "      <td>175.00</td>\n",
       "      <td>7</td>\n",
       "      <td>175.00</td>\n",
       "    </tr>\n",
       "    <tr>\n",
       "      <th>23</th>\n",
       "      <td>2025-01-12</td>\n",
       "      <td>C</td>\n",
       "      <td>winter</td>\n",
       "      <td>silver</td>\n",
       "      <td>2</td>\n",
       "      <td>1</td>\n",
       "      <td>30.77</td>\n",
       "      <td>100.00</td>\n",
       "      <td>25.00</td>\n",
       "      <td>50.00</td>\n",
       "      <td>7</td>\n",
       "      <td>175.00</td>\n",
       "      <td>7</td>\n",
       "      <td>175.00</td>\n",
       "    </tr>\n",
       "  </tbody>\n",
       "</table>\n",
       "</div>"
      ],
      "text/plain": [
       "    event_date event_game    team       medal  acc_w_score  \\\n",
       "0   2025-01-12          A  summer      bronze            2   \n",
       "1   2025-01-12          A  summer      silver            2   \n",
       "2   2025-01-12          B  summer      bronze            1   \n",
       "3   2025-01-12          B  summer  not played            0   \n",
       "4   2025-01-12          B  summer      silver            2   \n",
       "5   2025-01-12          C  summer      bronze            1   \n",
       "6   2025-01-12          C  summer  not played            0   \n",
       "7   2025-01-12          C  summer      silver            2   \n",
       "8   2025-01-12          A  autumn      bronze            4   \n",
       "9   2025-01-12          A  autumn        gold            3   \n",
       "10  2025-01-12          A  autumn  not played            0   \n",
       "11  2025-01-12          B  autumn      bronze            4   \n",
       "12  2025-01-12          B  autumn        gold            3   \n",
       "13  2025-01-12          B  autumn      silver            2   \n",
       "14  2025-01-12          C  autumn      bronze            1   \n",
       "15  2025-01-12          C  autumn        gold            6   \n",
       "16  2025-01-12          C  autumn      silver            6   \n",
       "17  2025-01-12          A  winter        gold            6   \n",
       "18  2025-01-12          A  winter      silver            4   \n",
       "19  2025-01-12          B  winter      bronze            3   \n",
       "20  2025-01-12          B  winter  not played            0   \n",
       "21  2025-01-12          C  winter      bronze            2   \n",
       "22  2025-01-12          C  winter        gold            3   \n",
       "23  2025-01-12          C  winter      silver            2   \n",
       "\n",
       "    medal_abs_frequence  team_relative_size  team_participation_ratio  \\\n",
       "0                     2               23.08                    100.00   \n",
       "1                     1               23.08                    100.00   \n",
       "2                     1               23.08                     66.67   \n",
       "3                     0               23.08                     66.67   \n",
       "4                     1               23.08                     66.67   \n",
       "5                     1               23.08                     66.67   \n",
       "6                     0               23.08                     66.67   \n",
       "7                     1               23.08                     66.67   \n",
       "8                     4               46.15                     83.33   \n",
       "9                     1               46.15                     83.33   \n",
       "10                    0               46.15                     83.33   \n",
       "11                    4               46.15                    100.00   \n",
       "12                    1               46.15                    100.00   \n",
       "13                    1               46.15                    100.00   \n",
       "14                    1               46.15                    100.00   \n",
       "15                    2               46.15                    100.00   \n",
       "16                    3               46.15                    100.00   \n",
       "17                    2               30.77                    100.00   \n",
       "18                    2               30.77                    100.00   \n",
       "19                    3               30.77                     75.00   \n",
       "20                    0               30.77                     75.00   \n",
       "21                    2               30.77                    100.00   \n",
       "22                    1               30.77                    100.00   \n",
       "23                    1               30.77                    100.00   \n",
       "\n",
       "    medal_rel_frequence  perform_score  acc_w_score_total_x  \\\n",
       "0                 66.67          66.67                    4   \n",
       "1                 33.33          66.66                    4   \n",
       "2                 33.33          33.33                    3   \n",
       "3                  0.00           0.00                    3   \n",
       "4                 33.33          66.66                    3   \n",
       "5                 33.33          33.33                    3   \n",
       "6                  0.00           0.00                    3   \n",
       "7                 33.33          66.66                    3   \n",
       "8                 66.67          66.67                    7   \n",
       "9                 16.67          50.01                    7   \n",
       "10                 0.00           0.00                    7   \n",
       "11                66.67          66.67                    9   \n",
       "12                16.67          50.01                    9   \n",
       "13                16.67          33.34                    9   \n",
       "14                16.67          16.67                   13   \n",
       "15                33.33          99.99                   13   \n",
       "16                50.00         100.00                   13   \n",
       "17                50.00         150.00                   10   \n",
       "18                50.00         100.00                   10   \n",
       "19                75.00          75.00                    3   \n",
       "20                 0.00           0.00                    3   \n",
       "21                50.00          50.00                    7   \n",
       "22                25.00          75.00                    7   \n",
       "23                25.00          50.00                    7   \n",
       "\n",
       "    perform_score_total_x  acc_w_score_total_y  perform_score_total_y  \n",
       "0                  133.33                    4                 133.33  \n",
       "1                  133.33                    4                 133.33  \n",
       "2                   99.99                    3                  99.99  \n",
       "3                   99.99                    3                  99.99  \n",
       "4                   99.99                    3                  99.99  \n",
       "5                   99.99                    3                  99.99  \n",
       "6                   99.99                    3                  99.99  \n",
       "7                   99.99                    3                  99.99  \n",
       "8                  116.68                    7                 116.68  \n",
       "9                  116.68                    7                 116.68  \n",
       "10                 116.68                    7                 116.68  \n",
       "11                 150.02                    9                 150.02  \n",
       "12                 150.02                    9                 150.02  \n",
       "13                 150.02                    9                 150.02  \n",
       "14                 216.66                   13                 216.66  \n",
       "15                 216.66                   13                 216.66  \n",
       "16                 216.66                   13                 216.66  \n",
       "17                 250.00                   10                 250.00  \n",
       "18                 250.00                   10                 250.00  \n",
       "19                  75.00                    3                  75.00  \n",
       "20                  75.00                    3                  75.00  \n",
       "21                 175.00                    7                 175.00  \n",
       "22                 175.00                    7                 175.00  \n",
       "23                 175.00                    7                 175.00  "
      ]
     },
     "execution_count": 11,
     "metadata": {},
     "output_type": "execute_result"
    }
   ],
   "source": [
    "df_aux = pipe_data[['team', 'event_game','acc_w_score', 'perform_score']]\\\n",
    "         .groupby(['team', 'event_game']).sum().reset_index()\n",
    "\n",
    "df_aux.columns = ['team', 'event_game', 'acc_w_score_total', 'perform_score_total']\n",
    "\n",
    "pd.merge(left = pipe_data,\n",
    "         right= df_aux,\n",
    "         on= ['team', 'event_game'],\n",
    "         how= 'inner')"
   ]
  },
  {
   "cell_type": "code",
   "execution_count": 12,
   "metadata": {},
   "outputs": [
    {
     "data": {
      "text/html": [
       "<div>\n",
       "<style scoped>\n",
       "    .dataframe tbody tr th:only-of-type {\n",
       "        vertical-align: middle;\n",
       "    }\n",
       "\n",
       "    .dataframe tbody tr th {\n",
       "        vertical-align: top;\n",
       "    }\n",
       "\n",
       "    .dataframe thead th {\n",
       "        text-align: right;\n",
       "    }\n",
       "</style>\n",
       "<table border=\"1\" class=\"dataframe\">\n",
       "  <thead>\n",
       "    <tr style=\"text-align: right;\">\n",
       "      <th></th>\n",
       "      <th>team</th>\n",
       "      <th>event_game</th>\n",
       "      <th>acc_w_score_x</th>\n",
       "      <th>event_date</th>\n",
       "      <th>medal</th>\n",
       "      <th>acc_w_score_y</th>\n",
       "      <th>medal_abs_frequence</th>\n",
       "      <th>team_relative_size</th>\n",
       "      <th>team_participation_ratio</th>\n",
       "      <th>medal_rel_frequence</th>\n",
       "      <th>perform_score</th>\n",
       "      <th>acc_w_score_total</th>\n",
       "      <th>perform_score_total</th>\n",
       "    </tr>\n",
       "  </thead>\n",
       "  <tbody>\n",
       "    <tr>\n",
       "      <th>7</th>\n",
       "      <td>autumn</td>\n",
       "      <td>C</td>\n",
       "      <td>13</td>\n",
       "      <td>2025-01-12</td>\n",
       "      <td>gold</td>\n",
       "      <td>6</td>\n",
       "      <td>2</td>\n",
       "      <td>46.15</td>\n",
       "      <td>100.00</td>\n",
       "      <td>33.33</td>\n",
       "      <td>99.99</td>\n",
       "      <td>13</td>\n",
       "      <td>216.66</td>\n",
       "    </tr>\n",
       "    <tr>\n",
       "      <th>8</th>\n",
       "      <td>autumn</td>\n",
       "      <td>C</td>\n",
       "      <td>13</td>\n",
       "      <td>2025-01-12</td>\n",
       "      <td>silver</td>\n",
       "      <td>6</td>\n",
       "      <td>3</td>\n",
       "      <td>46.15</td>\n",
       "      <td>100.00</td>\n",
       "      <td>50.00</td>\n",
       "      <td>100.00</td>\n",
       "      <td>13</td>\n",
       "      <td>216.66</td>\n",
       "    </tr>\n",
       "    <tr>\n",
       "      <th>6</th>\n",
       "      <td>autumn</td>\n",
       "      <td>C</td>\n",
       "      <td>13</td>\n",
       "      <td>2025-01-12</td>\n",
       "      <td>bronze</td>\n",
       "      <td>1</td>\n",
       "      <td>1</td>\n",
       "      <td>46.15</td>\n",
       "      <td>100.00</td>\n",
       "      <td>16.67</td>\n",
       "      <td>16.67</td>\n",
       "      <td>13</td>\n",
       "      <td>216.66</td>\n",
       "    </tr>\n",
       "    <tr>\n",
       "      <th>17</th>\n",
       "      <td>winter</td>\n",
       "      <td>A</td>\n",
       "      <td>10</td>\n",
       "      <td>2025-01-12</td>\n",
       "      <td>gold</td>\n",
       "      <td>6</td>\n",
       "      <td>2</td>\n",
       "      <td>30.77</td>\n",
       "      <td>100.00</td>\n",
       "      <td>50.00</td>\n",
       "      <td>150.00</td>\n",
       "      <td>10</td>\n",
       "      <td>250.00</td>\n",
       "    </tr>\n",
       "    <tr>\n",
       "      <th>18</th>\n",
       "      <td>winter</td>\n",
       "      <td>A</td>\n",
       "      <td>10</td>\n",
       "      <td>2025-01-12</td>\n",
       "      <td>silver</td>\n",
       "      <td>4</td>\n",
       "      <td>2</td>\n",
       "      <td>30.77</td>\n",
       "      <td>100.00</td>\n",
       "      <td>50.00</td>\n",
       "      <td>100.00</td>\n",
       "      <td>10</td>\n",
       "      <td>250.00</td>\n",
       "    </tr>\n",
       "    <tr>\n",
       "      <th>3</th>\n",
       "      <td>autumn</td>\n",
       "      <td>B</td>\n",
       "      <td>9</td>\n",
       "      <td>2025-01-12</td>\n",
       "      <td>bronze</td>\n",
       "      <td>4</td>\n",
       "      <td>4</td>\n",
       "      <td>46.15</td>\n",
       "      <td>100.00</td>\n",
       "      <td>66.67</td>\n",
       "      <td>66.67</td>\n",
       "      <td>9</td>\n",
       "      <td>150.02</td>\n",
       "    </tr>\n",
       "    <tr>\n",
       "      <th>4</th>\n",
       "      <td>autumn</td>\n",
       "      <td>B</td>\n",
       "      <td>9</td>\n",
       "      <td>2025-01-12</td>\n",
       "      <td>gold</td>\n",
       "      <td>3</td>\n",
       "      <td>1</td>\n",
       "      <td>46.15</td>\n",
       "      <td>100.00</td>\n",
       "      <td>16.67</td>\n",
       "      <td>50.01</td>\n",
       "      <td>9</td>\n",
       "      <td>150.02</td>\n",
       "    </tr>\n",
       "    <tr>\n",
       "      <th>5</th>\n",
       "      <td>autumn</td>\n",
       "      <td>B</td>\n",
       "      <td>9</td>\n",
       "      <td>2025-01-12</td>\n",
       "      <td>silver</td>\n",
       "      <td>2</td>\n",
       "      <td>1</td>\n",
       "      <td>46.15</td>\n",
       "      <td>100.00</td>\n",
       "      <td>16.67</td>\n",
       "      <td>33.34</td>\n",
       "      <td>9</td>\n",
       "      <td>150.02</td>\n",
       "    </tr>\n",
       "    <tr>\n",
       "      <th>0</th>\n",
       "      <td>autumn</td>\n",
       "      <td>A</td>\n",
       "      <td>7</td>\n",
       "      <td>2025-01-12</td>\n",
       "      <td>bronze</td>\n",
       "      <td>4</td>\n",
       "      <td>4</td>\n",
       "      <td>46.15</td>\n",
       "      <td>83.33</td>\n",
       "      <td>66.67</td>\n",
       "      <td>66.67</td>\n",
       "      <td>7</td>\n",
       "      <td>116.68</td>\n",
       "    </tr>\n",
       "    <tr>\n",
       "      <th>22</th>\n",
       "      <td>winter</td>\n",
       "      <td>C</td>\n",
       "      <td>7</td>\n",
       "      <td>2025-01-12</td>\n",
       "      <td>gold</td>\n",
       "      <td>3</td>\n",
       "      <td>1</td>\n",
       "      <td>30.77</td>\n",
       "      <td>100.00</td>\n",
       "      <td>25.00</td>\n",
       "      <td>75.00</td>\n",
       "      <td>7</td>\n",
       "      <td>175.00</td>\n",
       "    </tr>\n",
       "    <tr>\n",
       "      <th>1</th>\n",
       "      <td>autumn</td>\n",
       "      <td>A</td>\n",
       "      <td>7</td>\n",
       "      <td>2025-01-12</td>\n",
       "      <td>gold</td>\n",
       "      <td>3</td>\n",
       "      <td>1</td>\n",
       "      <td>46.15</td>\n",
       "      <td>83.33</td>\n",
       "      <td>16.67</td>\n",
       "      <td>50.01</td>\n",
       "      <td>7</td>\n",
       "      <td>116.68</td>\n",
       "    </tr>\n",
       "    <tr>\n",
       "      <th>21</th>\n",
       "      <td>winter</td>\n",
       "      <td>C</td>\n",
       "      <td>7</td>\n",
       "      <td>2025-01-12</td>\n",
       "      <td>bronze</td>\n",
       "      <td>2</td>\n",
       "      <td>2</td>\n",
       "      <td>30.77</td>\n",
       "      <td>100.00</td>\n",
       "      <td>50.00</td>\n",
       "      <td>50.00</td>\n",
       "      <td>7</td>\n",
       "      <td>175.00</td>\n",
       "    </tr>\n",
       "    <tr>\n",
       "      <th>23</th>\n",
       "      <td>winter</td>\n",
       "      <td>C</td>\n",
       "      <td>7</td>\n",
       "      <td>2025-01-12</td>\n",
       "      <td>silver</td>\n",
       "      <td>2</td>\n",
       "      <td>1</td>\n",
       "      <td>30.77</td>\n",
       "      <td>100.00</td>\n",
       "      <td>25.00</td>\n",
       "      <td>50.00</td>\n",
       "      <td>7</td>\n",
       "      <td>175.00</td>\n",
       "    </tr>\n",
       "    <tr>\n",
       "      <th>2</th>\n",
       "      <td>autumn</td>\n",
       "      <td>A</td>\n",
       "      <td>7</td>\n",
       "      <td>2025-01-12</td>\n",
       "      <td>not played</td>\n",
       "      <td>0</td>\n",
       "      <td>0</td>\n",
       "      <td>46.15</td>\n",
       "      <td>83.33</td>\n",
       "      <td>0.00</td>\n",
       "      <td>0.00</td>\n",
       "      <td>7</td>\n",
       "      <td>116.68</td>\n",
       "    </tr>\n",
       "    <tr>\n",
       "      <th>9</th>\n",
       "      <td>summer</td>\n",
       "      <td>A</td>\n",
       "      <td>4</td>\n",
       "      <td>2025-01-12</td>\n",
       "      <td>bronze</td>\n",
       "      <td>2</td>\n",
       "      <td>2</td>\n",
       "      <td>23.08</td>\n",
       "      <td>100.00</td>\n",
       "      <td>66.67</td>\n",
       "      <td>66.67</td>\n",
       "      <td>4</td>\n",
       "      <td>133.33</td>\n",
       "    </tr>\n",
       "    <tr>\n",
       "      <th>10</th>\n",
       "      <td>summer</td>\n",
       "      <td>A</td>\n",
       "      <td>4</td>\n",
       "      <td>2025-01-12</td>\n",
       "      <td>silver</td>\n",
       "      <td>2</td>\n",
       "      <td>1</td>\n",
       "      <td>23.08</td>\n",
       "      <td>100.00</td>\n",
       "      <td>33.33</td>\n",
       "      <td>66.66</td>\n",
       "      <td>4</td>\n",
       "      <td>133.33</td>\n",
       "    </tr>\n",
       "    <tr>\n",
       "      <th>19</th>\n",
       "      <td>winter</td>\n",
       "      <td>B</td>\n",
       "      <td>3</td>\n",
       "      <td>2025-01-12</td>\n",
       "      <td>bronze</td>\n",
       "      <td>3</td>\n",
       "      <td>3</td>\n",
       "      <td>30.77</td>\n",
       "      <td>75.00</td>\n",
       "      <td>75.00</td>\n",
       "      <td>75.00</td>\n",
       "      <td>3</td>\n",
       "      <td>75.00</td>\n",
       "    </tr>\n",
       "    <tr>\n",
       "      <th>13</th>\n",
       "      <td>summer</td>\n",
       "      <td>B</td>\n",
       "      <td>3</td>\n",
       "      <td>2025-01-12</td>\n",
       "      <td>silver</td>\n",
       "      <td>2</td>\n",
       "      <td>1</td>\n",
       "      <td>23.08</td>\n",
       "      <td>66.67</td>\n",
       "      <td>33.33</td>\n",
       "      <td>66.66</td>\n",
       "      <td>3</td>\n",
       "      <td>99.99</td>\n",
       "    </tr>\n",
       "    <tr>\n",
       "      <th>16</th>\n",
       "      <td>summer</td>\n",
       "      <td>C</td>\n",
       "      <td>3</td>\n",
       "      <td>2025-01-12</td>\n",
       "      <td>silver</td>\n",
       "      <td>2</td>\n",
       "      <td>1</td>\n",
       "      <td>23.08</td>\n",
       "      <td>66.67</td>\n",
       "      <td>33.33</td>\n",
       "      <td>66.66</td>\n",
       "      <td>3</td>\n",
       "      <td>99.99</td>\n",
       "    </tr>\n",
       "    <tr>\n",
       "      <th>11</th>\n",
       "      <td>summer</td>\n",
       "      <td>B</td>\n",
       "      <td>3</td>\n",
       "      <td>2025-01-12</td>\n",
       "      <td>bronze</td>\n",
       "      <td>1</td>\n",
       "      <td>1</td>\n",
       "      <td>23.08</td>\n",
       "      <td>66.67</td>\n",
       "      <td>33.33</td>\n",
       "      <td>33.33</td>\n",
       "      <td>3</td>\n",
       "      <td>99.99</td>\n",
       "    </tr>\n",
       "    <tr>\n",
       "      <th>14</th>\n",
       "      <td>summer</td>\n",
       "      <td>C</td>\n",
       "      <td>3</td>\n",
       "      <td>2025-01-12</td>\n",
       "      <td>bronze</td>\n",
       "      <td>1</td>\n",
       "      <td>1</td>\n",
       "      <td>23.08</td>\n",
       "      <td>66.67</td>\n",
       "      <td>33.33</td>\n",
       "      <td>33.33</td>\n",
       "      <td>3</td>\n",
       "      <td>99.99</td>\n",
       "    </tr>\n",
       "    <tr>\n",
       "      <th>20</th>\n",
       "      <td>winter</td>\n",
       "      <td>B</td>\n",
       "      <td>3</td>\n",
       "      <td>2025-01-12</td>\n",
       "      <td>not played</td>\n",
       "      <td>0</td>\n",
       "      <td>0</td>\n",
       "      <td>30.77</td>\n",
       "      <td>75.00</td>\n",
       "      <td>0.00</td>\n",
       "      <td>0.00</td>\n",
       "      <td>3</td>\n",
       "      <td>75.00</td>\n",
       "    </tr>\n",
       "    <tr>\n",
       "      <th>12</th>\n",
       "      <td>summer</td>\n",
       "      <td>B</td>\n",
       "      <td>3</td>\n",
       "      <td>2025-01-12</td>\n",
       "      <td>not played</td>\n",
       "      <td>0</td>\n",
       "      <td>0</td>\n",
       "      <td>23.08</td>\n",
       "      <td>66.67</td>\n",
       "      <td>0.00</td>\n",
       "      <td>0.00</td>\n",
       "      <td>3</td>\n",
       "      <td>99.99</td>\n",
       "    </tr>\n",
       "    <tr>\n",
       "      <th>15</th>\n",
       "      <td>summer</td>\n",
       "      <td>C</td>\n",
       "      <td>3</td>\n",
       "      <td>2025-01-12</td>\n",
       "      <td>not played</td>\n",
       "      <td>0</td>\n",
       "      <td>0</td>\n",
       "      <td>23.08</td>\n",
       "      <td>66.67</td>\n",
       "      <td>0.00</td>\n",
       "      <td>0.00</td>\n",
       "      <td>3</td>\n",
       "      <td>99.99</td>\n",
       "    </tr>\n",
       "  </tbody>\n",
       "</table>\n",
       "</div>"
      ],
      "text/plain": [
       "      team event_game  acc_w_score_x  event_date       medal  acc_w_score_y  \\\n",
       "7   autumn          C             13  2025-01-12        gold              6   \n",
       "8   autumn          C             13  2025-01-12      silver              6   \n",
       "6   autumn          C             13  2025-01-12      bronze              1   \n",
       "17  winter          A             10  2025-01-12        gold              6   \n",
       "18  winter          A             10  2025-01-12      silver              4   \n",
       "3   autumn          B              9  2025-01-12      bronze              4   \n",
       "4   autumn          B              9  2025-01-12        gold              3   \n",
       "5   autumn          B              9  2025-01-12      silver              2   \n",
       "0   autumn          A              7  2025-01-12      bronze              4   \n",
       "22  winter          C              7  2025-01-12        gold              3   \n",
       "1   autumn          A              7  2025-01-12        gold              3   \n",
       "21  winter          C              7  2025-01-12      bronze              2   \n",
       "23  winter          C              7  2025-01-12      silver              2   \n",
       "2   autumn          A              7  2025-01-12  not played              0   \n",
       "9   summer          A              4  2025-01-12      bronze              2   \n",
       "10  summer          A              4  2025-01-12      silver              2   \n",
       "19  winter          B              3  2025-01-12      bronze              3   \n",
       "13  summer          B              3  2025-01-12      silver              2   \n",
       "16  summer          C              3  2025-01-12      silver              2   \n",
       "11  summer          B              3  2025-01-12      bronze              1   \n",
       "14  summer          C              3  2025-01-12      bronze              1   \n",
       "20  winter          B              3  2025-01-12  not played              0   \n",
       "12  summer          B              3  2025-01-12  not played              0   \n",
       "15  summer          C              3  2025-01-12  not played              0   \n",
       "\n",
       "    medal_abs_frequence  team_relative_size  team_participation_ratio  \\\n",
       "7                     2               46.15                    100.00   \n",
       "8                     3               46.15                    100.00   \n",
       "6                     1               46.15                    100.00   \n",
       "17                    2               30.77                    100.00   \n",
       "18                    2               30.77                    100.00   \n",
       "3                     4               46.15                    100.00   \n",
       "4                     1               46.15                    100.00   \n",
       "5                     1               46.15                    100.00   \n",
       "0                     4               46.15                     83.33   \n",
       "22                    1               30.77                    100.00   \n",
       "1                     1               46.15                     83.33   \n",
       "21                    2               30.77                    100.00   \n",
       "23                    1               30.77                    100.00   \n",
       "2                     0               46.15                     83.33   \n",
       "9                     2               23.08                    100.00   \n",
       "10                    1               23.08                    100.00   \n",
       "19                    3               30.77                     75.00   \n",
       "13                    1               23.08                     66.67   \n",
       "16                    1               23.08                     66.67   \n",
       "11                    1               23.08                     66.67   \n",
       "14                    1               23.08                     66.67   \n",
       "20                    0               30.77                     75.00   \n",
       "12                    0               23.08                     66.67   \n",
       "15                    0               23.08                     66.67   \n",
       "\n",
       "    medal_rel_frequence  perform_score  acc_w_score_total  perform_score_total  \n",
       "7                 33.33          99.99                 13               216.66  \n",
       "8                 50.00         100.00                 13               216.66  \n",
       "6                 16.67          16.67                 13               216.66  \n",
       "17                50.00         150.00                 10               250.00  \n",
       "18                50.00         100.00                 10               250.00  \n",
       "3                 66.67          66.67                  9               150.02  \n",
       "4                 16.67          50.01                  9               150.02  \n",
       "5                 16.67          33.34                  9               150.02  \n",
       "0                 66.67          66.67                  7               116.68  \n",
       "22                25.00          75.00                  7               175.00  \n",
       "1                 16.67          50.01                  7               116.68  \n",
       "21                50.00          50.00                  7               175.00  \n",
       "23                25.00          50.00                  7               175.00  \n",
       "2                  0.00           0.00                  7               116.68  \n",
       "9                 66.67          66.67                  4               133.33  \n",
       "10                33.33          66.66                  4               133.33  \n",
       "19                75.00          75.00                  3                75.00  \n",
       "13                33.33          66.66                  3                99.99  \n",
       "16                33.33          66.66                  3                99.99  \n",
       "11                33.33          33.33                  3                99.99  \n",
       "14                33.33          33.33                  3                99.99  \n",
       "20                 0.00           0.00                  3                75.00  \n",
       "12                 0.00           0.00                  3                99.99  \n",
       "15                 0.00           0.00                  3                99.99  "
      ]
     },
     "execution_count": 12,
     "metadata": {},
     "output_type": "execute_result"
    }
   ],
   "source": [
    "# high and low scores with accumulative method\n",
    "# acc score data, sumado \n",
    "pd.merge(left = pipe_data[['team', 'event_game','acc_w_score']]\\\n",
    "         .groupby(['team', 'event_game']).sum('sum_acc_score').reset_index(),\n",
    "         right= pipe_data,\n",
    "         on= ['team', 'event_game'],\n",
    "         how= 'inner')\\\n",
    "    .sort_values(['acc_w_score_x', 'acc_w_score_y','team_participation_ratio'], ascending=False)\n"
   ]
  },
  {
   "cell_type": "markdown",
   "metadata": {},
   "source": [
    "## Plotly"
   ]
  },
  {
   "cell_type": "markdown",
   "metadata": {},
   "source": [
    "### Custom template"
   ]
  },
  {
   "cell_type": "code",
   "execution_count": 13,
   "metadata": {},
   "outputs": [
    {
     "data": {
      "application/vnd.plotly.v1+json": {
       "config": {
        "plotlyServerURL": "https://plot.ly"
       },
       "data": [],
       "layout": {
        "template": {
         "data": {
          "bar": [
           {
            "error_x": {
             "color": "#2a3f5f"
            },
            "error_y": {
             "color": "#2a3f5f"
            },
            "marker": {
             "line": {
              "color": "white",
              "width": 0.5
             },
             "pattern": {
              "fillmode": "overlay",
              "size": 10,
              "solidity": 0.2
             }
            },
            "type": "bar"
           }
          ],
          "barpolar": [
           {
            "marker": {
             "line": {
              "color": "white",
              "width": 0.5
             },
             "pattern": {
              "fillmode": "overlay",
              "size": 10,
              "solidity": 0.2
             }
            },
            "type": "barpolar"
           }
          ],
          "carpet": [
           {
            "aaxis": {
             "endlinecolor": "#2a3f5f",
             "gridcolor": "#C8D4E3",
             "linecolor": "#C8D4E3",
             "minorgridcolor": "#C8D4E3",
             "startlinecolor": "#2a3f5f"
            },
            "baxis": {
             "endlinecolor": "#2a3f5f",
             "gridcolor": "#C8D4E3",
             "linecolor": "#C8D4E3",
             "minorgridcolor": "#C8D4E3",
             "startlinecolor": "#2a3f5f"
            },
            "type": "carpet"
           }
          ],
          "choropleth": [
           {
            "colorbar": {
             "outlinewidth": 0,
             "ticks": ""
            },
            "type": "choropleth"
           }
          ],
          "contour": [
           {
            "colorbar": {
             "outlinewidth": 0,
             "ticks": ""
            },
            "colorscale": [
             [
              0,
              "#0d0887"
             ],
             [
              0.1111111111111111,
              "#46039f"
             ],
             [
              0.2222222222222222,
              "#7201a8"
             ],
             [
              0.3333333333333333,
              "#9c179e"
             ],
             [
              0.4444444444444444,
              "#bd3786"
             ],
             [
              0.5555555555555556,
              "#d8576b"
             ],
             [
              0.6666666666666666,
              "#ed7953"
             ],
             [
              0.7777777777777778,
              "#fb9f3a"
             ],
             [
              0.8888888888888888,
              "#fdca26"
             ],
             [
              1,
              "#f0f921"
             ]
            ],
            "type": "contour"
           }
          ],
          "contourcarpet": [
           {
            "colorbar": {
             "outlinewidth": 0,
             "ticks": ""
            },
            "type": "contourcarpet"
           }
          ],
          "heatmap": [
           {
            "colorbar": {
             "outlinewidth": 0,
             "ticks": ""
            },
            "colorscale": [
             [
              0,
              "#0d0887"
             ],
             [
              0.1111111111111111,
              "#46039f"
             ],
             [
              0.2222222222222222,
              "#7201a8"
             ],
             [
              0.3333333333333333,
              "#9c179e"
             ],
             [
              0.4444444444444444,
              "#bd3786"
             ],
             [
              0.5555555555555556,
              "#d8576b"
             ],
             [
              0.6666666666666666,
              "#ed7953"
             ],
             [
              0.7777777777777778,
              "#fb9f3a"
             ],
             [
              0.8888888888888888,
              "#fdca26"
             ],
             [
              1,
              "#f0f921"
             ]
            ],
            "type": "heatmap"
           }
          ],
          "heatmapgl": [
           {
            "colorbar": {
             "outlinewidth": 0,
             "ticks": ""
            },
            "colorscale": [
             [
              0,
              "#0d0887"
             ],
             [
              0.1111111111111111,
              "#46039f"
             ],
             [
              0.2222222222222222,
              "#7201a8"
             ],
             [
              0.3333333333333333,
              "#9c179e"
             ],
             [
              0.4444444444444444,
              "#bd3786"
             ],
             [
              0.5555555555555556,
              "#d8576b"
             ],
             [
              0.6666666666666666,
              "#ed7953"
             ],
             [
              0.7777777777777778,
              "#fb9f3a"
             ],
             [
              0.8888888888888888,
              "#fdca26"
             ],
             [
              1,
              "#f0f921"
             ]
            ],
            "type": "heatmapgl"
           }
          ],
          "histogram": [
           {
            "marker": {
             "pattern": {
              "fillmode": "overlay",
              "size": 10,
              "solidity": 0.2
             }
            },
            "type": "histogram"
           }
          ],
          "histogram2d": [
           {
            "colorbar": {
             "outlinewidth": 0,
             "ticks": ""
            },
            "colorscale": [
             [
              0,
              "#0d0887"
             ],
             [
              0.1111111111111111,
              "#46039f"
             ],
             [
              0.2222222222222222,
              "#7201a8"
             ],
             [
              0.3333333333333333,
              "#9c179e"
             ],
             [
              0.4444444444444444,
              "#bd3786"
             ],
             [
              0.5555555555555556,
              "#d8576b"
             ],
             [
              0.6666666666666666,
              "#ed7953"
             ],
             [
              0.7777777777777778,
              "#fb9f3a"
             ],
             [
              0.8888888888888888,
              "#fdca26"
             ],
             [
              1,
              "#f0f921"
             ]
            ],
            "type": "histogram2d"
           }
          ],
          "histogram2dcontour": [
           {
            "colorbar": {
             "outlinewidth": 0,
             "ticks": ""
            },
            "colorscale": [
             [
              0,
              "#0d0887"
             ],
             [
              0.1111111111111111,
              "#46039f"
             ],
             [
              0.2222222222222222,
              "#7201a8"
             ],
             [
              0.3333333333333333,
              "#9c179e"
             ],
             [
              0.4444444444444444,
              "#bd3786"
             ],
             [
              0.5555555555555556,
              "#d8576b"
             ],
             [
              0.6666666666666666,
              "#ed7953"
             ],
             [
              0.7777777777777778,
              "#fb9f3a"
             ],
             [
              0.8888888888888888,
              "#fdca26"
             ],
             [
              1,
              "#f0f921"
             ]
            ],
            "type": "histogram2dcontour"
           }
          ],
          "mesh3d": [
           {
            "colorbar": {
             "outlinewidth": 0,
             "ticks": ""
            },
            "type": "mesh3d"
           }
          ],
          "parcoords": [
           {
            "line": {
             "colorbar": {
              "outlinewidth": 0,
              "ticks": ""
             }
            },
            "type": "parcoords"
           }
          ],
          "pie": [
           {
            "automargin": true,
            "type": "pie"
           }
          ],
          "scatter": [
           {
            "fillpattern": {
             "fillmode": "overlay",
             "size": 10,
             "solidity": 0.2
            },
            "type": "scatter"
           }
          ],
          "scatter3d": [
           {
            "line": {
             "colorbar": {
              "outlinewidth": 0,
              "ticks": ""
             }
            },
            "marker": {
             "colorbar": {
              "outlinewidth": 0,
              "ticks": ""
             }
            },
            "type": "scatter3d"
           }
          ],
          "scattercarpet": [
           {
            "marker": {
             "colorbar": {
              "outlinewidth": 0,
              "ticks": ""
             }
            },
            "type": "scattercarpet"
           }
          ],
          "scattergeo": [
           {
            "marker": {
             "colorbar": {
              "outlinewidth": 0,
              "ticks": ""
             }
            },
            "type": "scattergeo"
           }
          ],
          "scattergl": [
           {
            "marker": {
             "colorbar": {
              "outlinewidth": 0,
              "ticks": ""
             }
            },
            "type": "scattergl"
           }
          ],
          "scattermapbox": [
           {
            "marker": {
             "colorbar": {
              "outlinewidth": 0,
              "ticks": ""
             }
            },
            "type": "scattermapbox"
           }
          ],
          "scatterpolar": [
           {
            "marker": {
             "colorbar": {
              "outlinewidth": 0,
              "ticks": ""
             }
            },
            "type": "scatterpolar"
           }
          ],
          "scatterpolargl": [
           {
            "marker": {
             "colorbar": {
              "outlinewidth": 0,
              "ticks": ""
             }
            },
            "type": "scatterpolargl"
           }
          ],
          "scatterternary": [
           {
            "marker": {
             "colorbar": {
              "outlinewidth": 0,
              "ticks": ""
             }
            },
            "type": "scatterternary"
           }
          ],
          "surface": [
           {
            "colorbar": {
             "outlinewidth": 0,
             "ticks": ""
            },
            "colorscale": [
             [
              0,
              "#0d0887"
             ],
             [
              0.1111111111111111,
              "#46039f"
             ],
             [
              0.2222222222222222,
              "#7201a8"
             ],
             [
              0.3333333333333333,
              "#9c179e"
             ],
             [
              0.4444444444444444,
              "#bd3786"
             ],
             [
              0.5555555555555556,
              "#d8576b"
             ],
             [
              0.6666666666666666,
              "#ed7953"
             ],
             [
              0.7777777777777778,
              "#fb9f3a"
             ],
             [
              0.8888888888888888,
              "#fdca26"
             ],
             [
              1,
              "#f0f921"
             ]
            ],
            "type": "surface"
           }
          ],
          "table": [
           {
            "cells": {
             "fill": {
              "color": "#EBF0F8"
             },
             "line": {
              "color": "white"
             }
            },
            "header": {
             "fill": {
              "color": "#C8D4E3"
             },
             "line": {
              "color": "white"
             }
            },
            "type": "table"
           }
          ]
         },
         "layout": {
          "annotationdefaults": {
           "arrowcolor": "#2a3f5f",
           "arrowhead": 0,
           "arrowwidth": 1
          },
          "annotations": [
           {
            "font": {
             "color": "gray",
             "size": 12
            },
            "name": "timestamp",
            "opacity": 0.3,
            "showarrow": false,
            "text": "Simulated Data · 2025-January-12, 12:33:19 UTC +0000 Timestamp:1736685199.801019",
            "textangle": 0,
            "x": 0.99,
            "xref": "paper",
            "y": 0.01,
            "yref": "paper"
           }
          ],
          "autotypenumbers": "strict",
          "coloraxis": {
           "colorbar": {
            "outlinewidth": 0,
            "ticks": ""
           }
          },
          "colorscale": {
           "diverging": [
            [
             0,
             "#F29ABD"
            ],
            [
             0.1,
             "#F2AAB8"
            ],
            [
             0.2,
             "#F1BBB3"
            ],
            [
             0.3,
             "#F1CBAF"
            ],
            [
             0.4,
             "#F0DCAA"
            ],
            [
             0.5,
             "#F0ECA5"
            ],
            [
             0.6,
             "#CAD3A7"
            ],
            [
             0.7,
             "#A4B9AA"
            ],
            [
             0.8,
             "#7DA0AC"
            ],
            [
             0.9,
             "#5786AF"
            ],
            [
             1,
             "#316DB1"
            ]
           ],
           "sequential": [
            [
             0,
             "#EEC5DD"
            ],
            [
             0.1111111111111111,
             "#DBBCD8"
            ],
            [
             0.2222222222222222,
             "#C8B3D4"
            ],
            [
             0.3333333333333333,
             "#B5ABD0"
            ],
            [
             0.4444444444444444,
             "#A2A2CB"
            ],
            [
             0.5555555555555556,
             "#9099C7"
            ],
            [
             0.6666666666666666,
             "#7D90C3"
            ],
            [
             0.7777777777777778,
             "#6A87BE"
            ],
            [
             0.8888888888888888,
             "#577FBA"
            ],
            [
             0.9999999999999999,
             "#4476B5"
            ],
            [
             1,
             "#316DB1"
            ]
           ],
           "sequentialminus": [
            [
             0,
             "#EEC5DD"
            ],
            [
             0.1111111111111111,
             "#DBBCD8"
            ],
            [
             0.2222222222222222,
             "#C8B3D4"
            ],
            [
             0.3333333333333333,
             "#B5ABD0"
            ],
            [
             0.4444444444444444,
             "#A2A2CB"
            ],
            [
             0.5555555555555556,
             "#9099C7"
            ],
            [
             0.6666666666666666,
             "#7D90C3"
            ],
            [
             0.7777777777777778,
             "#6A87BE"
            ],
            [
             0.8888888888888888,
             "#577FBA"
            ],
            [
             0.9999999999999999,
             "#4476B5"
            ],
            [
             1,
             "#316DB1"
            ]
           ]
          },
          "colorway": [
           "#90B7E4",
           "#F29ABD",
           "#7B84CA",
           "#F0ECA5",
           "#EE7984",
           "#EEC5DD",
           "#A6738F",
           "#EBACA8",
           "#36ACDD",
           "#316DB1"
          ],
          "font": {
           "color": "#2a3f5f"
          },
          "geo": {
           "bgcolor": "rgba(0,0,0,0)",
           "lakecolor": "white",
           "landcolor": "white",
           "showlakes": true,
           "showland": true,
           "subunitcolor": "#C8D4E3"
          },
          "hoverlabel": {
           "align": "left"
          },
          "hovermode": "closest",
          "mapbox": {
           "style": "light"
          },
          "paper_bgcolor": "rgba(0,0,0,0)",
          "plot_bgcolor": "rgba(0,0,0,0)",
          "polar": {
           "angularaxis": {
            "gridcolor": "#EBF0F8",
            "linecolor": "#EBF0F8",
            "ticks": ""
           },
           "bgcolor": "rgba(0,0,0,0)",
           "radialaxis": {
            "gridcolor": "#EBF0F8",
            "linecolor": "#EBF0F8",
            "ticks": ""
           }
          },
          "scene": {
           "xaxis": {
            "backgroundcolor": "white",
            "gridcolor": "#DFE8F3",
            "gridwidth": 2,
            "linecolor": "#EBF0F8",
            "showbackground": true,
            "ticks": "",
            "zerolinecolor": "#EBF0F8"
           },
           "yaxis": {
            "backgroundcolor": "white",
            "gridcolor": "#DFE8F3",
            "gridwidth": 2,
            "linecolor": "#EBF0F8",
            "showbackground": true,
            "ticks": "",
            "zerolinecolor": "#EBF0F8"
           },
           "zaxis": {
            "backgroundcolor": "white",
            "gridcolor": "#DFE8F3",
            "gridwidth": 2,
            "linecolor": "#EBF0F8",
            "showbackground": true,
            "ticks": "",
            "zerolinecolor": "#EBF0F8"
           }
          },
          "shapedefaults": {
           "line": {
            "color": "#2a3f5f"
           }
          },
          "ternary": {
           "aaxis": {
            "gridcolor": "#DFE8F3",
            "linecolor": "#A2B1C6",
            "ticks": ""
           },
           "baxis": {
            "gridcolor": "#DFE8F3",
            "linecolor": "#A2B1C6",
            "ticks": ""
           },
           "bgcolor": "rgba(0,0,0,0)",
           "caxis": {
            "gridcolor": "#DFE8F3",
            "linecolor": "#A2B1C6",
            "ticks": ""
           }
          },
          "title": {
           "x": 0.05
          },
          "xaxis": {
           "automargin": true,
           "gridcolor": "#EBF0F8",
           "linecolor": "#EBF0F8",
           "ticks": "",
           "title": {
            "standoff": 15
           },
           "zerolinecolor": "#EBF0F8",
           "zerolinewidth": 2
          },
          "yaxis": {
           "automargin": true,
           "gridcolor": "#EBF0F8",
           "linecolor": "#EBF0F8",
           "ticks": "",
           "title": {
            "standoff": 15
           },
           "zerolinecolor": "#EBF0F8",
           "zerolinewidth": 2
          }
         }
        }
       }
      }
     },
     "metadata": {},
     "output_type": "display_data"
    }
   ],
   "source": [
    "timestamp = datetime.datetime.now(tz = datetime.timezone.utc)\n",
    "utc_timestamp = timestamp.replace(tzinfo = datetime.timezone.utc).timestamp()\n",
    "\n",
    "pio.templates['aer_bg_alpha0'] = go.layout.Template(\n",
    "    layout_annotations = [dict(\n",
    "        name = 'timestamp',\n",
    "        text = f'Simulated Data · {timestamp.strftime(\"%Y-%B-%d, %H:%M:%S %Z %z\")} Timestamp:{utc_timestamp}',\n",
    "        textangle = 0,\n",
    "        opacity = 0.3,\n",
    "        font = dict(color = 'gray', size = 12),\n",
    "        xref = 'paper',\n",
    "        yref = 'paper',\n",
    "        x = 0.99,\n",
    "        y = 0.01,\n",
    "        showarrow = False)],\n",
    "    layout_geo_bgcolor = 'rgba(0,0,0,0)',\n",
    "    layout_polar_bgcolor = 'rgba(0,0,0,0)',\n",
    "    layout_ternary_bgcolor = 'rgba(0,0,0,0)',\n",
    "    layout_paper_bgcolor = 'rgba(0,0,0,0)',\n",
    "    layout_plot_bgcolor = 'rgba(0,0,0,0)',\n",
    "    layout_colorway = ['#90B7E4', '#F29ABD', '#7B84CA', '#F0ECA5', '#EE7984',\n",
    "                       '#EEC5DD', '#A6738F', '#EBACA8', '#36ACDD', '#316DB1'],\n",
    "    #layout_colorway = ['#8BC1FF', '#FFA3C8', '#8B96E8', '#FDF550', ],\n",
    "    layout_colorscale_diverging = [[0, '#F29ABD'],\n",
    "                                   [0.1, '#F2AAB8'],\n",
    "                                   [0.2, '#F1BBB3'],\n",
    "                                   [0.3, '#F1CBAF'],\n",
    "                                   [0.4, '#F0DCAA'],\n",
    "                                   [0.5, '#F0ECA5'],\n",
    "                                   [0.6, '#CAD3A7'],\n",
    "                                   [0.7, '#A4B9AA'],\n",
    "                                   [0.8, '#7DA0AC'],\n",
    "                                   [0.9, '#5786AF'],\n",
    "                                   [1, '#316DB1']],\n",
    "    layout_colorscale_sequential = [[0.0, '#EEC5DD'],\n",
    "                                    [0.1111111111111111, '#DBBCD8'],\n",
    "                                    [0.2222222222222222, '#C8B3D4'],\n",
    "                                    [0.3333333333333333, '#B5ABD0'],\n",
    "                                    [0.4444444444444444, '#A2A2CB'],\n",
    "                                    [0.5555555555555556, '#9099C7'],\n",
    "                                    [0.6666666666666666, '#7D90C3'],\n",
    "                                    [0.7777777777777778, '#6A87BE'],\n",
    "                                    [0.8888888888888888, '#577FBA'],\n",
    "                                    [0.9999999999999999, '#4476B5'],\n",
    "                                    [1.0, '#316DB1']],\n",
    "    layout_colorscale_sequentialminus =  [[0.0, '#EEC5DD'],\n",
    "                                    [0.1111111111111111, '#DBBCD8'],\n",
    "                                    [0.2222222222222222, '#C8B3D4'],\n",
    "                                    [0.3333333333333333, '#B5ABD0'],\n",
    "                                    [0.4444444444444444, '#A2A2CB'],\n",
    "                                    [0.5555555555555556, '#9099C7'],\n",
    "                                    [0.6666666666666666, '#7D90C3'],\n",
    "                                    [0.7777777777777778, '#6A87BE'],\n",
    "                                    [0.8888888888888888, '#577FBA'],\n",
    "                                    [0.9999999999999999, '#4476B5'],\n",
    "                                    [1.0, '#316DB1']])\n",
    "\n",
    "\n",
    "\n",
    "fig = go.Figure()\n",
    "fig.update_layout(template = 'plotly_white+aer_bg_alpha0')\n",
    "fig.show()"
   ]
  },
  {
   "cell_type": "code",
   "execution_count": 14,
   "metadata": {},
   "outputs": [],
   "source": [
    "pio.templates.default = 'aer_bg_alpha0'"
   ]
  },
  {
   "cell_type": "markdown",
   "metadata": {},
   "source": [
    "### Plot tests"
   ]
  },
  {
   "cell_type": "code",
   "execution_count": 15,
   "metadata": {},
   "outputs": [
    {
     "data": {
      "text/html": [
       "<div>\n",
       "<style scoped>\n",
       "    .dataframe tbody tr th:only-of-type {\n",
       "        vertical-align: middle;\n",
       "    }\n",
       "\n",
       "    .dataframe tbody tr th {\n",
       "        vertical-align: top;\n",
       "    }\n",
       "\n",
       "    .dataframe thead th {\n",
       "        text-align: right;\n",
       "    }\n",
       "</style>\n",
       "<table border=\"1\" class=\"dataframe\">\n",
       "  <thead>\n",
       "    <tr style=\"text-align: right;\">\n",
       "      <th></th>\n",
       "      <th>team</th>\n",
       "      <th>event_game</th>\n",
       "      <th>acc_w_score_total</th>\n",
       "      <th>perform_score_total</th>\n",
       "      <th>team_participation_ratio</th>\n",
       "    </tr>\n",
       "  </thead>\n",
       "  <tbody>\n",
       "    <tr>\n",
       "      <th>0</th>\n",
       "      <td>summer</td>\n",
       "      <td>A</td>\n",
       "      <td>4</td>\n",
       "      <td>133.33</td>\n",
       "      <td>100.00</td>\n",
       "    </tr>\n",
       "    <tr>\n",
       "      <th>1</th>\n",
       "      <td>summer</td>\n",
       "      <td>B</td>\n",
       "      <td>3</td>\n",
       "      <td>99.99</td>\n",
       "      <td>66.67</td>\n",
       "    </tr>\n",
       "    <tr>\n",
       "      <th>2</th>\n",
       "      <td>summer</td>\n",
       "      <td>C</td>\n",
       "      <td>3</td>\n",
       "      <td>99.99</td>\n",
       "      <td>66.67</td>\n",
       "    </tr>\n",
       "    <tr>\n",
       "      <th>3</th>\n",
       "      <td>autumn</td>\n",
       "      <td>A</td>\n",
       "      <td>7</td>\n",
       "      <td>116.68</td>\n",
       "      <td>83.33</td>\n",
       "    </tr>\n",
       "    <tr>\n",
       "      <th>4</th>\n",
       "      <td>autumn</td>\n",
       "      <td>B</td>\n",
       "      <td>9</td>\n",
       "      <td>150.02</td>\n",
       "      <td>100.00</td>\n",
       "    </tr>\n",
       "    <tr>\n",
       "      <th>5</th>\n",
       "      <td>autumn</td>\n",
       "      <td>C</td>\n",
       "      <td>13</td>\n",
       "      <td>216.66</td>\n",
       "      <td>100.00</td>\n",
       "    </tr>\n",
       "    <tr>\n",
       "      <th>6</th>\n",
       "      <td>winter</td>\n",
       "      <td>A</td>\n",
       "      <td>10</td>\n",
       "      <td>250.00</td>\n",
       "      <td>100.00</td>\n",
       "    </tr>\n",
       "    <tr>\n",
       "      <th>7</th>\n",
       "      <td>winter</td>\n",
       "      <td>B</td>\n",
       "      <td>3</td>\n",
       "      <td>75.00</td>\n",
       "      <td>75.00</td>\n",
       "    </tr>\n",
       "    <tr>\n",
       "      <th>8</th>\n",
       "      <td>winter</td>\n",
       "      <td>C</td>\n",
       "      <td>7</td>\n",
       "      <td>175.00</td>\n",
       "      <td>100.00</td>\n",
       "    </tr>\n",
       "  </tbody>\n",
       "</table>\n",
       "</div>"
      ],
      "text/plain": [
       "     team event_game  acc_w_score_total  perform_score_total  \\\n",
       "0  summer          A                  4               133.33   \n",
       "1  summer          B                  3                99.99   \n",
       "2  summer          C                  3                99.99   \n",
       "3  autumn          A                  7               116.68   \n",
       "4  autumn          B                  9               150.02   \n",
       "5  autumn          C                 13               216.66   \n",
       "6  winter          A                 10               250.00   \n",
       "7  winter          B                  3                75.00   \n",
       "8  winter          C                  7               175.00   \n",
       "\n",
       "   team_participation_ratio  \n",
       "0                    100.00  \n",
       "1                     66.67  \n",
       "2                     66.67  \n",
       "3                     83.33  \n",
       "4                    100.00  \n",
       "5                    100.00  \n",
       "6                    100.00  \n",
       "7                     75.00  \n",
       "8                    100.00  "
      ]
     },
     "execution_count": 15,
     "metadata": {},
     "output_type": "execute_result"
    }
   ],
   "source": [
    "aux_data = pipe_data[['team','event_game', 'acc_w_score_total', 'perform_score_total', 'team_participation_ratio']].copy()\n",
    "aux_data.drop_duplicates(inplace = True, ignore_index=True)\n",
    "aux_data"
   ]
  },
  {
   "cell_type": "code",
   "execution_count": null,
   "metadata": {},
   "outputs": [],
   "source": [
    "#subgroup_event = aux_data['event_game'].unique()\n",
    "#group_team = aux_data['team'].unique() # no se esta usando en la fig\n",
    "#template_color = pio.templates[pio.templates.default]['layout']['colorway']\n",
    "#subplot_titles = ['Accumulated Score', 'Performance Score', 'Teams Participacion']\n",
    "#\n",
    "#colors = [template_color[i] for f in range(len(subgroup_event))]"
   ]
  },
  {
   "cell_type": "code",
   "execution_count": 17,
   "metadata": {},
   "outputs": [
    {
     "data": {
      "text/html": [
       "<div>\n",
       "<style scoped>\n",
       "    .dataframe tbody tr th:only-of-type {\n",
       "        vertical-align: middle;\n",
       "    }\n",
       "\n",
       "    .dataframe tbody tr th {\n",
       "        vertical-align: top;\n",
       "    }\n",
       "\n",
       "    .dataframe thead th {\n",
       "        text-align: right;\n",
       "    }\n",
       "</style>\n",
       "<table border=\"1\" class=\"dataframe\">\n",
       "  <thead>\n",
       "    <tr style=\"text-align: right;\">\n",
       "      <th></th>\n",
       "      <th>team</th>\n",
       "      <th>event_game</th>\n",
       "      <th>acc_w_score_total</th>\n",
       "      <th>perform_score_total</th>\n",
       "      <th>team_participation_ratio</th>\n",
       "    </tr>\n",
       "  </thead>\n",
       "  <tbody>\n",
       "    <tr>\n",
       "      <th>0</th>\n",
       "      <td>summer</td>\n",
       "      <td>A</td>\n",
       "      <td>6</td>\n",
       "      <td>200.00</td>\n",
       "      <td>100.00</td>\n",
       "    </tr>\n",
       "    <tr>\n",
       "      <th>3</th>\n",
       "      <td>autumn</td>\n",
       "      <td>A</td>\n",
       "      <td>11</td>\n",
       "      <td>183.34</td>\n",
       "      <td>66.67</td>\n",
       "    </tr>\n",
       "    <tr>\n",
       "      <th>6</th>\n",
       "      <td>winter</td>\n",
       "      <td>A</td>\n",
       "      <td>4</td>\n",
       "      <td>100.00</td>\n",
       "      <td>75.00</td>\n",
       "    </tr>\n",
       "  </tbody>\n",
       "</table>\n",
       "</div>"
      ],
      "text/plain": [
       "     team event_game  acc_w_score_total  perform_score_total  \\\n",
       "0  summer          A                  6               200.00   \n",
       "3  autumn          A                 11               183.34   \n",
       "6  winter          A                  4               100.00   \n",
       "\n",
       "   team_participation_ratio  \n",
       "0                    100.00  \n",
       "3                     66.67  \n",
       "6                     75.00  "
      ]
     },
     "execution_count": 17,
     "metadata": {},
     "output_type": "execute_result"
    }
   ],
   "source": [
    "aux_data[aux_data['event_game'] == subgroup_event[0]]"
   ]
  },
  {
   "cell_type": "code",
   "execution_count": 18,
   "metadata": {},
   "outputs": [
    {
     "data": {
      "text/html": [
       "<div>\n",
       "<style scoped>\n",
       "    .dataframe tbody tr th:only-of-type {\n",
       "        vertical-align: middle;\n",
       "    }\n",
       "\n",
       "    .dataframe tbody tr th {\n",
       "        vertical-align: top;\n",
       "    }\n",
       "\n",
       "    .dataframe thead th {\n",
       "        text-align: right;\n",
       "    }\n",
       "</style>\n",
       "<table border=\"1\" class=\"dataframe\">\n",
       "  <thead>\n",
       "    <tr style=\"text-align: right;\">\n",
       "      <th></th>\n",
       "      <th>team</th>\n",
       "      <th>event_game</th>\n",
       "      <th>acc_w_score_total</th>\n",
       "      <th>perform_score_total</th>\n",
       "      <th>team_participation_ratio</th>\n",
       "    </tr>\n",
       "  </thead>\n",
       "  <tbody>\n",
       "    <tr>\n",
       "      <th>0</th>\n",
       "      <td>summer</td>\n",
       "      <td>A</td>\n",
       "      <td>6</td>\n",
       "      <td>200.00</td>\n",
       "      <td>100.00</td>\n",
       "    </tr>\n",
       "    <tr>\n",
       "      <th>1</th>\n",
       "      <td>summer</td>\n",
       "      <td>B</td>\n",
       "      <td>5</td>\n",
       "      <td>166.65</td>\n",
       "      <td>66.67</td>\n",
       "    </tr>\n",
       "    <tr>\n",
       "      <th>2</th>\n",
       "      <td>summer</td>\n",
       "      <td>C</td>\n",
       "      <td>5</td>\n",
       "      <td>166.65</td>\n",
       "      <td>66.67</td>\n",
       "    </tr>\n",
       "  </tbody>\n",
       "</table>\n",
       "</div>"
      ],
      "text/plain": [
       "     team event_game  acc_w_score_total  perform_score_total  \\\n",
       "0  summer          A                  6               200.00   \n",
       "1  summer          B                  5               166.65   \n",
       "2  summer          C                  5               166.65   \n",
       "\n",
       "   team_participation_ratio  \n",
       "0                    100.00  \n",
       "1                     66.67  \n",
       "2                     66.67  "
      ]
     },
     "execution_count": 18,
     "metadata": {},
     "output_type": "execute_result"
    }
   ],
   "source": [
    "aux_data[aux_data['team'] == group_team[0]]"
   ]
  },
  {
   "cell_type": "code",
   "execution_count": 16,
   "metadata": {},
   "outputs": [],
   "source": [
    "#filter_data = aux_data[aux_data['event_game']==subgroup_event[0]]['acc_w_score_total']\n",
    "\n",
    "def accent_color(data : list, main_color : str, accent : str) -> list[str]:\n",
    "    \"\"\"\n",
    "    Function\n",
    "    -\n",
    "    Create a list of a same color with an accent color were the max value is.\n",
    "\n",
    "    Parameters\n",
    "    -\n",
    "    - data: list of numbers from where the max value will be picked\n",
    "    - main_color: HEX, CSS, rgb or rgba in str format\n",
    "    - accent: HEX, CSS, rgb or rgba in str format, must share the same color format as main_color\n",
    "    \"\"\"\n",
    "    color_list = []\n",
    "    \n",
    "    for i in data:\n",
    "        if i != data.max():\n",
    "            color_list.append(main_color)\n",
    "        else:\n",
    "            color_list.append(accent)\n",
    "\n",
    "    return color_list\n",
    "    \n",
    "\n",
    "#accent_color(filter_data, template_color[0], template_color[-1])"
   ]
  },
  {
   "cell_type": "code",
   "execution_count": null,
   "metadata": {},
   "outputs": [],
   "source": [
    "def bar_highlights(data : pd.DataFrame, x : str, y: list, subplot_titles : list, col_group : str,legend_group : list,t : int = 50,b : int = 30,l : int = 0,r : int = 0, theme = 'plotly_white'):\n",
    "    \"\"\"\n",
    "    Function\n",
    "    -\n",
    "    Create metric barplots with accent on max value bars.\n",
    "\n",
    "    Parameters\n",
    "    -\n",
    "    - data: dataframe with no duplicated data, ideal if has total values and/or percentages\n",
    "    - x: name of the column with etiquettes on x axis\n",
    "    - y: list of columns that will be plotted independently each faceted plot\n",
    "    - subplot_titles: subplot titles list\n",
    "    - col_group: name of the column with categorical etiquettes. Used to select from where the data will be filtered for categorical visualization\n",
    "    - legend_group: list of values from selected col_group (data[col_group]), used to iterate. Also gives legend tag names\n",
    "    - Margin params: t (top), b (bottom), l (left), r (right)\n",
    "    \"\"\"\n",
    "\n",
    "\n",
    "    template_color = pio.templates[pio.templates.default]['layout']['colorway']\n",
    "\n",
    "    # build subplot figure\n",
    "    bar_metrics_subplot = make_subplots(rows = 1, cols = 3,\n",
    "                                        subplot_titles = subplot_titles,\n",
    "                                        shared_yaxes=False)\n",
    "\n",
    "    # bar plots\n",
    "    for i in range(len(legend_group)):\n",
    "        f_data = data[data[col_group] == legend_group[i]]\n",
    "        \n",
    "        bar_metrics_subplot.add_trace(go.Bar( # facet 1\n",
    "            name            = legend_group[i],\n",
    "            x               = f_data[x],\n",
    "            y               = f_data[y[0]],\n",
    "            marker_color    = accent_color(f_data[y[0]], template_color[i], template_color[-1]),\n",
    "            text            = f_data[y[0]],\n",
    "            legendgroup     = legend_group[i],\n",
    "            hovertemplate   = \"<extra>\" + legend_group[i] + \" - %{x}</extra>\"+\n",
    "                            \"Absolute Score sum: %{y} points\"\n",
    "            ),row=1,col=1)\n",
    "        \n",
    "        bar_metrics_subplot.add_trace(go.Bar( # facet 2\n",
    "            name            = legend_group[i],\n",
    "            x               = f_data[x],\n",
    "            y               = f_data[y[1]],\n",
    "            marker_color    = accent_color(f_data[y[1]], template_color[i], template_color[-1]),\n",
    "            text            = [float(f\"{n:.2f}\") for n in f_data[y[1]]],\n",
    "            legendgroup     = legend_group[i],\n",
    "            showlegend      = False,\n",
    "            hovertemplate   = \"<extra>\" + legend_group[i] + \" - %{x}</extra>\"+\n",
    "                            \"Performance Score sum: %{y} points\"\n",
    "            ),row=1, col=2)\n",
    "        \n",
    "        bar_metrics_subplot.add_trace(go.Bar( # facet 3\n",
    "            name            = legend_group[i],\n",
    "            x               = f_data[x],\n",
    "            y               = f_data[y[2]],\n",
    "            marker_color    = accent_color(f_data[y[2]], template_color[i], template_color[-1]),\n",
    "            text            = [f\"{n}%\" for n in f_data[y[2]]],\n",
    "            legendgroup     = legend_group[i],\n",
    "            showlegend      = False,\n",
    "            hovertemplate   = \"<extra>\" + legend_group[i] + \" - %{x}</extra>\"+\n",
    "                            \"Participation: %{y}%\"\n",
    "            ),row=1, col=3)\n",
    "\n",
    "    # layout and axes\n",
    "    bar_metrics_subplot.update_yaxes(showticklabels = False, showgrid=True)\n",
    "    bar_metrics_subplot.update_xaxes(showticklabels = False, showgrid=False)\n",
    "\n",
    "    bar_metrics_subplot.update_layout(\n",
    "        barmode='group',\n",
    "        hovermode = 'x',\n",
    "        legend_orientation = 'h',\n",
    "        template = f'{theme}+{pio.templates.default}',\n",
    "        margin = dict(t=t, b=b, l=l, r=r),\n",
    "        height = 300)\n",
    "\n",
    "    return bar_metrics_subplot"
   ]
  },
  {
   "cell_type": "code",
   "execution_count": 20,
   "metadata": {},
   "outputs": [
    {
     "data": {
      "application/vnd.plotly.v1+json": {
       "config": {
        "plotlyServerURL": "https://plot.ly"
       },
       "data": [
        {
         "hovertemplate": "<extra>A - %{x}</extra>Absolute Score sum: %{y} points",
         "legendgroup": "A",
         "marker": {
          "color": [
           "#90B7E4",
           "#90B7E4",
           "#316DB1"
          ]
         },
         "name": "A",
         "text": [
          4,
          7,
          10
         ],
         "type": "bar",
         "x": [
          "summer",
          "autumn",
          "winter"
         ],
         "xaxis": "x",
         "y": [
          4,
          7,
          10
         ],
         "yaxis": "y"
        },
        {
         "hovertemplate": "<extra>A - %{x}</extra>Performance Score sum: %{y} points",
         "legendgroup": "A",
         "marker": {
          "color": [
           "#90B7E4",
           "#90B7E4",
           "#316DB1"
          ]
         },
         "name": "A",
         "showlegend": false,
         "text": [
          "133.33",
          "116.68",
          "250.0"
         ],
         "type": "bar",
         "x": [
          "summer",
          "autumn",
          "winter"
         ],
         "xaxis": "x2",
         "y": [
          133.32999999999998,
          116.68,
          250
         ],
         "yaxis": "y2"
        },
        {
         "hovertemplate": "<extra>A - %{x}</extra>Participation: %{y}%",
         "legendgroup": "A",
         "marker": {
          "color": [
           "#316DB1",
           "#90B7E4",
           "#316DB1"
          ]
         },
         "name": "A",
         "showlegend": false,
         "text": [
          "100.0%",
          "83.33%",
          "100.0%"
         ],
         "type": "bar",
         "x": [
          "summer",
          "autumn",
          "winter"
         ],
         "xaxis": "x3",
         "y": [
          100,
          83.33,
          100
         ],
         "yaxis": "y3"
        },
        {
         "hovertemplate": "<extra>B - %{x}</extra>Absolute Score sum: %{y} points",
         "legendgroup": "B",
         "marker": {
          "color": [
           "#F29ABD",
           "#316DB1",
           "#F29ABD"
          ]
         },
         "name": "B",
         "text": [
          3,
          9,
          3
         ],
         "type": "bar",
         "x": [
          "summer",
          "autumn",
          "winter"
         ],
         "xaxis": "x",
         "y": [
          3,
          9,
          3
         ],
         "yaxis": "y"
        },
        {
         "hovertemplate": "<extra>B - %{x}</extra>Performance Score sum: %{y} points",
         "legendgroup": "B",
         "marker": {
          "color": [
           "#F29ABD",
           "#316DB1",
           "#F29ABD"
          ]
         },
         "name": "B",
         "showlegend": false,
         "text": [
          "99.99",
          "150.02",
          "75.0"
         ],
         "type": "bar",
         "x": [
          "summer",
          "autumn",
          "winter"
         ],
         "xaxis": "x2",
         "y": [
          99.99,
          150.02,
          75
         ],
         "yaxis": "y2"
        },
        {
         "hovertemplate": "<extra>B - %{x}</extra>Participation: %{y}%",
         "legendgroup": "B",
         "marker": {
          "color": [
           "#F29ABD",
           "#316DB1",
           "#F29ABD"
          ]
         },
         "name": "B",
         "showlegend": false,
         "text": [
          "66.67%",
          "100.0%",
          "75.0%"
         ],
         "type": "bar",
         "x": [
          "summer",
          "autumn",
          "winter"
         ],
         "xaxis": "x3",
         "y": [
          66.67,
          100,
          75
         ],
         "yaxis": "y3"
        },
        {
         "hovertemplate": "<extra>C - %{x}</extra>Absolute Score sum: %{y} points",
         "legendgroup": "C",
         "marker": {
          "color": [
           "#7B84CA",
           "#316DB1",
           "#7B84CA"
          ]
         },
         "name": "C",
         "text": [
          3,
          13,
          7
         ],
         "type": "bar",
         "x": [
          "summer",
          "autumn",
          "winter"
         ],
         "xaxis": "x",
         "y": [
          3,
          13,
          7
         ],
         "yaxis": "y"
        },
        {
         "hovertemplate": "<extra>C - %{x}</extra>Performance Score sum: %{y} points",
         "legendgroup": "C",
         "marker": {
          "color": [
           "#7B84CA",
           "#316DB1",
           "#7B84CA"
          ]
         },
         "name": "C",
         "showlegend": false,
         "text": [
          "99.99",
          "216.66",
          "175.0"
         ],
         "type": "bar",
         "x": [
          "summer",
          "autumn",
          "winter"
         ],
         "xaxis": "x2",
         "y": [
          99.99,
          216.66,
          175
         ],
         "yaxis": "y2"
        },
        {
         "hovertemplate": "<extra>C - %{x}</extra>Participation: %{y}%",
         "legendgroup": "C",
         "marker": {
          "color": [
           "#7B84CA",
           "#316DB1",
           "#316DB1"
          ]
         },
         "name": "C",
         "showlegend": false,
         "text": [
          "66.67%",
          "100.0%",
          "100.0%"
         ],
         "type": "bar",
         "x": [
          "summer",
          "autumn",
          "winter"
         ],
         "xaxis": "x3",
         "y": [
          66.67,
          100,
          100
         ],
         "yaxis": "y3"
        }
       ],
       "layout": {
        "annotations": [
         {
          "font": {
           "size": 16
          },
          "showarrow": false,
          "text": "Accumulated Score",
          "x": 0.14444444444444446,
          "xanchor": "center",
          "xref": "paper",
          "y": 1,
          "yanchor": "bottom",
          "yref": "paper"
         },
         {
          "font": {
           "size": 16
          },
          "showarrow": false,
          "text": "Performance Score",
          "x": 0.5,
          "xanchor": "center",
          "xref": "paper",
          "y": 1,
          "yanchor": "bottom",
          "yref": "paper"
         },
         {
          "font": {
           "size": 16
          },
          "showarrow": false,
          "text": "Teams Participacion",
          "x": 0.8555555555555556,
          "xanchor": "center",
          "xref": "paper",
          "y": 1,
          "yanchor": "bottom",
          "yref": "paper"
         }
        ],
        "barmode": "group",
        "height": 300,
        "hovermode": "x",
        "legend": {
         "orientation": "h"
        },
        "margin": {
         "b": 30,
         "l": 0,
         "r": 0,
         "t": 50
        },
        "template": {
         "data": {
          "bar": [
           {
            "error_x": {
             "color": "#2a3f5f"
            },
            "error_y": {
             "color": "#2a3f5f"
            },
            "marker": {
             "line": {
              "color": "white",
              "width": 0.5
             },
             "pattern": {
              "fillmode": "overlay",
              "size": 10,
              "solidity": 0.2
             }
            },
            "type": "bar"
           }
          ],
          "barpolar": [
           {
            "marker": {
             "line": {
              "color": "white",
              "width": 0.5
             },
             "pattern": {
              "fillmode": "overlay",
              "size": 10,
              "solidity": 0.2
             }
            },
            "type": "barpolar"
           }
          ],
          "carpet": [
           {
            "aaxis": {
             "endlinecolor": "#2a3f5f",
             "gridcolor": "#C8D4E3",
             "linecolor": "#C8D4E3",
             "minorgridcolor": "#C8D4E3",
             "startlinecolor": "#2a3f5f"
            },
            "baxis": {
             "endlinecolor": "#2a3f5f",
             "gridcolor": "#C8D4E3",
             "linecolor": "#C8D4E3",
             "minorgridcolor": "#C8D4E3",
             "startlinecolor": "#2a3f5f"
            },
            "type": "carpet"
           }
          ],
          "choropleth": [
           {
            "colorbar": {
             "outlinewidth": 0,
             "ticks": ""
            },
            "type": "choropleth"
           }
          ],
          "contour": [
           {
            "colorbar": {
             "outlinewidth": 0,
             "ticks": ""
            },
            "colorscale": [
             [
              0,
              "#0d0887"
             ],
             [
              0.1111111111111111,
              "#46039f"
             ],
             [
              0.2222222222222222,
              "#7201a8"
             ],
             [
              0.3333333333333333,
              "#9c179e"
             ],
             [
              0.4444444444444444,
              "#bd3786"
             ],
             [
              0.5555555555555556,
              "#d8576b"
             ],
             [
              0.6666666666666666,
              "#ed7953"
             ],
             [
              0.7777777777777778,
              "#fb9f3a"
             ],
             [
              0.8888888888888888,
              "#fdca26"
             ],
             [
              1,
              "#f0f921"
             ]
            ],
            "type": "contour"
           }
          ],
          "contourcarpet": [
           {
            "colorbar": {
             "outlinewidth": 0,
             "ticks": ""
            },
            "type": "contourcarpet"
           }
          ],
          "heatmap": [
           {
            "colorbar": {
             "outlinewidth": 0,
             "ticks": ""
            },
            "colorscale": [
             [
              0,
              "#0d0887"
             ],
             [
              0.1111111111111111,
              "#46039f"
             ],
             [
              0.2222222222222222,
              "#7201a8"
             ],
             [
              0.3333333333333333,
              "#9c179e"
             ],
             [
              0.4444444444444444,
              "#bd3786"
             ],
             [
              0.5555555555555556,
              "#d8576b"
             ],
             [
              0.6666666666666666,
              "#ed7953"
             ],
             [
              0.7777777777777778,
              "#fb9f3a"
             ],
             [
              0.8888888888888888,
              "#fdca26"
             ],
             [
              1,
              "#f0f921"
             ]
            ],
            "type": "heatmap"
           }
          ],
          "heatmapgl": [
           {
            "colorbar": {
             "outlinewidth": 0,
             "ticks": ""
            },
            "colorscale": [
             [
              0,
              "#0d0887"
             ],
             [
              0.1111111111111111,
              "#46039f"
             ],
             [
              0.2222222222222222,
              "#7201a8"
             ],
             [
              0.3333333333333333,
              "#9c179e"
             ],
             [
              0.4444444444444444,
              "#bd3786"
             ],
             [
              0.5555555555555556,
              "#d8576b"
             ],
             [
              0.6666666666666666,
              "#ed7953"
             ],
             [
              0.7777777777777778,
              "#fb9f3a"
             ],
             [
              0.8888888888888888,
              "#fdca26"
             ],
             [
              1,
              "#f0f921"
             ]
            ],
            "type": "heatmapgl"
           }
          ],
          "histogram": [
           {
            "marker": {
             "pattern": {
              "fillmode": "overlay",
              "size": 10,
              "solidity": 0.2
             }
            },
            "type": "histogram"
           }
          ],
          "histogram2d": [
           {
            "colorbar": {
             "outlinewidth": 0,
             "ticks": ""
            },
            "colorscale": [
             [
              0,
              "#0d0887"
             ],
             [
              0.1111111111111111,
              "#46039f"
             ],
             [
              0.2222222222222222,
              "#7201a8"
             ],
             [
              0.3333333333333333,
              "#9c179e"
             ],
             [
              0.4444444444444444,
              "#bd3786"
             ],
             [
              0.5555555555555556,
              "#d8576b"
             ],
             [
              0.6666666666666666,
              "#ed7953"
             ],
             [
              0.7777777777777778,
              "#fb9f3a"
             ],
             [
              0.8888888888888888,
              "#fdca26"
             ],
             [
              1,
              "#f0f921"
             ]
            ],
            "type": "histogram2d"
           }
          ],
          "histogram2dcontour": [
           {
            "colorbar": {
             "outlinewidth": 0,
             "ticks": ""
            },
            "colorscale": [
             [
              0,
              "#0d0887"
             ],
             [
              0.1111111111111111,
              "#46039f"
             ],
             [
              0.2222222222222222,
              "#7201a8"
             ],
             [
              0.3333333333333333,
              "#9c179e"
             ],
             [
              0.4444444444444444,
              "#bd3786"
             ],
             [
              0.5555555555555556,
              "#d8576b"
             ],
             [
              0.6666666666666666,
              "#ed7953"
             ],
             [
              0.7777777777777778,
              "#fb9f3a"
             ],
             [
              0.8888888888888888,
              "#fdca26"
             ],
             [
              1,
              "#f0f921"
             ]
            ],
            "type": "histogram2dcontour"
           }
          ],
          "mesh3d": [
           {
            "colorbar": {
             "outlinewidth": 0,
             "ticks": ""
            },
            "type": "mesh3d"
           }
          ],
          "parcoords": [
           {
            "line": {
             "colorbar": {
              "outlinewidth": 0,
              "ticks": ""
             }
            },
            "type": "parcoords"
           }
          ],
          "pie": [
           {
            "automargin": true,
            "type": "pie"
           }
          ],
          "scatter": [
           {
            "fillpattern": {
             "fillmode": "overlay",
             "size": 10,
             "solidity": 0.2
            },
            "type": "scatter"
           }
          ],
          "scatter3d": [
           {
            "line": {
             "colorbar": {
              "outlinewidth": 0,
              "ticks": ""
             }
            },
            "marker": {
             "colorbar": {
              "outlinewidth": 0,
              "ticks": ""
             }
            },
            "type": "scatter3d"
           }
          ],
          "scattercarpet": [
           {
            "marker": {
             "colorbar": {
              "outlinewidth": 0,
              "ticks": ""
             }
            },
            "type": "scattercarpet"
           }
          ],
          "scattergeo": [
           {
            "marker": {
             "colorbar": {
              "outlinewidth": 0,
              "ticks": ""
             }
            },
            "type": "scattergeo"
           }
          ],
          "scattergl": [
           {
            "marker": {
             "colorbar": {
              "outlinewidth": 0,
              "ticks": ""
             }
            },
            "type": "scattergl"
           }
          ],
          "scattermapbox": [
           {
            "marker": {
             "colorbar": {
              "outlinewidth": 0,
              "ticks": ""
             }
            },
            "type": "scattermapbox"
           }
          ],
          "scatterpolar": [
           {
            "marker": {
             "colorbar": {
              "outlinewidth": 0,
              "ticks": ""
             }
            },
            "type": "scatterpolar"
           }
          ],
          "scatterpolargl": [
           {
            "marker": {
             "colorbar": {
              "outlinewidth": 0,
              "ticks": ""
             }
            },
            "type": "scatterpolargl"
           }
          ],
          "scatterternary": [
           {
            "marker": {
             "colorbar": {
              "outlinewidth": 0,
              "ticks": ""
             }
            },
            "type": "scatterternary"
           }
          ],
          "surface": [
           {
            "colorbar": {
             "outlinewidth": 0,
             "ticks": ""
            },
            "colorscale": [
             [
              0,
              "#0d0887"
             ],
             [
              0.1111111111111111,
              "#46039f"
             ],
             [
              0.2222222222222222,
              "#7201a8"
             ],
             [
              0.3333333333333333,
              "#9c179e"
             ],
             [
              0.4444444444444444,
              "#bd3786"
             ],
             [
              0.5555555555555556,
              "#d8576b"
             ],
             [
              0.6666666666666666,
              "#ed7953"
             ],
             [
              0.7777777777777778,
              "#fb9f3a"
             ],
             [
              0.8888888888888888,
              "#fdca26"
             ],
             [
              1,
              "#f0f921"
             ]
            ],
            "type": "surface"
           }
          ],
          "table": [
           {
            "cells": {
             "fill": {
              "color": "#EBF0F8"
             },
             "line": {
              "color": "white"
             }
            },
            "header": {
             "fill": {
              "color": "#C8D4E3"
             },
             "line": {
              "color": "white"
             }
            },
            "type": "table"
           }
          ]
         },
         "layout": {
          "annotationdefaults": {
           "arrowcolor": "#2a3f5f",
           "arrowhead": 0,
           "arrowwidth": 1
          },
          "annotations": [
           {
            "font": {
             "color": "gray",
             "size": 12
            },
            "name": "timestamp",
            "opacity": 0.3,
            "showarrow": false,
            "text": "Simulated Data · 2025-January-12, 12:33:19 UTC +0000 Timestamp:1736685199.801019",
            "textangle": 0,
            "x": 0.99,
            "xref": "paper",
            "y": 0.01,
            "yref": "paper"
           }
          ],
          "autotypenumbers": "strict",
          "coloraxis": {
           "colorbar": {
            "outlinewidth": 0,
            "ticks": ""
           }
          },
          "colorscale": {
           "diverging": [
            [
             0,
             "#F29ABD"
            ],
            [
             0.1,
             "#F2AAB8"
            ],
            [
             0.2,
             "#F1BBB3"
            ],
            [
             0.3,
             "#F1CBAF"
            ],
            [
             0.4,
             "#F0DCAA"
            ],
            [
             0.5,
             "#F0ECA5"
            ],
            [
             0.6,
             "#CAD3A7"
            ],
            [
             0.7,
             "#A4B9AA"
            ],
            [
             0.8,
             "#7DA0AC"
            ],
            [
             0.9,
             "#5786AF"
            ],
            [
             1,
             "#316DB1"
            ]
           ],
           "sequential": [
            [
             0,
             "#EEC5DD"
            ],
            [
             0.1111111111111111,
             "#DBBCD8"
            ],
            [
             0.2222222222222222,
             "#C8B3D4"
            ],
            [
             0.3333333333333333,
             "#B5ABD0"
            ],
            [
             0.4444444444444444,
             "#A2A2CB"
            ],
            [
             0.5555555555555556,
             "#9099C7"
            ],
            [
             0.6666666666666666,
             "#7D90C3"
            ],
            [
             0.7777777777777778,
             "#6A87BE"
            ],
            [
             0.8888888888888888,
             "#577FBA"
            ],
            [
             0.9999999999999999,
             "#4476B5"
            ],
            [
             1,
             "#316DB1"
            ]
           ],
           "sequentialminus": [
            [
             0,
             "#EEC5DD"
            ],
            [
             0.1111111111111111,
             "#DBBCD8"
            ],
            [
             0.2222222222222222,
             "#C8B3D4"
            ],
            [
             0.3333333333333333,
             "#B5ABD0"
            ],
            [
             0.4444444444444444,
             "#A2A2CB"
            ],
            [
             0.5555555555555556,
             "#9099C7"
            ],
            [
             0.6666666666666666,
             "#7D90C3"
            ],
            [
             0.7777777777777778,
             "#6A87BE"
            ],
            [
             0.8888888888888888,
             "#577FBA"
            ],
            [
             0.9999999999999999,
             "#4476B5"
            ],
            [
             1,
             "#316DB1"
            ]
           ]
          },
          "colorway": [
           "#90B7E4",
           "#F29ABD",
           "#7B84CA",
           "#F0ECA5",
           "#EE7984",
           "#EEC5DD",
           "#A6738F",
           "#EBACA8",
           "#36ACDD",
           "#316DB1"
          ],
          "font": {
           "color": "#2a3f5f"
          },
          "geo": {
           "bgcolor": "rgba(0,0,0,0)",
           "lakecolor": "white",
           "landcolor": "white",
           "showlakes": true,
           "showland": true,
           "subunitcolor": "#C8D4E3"
          },
          "hoverlabel": {
           "align": "left"
          },
          "hovermode": "closest",
          "mapbox": {
           "style": "light"
          },
          "paper_bgcolor": "rgba(0,0,0,0)",
          "plot_bgcolor": "rgba(0,0,0,0)",
          "polar": {
           "angularaxis": {
            "gridcolor": "#EBF0F8",
            "linecolor": "#EBF0F8",
            "ticks": ""
           },
           "bgcolor": "rgba(0,0,0,0)",
           "radialaxis": {
            "gridcolor": "#EBF0F8",
            "linecolor": "#EBF0F8",
            "ticks": ""
           }
          },
          "scene": {
           "xaxis": {
            "backgroundcolor": "white",
            "gridcolor": "#DFE8F3",
            "gridwidth": 2,
            "linecolor": "#EBF0F8",
            "showbackground": true,
            "ticks": "",
            "zerolinecolor": "#EBF0F8"
           },
           "yaxis": {
            "backgroundcolor": "white",
            "gridcolor": "#DFE8F3",
            "gridwidth": 2,
            "linecolor": "#EBF0F8",
            "showbackground": true,
            "ticks": "",
            "zerolinecolor": "#EBF0F8"
           },
           "zaxis": {
            "backgroundcolor": "white",
            "gridcolor": "#DFE8F3",
            "gridwidth": 2,
            "linecolor": "#EBF0F8",
            "showbackground": true,
            "ticks": "",
            "zerolinecolor": "#EBF0F8"
           }
          },
          "shapedefaults": {
           "line": {
            "color": "#2a3f5f"
           }
          },
          "ternary": {
           "aaxis": {
            "gridcolor": "#DFE8F3",
            "linecolor": "#A2B1C6",
            "ticks": ""
           },
           "baxis": {
            "gridcolor": "#DFE8F3",
            "linecolor": "#A2B1C6",
            "ticks": ""
           },
           "bgcolor": "rgba(0,0,0,0)",
           "caxis": {
            "gridcolor": "#DFE8F3",
            "linecolor": "#A2B1C6",
            "ticks": ""
           }
          },
          "title": {
           "x": 0.05
          },
          "xaxis": {
           "automargin": true,
           "gridcolor": "#EBF0F8",
           "linecolor": "#EBF0F8",
           "ticks": "",
           "title": {
            "standoff": 15
           },
           "zerolinecolor": "#EBF0F8",
           "zerolinewidth": 2
          },
          "yaxis": {
           "automargin": true,
           "gridcolor": "#EBF0F8",
           "linecolor": "#EBF0F8",
           "ticks": "",
           "title": {
            "standoff": 15
           },
           "zerolinecolor": "#EBF0F8",
           "zerolinewidth": 2
          }
         }
        },
        "xaxis": {
         "anchor": "y",
         "domain": [
          0,
          0.2888888888888889
         ],
         "showgrid": false,
         "showticklabels": false
        },
        "xaxis2": {
         "anchor": "y2",
         "domain": [
          0.35555555555555557,
          0.6444444444444445
         ],
         "showgrid": false,
         "showticklabels": false
        },
        "xaxis3": {
         "anchor": "y3",
         "domain": [
          0.7111111111111111,
          1
         ],
         "showgrid": false,
         "showticklabels": false
        },
        "yaxis": {
         "anchor": "x",
         "domain": [
          0,
          1
         ],
         "showgrid": true,
         "showticklabels": false
        },
        "yaxis2": {
         "anchor": "x2",
         "domain": [
          0,
          1
         ],
         "showgrid": true,
         "showticklabels": false
        },
        "yaxis3": {
         "anchor": "x3",
         "domain": [
          0,
          1
         ],
         "showgrid": true,
         "showticklabels": false
        }
       }
      }
     },
     "metadata": {},
     "output_type": "display_data"
    }
   ],
   "source": [
    "aux_data = pipe_data[['team','event_game', 'acc_w_score_total', 'perform_score_total', 'team_participation_ratio']].copy()\n",
    "aux_data.drop_duplicates(inplace = True, ignore_index=True)\n",
    "\n",
    "bar_highlights(data = aux_data,\n",
    "               x = 'team',\n",
    "               y = ['acc_w_score_total', 'perform_score_total', 'team_participation_ratio'],\n",
    "               subplot_titles = ['Accumulated Score', 'Performance Score', 'Teams Participacion'],\n",
    "               col_group = 'event_game',\n",
    "               legend_group = aux_data['event_game'].unique())"
   ]
  },
  {
   "cell_type": "markdown",
   "metadata": {},
   "source": [
    "### working plots (optional excecute)"
   ]
  },
  {
   "cell_type": "code",
   "execution_count": 16,
   "metadata": {},
   "outputs": [],
   "source": [
    "# OK (a la app)\n",
    "def polar_data_path(data: pd.DataFrame, lv_base:str, lv_mid:str, lv_out:str, empty_leaf: str=None) -> list[pd.DataFrame, list[int]]:\n",
    "\n",
    "    \"\"\"\n",
    "    *Function*\n",
    "    -\n",
    "    Data processing for polar charts, icicle and treemaps. Returns formated data according to given path columns,\n",
    "    ideal to create subplot traces with plotly graph_objects and plotly make_subplots.\n",
    "\n",
    "    *Parameters*\n",
    "    -\n",
    "    - data: DataFrame that has no None or null values, must be raw or disaggregated data\n",
    "    - lv_base: column of strings with base (root) labels\n",
    "    - lv_mid: column of strings with middle ring (branch) labels\n",
    "    - lv_out: column of strings with outter ring (leafs) labels\n",
    "    - empty_leaf: if some values don't reach the last detail level (or outmost ring), can set a str value\n",
    "        that is not meant to be shown, leaving an empty space in the chart. This won't define ids, parents or\n",
    "        labels for those values, keeping the same length for all output lists. Please note it allows for a\n",
    "        single value (None by default).\n",
    "\n",
    "    *Returns*\n",
    "    -\n",
    "    A pd.DataFrame with ids, labels, parents and values columns, and a list of integers with each level length,\n",
    "    starting from leaf to root.\n",
    "    \"\"\"\n",
    "\n",
    "    # prep params-----------------------------------------------------------\n",
    "    path = [lv_base, lv_mid, lv_out]\n",
    "    levels = len(path)\n",
    "    aux_id, aux_parent, aux_label, aux_value = [],[],[],[]\n",
    "\n",
    "    # grouped df based on value counts, bypass bias from \"score\" and categorical columns\n",
    "    df_gb = data.copy().value_counts(subset=path).reset_index()\\\n",
    "    .sort_values(path, ascending=True, ignore_index=True)\n",
    "\n",
    "    df_gb.columns = [lv_base, lv_mid, lv_out, 'count']\n",
    "    #-----------------------------------------------------------------------\n",
    "\n",
    "    # Leaf / Outer Level----------------------------------------------------\n",
    "    # for full ring\n",
    "    if empty_leaf == None:\n",
    "        aux_value = df_gb['count'].to_list()\n",
    "\n",
    "        lv_iter = [tuple(df_gb[p]) for p in path]\n",
    "        *lv, last = lv_iter\n",
    "                \n",
    "        for lv0,lv1,lv2 in zip(*lv, last):\n",
    "            aux_id.append(f\"{lv0}/{lv1}/{lv2}\")\n",
    "            aux_parent.append(f\"{lv0}/{lv1}\")\n",
    "            aux_label.append(lv2)\n",
    "        \n",
    "        len_lv2 = len(aux_id)\n",
    "            \n",
    "    # for fragmented ring\n",
    "    else:\n",
    "        aux_df = df_gb[df_gb[path[-1]] != empty_leaf]\n",
    "            \n",
    "        # insert values to aux_value, excluding where the ring won't be filled\n",
    "        aux_value = aux_df['count'].to_list()\n",
    "            \n",
    "        lv_iter = [tuple(aux_df[p]) for p in path]\n",
    "        *lv, last = lv_iter\n",
    "                \n",
    "        for lv0,lv1,lv2 in zip(*lv, last):\n",
    "            aux_id.append(f\"{lv0}/{lv1}/{lv2}\")\n",
    "            aux_parent.append(f\"{lv0}/{lv1}\")\n",
    "            aux_label.append(lv2)\n",
    "        \n",
    "        len_lv2 = len(aux_id)\n",
    "    #-----------------------------------------------------------------------\n",
    "\n",
    "    # Branch / Middle Level-------------------------------------------------\n",
    "    levels -= 1\n",
    "    path = path[:levels]\n",
    "            \n",
    "    df_gb = df_gb.groupby(path).sum('count').reset_index()\n",
    "    df_gb.sort_values(by=path[levels::-1], ascending=True, ignore_index=True, inplace=True)\n",
    "\n",
    "    lv_iter = [tuple(df_gb[p]) for p in path]\n",
    "    *lv, last = lv_iter\n",
    "            \n",
    "    # build level\n",
    "    aux_value.extend(df_gb['count'].to_list())\n",
    "            \n",
    "    for lv0,lv1 in zip(*lv, last):\n",
    "        aux_id.append(f\"{lv0}/{lv1}\")\n",
    "        aux_parent.append(f\"{lv0}\")\n",
    "        aux_label.append(lv1)\n",
    "        \n",
    "    len_lv1 = len(aux_id)\n",
    "    #-----------------------------------------------------------------------\n",
    "\n",
    "    # Root / Base Level-----------------------------------------------------\n",
    "    levels -= 1\n",
    "    path = path[:levels]\n",
    "\n",
    "    df_gb = df_gb.groupby(path).sum('count').reset_index()\n",
    "    df_gb.sort_values(by=path[levels::-1], ascending=True, ignore_index=True, inplace=True)\n",
    "            \n",
    "    # build level\n",
    "    aux_value.extend(df_gb['count'].to_list())\n",
    "    lv_iter = df_gb[path].values.flatten().tolist()\n",
    "            \n",
    "    for lv0 in lv_iter:\n",
    "        aux_id.append(lv0)\n",
    "        aux_parent.append(\"\")\n",
    "        aux_label.append(lv0)\n",
    "        \n",
    "    len_lv0 = len(aux_id)\n",
    "    #-----------------------------------------------------------------------\n",
    "\n",
    "    return pd.DataFrame({'ids':aux_id, 'parents':aux_parent, 'labels':aux_label, 'values':aux_value}), [len_lv2, len_lv1-len_lv2, len_lv0-len_lv1 ]"
   ]
  },
  {
   "cell_type": "code",
   "execution_count": 17,
   "metadata": {},
   "outputs": [
    {
     "data": {
      "text/plain": [
       "(Index(['ids', 'parents', 'labels', 'values'], dtype='object'), [19, 9, 3])"
      ]
     },
     "execution_count": 17,
     "metadata": {},
     "output_type": "execute_result"
    }
   ],
   "source": [
    "sb_data, lengths = polar_data_path(df_teams_disagg,\n",
    "                                   lv_base = 'event_game',\n",
    "                                   lv_mid = 'team',\n",
    "                                   lv_out = 'medal', empty_leaf='not played')\n",
    "\n",
    "sb_data.columns, lengths"
   ]
  },
  {
   "cell_type": "code",
   "execution_count": 18,
   "metadata": {},
   "outputs": [],
   "source": [
    "# OK\n",
    "def customdata_levels(data : pd.DataFrame, col_orders : list[str], mode : str = 'simple',\n",
    "                      categorical_cols : str | list[str] = None):\n",
    "    \"\"\"\n",
    "    *Function*\n",
    "    -\n",
    "    Adapts input data for hovertemplate customdata and formating in plotly tree-type figures\n",
    "\n",
    "    *Parameters*\n",
    "    -\n",
    "    - data: dataframe with additional data not present in figure main data\n",
    "    - col_orders: list of all columns, sorted as needed. If mode is set to 'group', the last\n",
    "        column will be used to create a sum column\n",
    "    - mode: can be 'simple' or 'group' (default: 'simple'). In simple mode, a sort_values will\n",
    "        be applied, in 'group' mode, a groupby will be applied instead, with a resulting sum column\n",
    "    - categorical_cols: columns to rectify it's dtype from categorical to object. Recommended\n",
    "        when the category orders affects and creates discrepancies.\n",
    "    \"\"\"\n",
    "    if categorical_cols != None:\n",
    "        data.reset_index(inplace=True)\n",
    "        aux_data = data[categorical_cols].to_numpy()\n",
    "        data[categorical_cols] = pd.DataFrame(aux_data, dtype='object')\n",
    "\n",
    "    match mode:\n",
    "        case 'simple':\n",
    "            c_data = data.sort_values(by= col_orders, ignore_index=True)\n",
    "        case 'group':\n",
    "            c_data = data[col_orders].groupby(col_orders[:-1]).sum(col_orders[-1]).reset_index()\n",
    "\n",
    "    return c_data"
   ]
  },
  {
   "cell_type": "code",
   "execution_count": 19,
   "metadata": {},
   "outputs": [],
   "source": [
    "test_order = customdata_levels(data = pipe_data[pipe_data['medal']!='not played'][['team', 'medal','medal_abs_frequence']],\n",
    "                  col_orders= ['team', 'medal'], mode='simple', categorical_cols='medal')"
   ]
  },
  {
   "cell_type": "code",
   "execution_count": 20,
   "metadata": {},
   "outputs": [],
   "source": [
    "# OK (a la app)\n",
    "def polar_customdata(data : list[pd.DataFrame], customdata_l : list[str],\n",
    "                     customdata_b : list[str], customdata_r : list[str],\n",
    "                     n_rows : list[int], col_orders : list[list]) -> list[str]:\n",
    "    \"\"\"\n",
    "    *Function*\n",
    "    -\n",
    "    Creates a list with custom template hover data for each level rendered in a tree or polar\n",
    "    plotly plot with base, one branch and leafs (3 level depth). This function can be\n",
    "    modified according to each plotly tree-like or polar-like structure.\n",
    "\n",
    "    *Parameters*\n",
    "    -\n",
    "    - data: list with 3 data origins related to data path used in a tree/polar figure\n",
    "    - customdata_l: columns used, in order, to be displayed in hover for leaf level\n",
    "    - customdata_b: columns used, in order, to be displayed in hover for branch level\n",
    "    - customdata_r: columns used, in order, to be displayed in hover for root level\n",
    "    - n_rows: level n_rows from data path, from leaf to root\n",
    "    - col_orders: list of columns used to sort each data level, must be the same order\n",
    "        as in data path levels\n",
    "    \"\"\"\n",
    "\n",
    "    # check lenghts (error)\n",
    "    data_leaf = customdata_levels(data = data[0], col_orders = col_orders[0],\n",
    "                                categorical_cols='medal')\n",
    "    data_branch = customdata_levels(data = data[1], col_orders = col_orders[1], mode = 'group')\n",
    "    data_root = customdata_levels(data = data[2], col_orders = col_orders[2], mode = 'group')\n",
    "\n",
    "    if len(data_leaf) != n_rows[0]:\n",
    "        return \"Leaf data has not the same length as leaf data info\"\n",
    "    if len(data_branch) != n_rows[1]:\n",
    "        return \"Branch data has not the same length as branch data info\"\n",
    "    if len(data_root) != n_rows[2]:\n",
    "        return \"Root data has not the same length as root data info\"\n",
    "\n",
    "#    if len(data_leaf) == n_rows[0] and len(data_branch) == n_rows[1] and len(data_root) == n_rows[2]:\n",
    "    # leaf customdata-----------------------------------------------------------------\n",
    "    hover_leaf = [f\"<b>{data_leaf[customdata_l[0]].at[i].capitalize()} medal</b><br>\"+\n",
    "                f\"<i>Medal count</i>: {data_leaf[customdata_l[1]].at[i]}<br>\"+\n",
    "                f\"<i>Medal relative count</i>: {data_leaf[customdata_l[2]].at[i]}%<br>\"+\n",
    "                f\"<br><b>Medal Score Methods</b><br>\"+\n",
    "                f\"<i>Accumulative</i>: {data_leaf[customdata_l[3]].at[i]}<br>\"+\n",
    "                f\"<i>Performance</i>: {data_leaf[customdata_l[4]].at[i]:.2f}<br>\"+\n",
    "                f\"<extra><b>Team<br>{data_leaf[customdata_l[5]].at[i]}<br>medals</b></extra>\" for i in range(n_rows[0])]\n",
    "\n",
    "    # branch customdata---------------------------------------------------------------\n",
    "    hover_branch = [f\"<b>{data_branch[customdata_b[0]].at[i].capitalize()}</b><br>\"+\n",
    "                    f\"<i>Active team players</i>: {data_branch[customdata_b[1]].at[i]}<br>\"+\n",
    "                    f\"<i>Team participation</i>: {data_branch[customdata_b[2]].at[i]}%<br>\"+\n",
    "                    f\"<br><b>Team Score Methods</b><br>\"+\n",
    "                    f\"<i>Accumulative</i>: {data_branch[customdata_b[3]].at[i]}<br>\"+\n",
    "                    f\"<i>Performance</i>: {data_branch[customdata_b[4]].at[i]:.2f}<br>\"+\n",
    "                    f\"<extra><b>Event<br>{data_branch[customdata_b[5]].at[i]}</b></extra>\" for i in range(n_rows[1])]\n",
    "\n",
    "    # root customdata-----------------------------------------------------------------\n",
    "    hover_root = [f\"<b>Event {data_root[customdata_r[0]].at[i].capitalize()}</b><br>\"+\n",
    "                    f\"<i>Player count</i>: {data_root[customdata_r[1]].at[i]}<br>\" for i in range(n_rows[2])]\n",
    "\n",
    "\n",
    "    customdata_l = hover_leaf+hover_branch+hover_root\n",
    "\n",
    "    return customdata_l"
   ]
  },
  {
   "cell_type": "code",
   "execution_count": 21,
   "metadata": {},
   "outputs": [
    {
     "name": "stderr",
     "output_type": "stream",
     "text": [
      "/tmp/ipykernel_8115/3662588442.py:22: SettingWithCopyWarning:\n",
      "\n",
      "\n",
      "A value is trying to be set on a copy of a slice from a DataFrame.\n",
      "Try using .loc[row_indexer,col_indexer] = value instead\n",
      "\n",
      "See the caveats in the documentation: https://pandas.pydata.org/pandas-docs/stable/user_guide/indexing.html#returning-a-view-versus-a-copy\n",
      "\n"
     ]
    }
   ],
   "source": [
    "customdata_l=polar_customdata(\n",
    "    data = [pipe_data[pipe_data['medal']!='not played'],\n",
    "            pipe_data[pipe_data['medal']!='not played'],\n",
    "            pipe_data],\n",
    "    customdata_l = ['medal', 'medal_abs_frequence', 'medal_rel_frequence',\n",
    "                    'acc_w_score', 'perform_score', 'team'],\n",
    "    customdata_b = ['team', 'medal_abs_frequence', 'team_participation_ratio',\n",
    "                    'acc_w_score_total', 'perform_score_total', 'event_game'],\n",
    "    customdata_r = ['event_game','medal_abs_frequence'],\n",
    "    n_rows = lengths,\n",
    "    col_orders = [['event_game', 'team', 'medal'],\n",
    "                  ['team', 'event_game', 'team_participation_ratio','acc_w_score_total',\n",
    "                   'perform_score_total', 'medal_abs_frequence'],\n",
    "                  ['event_game','medal_abs_frequence']])"
   ]
  },
  {
   "cell_type": "code",
   "execution_count": 22,
   "metadata": {},
   "outputs": [
    {
     "data": {
      "application/vnd.plotly.v1+json": {
       "config": {
        "plotlyServerURL": "https://plot.ly"
       },
       "data": [
        {
         "branchvalues": "total",
         "customdata": [
          "<b>Bronze medal</b><br><i>Medal count</i>: 1<br><i>Medal relative count</i>: 16.67%<br><br><b>Medal Score Methods</b><br><i>Accumulative</i>: 1<br><i>Performance</i>: 16.67<br><extra><b>Team<br>autumn<br>medals</b></extra>",
          "<b>Gold medal</b><br><i>Medal count</i>: 1<br><i>Medal relative count</i>: 16.67%<br><br><b>Medal Score Methods</b><br><i>Accumulative</i>: 3<br><i>Performance</i>: 50.01<br><extra><b>Team<br>autumn<br>medals</b></extra>",
          "<b>Silver medal</b><br><i>Medal count</i>: 1<br><i>Medal relative count</i>: 16.67%<br><br><b>Medal Score Methods</b><br><i>Accumulative</i>: 2<br><i>Performance</i>: 33.34<br><extra><b>Team<br>autumn<br>medals</b></extra>",
          "<b>Gold medal</b><br><i>Medal count</i>: 1<br><i>Medal relative count</i>: 33.33%<br><br><b>Medal Score Methods</b><br><i>Accumulative</i>: 3<br><i>Performance</i>: 99.99<br><extra><b>Team<br>summer<br>medals</b></extra>",
          "<b>Silver medal</b><br><i>Medal count</i>: 1<br><i>Medal relative count</i>: 33.33%<br><br><b>Medal Score Methods</b><br><i>Accumulative</i>: 2<br><i>Performance</i>: 66.66<br><extra><b>Team<br>summer<br>medals</b></extra>",
          "<b>Bronze medal</b><br><i>Medal count</i>: 2<br><i>Medal relative count</i>: 50.0%<br><br><b>Medal Score Methods</b><br><i>Accumulative</i>: 2<br><i>Performance</i>: 50.00<br><extra><b>Team<br>winter<br>medals</b></extra>",
          "<b>Gold medal</b><br><i>Medal count</i>: 1<br><i>Medal relative count</i>: 25.0%<br><br><b>Medal Score Methods</b><br><i>Accumulative</i>: 3<br><i>Performance</i>: 75.00<br><extra><b>Team<br>winter<br>medals</b></extra>",
          "<b>Bronze medal</b><br><i>Medal count</i>: 3<br><i>Medal relative count</i>: 50.0%<br><br><b>Medal Score Methods</b><br><i>Accumulative</i>: 3<br><i>Performance</i>: 50.00<br><extra><b>Team<br>autumn<br>medals</b></extra>",
          "<b>Gold medal</b><br><i>Medal count</i>: 1<br><i>Medal relative count</i>: 16.67%<br><br><b>Medal Score Methods</b><br><i>Accumulative</i>: 3<br><i>Performance</i>: 50.01<br><extra><b>Team<br>autumn<br>medals</b></extra>",
          "<b>Silver medal</b><br><i>Medal count</i>: 1<br><i>Medal relative count</i>: 16.67%<br><br><b>Medal Score Methods</b><br><i>Accumulative</i>: 2<br><i>Performance</i>: 33.34<br><extra><b>Team<br>autumn<br>medals</b></extra>",
          "<b>Bronze medal</b><br><i>Medal count</i>: 1<br><i>Medal relative count</i>: 33.33%<br><br><b>Medal Score Methods</b><br><i>Accumulative</i>: 1<br><i>Performance</i>: 33.33<br><extra><b>Team<br>summer<br>medals</b></extra>",
          "<b>Gold medal</b><br><i>Medal count</i>: 1<br><i>Medal relative count</i>: 33.33%<br><br><b>Medal Score Methods</b><br><i>Accumulative</i>: 3<br><i>Performance</i>: 99.99<br><extra><b>Team<br>summer<br>medals</b></extra>",
          "<b>Silver medal</b><br><i>Medal count</i>: 1<br><i>Medal relative count</i>: 25.0%<br><br><b>Medal Score Methods</b><br><i>Accumulative</i>: 2<br><i>Performance</i>: 50.00<br><extra><b>Team<br>winter<br>medals</b></extra>",
          "<b>Bronze medal</b><br><i>Medal count</i>: 2<br><i>Medal relative count</i>: 33.33%<br><br><b>Medal Score Methods</b><br><i>Accumulative</i>: 2<br><i>Performance</i>: 33.33<br><extra><b>Team<br>autumn<br>medals</b></extra>",
          "<b>Gold medal</b><br><i>Medal count</i>: 1<br><i>Medal relative count</i>: 16.67%<br><br><b>Medal Score Methods</b><br><i>Accumulative</i>: 3<br><i>Performance</i>: 50.01<br><extra><b>Team<br>autumn<br>medals</b></extra>",
          "<b>Silver medal</b><br><i>Medal count</i>: 2<br><i>Medal relative count</i>: 33.33%<br><br><b>Medal Score Methods</b><br><i>Accumulative</i>: 4<br><i>Performance</i>: 66.66<br><extra><b>Team<br>autumn<br>medals</b></extra>",
          "<b>Bronze medal</b><br><i>Medal count</i>: 1<br><i>Medal relative count</i>: 33.33%<br><br><b>Medal Score Methods</b><br><i>Accumulative</i>: 1<br><i>Performance</i>: 33.33<br><extra><b>Team<br>summer<br>medals</b></extra>",
          "<b>Silver medal</b><br><i>Medal count</i>: 2<br><i>Medal relative count</i>: 66.67%<br><br><b>Medal Score Methods</b><br><i>Accumulative</i>: 4<br><i>Performance</i>: 133.34<br><extra><b>Team<br>summer<br>medals</b></extra>",
          "<b>Bronze medal</b><br><i>Medal count</i>: 3<br><i>Medal relative count</i>: 75.0%<br><br><b>Medal Score Methods</b><br><i>Accumulative</i>: 3<br><i>Performance</i>: 75.00<br><extra><b>Team<br>winter<br>medals</b></extra>",
          "<b>Autumn</b><br><i>Active team players</i>: 3<br><i>Team participation</i>: 50.0%<br><br><b>Team Score Methods</b><br><i>Accumulative</i>: 6<br><i>Performance</i>: 100.02<br><extra><b>Event<br>A</b></extra>",
          "<b>Autumn</b><br><i>Active team players</i>: 5<br><i>Team participation</i>: 83.33%<br><br><b>Team Score Methods</b><br><i>Accumulative</i>: 8<br><i>Performance</i>: 133.35<br><extra><b>Event<br>B</b></extra>",
          "<b>Autumn</b><br><i>Active team players</i>: 5<br><i>Team participation</i>: 83.33%<br><br><b>Team Score Methods</b><br><i>Accumulative</i>: 9<br><i>Performance</i>: 150.00<br><extra><b>Event<br>C</b></extra>",
          "<b>Summer</b><br><i>Active team players</i>: 2<br><i>Team participation</i>: 66.67%<br><br><b>Team Score Methods</b><br><i>Accumulative</i>: 5<br><i>Performance</i>: 166.65<br><extra><b>Event<br>A</b></extra>",
          "<b>Summer</b><br><i>Active team players</i>: 2<br><i>Team participation</i>: 66.67%<br><br><b>Team Score Methods</b><br><i>Accumulative</i>: 4<br><i>Performance</i>: 133.32<br><extra><b>Event<br>B</b></extra>",
          "<b>Summer</b><br><i>Active team players</i>: 3<br><i>Team participation</i>: 100.0%<br><br><b>Team Score Methods</b><br><i>Accumulative</i>: 5<br><i>Performance</i>: 166.67<br><extra><b>Event<br>C</b></extra>",
          "<b>Winter</b><br><i>Active team players</i>: 3<br><i>Team participation</i>: 75.0%<br><br><b>Team Score Methods</b><br><i>Accumulative</i>: 5<br><i>Performance</i>: 125.00<br><extra><b>Event<br>A</b></extra>",
          "<b>Winter</b><br><i>Active team players</i>: 1<br><i>Team participation</i>: 25.0%<br><br><b>Team Score Methods</b><br><i>Accumulative</i>: 2<br><i>Performance</i>: 50.00<br><extra><b>Event<br>B</b></extra>",
          "<b>Winter</b><br><i>Active team players</i>: 3<br><i>Team participation</i>: 75.0%<br><br><b>Team Score Methods</b><br><i>Accumulative</i>: 3<br><i>Performance</i>: 75.00<br><extra><b>Event<br>C</b></extra>",
          "<b>Event A</b><br><i>Player count</i>: 8<br>",
          "<b>Event B</b><br><i>Player count</i>: 8<br>",
          "<b>Event C</b><br><i>Player count</i>: 11<br>"
         ],
         "hovertemplate": "%{customdata}<extra></extra>",
         "ids": [
          "A/autumn/bronze",
          "A/autumn/gold",
          "A/autumn/silver",
          "A/summer/gold",
          "A/summer/silver",
          "A/winter/bronze",
          "A/winter/gold",
          "B/autumn/bronze",
          "B/autumn/gold",
          "B/autumn/silver",
          "B/summer/bronze",
          "B/summer/gold",
          "B/winter/silver",
          "C/autumn/bronze",
          "C/autumn/gold",
          "C/autumn/silver",
          "C/summer/bronze",
          "C/summer/silver",
          "C/winter/bronze",
          "A/autumn",
          "B/autumn",
          "C/autumn",
          "A/summer",
          "B/summer",
          "C/summer",
          "A/winter",
          "B/winter",
          "C/winter",
          "A",
          "B",
          "C"
         ],
         "labels": [
          "bronze",
          "gold",
          "silver",
          "gold",
          "silver",
          "bronze",
          "gold",
          "bronze",
          "gold",
          "silver",
          "bronze",
          "gold",
          "silver",
          "bronze",
          "gold",
          "silver",
          "bronze",
          "silver",
          "bronze",
          "autumn",
          "autumn",
          "autumn",
          "summer",
          "summer",
          "summer",
          "winter",
          "winter",
          "winter",
          "A",
          "B",
          "C"
         ],
         "parents": [
          "A/autumn",
          "A/autumn",
          "A/autumn",
          "A/summer",
          "A/summer",
          "A/winter",
          "A/winter",
          "B/autumn",
          "B/autumn",
          "B/autumn",
          "B/summer",
          "B/summer",
          "B/winter",
          "C/autumn",
          "C/autumn",
          "C/autumn",
          "C/summer",
          "C/summer",
          "C/winter",
          "A",
          "B",
          "C",
          "A",
          "B",
          "C",
          "A",
          "B",
          "C",
          "",
          "",
          ""
         ],
         "type": "sunburst",
         "values": [
          1,
          1,
          1,
          1,
          1,
          2,
          1,
          3,
          1,
          1,
          1,
          1,
          1,
          2,
          1,
          2,
          1,
          2,
          3,
          6,
          6,
          6,
          3,
          3,
          3,
          4,
          4,
          4,
          13,
          13,
          13
         ]
        }
       ],
       "layout": {
        "height": 500,
        "margin": {
         "b": 0,
         "l": 0,
         "r": 0,
         "t": 0
        },
        "template": {
         "layout": {
          "annotations": [
           {
            "font": {
             "color": "gray",
             "size": 12
            },
            "name": "timestamp",
            "opacity": 0.3,
            "showarrow": false,
            "text": "Simulated Data · 2024-December-13, 12:58:53 UTC +0000 Timestamp:1734094733.506106",
            "textangle": 0,
            "x": 0.99,
            "xref": "paper",
            "y": 0.01,
            "yref": "paper"
           }
          ],
          "colorscale": {
           "diverging": [
            [
             0,
             "#F29ABD"
            ],
            [
             0.1,
             "#F2AAB8"
            ],
            [
             0.2,
             "#F1BBB3"
            ],
            [
             0.3,
             "#F1CBAF"
            ],
            [
             0.4,
             "#F0DCAA"
            ],
            [
             0.5,
             "#F0ECA5"
            ],
            [
             0.6,
             "#CAD3A7"
            ],
            [
             0.7,
             "#A4B9AA"
            ],
            [
             0.8,
             "#7DA0AC"
            ],
            [
             0.9,
             "#5786AF"
            ],
            [
             1,
             "#316DB1"
            ]
           ],
           "sequential": [
            [
             0,
             "#EEC5DD"
            ],
            [
             0.1111111111111111,
             "#DBBCD8"
            ],
            [
             0.2222222222222222,
             "#C8B3D4"
            ],
            [
             0.3333333333333333,
             "#B5ABD0"
            ],
            [
             0.4444444444444444,
             "#A2A2CB"
            ],
            [
             0.5555555555555556,
             "#9099C7"
            ],
            [
             0.6666666666666666,
             "#7D90C3"
            ],
            [
             0.7777777777777778,
             "#6A87BE"
            ],
            [
             0.8888888888888888,
             "#577FBA"
            ],
            [
             0.9999999999999999,
             "#4476B5"
            ],
            [
             1,
             "#316DB1"
            ]
           ],
           "sequentialminus": [
            [
             0,
             "#EEC5DD"
            ],
            [
             0.1111111111111111,
             "#DBBCD8"
            ],
            [
             0.2222222222222222,
             "#C8B3D4"
            ],
            [
             0.3333333333333333,
             "#B5ABD0"
            ],
            [
             0.4444444444444444,
             "#A2A2CB"
            ],
            [
             0.5555555555555556,
             "#9099C7"
            ],
            [
             0.6666666666666666,
             "#7D90C3"
            ],
            [
             0.7777777777777778,
             "#6A87BE"
            ],
            [
             0.8888888888888888,
             "#577FBA"
            ],
            [
             0.9999999999999999,
             "#4476B5"
            ],
            [
             1,
             "#316DB1"
            ]
           ]
          },
          "colorway": [
           "#90B7E4",
           "#F29ABD",
           "#7B84CA",
           "#F0ECA5",
           "#EE7984",
           "#EEC5DD",
           "#A6738F",
           "#EBACA8",
           "#36ACDD",
           "#316DB1"
          ],
          "geo": {
           "bgcolor": "rgba(0,0,0,0)"
          },
          "paper_bgcolor": "rgba(0,0,0,0)",
          "plot_bgcolor": "rgba(0,0,0,0)",
          "polar": {
           "bgcolor": "rgba(0,0,0,0)"
          },
          "ternary": {
           "bgcolor": "rgba(0,0,0,0)"
          }
         }
        },
        "width": 500
       }
      }
     },
     "metadata": {},
     "output_type": "display_data"
    }
   ],
   "source": [
    "# hay problemas con el anillo exterior del sunburst\n",
    "go.Figure(go.Sunburst(\n",
    "            ids = sb_data['ids'],\n",
    "            labels = sb_data['labels'],\n",
    "            parents = sb_data['parents'],\n",
    "            values = sb_data['values'],\n",
    "            branchvalues = 'total',\n",
    "            customdata = customdata_l,\n",
    "            hovertemplate = \"%{customdata}<extra></extra>\"\n",
    "        )).update_layout(\n",
    "            width = 500, height = 500,\n",
    "            margin = dict(t=0, b=0, l=0, r=0))"
   ]
  },
  {
   "cell_type": "code",
   "execution_count": 23,
   "metadata": {},
   "outputs": [],
   "source": [
    "def players_score_figure(df_data: pd.DataFrame,\n",
    "                         sorted: bool=True, ascending: bool =True,\n",
    "                         theme: str = 'plotly_white' ,hole: float=0.50,\n",
    "                         h: int =400, w: int =900) -> go.Figure:\n",
    "\n",
    "    \"\"\"\n",
    "    *Function*\n",
    "    -\n",
    "    Creates figure with barpolar subplots to represent individual players scores in each event in a given date.\n",
    "\n",
    "    *Parameters*\n",
    "    -\n",
    "    -df_data: dataframe containing desagregate players, teams (factions, color, etc.), scores and score description\n",
    "     (medal, cups, etc.)\n",
    "    -sorted: (default: True) sorts players by scores .\n",
    "    -ascending: (default: True) define the way player scores are sorted, only takes effect if sorted is set to True.\n",
    "    -theme: (default: 'plotly_white) specify plotly template to mix with default (custom) template\n",
    "    -hole: (default: 0.5) set empty center from 0 to 1\n",
    "    -h: (default: 400) figure height\n",
    "    -w: (defautl: 900) figure width\n",
    "    \"\"\"\n",
    "\n",
    "    # copy to keep integrity\n",
    "    df=df_data.copy()\n",
    "    # sort values before building the figure (if ascending=True)\n",
    "    df.sort_values(['team', 'score'], ascending=ascending, inplace=sorted)\n",
    "\n",
    "    # other Figure inputs\n",
    "    #----- team list\n",
    "    team_names = [i for i in df['team'].unique()]\n",
    "    #----- event list\n",
    "    events = [i for i in df['event_game'].unique()]\n",
    "    #----- color theme from default template\n",
    "    template_color = pio.templates[pio.templates.default]['layout']['colorway']\n",
    "    color_theme = template_color[:len(team_names)]\n",
    "    \n",
    "    # Create Figure\n",
    "    fig_polar = make_subplots(\n",
    "        rows = 1, cols = len(events),\n",
    "        column_titles = [f\"Event: {e}\" for e in events],\n",
    "        specs = [[{'type':'polar'}]*len(df['event_game'].unique())]\n",
    "    )\n",
    "    #----- config unified legend\n",
    "    sp_legendgroup = [True]\n",
    "    sp_legendgroup.extend([False for e in range(len(events[1:]))])\n",
    "    sp_legendgroup\n",
    "    \n",
    "    #----- traces: bar polar by event and team\n",
    "    for e in range(len(events)):\n",
    "        for t in range(len(team_names)):\n",
    "            fig_polar.add_trace(go.Barpolar(\n",
    "                name = \"Team \"+ team_names[t],\n",
    "                r = list(df[df['event_game']==events[e]][df['team']==team_names[t]]['score']),\n",
    "                theta = list(df[df['event_game']==events[e]][df['team']==team_names[t]]['player_id']),\n",
    "                marker_color = color_theme[t],\n",
    "                legendgroup = team_names[t],\n",
    "                showlegend = sp_legendgroup[e],\n",
    "                customdata = df[df['event_game']==events[e]][df['team']==team_names[t]][['event_date', 'medal']],\n",
    "                hovertemplate = \"<extra><b style='color:black;'>\" \"Team \"+ team_names[t] +\"</b></extra>\"\n",
    "                                \"<b>Player %{theta}</b><br>\"+\n",
    "                                \"<br><i>Date</i>: %{customdata[0]}<br>\"+\n",
    "                                \"<i>Medal</i>: %{customdata[1]}<br>\"+\n",
    "                                \"<i>Score</i>: %{r} points\"\n",
    "                ),row=1, col=e+1)\n",
    "\n",
    "    #----- bar polar config\n",
    "    fig_polar.update_polars(\n",
    "        patch = dict(hole = hole,\n",
    "                     radialaxis = dict(showticklabels=False,\n",
    "                                       visible = False),\n",
    "                     angularaxis= dict(showticklabels=False,\n",
    "                                       visible = False,\n",
    "                                       categoryorder = 'array',\n",
    "                                       categoryarray = team_names)))\n",
    "\n",
    "    #----- figure layout\n",
    "    fig_polar.update_layout(\n",
    "        legend = dict(font_size = 10,\n",
    "                      orientation = 'h',\n",
    "                      yanchor = 'bottom'\n",
    "                     ),\n",
    "        hoverlabel = dict(bordercolor = 'white',\n",
    "                          font_size = 8,\n",
    "                          font_color = 'black',\n",
    "                         ),\n",
    "        template = f'{theme}+{pio.templates.default}',\n",
    "        height = h, width = w,\n",
    "        title = f\"Players participation during {', '.join(events[:-1])} and {events[-1]} events\"\n",
    "    )\n",
    "    \n",
    "    return fig_polar"
   ]
  },
  {
   "cell_type": "code",
   "execution_count": 24,
   "metadata": {},
   "outputs": [
    {
     "data": {
      "application/vnd.plotly.v1+json": {
       "config": {
        "plotlyServerURL": "https://plot.ly"
       },
       "data": [
        {
         "customdata": [
          [
           "2024-12-13",
           "not played"
          ],
          [
           "2024-12-13",
           "not played"
          ],
          [
           "2024-12-13",
           "not played"
          ],
          [
           "2024-12-13",
           "bronze"
          ],
          [
           "2024-12-13",
           "silver"
          ],
          [
           "2024-12-13",
           "gold"
          ]
         ],
         "hovertemplate": "<extra><b style='color:black;'>Team autumn</b></extra><b>Player %{theta}</b><br><br><i>Date</i>: %{customdata[0]}<br><i>Medal</i>: %{customdata[1]}<br><i>Score</i>: %{r} points",
         "legendgroup": "autumn",
         "marker": {
          "color": "#90B7E4"
         },
         "name": "Team autumn",
         "r": [
          0,
          0,
          0,
          1,
          2,
          3
         ],
         "showlegend": true,
         "subplot": "polar",
         "theta": [
          "49426",
          "93460",
          "97567",
          "43213",
          "93876",
          "70762"
         ],
         "type": "barpolar"
        },
        {
         "customdata": [
          [
           "2024-12-13",
           "not played"
          ],
          [
           "2024-12-13",
           "silver"
          ],
          [
           "2024-12-13",
           "gold"
          ]
         ],
         "hovertemplate": "<extra><b style='color:black;'>Team summer</b></extra><b>Player %{theta}</b><br><br><i>Date</i>: %{customdata[0]}<br><i>Medal</i>: %{customdata[1]}<br><i>Score</i>: %{r} points",
         "legendgroup": "summer",
         "marker": {
          "color": "#F29ABD"
         },
         "name": "Team summer",
         "r": [
          0,
          2,
          3
         ],
         "showlegend": true,
         "subplot": "polar",
         "theta": [
          "39886",
          "56577",
          "23321"
         ],
         "type": "barpolar"
        },
        {
         "customdata": [
          [
           "2024-12-13",
           "not played"
          ],
          [
           "2024-12-13",
           "bronze"
          ],
          [
           "2024-12-13",
           "bronze"
          ],
          [
           "2024-12-13",
           "gold"
          ]
         ],
         "hovertemplate": "<extra><b style='color:black;'>Team winter</b></extra><b>Player %{theta}</b><br><br><i>Date</i>: %{customdata[0]}<br><i>Medal</i>: %{customdata[1]}<br><i>Score</i>: %{r} points",
         "legendgroup": "winter",
         "marker": {
          "color": "#7B84CA"
         },
         "name": "Team winter",
         "r": [
          0,
          1,
          1,
          3
         ],
         "showlegend": true,
         "subplot": "polar",
         "theta": [
          "20872",
          "12555",
          "11323",
          "66223"
         ],
         "type": "barpolar"
        },
        {
         "customdata": [
          [
           "2024-12-13",
           "not played"
          ],
          [
           "2024-12-13",
           "bronze"
          ],
          [
           "2024-12-13",
           "bronze"
          ],
          [
           "2024-12-13",
           "bronze"
          ],
          [
           "2024-12-13",
           "silver"
          ],
          [
           "2024-12-13",
           "gold"
          ]
         ],
         "hovertemplate": "<extra><b style='color:black;'>Team autumn</b></extra><b>Player %{theta}</b><br><br><i>Date</i>: %{customdata[0]}<br><i>Medal</i>: %{customdata[1]}<br><i>Score</i>: %{r} points",
         "legendgroup": "autumn",
         "marker": {
          "color": "#90B7E4"
         },
         "name": "Team autumn",
         "r": [
          0,
          1,
          1,
          1,
          2,
          3
         ],
         "showlegend": false,
         "subplot": "polar2",
         "theta": [
          "43213",
          "49426",
          "97567",
          "93876",
          "70762",
          "93460"
         ],
         "type": "barpolar"
        },
        {
         "customdata": [
          [
           "2024-12-13",
           "not played"
          ],
          [
           "2024-12-13",
           "bronze"
          ],
          [
           "2024-12-13",
           "gold"
          ]
         ],
         "hovertemplate": "<extra><b style='color:black;'>Team summer</b></extra><b>Player %{theta}</b><br><br><i>Date</i>: %{customdata[0]}<br><i>Medal</i>: %{customdata[1]}<br><i>Score</i>: %{r} points",
         "legendgroup": "summer",
         "marker": {
          "color": "#F29ABD"
         },
         "name": "Team summer",
         "r": [
          0,
          1,
          3
         ],
         "showlegend": false,
         "subplot": "polar2",
         "theta": [
          "39886",
          "56577",
          "23321"
         ],
         "type": "barpolar"
        },
        {
         "customdata": [
          [
           "2024-12-13",
           "not played"
          ],
          [
           "2024-12-13",
           "not played"
          ],
          [
           "2024-12-13",
           "not played"
          ],
          [
           "2024-12-13",
           "silver"
          ]
         ],
         "hovertemplate": "<extra><b style='color:black;'>Team winter</b></extra><b>Player %{theta}</b><br><br><i>Date</i>: %{customdata[0]}<br><i>Medal</i>: %{customdata[1]}<br><i>Score</i>: %{r} points",
         "legendgroup": "winter",
         "marker": {
          "color": "#7B84CA"
         },
         "name": "Team winter",
         "r": [
          0,
          0,
          0,
          2
         ],
         "showlegend": false,
         "subplot": "polar2",
         "theta": [
          "66223",
          "20872",
          "11323",
          "12555"
         ],
         "type": "barpolar"
        },
        {
         "customdata": [
          [
           "2024-12-13",
           "not played"
          ],
          [
           "2024-12-13",
           "bronze"
          ],
          [
           "2024-12-13",
           "bronze"
          ],
          [
           "2024-12-13",
           "silver"
          ],
          [
           "2024-12-13",
           "silver"
          ],
          [
           "2024-12-13",
           "gold"
          ]
         ],
         "hovertemplate": "<extra><b style='color:black;'>Team autumn</b></extra><b>Player %{theta}</b><br><br><i>Date</i>: %{customdata[0]}<br><i>Medal</i>: %{customdata[1]}<br><i>Score</i>: %{r} points",
         "legendgroup": "autumn",
         "marker": {
          "color": "#90B7E4"
         },
         "name": "Team autumn",
         "r": [
          0,
          1,
          1,
          2,
          2,
          3
         ],
         "showlegend": false,
         "subplot": "polar3",
         "theta": [
          "43213",
          "49426",
          "97567",
          "70762",
          "93460",
          "93876"
         ],
         "type": "barpolar"
        },
        {
         "customdata": [
          [
           "2024-12-13",
           "bronze"
          ],
          [
           "2024-12-13",
           "silver"
          ],
          [
           "2024-12-13",
           "silver"
          ]
         ],
         "hovertemplate": "<extra><b style='color:black;'>Team summer</b></extra><b>Player %{theta}</b><br><br><i>Date</i>: %{customdata[0]}<br><i>Medal</i>: %{customdata[1]}<br><i>Score</i>: %{r} points",
         "legendgroup": "summer",
         "marker": {
          "color": "#F29ABD"
         },
         "name": "Team summer",
         "r": [
          1,
          2,
          2
         ],
         "showlegend": false,
         "subplot": "polar3",
         "theta": [
          "56577",
          "23321",
          "39886"
         ],
         "type": "barpolar"
        },
        {
         "customdata": [
          [
           "2024-12-13",
           "not played"
          ],
          [
           "2024-12-13",
           "bronze"
          ],
          [
           "2024-12-13",
           "bronze"
          ],
          [
           "2024-12-13",
           "bronze"
          ]
         ],
         "hovertemplate": "<extra><b style='color:black;'>Team winter</b></extra><b>Player %{theta}</b><br><br><i>Date</i>: %{customdata[0]}<br><i>Medal</i>: %{customdata[1]}<br><i>Score</i>: %{r} points",
         "legendgroup": "winter",
         "marker": {
          "color": "#7B84CA"
         },
         "name": "Team winter",
         "r": [
          0,
          1,
          1,
          1
         ],
         "showlegend": false,
         "subplot": "polar3",
         "theta": [
          "66223",
          "20872",
          "12555",
          "11323"
         ],
         "type": "barpolar"
        }
       ],
       "layout": {
        "annotations": [
         {
          "font": {
           "size": 16
          },
          "showarrow": false,
          "text": "Event: A",
          "x": 0.14444444444444446,
          "xanchor": "center",
          "xref": "paper",
          "y": 1,
          "yanchor": "bottom",
          "yref": "paper"
         },
         {
          "font": {
           "size": 16
          },
          "showarrow": false,
          "text": "Event: B",
          "x": 0.5,
          "xanchor": "center",
          "xref": "paper",
          "y": 1,
          "yanchor": "bottom",
          "yref": "paper"
         },
         {
          "font": {
           "size": 16
          },
          "showarrow": false,
          "text": "Event: C",
          "x": 0.8555555555555556,
          "xanchor": "center",
          "xref": "paper",
          "y": 1,
          "yanchor": "bottom",
          "yref": "paper"
         }
        ],
        "height": 400,
        "hoverlabel": {
         "bordercolor": "white",
         "font": {
          "color": "black",
          "size": 8
         }
        },
        "legend": {
         "font": {
          "size": 10
         },
         "orientation": "h",
         "yanchor": "bottom"
        },
        "polar": {
         "angularaxis": {
          "categoryarray": [
           "autumn",
           "summer",
           "winter"
          ],
          "categoryorder": "array",
          "showticklabels": false,
          "visible": false
         },
         "domain": {
          "x": [
           0,
           0.2888888888888889
          ],
          "y": [
           0,
           1
          ]
         },
         "hole": 0.5,
         "radialaxis": {
          "showticklabels": false,
          "visible": false
         }
        },
        "polar2": {
         "angularaxis": {
          "categoryarray": [
           "autumn",
           "summer",
           "winter"
          ],
          "categoryorder": "array",
          "showticklabels": false,
          "visible": false
         },
         "domain": {
          "x": [
           0.35555555555555557,
           0.6444444444444445
          ],
          "y": [
           0,
           1
          ]
         },
         "hole": 0.5,
         "radialaxis": {
          "showticklabels": false,
          "visible": false
         }
        },
        "polar3": {
         "angularaxis": {
          "categoryarray": [
           "autumn",
           "summer",
           "winter"
          ],
          "categoryorder": "array",
          "showticklabels": false,
          "visible": false
         },
         "domain": {
          "x": [
           0.7111111111111111,
           1
          ],
          "y": [
           0,
           1
          ]
         },
         "hole": 0.5,
         "radialaxis": {
          "showticklabels": false,
          "visible": false
         }
        },
        "template": {
         "data": {
          "bar": [
           {
            "error_x": {
             "color": "#2a3f5f"
            },
            "error_y": {
             "color": "#2a3f5f"
            },
            "marker": {
             "line": {
              "color": "white",
              "width": 0.5
             },
             "pattern": {
              "fillmode": "overlay",
              "size": 10,
              "solidity": 0.2
             }
            },
            "type": "bar"
           }
          ],
          "barpolar": [
           {
            "marker": {
             "line": {
              "color": "white",
              "width": 0.5
             },
             "pattern": {
              "fillmode": "overlay",
              "size": 10,
              "solidity": 0.2
             }
            },
            "type": "barpolar"
           }
          ],
          "carpet": [
           {
            "aaxis": {
             "endlinecolor": "#2a3f5f",
             "gridcolor": "#C8D4E3",
             "linecolor": "#C8D4E3",
             "minorgridcolor": "#C8D4E3",
             "startlinecolor": "#2a3f5f"
            },
            "baxis": {
             "endlinecolor": "#2a3f5f",
             "gridcolor": "#C8D4E3",
             "linecolor": "#C8D4E3",
             "minorgridcolor": "#C8D4E3",
             "startlinecolor": "#2a3f5f"
            },
            "type": "carpet"
           }
          ],
          "choropleth": [
           {
            "colorbar": {
             "outlinewidth": 0,
             "ticks": ""
            },
            "type": "choropleth"
           }
          ],
          "contour": [
           {
            "colorbar": {
             "outlinewidth": 0,
             "ticks": ""
            },
            "colorscale": [
             [
              0,
              "#0d0887"
             ],
             [
              0.1111111111111111,
              "#46039f"
             ],
             [
              0.2222222222222222,
              "#7201a8"
             ],
             [
              0.3333333333333333,
              "#9c179e"
             ],
             [
              0.4444444444444444,
              "#bd3786"
             ],
             [
              0.5555555555555556,
              "#d8576b"
             ],
             [
              0.6666666666666666,
              "#ed7953"
             ],
             [
              0.7777777777777778,
              "#fb9f3a"
             ],
             [
              0.8888888888888888,
              "#fdca26"
             ],
             [
              1,
              "#f0f921"
             ]
            ],
            "type": "contour"
           }
          ],
          "contourcarpet": [
           {
            "colorbar": {
             "outlinewidth": 0,
             "ticks": ""
            },
            "type": "contourcarpet"
           }
          ],
          "heatmap": [
           {
            "colorbar": {
             "outlinewidth": 0,
             "ticks": ""
            },
            "colorscale": [
             [
              0,
              "#0d0887"
             ],
             [
              0.1111111111111111,
              "#46039f"
             ],
             [
              0.2222222222222222,
              "#7201a8"
             ],
             [
              0.3333333333333333,
              "#9c179e"
             ],
             [
              0.4444444444444444,
              "#bd3786"
             ],
             [
              0.5555555555555556,
              "#d8576b"
             ],
             [
              0.6666666666666666,
              "#ed7953"
             ],
             [
              0.7777777777777778,
              "#fb9f3a"
             ],
             [
              0.8888888888888888,
              "#fdca26"
             ],
             [
              1,
              "#f0f921"
             ]
            ],
            "type": "heatmap"
           }
          ],
          "heatmapgl": [
           {
            "colorbar": {
             "outlinewidth": 0,
             "ticks": ""
            },
            "colorscale": [
             [
              0,
              "#0d0887"
             ],
             [
              0.1111111111111111,
              "#46039f"
             ],
             [
              0.2222222222222222,
              "#7201a8"
             ],
             [
              0.3333333333333333,
              "#9c179e"
             ],
             [
              0.4444444444444444,
              "#bd3786"
             ],
             [
              0.5555555555555556,
              "#d8576b"
             ],
             [
              0.6666666666666666,
              "#ed7953"
             ],
             [
              0.7777777777777778,
              "#fb9f3a"
             ],
             [
              0.8888888888888888,
              "#fdca26"
             ],
             [
              1,
              "#f0f921"
             ]
            ],
            "type": "heatmapgl"
           }
          ],
          "histogram": [
           {
            "marker": {
             "pattern": {
              "fillmode": "overlay",
              "size": 10,
              "solidity": 0.2
             }
            },
            "type": "histogram"
           }
          ],
          "histogram2d": [
           {
            "colorbar": {
             "outlinewidth": 0,
             "ticks": ""
            },
            "colorscale": [
             [
              0,
              "#0d0887"
             ],
             [
              0.1111111111111111,
              "#46039f"
             ],
             [
              0.2222222222222222,
              "#7201a8"
             ],
             [
              0.3333333333333333,
              "#9c179e"
             ],
             [
              0.4444444444444444,
              "#bd3786"
             ],
             [
              0.5555555555555556,
              "#d8576b"
             ],
             [
              0.6666666666666666,
              "#ed7953"
             ],
             [
              0.7777777777777778,
              "#fb9f3a"
             ],
             [
              0.8888888888888888,
              "#fdca26"
             ],
             [
              1,
              "#f0f921"
             ]
            ],
            "type": "histogram2d"
           }
          ],
          "histogram2dcontour": [
           {
            "colorbar": {
             "outlinewidth": 0,
             "ticks": ""
            },
            "colorscale": [
             [
              0,
              "#0d0887"
             ],
             [
              0.1111111111111111,
              "#46039f"
             ],
             [
              0.2222222222222222,
              "#7201a8"
             ],
             [
              0.3333333333333333,
              "#9c179e"
             ],
             [
              0.4444444444444444,
              "#bd3786"
             ],
             [
              0.5555555555555556,
              "#d8576b"
             ],
             [
              0.6666666666666666,
              "#ed7953"
             ],
             [
              0.7777777777777778,
              "#fb9f3a"
             ],
             [
              0.8888888888888888,
              "#fdca26"
             ],
             [
              1,
              "#f0f921"
             ]
            ],
            "type": "histogram2dcontour"
           }
          ],
          "mesh3d": [
           {
            "colorbar": {
             "outlinewidth": 0,
             "ticks": ""
            },
            "type": "mesh3d"
           }
          ],
          "parcoords": [
           {
            "line": {
             "colorbar": {
              "outlinewidth": 0,
              "ticks": ""
             }
            },
            "type": "parcoords"
           }
          ],
          "pie": [
           {
            "automargin": true,
            "type": "pie"
           }
          ],
          "scatter": [
           {
            "fillpattern": {
             "fillmode": "overlay",
             "size": 10,
             "solidity": 0.2
            },
            "type": "scatter"
           }
          ],
          "scatter3d": [
           {
            "line": {
             "colorbar": {
              "outlinewidth": 0,
              "ticks": ""
             }
            },
            "marker": {
             "colorbar": {
              "outlinewidth": 0,
              "ticks": ""
             }
            },
            "type": "scatter3d"
           }
          ],
          "scattercarpet": [
           {
            "marker": {
             "colorbar": {
              "outlinewidth": 0,
              "ticks": ""
             }
            },
            "type": "scattercarpet"
           }
          ],
          "scattergeo": [
           {
            "marker": {
             "colorbar": {
              "outlinewidth": 0,
              "ticks": ""
             }
            },
            "type": "scattergeo"
           }
          ],
          "scattergl": [
           {
            "marker": {
             "colorbar": {
              "outlinewidth": 0,
              "ticks": ""
             }
            },
            "type": "scattergl"
           }
          ],
          "scattermapbox": [
           {
            "marker": {
             "colorbar": {
              "outlinewidth": 0,
              "ticks": ""
             }
            },
            "type": "scattermapbox"
           }
          ],
          "scatterpolar": [
           {
            "marker": {
             "colorbar": {
              "outlinewidth": 0,
              "ticks": ""
             }
            },
            "type": "scatterpolar"
           }
          ],
          "scatterpolargl": [
           {
            "marker": {
             "colorbar": {
              "outlinewidth": 0,
              "ticks": ""
             }
            },
            "type": "scatterpolargl"
           }
          ],
          "scatterternary": [
           {
            "marker": {
             "colorbar": {
              "outlinewidth": 0,
              "ticks": ""
             }
            },
            "type": "scatterternary"
           }
          ],
          "surface": [
           {
            "colorbar": {
             "outlinewidth": 0,
             "ticks": ""
            },
            "colorscale": [
             [
              0,
              "#0d0887"
             ],
             [
              0.1111111111111111,
              "#46039f"
             ],
             [
              0.2222222222222222,
              "#7201a8"
             ],
             [
              0.3333333333333333,
              "#9c179e"
             ],
             [
              0.4444444444444444,
              "#bd3786"
             ],
             [
              0.5555555555555556,
              "#d8576b"
             ],
             [
              0.6666666666666666,
              "#ed7953"
             ],
             [
              0.7777777777777778,
              "#fb9f3a"
             ],
             [
              0.8888888888888888,
              "#fdca26"
             ],
             [
              1,
              "#f0f921"
             ]
            ],
            "type": "surface"
           }
          ],
          "table": [
           {
            "cells": {
             "fill": {
              "color": "#EBF0F8"
             },
             "line": {
              "color": "white"
             }
            },
            "header": {
             "fill": {
              "color": "#C8D4E3"
             },
             "line": {
              "color": "white"
             }
            },
            "type": "table"
           }
          ]
         },
         "layout": {
          "annotationdefaults": {
           "arrowcolor": "#2a3f5f",
           "arrowhead": 0,
           "arrowwidth": 1
          },
          "annotations": [
           {
            "font": {
             "color": "gray",
             "size": 12
            },
            "name": "timestamp",
            "opacity": 0.3,
            "showarrow": false,
            "text": "Simulated Data · 2024-December-13, 12:58:53 UTC +0000 Timestamp:1734094733.506106",
            "textangle": 0,
            "x": 0.99,
            "xref": "paper",
            "y": 0.01,
            "yref": "paper"
           }
          ],
          "autotypenumbers": "strict",
          "coloraxis": {
           "colorbar": {
            "outlinewidth": 0,
            "ticks": ""
           }
          },
          "colorscale": {
           "diverging": [
            [
             0,
             "#F29ABD"
            ],
            [
             0.1,
             "#F2AAB8"
            ],
            [
             0.2,
             "#F1BBB3"
            ],
            [
             0.3,
             "#F1CBAF"
            ],
            [
             0.4,
             "#F0DCAA"
            ],
            [
             0.5,
             "#F0ECA5"
            ],
            [
             0.6,
             "#CAD3A7"
            ],
            [
             0.7,
             "#A4B9AA"
            ],
            [
             0.8,
             "#7DA0AC"
            ],
            [
             0.9,
             "#5786AF"
            ],
            [
             1,
             "#316DB1"
            ]
           ],
           "sequential": [
            [
             0,
             "#EEC5DD"
            ],
            [
             0.1111111111111111,
             "#DBBCD8"
            ],
            [
             0.2222222222222222,
             "#C8B3D4"
            ],
            [
             0.3333333333333333,
             "#B5ABD0"
            ],
            [
             0.4444444444444444,
             "#A2A2CB"
            ],
            [
             0.5555555555555556,
             "#9099C7"
            ],
            [
             0.6666666666666666,
             "#7D90C3"
            ],
            [
             0.7777777777777778,
             "#6A87BE"
            ],
            [
             0.8888888888888888,
             "#577FBA"
            ],
            [
             0.9999999999999999,
             "#4476B5"
            ],
            [
             1,
             "#316DB1"
            ]
           ],
           "sequentialminus": [
            [
             0,
             "#EEC5DD"
            ],
            [
             0.1111111111111111,
             "#DBBCD8"
            ],
            [
             0.2222222222222222,
             "#C8B3D4"
            ],
            [
             0.3333333333333333,
             "#B5ABD0"
            ],
            [
             0.4444444444444444,
             "#A2A2CB"
            ],
            [
             0.5555555555555556,
             "#9099C7"
            ],
            [
             0.6666666666666666,
             "#7D90C3"
            ],
            [
             0.7777777777777778,
             "#6A87BE"
            ],
            [
             0.8888888888888888,
             "#577FBA"
            ],
            [
             0.9999999999999999,
             "#4476B5"
            ],
            [
             1,
             "#316DB1"
            ]
           ]
          },
          "colorway": [
           "#90B7E4",
           "#F29ABD",
           "#7B84CA",
           "#F0ECA5",
           "#EE7984",
           "#EEC5DD",
           "#A6738F",
           "#EBACA8",
           "#36ACDD",
           "#316DB1"
          ],
          "font": {
           "color": "#2a3f5f"
          },
          "geo": {
           "bgcolor": "rgba(0,0,0,0)",
           "lakecolor": "white",
           "landcolor": "white",
           "showlakes": true,
           "showland": true,
           "subunitcolor": "#C8D4E3"
          },
          "hoverlabel": {
           "align": "left"
          },
          "hovermode": "closest",
          "mapbox": {
           "style": "light"
          },
          "paper_bgcolor": "rgba(0,0,0,0)",
          "plot_bgcolor": "rgba(0,0,0,0)",
          "polar": {
           "angularaxis": {
            "gridcolor": "#EBF0F8",
            "linecolor": "#EBF0F8",
            "ticks": ""
           },
           "bgcolor": "rgba(0,0,0,0)",
           "radialaxis": {
            "gridcolor": "#EBF0F8",
            "linecolor": "#EBF0F8",
            "ticks": ""
           }
          },
          "scene": {
           "xaxis": {
            "backgroundcolor": "white",
            "gridcolor": "#DFE8F3",
            "gridwidth": 2,
            "linecolor": "#EBF0F8",
            "showbackground": true,
            "ticks": "",
            "zerolinecolor": "#EBF0F8"
           },
           "yaxis": {
            "backgroundcolor": "white",
            "gridcolor": "#DFE8F3",
            "gridwidth": 2,
            "linecolor": "#EBF0F8",
            "showbackground": true,
            "ticks": "",
            "zerolinecolor": "#EBF0F8"
           },
           "zaxis": {
            "backgroundcolor": "white",
            "gridcolor": "#DFE8F3",
            "gridwidth": 2,
            "linecolor": "#EBF0F8",
            "showbackground": true,
            "ticks": "",
            "zerolinecolor": "#EBF0F8"
           }
          },
          "shapedefaults": {
           "line": {
            "color": "#2a3f5f"
           }
          },
          "ternary": {
           "aaxis": {
            "gridcolor": "#DFE8F3",
            "linecolor": "#A2B1C6",
            "ticks": ""
           },
           "baxis": {
            "gridcolor": "#DFE8F3",
            "linecolor": "#A2B1C6",
            "ticks": ""
           },
           "bgcolor": "rgba(0,0,0,0)",
           "caxis": {
            "gridcolor": "#DFE8F3",
            "linecolor": "#A2B1C6",
            "ticks": ""
           }
          },
          "title": {
           "x": 0.05
          },
          "xaxis": {
           "automargin": true,
           "gridcolor": "#EBF0F8",
           "linecolor": "#EBF0F8",
           "ticks": "",
           "title": {
            "standoff": 15
           },
           "zerolinecolor": "#EBF0F8",
           "zerolinewidth": 2
          },
          "yaxis": {
           "automargin": true,
           "gridcolor": "#EBF0F8",
           "linecolor": "#EBF0F8",
           "ticks": "",
           "title": {
            "standoff": 15
           },
           "zerolinecolor": "#EBF0F8",
           "zerolinewidth": 2
          }
         }
        },
        "title": {
         "text": "Players participation during A, B and C events"
        },
        "width": 800
       }
      }
     },
     "metadata": {},
     "output_type": "display_data"
    }
   ],
   "source": [
    "barpolar_ph = players_score_figure(df_teams_disagg,\n",
    "                 sorted=True, ascending=True, hole=0.50, h=400, w=800)\n",
    "barpolar_ph.show()"
   ]
  },
  {
   "cell_type": "code",
   "execution_count": 25,
   "metadata": {},
   "outputs": [
    {
     "name": "stdout",
     "output_type": "stream",
     "text": [
      "['A' 'B' 'C'] ['summer' 'autumn' 'winter']\n",
      "['A' 'B' 'C'] ['summer' 'autumn' 'winter']\n"
     ]
    }
   ],
   "source": [
    "print(df_teams_disagg['event_game'].unique(), df_teams_disagg['team'].unique())\n",
    "print(pipe_data['event_game'].unique(), pipe_data['team'].unique())"
   ]
  },
  {
   "cell_type": "code",
   "execution_count": 26,
   "metadata": {},
   "outputs": [],
   "source": [
    "test = {team:n for team,n in zip(df_teams_disagg['event_game'].unique(), ['lele','foo','baa'])}"
   ]
  },
  {
   "cell_type": "code",
   "execution_count": 27,
   "metadata": {},
   "outputs": [],
   "source": [
    "df_data = df_teams_disagg\n",
    "ascending = False\n",
    "sorted = True\n",
    "color_order = tuple(df_teams_disagg['team'].unique())\n",
    "title = None\n",
    "theme = 'plotly_white'\n",
    "hole = 0.25\n",
    "h = 1200\n",
    "w = 400\n",
    "customdata = ['event_date', 'medal']"
   ]
  },
  {
   "cell_type": "code",
   "execution_count": 28,
   "metadata": {},
   "outputs": [
    {
     "data": {
      "application/vnd.plotly.v1+json": {
       "config": {
        "plotlyServerURL": "https://plot.ly"
       },
       "data": [
        {
         "customdata": [
          [
           "2024-12-13",
           "gold"
          ],
          [
           "2024-12-13",
           "silver"
          ],
          [
           "2024-12-13",
           "not played"
          ]
         ],
         "hovertemplate": "<extra></extra><b>Team summer</b><br>Event A<br><br><b>Player %{theta}</b><br><br><i>Date</i>: %{customdata[0]}<br><i>Medal</i>: %{customdata[1]}<br><i>Score</i>: %{r} points",
         "legendgroup": "summer",
         "marker": {
          "color": "#90B7E4",
          "line": {
           "color": "#90B7E4"
          }
         },
         "name": "Team summer",
         "r": [
          3,
          2,
          0
         ],
         "showlegend": true,
         "subplot": "polar",
         "theta": [
          "23321",
          "56577",
          "39886"
         ],
         "type": "barpolar"
        },
        {
         "customdata": [
          [
           "2024-12-13",
           "gold"
          ],
          [
           "2024-12-13",
           "silver"
          ],
          [
           "2024-12-13",
           "bronze"
          ],
          [
           "2024-12-13",
           "not played"
          ],
          [
           "2024-12-13",
           "not played"
          ],
          [
           "2024-12-13",
           "not played"
          ]
         ],
         "hovertemplate": "<extra></extra><b>Team autumn</b><br>Event A<br><br><b>Player %{theta}</b><br><br><i>Date</i>: %{customdata[0]}<br><i>Medal</i>: %{customdata[1]}<br><i>Score</i>: %{r} points",
         "legendgroup": "autumn",
         "marker": {
          "color": "#F29ABD",
          "line": {
           "color": "#F29ABD"
          }
         },
         "name": "Team autumn",
         "r": [
          3,
          2,
          1,
          0,
          0,
          0
         ],
         "showlegend": true,
         "subplot": "polar",
         "theta": [
          "70762",
          "93876",
          "43213",
          "49426",
          "93460",
          "97567"
         ],
         "type": "barpolar"
        },
        {
         "customdata": [
          [
           "2024-12-13",
           "gold"
          ],
          [
           "2024-12-13",
           "bronze"
          ],
          [
           "2024-12-13",
           "bronze"
          ],
          [
           "2024-12-13",
           "not played"
          ]
         ],
         "hovertemplate": "<extra></extra><b>Team winter</b><br>Event A<br><br><b>Player %{theta}</b><br><br><i>Date</i>: %{customdata[0]}<br><i>Medal</i>: %{customdata[1]}<br><i>Score</i>: %{r} points",
         "legendgroup": "winter",
         "marker": {
          "color": "#7B84CA",
          "line": {
           "color": "#7B84CA"
          }
         },
         "name": "Team winter",
         "r": [
          3,
          1,
          1,
          0
         ],
         "showlegend": true,
         "subplot": "polar",
         "theta": [
          "66223",
          "12555",
          "11323",
          "20872"
         ],
         "type": "barpolar"
        },
        {
         "customdata": [
          [
           "2024-12-13",
           "gold"
          ],
          [
           "2024-12-13",
           "bronze"
          ],
          [
           "2024-12-13",
           "not played"
          ]
         ],
         "hovertemplate": "<extra></extra><b>Team summer</b><br>Event B<br><br><b>Player %{theta}</b><br><br><i>Date</i>: %{customdata[0]}<br><i>Medal</i>: %{customdata[1]}<br><i>Score</i>: %{r} points",
         "legendgroup": "summer",
         "marker": {
          "color": "#90B7E4",
          "line": {
           "color": "#90B7E4"
          }
         },
         "name": "Team summer",
         "r": [
          3,
          1,
          0
         ],
         "showlegend": false,
         "subplot": "polar2",
         "theta": [
          "23321",
          "56577",
          "39886"
         ],
         "type": "barpolar"
        },
        {
         "customdata": [
          [
           "2024-12-13",
           "gold"
          ],
          [
           "2024-12-13",
           "silver"
          ],
          [
           "2024-12-13",
           "bronze"
          ],
          [
           "2024-12-13",
           "bronze"
          ],
          [
           "2024-12-13",
           "bronze"
          ],
          [
           "2024-12-13",
           "not played"
          ]
         ],
         "hovertemplate": "<extra></extra><b>Team autumn</b><br>Event B<br><br><b>Player %{theta}</b><br><br><i>Date</i>: %{customdata[0]}<br><i>Medal</i>: %{customdata[1]}<br><i>Score</i>: %{r} points",
         "legendgroup": "autumn",
         "marker": {
          "color": "#F29ABD",
          "line": {
           "color": "#F29ABD"
          }
         },
         "name": "Team autumn",
         "r": [
          3,
          2,
          1,
          1,
          1,
          0
         ],
         "showlegend": false,
         "subplot": "polar2",
         "theta": [
          "93460",
          "70762",
          "49426",
          "97567",
          "93876",
          "43213"
         ],
         "type": "barpolar"
        },
        {
         "customdata": [
          [
           "2024-12-13",
           "silver"
          ],
          [
           "2024-12-13",
           "not played"
          ],
          [
           "2024-12-13",
           "not played"
          ],
          [
           "2024-12-13",
           "not played"
          ]
         ],
         "hovertemplate": "<extra></extra><b>Team winter</b><br>Event B<br><br><b>Player %{theta}</b><br><br><i>Date</i>: %{customdata[0]}<br><i>Medal</i>: %{customdata[1]}<br><i>Score</i>: %{r} points",
         "legendgroup": "winter",
         "marker": {
          "color": "#7B84CA",
          "line": {
           "color": "#7B84CA"
          }
         },
         "name": "Team winter",
         "r": [
          2,
          0,
          0,
          0
         ],
         "showlegend": false,
         "subplot": "polar2",
         "theta": [
          "12555",
          "66223",
          "20872",
          "11323"
         ],
         "type": "barpolar"
        },
        {
         "customdata": [
          [
           "2024-12-13",
           "silver"
          ],
          [
           "2024-12-13",
           "silver"
          ],
          [
           "2024-12-13",
           "bronze"
          ]
         ],
         "hovertemplate": "<extra></extra><b>Team summer</b><br>Event C<br><br><b>Player %{theta}</b><br><br><i>Date</i>: %{customdata[0]}<br><i>Medal</i>: %{customdata[1]}<br><i>Score</i>: %{r} points",
         "legendgroup": "summer",
         "marker": {
          "color": "#90B7E4",
          "line": {
           "color": "#90B7E4"
          }
         },
         "name": "Team summer",
         "r": [
          2,
          2,
          1
         ],
         "showlegend": false,
         "subplot": "polar3",
         "theta": [
          "23321",
          "39886",
          "56577"
         ],
         "type": "barpolar"
        },
        {
         "customdata": [
          [
           "2024-12-13",
           "gold"
          ],
          [
           "2024-12-13",
           "silver"
          ],
          [
           "2024-12-13",
           "silver"
          ],
          [
           "2024-12-13",
           "bronze"
          ],
          [
           "2024-12-13",
           "bronze"
          ],
          [
           "2024-12-13",
           "not played"
          ]
         ],
         "hovertemplate": "<extra></extra><b>Team autumn</b><br>Event C<br><br><b>Player %{theta}</b><br><br><i>Date</i>: %{customdata[0]}<br><i>Medal</i>: %{customdata[1]}<br><i>Score</i>: %{r} points",
         "legendgroup": "autumn",
         "marker": {
          "color": "#F29ABD",
          "line": {
           "color": "#F29ABD"
          }
         },
         "name": "Team autumn",
         "r": [
          3,
          2,
          2,
          1,
          1,
          0
         ],
         "showlegend": false,
         "subplot": "polar3",
         "theta": [
          "93876",
          "70762",
          "93460",
          "49426",
          "97567",
          "43213"
         ],
         "type": "barpolar"
        },
        {
         "customdata": [
          [
           "2024-12-13",
           "bronze"
          ],
          [
           "2024-12-13",
           "bronze"
          ],
          [
           "2024-12-13",
           "bronze"
          ],
          [
           "2024-12-13",
           "not played"
          ]
         ],
         "hovertemplate": "<extra></extra><b>Team winter</b><br>Event C<br><br><b>Player %{theta}</b><br><br><i>Date</i>: %{customdata[0]}<br><i>Medal</i>: %{customdata[1]}<br><i>Score</i>: %{r} points",
         "legendgroup": "winter",
         "marker": {
          "color": "#7B84CA",
          "line": {
           "color": "#7B84CA"
          }
         },
         "name": "Team winter",
         "r": [
          1,
          1,
          1,
          0
         ],
         "showlegend": false,
         "subplot": "polar3",
         "theta": [
          "20872",
          "12555",
          "11323",
          "66223"
         ],
         "type": "barpolar"
        }
       ],
       "layout": {
        "height": 1200,
        "hoverlabel": {
         "bordercolor": "white",
         "font": {
          "color": "black",
          "size": 12
         }
        },
        "legend": {
         "font": {
          "size": 14
         },
         "orientation": "h",
         "x": 0,
         "y": 1.055
        },
        "margin": {
         "b": 0,
         "l": 0,
         "r": 0,
         "t": 90
        },
        "polar": {
         "angularaxis": {
          "categoryarray": [
           "summer",
           "autumn",
           "winter"
          ],
          "categoryorder": "array",
          "showticklabels": false,
          "visible": false
         },
         "bargap": 0,
         "domain": {
          "x": [
           0,
           1
          ],
          "y": [
           0.6666666666666666,
           1
          ]
         },
         "hole": 0.25,
         "radialaxis": {
          "showticklabels": false,
          "visible": false
         }
        },
        "polar2": {
         "angularaxis": {
          "categoryarray": [
           "summer",
           "autumn",
           "winter"
          ],
          "categoryorder": "array",
          "showticklabels": false,
          "visible": false
         },
         "bargap": 0,
         "domain": {
          "x": [
           0,
           1
          ],
          "y": [
           0.3333333333333333,
           0.6666666666666666
          ]
         },
         "hole": 0.25,
         "radialaxis": {
          "showticklabels": false,
          "visible": false
         }
        },
        "polar3": {
         "angularaxis": {
          "categoryarray": [
           "summer",
           "autumn",
           "winter"
          ],
          "categoryorder": "array",
          "showticklabels": false,
          "visible": false
         },
         "bargap": 0,
         "domain": {
          "x": [
           0,
           1
          ],
          "y": [
           0,
           0.3333333333333333
          ]
         },
         "hole": 0.25,
         "radialaxis": {
          "showticklabels": false,
          "visible": false
         }
        },
        "template": {
         "data": {
          "bar": [
           {
            "error_x": {
             "color": "#2a3f5f"
            },
            "error_y": {
             "color": "#2a3f5f"
            },
            "marker": {
             "line": {
              "color": "white",
              "width": 0.5
             },
             "pattern": {
              "fillmode": "overlay",
              "size": 10,
              "solidity": 0.2
             }
            },
            "type": "bar"
           }
          ],
          "barpolar": [
           {
            "marker": {
             "line": {
              "color": "white",
              "width": 0.5
             },
             "pattern": {
              "fillmode": "overlay",
              "size": 10,
              "solidity": 0.2
             }
            },
            "type": "barpolar"
           }
          ],
          "carpet": [
           {
            "aaxis": {
             "endlinecolor": "#2a3f5f",
             "gridcolor": "#C8D4E3",
             "linecolor": "#C8D4E3",
             "minorgridcolor": "#C8D4E3",
             "startlinecolor": "#2a3f5f"
            },
            "baxis": {
             "endlinecolor": "#2a3f5f",
             "gridcolor": "#C8D4E3",
             "linecolor": "#C8D4E3",
             "minorgridcolor": "#C8D4E3",
             "startlinecolor": "#2a3f5f"
            },
            "type": "carpet"
           }
          ],
          "choropleth": [
           {
            "colorbar": {
             "outlinewidth": 0,
             "ticks": ""
            },
            "type": "choropleth"
           }
          ],
          "contour": [
           {
            "colorbar": {
             "outlinewidth": 0,
             "ticks": ""
            },
            "colorscale": [
             [
              0,
              "#0d0887"
             ],
             [
              0.1111111111111111,
              "#46039f"
             ],
             [
              0.2222222222222222,
              "#7201a8"
             ],
             [
              0.3333333333333333,
              "#9c179e"
             ],
             [
              0.4444444444444444,
              "#bd3786"
             ],
             [
              0.5555555555555556,
              "#d8576b"
             ],
             [
              0.6666666666666666,
              "#ed7953"
             ],
             [
              0.7777777777777778,
              "#fb9f3a"
             ],
             [
              0.8888888888888888,
              "#fdca26"
             ],
             [
              1,
              "#f0f921"
             ]
            ],
            "type": "contour"
           }
          ],
          "contourcarpet": [
           {
            "colorbar": {
             "outlinewidth": 0,
             "ticks": ""
            },
            "type": "contourcarpet"
           }
          ],
          "heatmap": [
           {
            "colorbar": {
             "outlinewidth": 0,
             "ticks": ""
            },
            "colorscale": [
             [
              0,
              "#0d0887"
             ],
             [
              0.1111111111111111,
              "#46039f"
             ],
             [
              0.2222222222222222,
              "#7201a8"
             ],
             [
              0.3333333333333333,
              "#9c179e"
             ],
             [
              0.4444444444444444,
              "#bd3786"
             ],
             [
              0.5555555555555556,
              "#d8576b"
             ],
             [
              0.6666666666666666,
              "#ed7953"
             ],
             [
              0.7777777777777778,
              "#fb9f3a"
             ],
             [
              0.8888888888888888,
              "#fdca26"
             ],
             [
              1,
              "#f0f921"
             ]
            ],
            "type": "heatmap"
           }
          ],
          "heatmapgl": [
           {
            "colorbar": {
             "outlinewidth": 0,
             "ticks": ""
            },
            "colorscale": [
             [
              0,
              "#0d0887"
             ],
             [
              0.1111111111111111,
              "#46039f"
             ],
             [
              0.2222222222222222,
              "#7201a8"
             ],
             [
              0.3333333333333333,
              "#9c179e"
             ],
             [
              0.4444444444444444,
              "#bd3786"
             ],
             [
              0.5555555555555556,
              "#d8576b"
             ],
             [
              0.6666666666666666,
              "#ed7953"
             ],
             [
              0.7777777777777778,
              "#fb9f3a"
             ],
             [
              0.8888888888888888,
              "#fdca26"
             ],
             [
              1,
              "#f0f921"
             ]
            ],
            "type": "heatmapgl"
           }
          ],
          "histogram": [
           {
            "marker": {
             "pattern": {
              "fillmode": "overlay",
              "size": 10,
              "solidity": 0.2
             }
            },
            "type": "histogram"
           }
          ],
          "histogram2d": [
           {
            "colorbar": {
             "outlinewidth": 0,
             "ticks": ""
            },
            "colorscale": [
             [
              0,
              "#0d0887"
             ],
             [
              0.1111111111111111,
              "#46039f"
             ],
             [
              0.2222222222222222,
              "#7201a8"
             ],
             [
              0.3333333333333333,
              "#9c179e"
             ],
             [
              0.4444444444444444,
              "#bd3786"
             ],
             [
              0.5555555555555556,
              "#d8576b"
             ],
             [
              0.6666666666666666,
              "#ed7953"
             ],
             [
              0.7777777777777778,
              "#fb9f3a"
             ],
             [
              0.8888888888888888,
              "#fdca26"
             ],
             [
              1,
              "#f0f921"
             ]
            ],
            "type": "histogram2d"
           }
          ],
          "histogram2dcontour": [
           {
            "colorbar": {
             "outlinewidth": 0,
             "ticks": ""
            },
            "colorscale": [
             [
              0,
              "#0d0887"
             ],
             [
              0.1111111111111111,
              "#46039f"
             ],
             [
              0.2222222222222222,
              "#7201a8"
             ],
             [
              0.3333333333333333,
              "#9c179e"
             ],
             [
              0.4444444444444444,
              "#bd3786"
             ],
             [
              0.5555555555555556,
              "#d8576b"
             ],
             [
              0.6666666666666666,
              "#ed7953"
             ],
             [
              0.7777777777777778,
              "#fb9f3a"
             ],
             [
              0.8888888888888888,
              "#fdca26"
             ],
             [
              1,
              "#f0f921"
             ]
            ],
            "type": "histogram2dcontour"
           }
          ],
          "mesh3d": [
           {
            "colorbar": {
             "outlinewidth": 0,
             "ticks": ""
            },
            "type": "mesh3d"
           }
          ],
          "parcoords": [
           {
            "line": {
             "colorbar": {
              "outlinewidth": 0,
              "ticks": ""
             }
            },
            "type": "parcoords"
           }
          ],
          "pie": [
           {
            "automargin": true,
            "type": "pie"
           }
          ],
          "scatter": [
           {
            "fillpattern": {
             "fillmode": "overlay",
             "size": 10,
             "solidity": 0.2
            },
            "type": "scatter"
           }
          ],
          "scatter3d": [
           {
            "line": {
             "colorbar": {
              "outlinewidth": 0,
              "ticks": ""
             }
            },
            "marker": {
             "colorbar": {
              "outlinewidth": 0,
              "ticks": ""
             }
            },
            "type": "scatter3d"
           }
          ],
          "scattercarpet": [
           {
            "marker": {
             "colorbar": {
              "outlinewidth": 0,
              "ticks": ""
             }
            },
            "type": "scattercarpet"
           }
          ],
          "scattergeo": [
           {
            "marker": {
             "colorbar": {
              "outlinewidth": 0,
              "ticks": ""
             }
            },
            "type": "scattergeo"
           }
          ],
          "scattergl": [
           {
            "marker": {
             "colorbar": {
              "outlinewidth": 0,
              "ticks": ""
             }
            },
            "type": "scattergl"
           }
          ],
          "scattermapbox": [
           {
            "marker": {
             "colorbar": {
              "outlinewidth": 0,
              "ticks": ""
             }
            },
            "type": "scattermapbox"
           }
          ],
          "scatterpolar": [
           {
            "marker": {
             "colorbar": {
              "outlinewidth": 0,
              "ticks": ""
             }
            },
            "type": "scatterpolar"
           }
          ],
          "scatterpolargl": [
           {
            "marker": {
             "colorbar": {
              "outlinewidth": 0,
              "ticks": ""
             }
            },
            "type": "scatterpolargl"
           }
          ],
          "scatterternary": [
           {
            "marker": {
             "colorbar": {
              "outlinewidth": 0,
              "ticks": ""
             }
            },
            "type": "scatterternary"
           }
          ],
          "surface": [
           {
            "colorbar": {
             "outlinewidth": 0,
             "ticks": ""
            },
            "colorscale": [
             [
              0,
              "#0d0887"
             ],
             [
              0.1111111111111111,
              "#46039f"
             ],
             [
              0.2222222222222222,
              "#7201a8"
             ],
             [
              0.3333333333333333,
              "#9c179e"
             ],
             [
              0.4444444444444444,
              "#bd3786"
             ],
             [
              0.5555555555555556,
              "#d8576b"
             ],
             [
              0.6666666666666666,
              "#ed7953"
             ],
             [
              0.7777777777777778,
              "#fb9f3a"
             ],
             [
              0.8888888888888888,
              "#fdca26"
             ],
             [
              1,
              "#f0f921"
             ]
            ],
            "type": "surface"
           }
          ],
          "table": [
           {
            "cells": {
             "fill": {
              "color": "#EBF0F8"
             },
             "line": {
              "color": "white"
             }
            },
            "header": {
             "fill": {
              "color": "#C8D4E3"
             },
             "line": {
              "color": "white"
             }
            },
            "type": "table"
           }
          ]
         },
         "layout": {
          "annotationdefaults": {
           "arrowcolor": "#2a3f5f",
           "arrowhead": 0,
           "arrowwidth": 1
          },
          "annotations": [
           {
            "font": {
             "color": "gray",
             "size": 12
            },
            "name": "timestamp",
            "opacity": 0.3,
            "showarrow": false,
            "text": "Simulated Data · 2024-December-13, 12:58:53 UTC +0000 Timestamp:1734094733.506106",
            "textangle": 0,
            "x": 0.99,
            "xref": "paper",
            "y": 0.01,
            "yref": "paper"
           }
          ],
          "autotypenumbers": "strict",
          "coloraxis": {
           "colorbar": {
            "outlinewidth": 0,
            "ticks": ""
           }
          },
          "colorscale": {
           "diverging": [
            [
             0,
             "#F29ABD"
            ],
            [
             0.1,
             "#F2AAB8"
            ],
            [
             0.2,
             "#F1BBB3"
            ],
            [
             0.3,
             "#F1CBAF"
            ],
            [
             0.4,
             "#F0DCAA"
            ],
            [
             0.5,
             "#F0ECA5"
            ],
            [
             0.6,
             "#CAD3A7"
            ],
            [
             0.7,
             "#A4B9AA"
            ],
            [
             0.8,
             "#7DA0AC"
            ],
            [
             0.9,
             "#5786AF"
            ],
            [
             1,
             "#316DB1"
            ]
           ],
           "sequential": [
            [
             0,
             "#EEC5DD"
            ],
            [
             0.1111111111111111,
             "#DBBCD8"
            ],
            [
             0.2222222222222222,
             "#C8B3D4"
            ],
            [
             0.3333333333333333,
             "#B5ABD0"
            ],
            [
             0.4444444444444444,
             "#A2A2CB"
            ],
            [
             0.5555555555555556,
             "#9099C7"
            ],
            [
             0.6666666666666666,
             "#7D90C3"
            ],
            [
             0.7777777777777778,
             "#6A87BE"
            ],
            [
             0.8888888888888888,
             "#577FBA"
            ],
            [
             0.9999999999999999,
             "#4476B5"
            ],
            [
             1,
             "#316DB1"
            ]
           ],
           "sequentialminus": [
            [
             0,
             "#EEC5DD"
            ],
            [
             0.1111111111111111,
             "#DBBCD8"
            ],
            [
             0.2222222222222222,
             "#C8B3D4"
            ],
            [
             0.3333333333333333,
             "#B5ABD0"
            ],
            [
             0.4444444444444444,
             "#A2A2CB"
            ],
            [
             0.5555555555555556,
             "#9099C7"
            ],
            [
             0.6666666666666666,
             "#7D90C3"
            ],
            [
             0.7777777777777778,
             "#6A87BE"
            ],
            [
             0.8888888888888888,
             "#577FBA"
            ],
            [
             0.9999999999999999,
             "#4476B5"
            ],
            [
             1,
             "#316DB1"
            ]
           ]
          },
          "colorway": [
           "#90B7E4",
           "#F29ABD",
           "#7B84CA",
           "#F0ECA5",
           "#EE7984",
           "#EEC5DD",
           "#A6738F",
           "#EBACA8",
           "#36ACDD",
           "#316DB1"
          ],
          "font": {
           "color": "#2a3f5f"
          },
          "geo": {
           "bgcolor": "rgba(0,0,0,0)",
           "lakecolor": "white",
           "landcolor": "white",
           "showlakes": true,
           "showland": true,
           "subunitcolor": "#C8D4E3"
          },
          "hoverlabel": {
           "align": "left"
          },
          "hovermode": "closest",
          "mapbox": {
           "style": "light"
          },
          "paper_bgcolor": "rgba(0,0,0,0)",
          "plot_bgcolor": "rgba(0,0,0,0)",
          "polar": {
           "angularaxis": {
            "gridcolor": "#EBF0F8",
            "linecolor": "#EBF0F8",
            "ticks": ""
           },
           "bgcolor": "rgba(0,0,0,0)",
           "radialaxis": {
            "gridcolor": "#EBF0F8",
            "linecolor": "#EBF0F8",
            "ticks": ""
           }
          },
          "scene": {
           "xaxis": {
            "backgroundcolor": "white",
            "gridcolor": "#DFE8F3",
            "gridwidth": 2,
            "linecolor": "#EBF0F8",
            "showbackground": true,
            "ticks": "",
            "zerolinecolor": "#EBF0F8"
           },
           "yaxis": {
            "backgroundcolor": "white",
            "gridcolor": "#DFE8F3",
            "gridwidth": 2,
            "linecolor": "#EBF0F8",
            "showbackground": true,
            "ticks": "",
            "zerolinecolor": "#EBF0F8"
           },
           "zaxis": {
            "backgroundcolor": "white",
            "gridcolor": "#DFE8F3",
            "gridwidth": 2,
            "linecolor": "#EBF0F8",
            "showbackground": true,
            "ticks": "",
            "zerolinecolor": "#EBF0F8"
           }
          },
          "shapedefaults": {
           "line": {
            "color": "#2a3f5f"
           }
          },
          "ternary": {
           "aaxis": {
            "gridcolor": "#DFE8F3",
            "linecolor": "#A2B1C6",
            "ticks": ""
           },
           "baxis": {
            "gridcolor": "#DFE8F3",
            "linecolor": "#A2B1C6",
            "ticks": ""
           },
           "bgcolor": "rgba(0,0,0,0)",
           "caxis": {
            "gridcolor": "#DFE8F3",
            "linecolor": "#A2B1C6",
            "ticks": ""
           }
          },
          "title": {
           "x": 0.05
          },
          "xaxis": {
           "automargin": true,
           "gridcolor": "#EBF0F8",
           "linecolor": "#EBF0F8",
           "ticks": "",
           "title": {
            "standoff": 15
           },
           "zerolinecolor": "#EBF0F8",
           "zerolinewidth": 2
          },
          "yaxis": {
           "automargin": true,
           "gridcolor": "#EBF0F8",
           "linecolor": "#EBF0F8",
           "ticks": "",
           "title": {
            "standoff": 15
           },
           "zerolinecolor": "#EBF0F8",
           "zerolinewidth": 2
          }
         }
        },
        "title": {},
        "width": 400
       }
      }
     },
     "metadata": {},
     "output_type": "display_data"
    }
   ],
   "source": [
    "df=df_data.copy()\n",
    "# sort values before building the figure (if ascending=True)\n",
    "df.sort_values(['team', 'score'], ascending=ascending, inplace=sorted)\n",
    "\n",
    "# other Figure inputs\n",
    "#----- team list\n",
    "team_names = [i for i in df['team'].unique()]\n",
    "#----- event list\n",
    "events = [i for i in df['event_game'].unique()]\n",
    "\n",
    "#----- color theme from default template\n",
    "if color_order == None:\n",
    "    color_order = team_names\n",
    "else:\n",
    "    pass\n",
    "    \n",
    "template_color = pio.templates[pio.templates.default]['layout']['colorway']\n",
    "color_theme = tuple(template_color[:len(color_order)])\n",
    "group_color = {order:color for order,color in zip(color_order, color_theme)}\n",
    "\n",
    "group_order = tuple(group_color.keys())\n",
    "# ----------------------------------------------------------------------------\n",
    "\n",
    "# Create Figure\n",
    "fig_polar = make_subplots(\n",
    "    rows = len(events), cols = 1,\n",
    "    vertical_spacing = 0,\n",
    "    #column_titles = [e for e in events],\n",
    "    #row_titles = [e for e in events],\n",
    "    specs = [[{'type':'polar'}]]*len(df['event_game'].unique())\n",
    ")\n",
    "#----- config unified legend\n",
    "sp_legendgroup = [True]\n",
    "sp_legendgroup.extend([False for e in range(len(events[1:]))])\n",
    "    \n",
    "#----- traces: bar polar by event and team iter\n",
    "for e in range(len(events)):\n",
    "    for t in range(len(group_order)):\n",
    "        # barpolar -------------------------------------------------------------------\n",
    "        fig_polar.add_trace(go.Barpolar(\n",
    "            name = \"Team \"+ group_order[t],\n",
    "            r = list(df[df['event_game']==events[e]][df['team']==group_order[t]]['score']),\n",
    "            theta = list(df[df['event_game']==events[e]][df['team']==group_order[t]]['player_id']),\n",
    "            marker_color = group_color[group_order[t]],\n",
    "            marker_line_color = group_color[group_order[t]],\n",
    "            legendgroup = group_order[t],\n",
    "            showlegend = sp_legendgroup[e],\n",
    "            customdata = df[df['event_game']==events[e]][df['team']==group_order[t]][customdata],\n",
    "            hovertemplate = \"<extra></extra>\"+\n",
    "                            \"<b>Team \"+group_order[t]+\"</b>\"+\n",
    "                            \"<br>Event \"+events[e]+\"<br><br>\"+\n",
    "                            \"<b>Player %{theta}</b><br>\"+\n",
    "                            \"<br><i>Date</i>: %{customdata[0]}<br>\"+\n",
    "                            \"<i>Medal</i>: %{customdata[1]}<br>\"+\n",
    "                            \"<i>Score</i>: %{r} points\"\n",
    "        # ----------------------------------------------------------------------------\n",
    "            ),row=e+1, col=1)\n",
    "\n",
    "#----- bar polar config\n",
    "fig_polar.update_polars(\n",
    "    patch = dict(hole = hole,\n",
    "                 radialaxis = dict(showticklabels=False,\n",
    "                                   visible = False),\n",
    "                 angularaxis= dict(showticklabels=False,\n",
    "                                   visible = False,\n",
    "                                   categoryorder = 'array',\n",
    "                                   categoryarray = color_order)),\n",
    "    bargap = 0)\n",
    "\n",
    "#----- figure layout\n",
    "if title != None:\n",
    "    fig_polar.update_layout(title=title)\n",
    "else:\n",
    "    fig_polar.update_layout(margin_t = 90)\n",
    "\n",
    "fig_polar.update_layout(\n",
    "    legend = dict(font_size = 14,\n",
    "                  orientation = 'h',\n",
    "                  y = 1.055,\n",
    "                  #yanchor = 'bottom',\n",
    "                  x = 0,\n",
    "                  #xref = 'container' , xanchor = 'center'\n",
    "                  ),\n",
    "    hoverlabel = dict(bordercolor = 'white',\n",
    "                      font_size = 12,\n",
    "                      font_color = 'black'),\n",
    "    template = f'{theme}+{pio.templates.default}',\n",
    "    margin = dict(b = 0, l=0, r=0),\n",
    "    height = h, width = w,\n",
    "    title = title)\n",
    "\n",
    "fig_polar.show()"
   ]
  },
  {
   "cell_type": "code",
   "execution_count": 29,
   "metadata": {},
   "outputs": [
    {
     "data": {
      "text/plain": [
       "Index(['event_date', 'event_game', 'team', 'medal', 'acc_w_score',\n",
       "       'medal_abs_frequence', 'team_relative_size', 'team_participation_ratio',\n",
       "       'medal_rel_frequence', 'perform_score', 'acc_w_score_total',\n",
       "       'perform_score_total'],\n",
       "      dtype='object')"
      ]
     },
     "execution_count": 29,
     "metadata": {},
     "output_type": "execute_result"
    }
   ],
   "source": [
    "pipe_data.columns"
   ]
  },
  {
   "cell_type": "code",
   "execution_count": 30,
   "metadata": {},
   "outputs": [
    {
     "data": {
      "text/html": [
       "<div>\n",
       "<style scoped>\n",
       "    .dataframe tbody tr th:only-of-type {\n",
       "        vertical-align: middle;\n",
       "    }\n",
       "\n",
       "    .dataframe tbody tr th {\n",
       "        vertical-align: top;\n",
       "    }\n",
       "\n",
       "    .dataframe thead th {\n",
       "        text-align: right;\n",
       "    }\n",
       "</style>\n",
       "<table border=\"1\" class=\"dataframe\">\n",
       "  <thead>\n",
       "    <tr style=\"text-align: right;\">\n",
       "      <th></th>\n",
       "      <th>event_date</th>\n",
       "      <th>event_game</th>\n",
       "      <th>team</th>\n",
       "      <th>medal</th>\n",
       "      <th>acc_w_score</th>\n",
       "      <th>medal_abs_frequence</th>\n",
       "      <th>team_relative_size</th>\n",
       "      <th>team_participation_ratio</th>\n",
       "      <th>medal_rel_frequence</th>\n",
       "      <th>perform_score</th>\n",
       "      <th>acc_w_score_total</th>\n",
       "      <th>perform_score_total</th>\n",
       "    </tr>\n",
       "  </thead>\n",
       "  <tbody>\n",
       "    <tr>\n",
       "      <th>0</th>\n",
       "      <td>2024-12-13</td>\n",
       "      <td>A</td>\n",
       "      <td>summer</td>\n",
       "      <td>gold</td>\n",
       "      <td>3</td>\n",
       "      <td>1</td>\n",
       "      <td>23.08</td>\n",
       "      <td>66.67</td>\n",
       "      <td>33.33</td>\n",
       "      <td>99.99</td>\n",
       "      <td>5</td>\n",
       "      <td>166.65</td>\n",
       "    </tr>\n",
       "    <tr>\n",
       "      <th>1</th>\n",
       "      <td>2024-12-13</td>\n",
       "      <td>A</td>\n",
       "      <td>summer</td>\n",
       "      <td>not played</td>\n",
       "      <td>0</td>\n",
       "      <td>0</td>\n",
       "      <td>23.08</td>\n",
       "      <td>66.67</td>\n",
       "      <td>0.00</td>\n",
       "      <td>0.00</td>\n",
       "      <td>5</td>\n",
       "      <td>166.65</td>\n",
       "    </tr>\n",
       "    <tr>\n",
       "      <th>2</th>\n",
       "      <td>2024-12-13</td>\n",
       "      <td>A</td>\n",
       "      <td>summer</td>\n",
       "      <td>silver</td>\n",
       "      <td>2</td>\n",
       "      <td>1</td>\n",
       "      <td>23.08</td>\n",
       "      <td>66.67</td>\n",
       "      <td>33.33</td>\n",
       "      <td>66.66</td>\n",
       "      <td>5</td>\n",
       "      <td>166.65</td>\n",
       "    </tr>\n",
       "  </tbody>\n",
       "</table>\n",
       "</div>"
      ],
      "text/plain": [
       "   event_date event_game    team       medal  acc_w_score  \\\n",
       "0  2024-12-13          A  summer        gold            3   \n",
       "1  2024-12-13          A  summer  not played            0   \n",
       "2  2024-12-13          A  summer      silver            2   \n",
       "\n",
       "   medal_abs_frequence  team_relative_size  team_participation_ratio  \\\n",
       "0                    1               23.08                     66.67   \n",
       "1                    0               23.08                     66.67   \n",
       "2                    1               23.08                     66.67   \n",
       "\n",
       "   medal_rel_frequence  perform_score  acc_w_score_total  perform_score_total  \n",
       "0                33.33          99.99                  5               166.65  \n",
       "1                 0.00           0.00                  5               166.65  \n",
       "2                33.33          66.66                  5               166.65  "
      ]
     },
     "execution_count": 30,
     "metadata": {},
     "output_type": "execute_result"
    }
   ],
   "source": [
    "pipe_data[pipe_data['event_game']=='A'].head(3)"
   ]
  },
  {
   "cell_type": "code",
   "execution_count": 31,
   "metadata": {},
   "outputs": [
    {
     "data": {
      "text/plain": [
       "5"
      ]
     },
     "execution_count": 31,
     "metadata": {},
     "output_type": "execute_result"
    }
   ],
   "source": [
    "pipe_data[pipe_data['event_game']=='A'][pipe_data['team']=='summer']['acc_w_score_total'][0]"
   ]
  },
  {
   "cell_type": "code",
   "execution_count": 32,
   "metadata": {},
   "outputs": [],
   "source": [
    "#params\n",
    "df_data = pipe_data[pipe_data['medal']!='not played']\n",
    "x_data = 'medal'\n",
    "y_data = 'acc_w_score'\n",
    "facet_data_col = 'team'\n",
    "selector = 'event_game'\n",
    "y_title = 'Scores by Accumulative Method'\n",
    "hline_values = 'acc_w_score_total'\n",
    "hline_annot_iter = df_data[facet_data_col].unique()\n",
    "hline_annot = ''\n",
    "category_order = ['not played', 'bronze', 'silver', 'gold']\n",
    "barcornerradius = \"0%\"\n",
    "title = None\n",
    "theme = 'plotly_white'\n",
    "w = 900\n",
    "h = 400\n",
    "customdata_cols = ['medal_rel_frequence','medal','team_participation_ratio', 'acc_w_score']\n",
    "hovertemplate = '''<br><i>Proportion %{customdata[0]} medals</i>: %{customdata[1]}\n",
    "                <br>Team event participation %{customdata[2]}%\n",
    "                <br><i>Medal score</i>: %{customdata[3]} points<extra></extra>'''"
   ]
  },
  {
   "cell_type": "code",
   "execution_count": 33,
   "metadata": {},
   "outputs": [],
   "source": [
    "# function\n",
    "def cust_bar_hline(df_data: pd.DataFrame,\n",
    "                   x_data: str, y_data: str, facet_data_col: str, selector: str,\n",
    "                   hline_values: str, hline_annot_iter: list, hline_annot: str = '',\n",
    "                   y_title: str = None, customdata_cols: list=None, hovertemplate: str = None,\n",
    "                   category_order: list = None,\n",
    "                   title: str=None, barcornerradius: str = '0%', theme: str = 'plotly_white',\n",
    "                   w: int = 900, h: int = 400) -> go.Figure:\n",
    "    \"\"\"\n",
    "    *Function*\n",
    "    -\n",
    "    Creates a figure with interactive bar plots and horizontal lines. Recommended for\n",
    "    data that has agregated numerical values.\n",
    "\n",
    "    *Parameters*\n",
    "    -\n",
    "    - df_data: pd.DataFrame, main data to plot\n",
    "    - x_data: str, category values on x axis for barplots\n",
    "    - y_data: str, numerical values on y axis for barplots\n",
    "    - facet_data_col: str, column with categorical data to facet plots\n",
    "    - selector: str, filter value, can be set directly, recommended for value selector objects\n",
    "    - hline_values: str, column with values for horizontal line position\n",
    "    - hline_annot_iter: list|np.array, list or array to iterate for hline annotation\n",
    "    - hline_annot: str = '', additional annotation\n",
    "    - y_title: str = None, single y axis title for all subplots\n",
    "    - customdata_cols: list=None, list of columns that will be used in hovertemplate\n",
    "    - hovertemplate: str = None, text displayed on hover info and label, using html text format\n",
    "    - category_order: list|np.array = None, sort bar plot figures\n",
    "    - title: str=None, figure title\n",
    "    - barcornerradius: str = '0%', set bar round corners\n",
    "    - theme: str = 'plotly_white', set plotly template to mix with default template\n",
    "    - w: int = 900, set figure width \n",
    "    - h: int = 400, set figure height\n",
    "    \"\"\"\n",
    "\n",
    "    # Iterative variables\n",
    "    subplot_cols = list(df_data[facet_data_col].unique())\n",
    "    selector_filter = df_data[selector].unique()[0]\n",
    "\n",
    "    template_color = pio.templates[pio.templates.default]['layout']['colorway']\n",
    "    color_theme = template_color[:len(subplot_cols)]\n",
    "\n",
    "    # Subplot figure\n",
    "    bar_h_fig = make_subplots(cols = len(subplot_cols),\n",
    "                            shared_xaxes = True,\n",
    "                            shared_yaxes=True,\n",
    "                            y_title = y_title,\n",
    "                            column_titles= subplot_cols,\n",
    "                            print_grid=False,\n",
    "                            specs = [[{\"secondary_y\" : True} for t in range(len(subplot_cols))]])\n",
    "\n",
    "    bar_legendgroup = [True]\n",
    "    bar_legendgroup.extend([False for e in range(len(subplot_cols[1:]))])\n",
    "\n",
    "    # bar\n",
    "    for i in range(len(subplot_cols)):\n",
    "        bar_h_fig.add_trace(\n",
    "            go.Bar(\n",
    "                x = df_data[df_data[selector]==selector_filter][df_data[facet_data_col]==subplot_cols[i]][x_data],\n",
    "                y = df_data[df_data[selector]==selector_filter][df_data[facet_data_col]==subplot_cols[i]][y_data].values,\n",
    "                name = subplot_cols[i],\n",
    "                marker_color = color_theme[i],\n",
    "                legendgroup = subplot_cols[i]+' bar',\n",
    "                customdata = df_data[df_data[selector]==selector_filter][df_data[facet_data_col]==subplot_cols[i]][customdata_cols],\n",
    "                hovertemplate = hovertemplate\n",
    "            ),row = 1, col = i+1, secondary_y = False)\n",
    "\n",
    "    # hline\n",
    "    for i in range(len(subplot_cols)):\n",
    "        bar_h_fig.add_hline(y = df_data[df_data[selector]==selector_filter][df_data[facet_data_col]==subplot_cols[i]][hline_values].unique()[0],\n",
    "                        line_color = color_theme[i],\n",
    "                        line_width = 1,\n",
    "                        annotation_text = f\"{hline_annot_iter[i]}{hline_annot}\",\n",
    "                        annotation_position = 'top left',\n",
    "                        exclude_empty_subplots=False, secondary_y=True)    \n",
    "\n",
    "    #----- axes styling and category order\n",
    "    bar_h_fig.update_xaxes(\n",
    "        categoryorder = 'array',\n",
    "        categoryarray = category_order,\n",
    "        showticklabels= False,\n",
    "        showspikes = False,\n",
    "        showgrid = False)\n",
    "    bar_h_fig.update_yaxes(showgrid = False, showticklabels = False)\n",
    "    bar_h_fig.update_yaxes(showticklabels = True, secondary_y = True)\n",
    "\n",
    "    bar_h_fig.update_layout(\n",
    "            title = title,\n",
    "            barmode = 'group',\n",
    "            legend = dict(font_size = 12,\n",
    "                        tracegroupgap = 0, y = -.2,\n",
    "                        yanchor = 'bottom', xanchor = 'left',\n",
    "                        orientation = 'h'),\n",
    "            barcornerradius = barcornerradius,\n",
    "            template = f'{theme}+{pio.templates.default}',\n",
    "            width = w, height = h)\n",
    "\n",
    "    return bar_h_fig"
   ]
  },
  {
   "cell_type": "code",
   "execution_count": 34,
   "metadata": {},
   "outputs": [
    {
     "data": {
      "application/vnd.plotly.v1+json": {
       "config": {
        "plotlyServerURL": "https://plot.ly"
       },
       "data": [
        {
         "customdata": [
          [
           33.33,
           "gold",
           66.67,
           3
          ],
          [
           33.33,
           "silver",
           66.67,
           2
          ]
         ],
         "hovertemplate": "<br><i>Proportion %{customdata[0]} medals</i>: %{customdata[1]}\n                <br>Team event participation %{customdata[2]}%\n                <br><i>Medal score</i>: %{customdata[3]} points<extra></extra>",
         "legendgroup": "summer bar",
         "marker": {
          "color": "#90B7E4"
         },
         "name": "summer",
         "type": "bar",
         "x": [
          "gold",
          "silver"
         ],
         "xaxis": "x",
         "y": [
          3,
          2
         ],
         "yaxis": "y"
        },
        {
         "customdata": [
          [
           16.67,
           "bronze",
           50,
           1
          ],
          [
           16.67,
           "gold",
           50,
           3
          ],
          [
           16.67,
           "silver",
           50,
           2
          ]
         ],
         "hovertemplate": "<br><i>Proportion %{customdata[0]} medals</i>: %{customdata[1]}\n                <br>Team event participation %{customdata[2]}%\n                <br><i>Medal score</i>: %{customdata[3]} points<extra></extra>",
         "legendgroup": "autumn bar",
         "marker": {
          "color": "#F29ABD"
         },
         "name": "autumn",
         "type": "bar",
         "x": [
          "bronze",
          "gold",
          "silver"
         ],
         "xaxis": "x2",
         "y": [
          1,
          3,
          2
         ],
         "yaxis": "y3"
        },
        {
         "customdata": [
          [
           50,
           "bronze",
           75,
           2
          ],
          [
           25,
           "gold",
           75,
           3
          ]
         ],
         "hovertemplate": "<br><i>Proportion %{customdata[0]} medals</i>: %{customdata[1]}\n                <br>Team event participation %{customdata[2]}%\n                <br><i>Medal score</i>: %{customdata[3]} points<extra></extra>",
         "legendgroup": "winter bar",
         "marker": {
          "color": "#7B84CA"
         },
         "name": "winter",
         "type": "bar",
         "x": [
          "bronze",
          "gold"
         ],
         "xaxis": "x3",
         "y": [
          2,
          3
         ],
         "yaxis": "y5"
        }
       ],
       "layout": {
        "annotations": [
         {
          "font": {
           "size": 16
          },
          "showarrow": false,
          "text": "summer",
          "x": 0.11222222222222222,
          "xanchor": "center",
          "xref": "paper",
          "y": 1,
          "yanchor": "bottom",
          "yref": "paper"
         },
         {
          "font": {
           "size": 16
          },
          "showarrow": false,
          "text": "autumn",
          "x": 0.47,
          "xanchor": "center",
          "xref": "paper",
          "y": 1,
          "yanchor": "bottom",
          "yref": "paper"
         },
         {
          "font": {
           "size": 16
          },
          "showarrow": false,
          "text": "winter",
          "x": 0.8277777777777777,
          "xanchor": "center",
          "xref": "paper",
          "y": 1,
          "yanchor": "bottom",
          "yref": "paper"
         },
         {
          "font": {
           "size": 16
          },
          "showarrow": false,
          "text": "Scores by Accumulative Method",
          "textangle": -90,
          "x": 0,
          "xanchor": "right",
          "xref": "paper",
          "xshift": -40,
          "y": 0.5,
          "yanchor": "middle",
          "yref": "paper"
         },
         {
          "showarrow": false,
          "text": "summer",
          "x": 0,
          "xanchor": "left",
          "xref": "x domain",
          "y": 5,
          "yanchor": "bottom",
          "yref": "y"
         },
         {
          "showarrow": false,
          "text": "summer",
          "x": 0,
          "xanchor": "left",
          "xref": "x2 domain",
          "y": 5,
          "yanchor": "bottom",
          "yref": "y3"
         },
         {
          "showarrow": false,
          "text": "summer",
          "x": 0,
          "xanchor": "left",
          "xref": "x3 domain",
          "y": 5,
          "yanchor": "bottom",
          "yref": "y5"
         },
         {
          "showarrow": false,
          "text": "autumn",
          "x": 0,
          "xanchor": "left",
          "xref": "x domain",
          "y": 6,
          "yanchor": "bottom",
          "yref": "y"
         },
         {
          "showarrow": false,
          "text": "autumn",
          "x": 0,
          "xanchor": "left",
          "xref": "x2 domain",
          "y": 6,
          "yanchor": "bottom",
          "yref": "y3"
         },
         {
          "showarrow": false,
          "text": "autumn",
          "x": 0,
          "xanchor": "left",
          "xref": "x3 domain",
          "y": 6,
          "yanchor": "bottom",
          "yref": "y5"
         },
         {
          "showarrow": false,
          "text": "winter",
          "x": 0,
          "xanchor": "left",
          "xref": "x domain",
          "y": 5,
          "yanchor": "bottom",
          "yref": "y"
         },
         {
          "showarrow": false,
          "text": "winter",
          "x": 0,
          "xanchor": "left",
          "xref": "x2 domain",
          "y": 5,
          "yanchor": "bottom",
          "yref": "y3"
         },
         {
          "showarrow": false,
          "text": "winter",
          "x": 0,
          "xanchor": "left",
          "xref": "x3 domain",
          "y": 5,
          "yanchor": "bottom",
          "yref": "y5"
         }
        ],
        "barcornerradius": "0%",
        "barmode": "group",
        "height": 400,
        "legend": {
         "font": {
          "size": 12
         },
         "orientation": "h",
         "tracegroupgap": 0,
         "xanchor": "left",
         "y": -0.2,
         "yanchor": "bottom"
        },
        "shapes": [
         {
          "line": {
           "color": "#90B7E4",
           "width": 1
          },
          "type": "line",
          "x0": 0,
          "x1": 1,
          "xref": "x domain",
          "y0": 5,
          "y1": 5,
          "yref": "y2"
         },
         {
          "line": {
           "color": "#90B7E4",
           "width": 1
          },
          "type": "line",
          "x0": 0,
          "x1": 1,
          "xref": "x2 domain",
          "y0": 5,
          "y1": 5,
          "yref": "y4"
         },
         {
          "line": {
           "color": "#90B7E4",
           "width": 1
          },
          "type": "line",
          "x0": 0,
          "x1": 1,
          "xref": "x3 domain",
          "y0": 5,
          "y1": 5,
          "yref": "y6"
         },
         {
          "line": {
           "color": "#F29ABD",
           "width": 1
          },
          "type": "line",
          "x0": 0,
          "x1": 1,
          "xref": "x domain",
          "y0": 6,
          "y1": 6,
          "yref": "y2"
         },
         {
          "line": {
           "color": "#F29ABD",
           "width": 1
          },
          "type": "line",
          "x0": 0,
          "x1": 1,
          "xref": "x2 domain",
          "y0": 6,
          "y1": 6,
          "yref": "y4"
         },
         {
          "line": {
           "color": "#F29ABD",
           "width": 1
          },
          "type": "line",
          "x0": 0,
          "x1": 1,
          "xref": "x3 domain",
          "y0": 6,
          "y1": 6,
          "yref": "y6"
         },
         {
          "line": {
           "color": "#7B84CA",
           "width": 1
          },
          "type": "line",
          "x0": 0,
          "x1": 1,
          "xref": "x domain",
          "y0": 5,
          "y1": 5,
          "yref": "y2"
         },
         {
          "line": {
           "color": "#7B84CA",
           "width": 1
          },
          "type": "line",
          "x0": 0,
          "x1": 1,
          "xref": "x2 domain",
          "y0": 5,
          "y1": 5,
          "yref": "y4"
         },
         {
          "line": {
           "color": "#7B84CA",
           "width": 1
          },
          "type": "line",
          "x0": 0,
          "x1": 1,
          "xref": "x3 domain",
          "y0": 5,
          "y1": 5,
          "yref": "y6"
         }
        ],
        "template": {
         "data": {
          "bar": [
           {
            "error_x": {
             "color": "#2a3f5f"
            },
            "error_y": {
             "color": "#2a3f5f"
            },
            "marker": {
             "line": {
              "color": "white",
              "width": 0.5
             },
             "pattern": {
              "fillmode": "overlay",
              "size": 10,
              "solidity": 0.2
             }
            },
            "type": "bar"
           }
          ],
          "barpolar": [
           {
            "marker": {
             "line": {
              "color": "white",
              "width": 0.5
             },
             "pattern": {
              "fillmode": "overlay",
              "size": 10,
              "solidity": 0.2
             }
            },
            "type": "barpolar"
           }
          ],
          "carpet": [
           {
            "aaxis": {
             "endlinecolor": "#2a3f5f",
             "gridcolor": "#C8D4E3",
             "linecolor": "#C8D4E3",
             "minorgridcolor": "#C8D4E3",
             "startlinecolor": "#2a3f5f"
            },
            "baxis": {
             "endlinecolor": "#2a3f5f",
             "gridcolor": "#C8D4E3",
             "linecolor": "#C8D4E3",
             "minorgridcolor": "#C8D4E3",
             "startlinecolor": "#2a3f5f"
            },
            "type": "carpet"
           }
          ],
          "choropleth": [
           {
            "colorbar": {
             "outlinewidth": 0,
             "ticks": ""
            },
            "type": "choropleth"
           }
          ],
          "contour": [
           {
            "colorbar": {
             "outlinewidth": 0,
             "ticks": ""
            },
            "colorscale": [
             [
              0,
              "#0d0887"
             ],
             [
              0.1111111111111111,
              "#46039f"
             ],
             [
              0.2222222222222222,
              "#7201a8"
             ],
             [
              0.3333333333333333,
              "#9c179e"
             ],
             [
              0.4444444444444444,
              "#bd3786"
             ],
             [
              0.5555555555555556,
              "#d8576b"
             ],
             [
              0.6666666666666666,
              "#ed7953"
             ],
             [
              0.7777777777777778,
              "#fb9f3a"
             ],
             [
              0.8888888888888888,
              "#fdca26"
             ],
             [
              1,
              "#f0f921"
             ]
            ],
            "type": "contour"
           }
          ],
          "contourcarpet": [
           {
            "colorbar": {
             "outlinewidth": 0,
             "ticks": ""
            },
            "type": "contourcarpet"
           }
          ],
          "heatmap": [
           {
            "colorbar": {
             "outlinewidth": 0,
             "ticks": ""
            },
            "colorscale": [
             [
              0,
              "#0d0887"
             ],
             [
              0.1111111111111111,
              "#46039f"
             ],
             [
              0.2222222222222222,
              "#7201a8"
             ],
             [
              0.3333333333333333,
              "#9c179e"
             ],
             [
              0.4444444444444444,
              "#bd3786"
             ],
             [
              0.5555555555555556,
              "#d8576b"
             ],
             [
              0.6666666666666666,
              "#ed7953"
             ],
             [
              0.7777777777777778,
              "#fb9f3a"
             ],
             [
              0.8888888888888888,
              "#fdca26"
             ],
             [
              1,
              "#f0f921"
             ]
            ],
            "type": "heatmap"
           }
          ],
          "heatmapgl": [
           {
            "colorbar": {
             "outlinewidth": 0,
             "ticks": ""
            },
            "colorscale": [
             [
              0,
              "#0d0887"
             ],
             [
              0.1111111111111111,
              "#46039f"
             ],
             [
              0.2222222222222222,
              "#7201a8"
             ],
             [
              0.3333333333333333,
              "#9c179e"
             ],
             [
              0.4444444444444444,
              "#bd3786"
             ],
             [
              0.5555555555555556,
              "#d8576b"
             ],
             [
              0.6666666666666666,
              "#ed7953"
             ],
             [
              0.7777777777777778,
              "#fb9f3a"
             ],
             [
              0.8888888888888888,
              "#fdca26"
             ],
             [
              1,
              "#f0f921"
             ]
            ],
            "type": "heatmapgl"
           }
          ],
          "histogram": [
           {
            "marker": {
             "pattern": {
              "fillmode": "overlay",
              "size": 10,
              "solidity": 0.2
             }
            },
            "type": "histogram"
           }
          ],
          "histogram2d": [
           {
            "colorbar": {
             "outlinewidth": 0,
             "ticks": ""
            },
            "colorscale": [
             [
              0,
              "#0d0887"
             ],
             [
              0.1111111111111111,
              "#46039f"
             ],
             [
              0.2222222222222222,
              "#7201a8"
             ],
             [
              0.3333333333333333,
              "#9c179e"
             ],
             [
              0.4444444444444444,
              "#bd3786"
             ],
             [
              0.5555555555555556,
              "#d8576b"
             ],
             [
              0.6666666666666666,
              "#ed7953"
             ],
             [
              0.7777777777777778,
              "#fb9f3a"
             ],
             [
              0.8888888888888888,
              "#fdca26"
             ],
             [
              1,
              "#f0f921"
             ]
            ],
            "type": "histogram2d"
           }
          ],
          "histogram2dcontour": [
           {
            "colorbar": {
             "outlinewidth": 0,
             "ticks": ""
            },
            "colorscale": [
             [
              0,
              "#0d0887"
             ],
             [
              0.1111111111111111,
              "#46039f"
             ],
             [
              0.2222222222222222,
              "#7201a8"
             ],
             [
              0.3333333333333333,
              "#9c179e"
             ],
             [
              0.4444444444444444,
              "#bd3786"
             ],
             [
              0.5555555555555556,
              "#d8576b"
             ],
             [
              0.6666666666666666,
              "#ed7953"
             ],
             [
              0.7777777777777778,
              "#fb9f3a"
             ],
             [
              0.8888888888888888,
              "#fdca26"
             ],
             [
              1,
              "#f0f921"
             ]
            ],
            "type": "histogram2dcontour"
           }
          ],
          "mesh3d": [
           {
            "colorbar": {
             "outlinewidth": 0,
             "ticks": ""
            },
            "type": "mesh3d"
           }
          ],
          "parcoords": [
           {
            "line": {
             "colorbar": {
              "outlinewidth": 0,
              "ticks": ""
             }
            },
            "type": "parcoords"
           }
          ],
          "pie": [
           {
            "automargin": true,
            "type": "pie"
           }
          ],
          "scatter": [
           {
            "fillpattern": {
             "fillmode": "overlay",
             "size": 10,
             "solidity": 0.2
            },
            "type": "scatter"
           }
          ],
          "scatter3d": [
           {
            "line": {
             "colorbar": {
              "outlinewidth": 0,
              "ticks": ""
             }
            },
            "marker": {
             "colorbar": {
              "outlinewidth": 0,
              "ticks": ""
             }
            },
            "type": "scatter3d"
           }
          ],
          "scattercarpet": [
           {
            "marker": {
             "colorbar": {
              "outlinewidth": 0,
              "ticks": ""
             }
            },
            "type": "scattercarpet"
           }
          ],
          "scattergeo": [
           {
            "marker": {
             "colorbar": {
              "outlinewidth": 0,
              "ticks": ""
             }
            },
            "type": "scattergeo"
           }
          ],
          "scattergl": [
           {
            "marker": {
             "colorbar": {
              "outlinewidth": 0,
              "ticks": ""
             }
            },
            "type": "scattergl"
           }
          ],
          "scattermapbox": [
           {
            "marker": {
             "colorbar": {
              "outlinewidth": 0,
              "ticks": ""
             }
            },
            "type": "scattermapbox"
           }
          ],
          "scatterpolar": [
           {
            "marker": {
             "colorbar": {
              "outlinewidth": 0,
              "ticks": ""
             }
            },
            "type": "scatterpolar"
           }
          ],
          "scatterpolargl": [
           {
            "marker": {
             "colorbar": {
              "outlinewidth": 0,
              "ticks": ""
             }
            },
            "type": "scatterpolargl"
           }
          ],
          "scatterternary": [
           {
            "marker": {
             "colorbar": {
              "outlinewidth": 0,
              "ticks": ""
             }
            },
            "type": "scatterternary"
           }
          ],
          "surface": [
           {
            "colorbar": {
             "outlinewidth": 0,
             "ticks": ""
            },
            "colorscale": [
             [
              0,
              "#0d0887"
             ],
             [
              0.1111111111111111,
              "#46039f"
             ],
             [
              0.2222222222222222,
              "#7201a8"
             ],
             [
              0.3333333333333333,
              "#9c179e"
             ],
             [
              0.4444444444444444,
              "#bd3786"
             ],
             [
              0.5555555555555556,
              "#d8576b"
             ],
             [
              0.6666666666666666,
              "#ed7953"
             ],
             [
              0.7777777777777778,
              "#fb9f3a"
             ],
             [
              0.8888888888888888,
              "#fdca26"
             ],
             [
              1,
              "#f0f921"
             ]
            ],
            "type": "surface"
           }
          ],
          "table": [
           {
            "cells": {
             "fill": {
              "color": "#EBF0F8"
             },
             "line": {
              "color": "white"
             }
            },
            "header": {
             "fill": {
              "color": "#C8D4E3"
             },
             "line": {
              "color": "white"
             }
            },
            "type": "table"
           }
          ]
         },
         "layout": {
          "annotationdefaults": {
           "arrowcolor": "#2a3f5f",
           "arrowhead": 0,
           "arrowwidth": 1
          },
          "annotations": [
           {
            "font": {
             "color": "gray",
             "size": 12
            },
            "name": "timestamp",
            "opacity": 0.3,
            "showarrow": false,
            "text": "Simulated Data · 2024-December-13, 12:58:53 UTC +0000 Timestamp:1734094733.506106",
            "textangle": 0,
            "x": 0.99,
            "xref": "paper",
            "y": 0.01,
            "yref": "paper"
           }
          ],
          "autotypenumbers": "strict",
          "coloraxis": {
           "colorbar": {
            "outlinewidth": 0,
            "ticks": ""
           }
          },
          "colorscale": {
           "diverging": [
            [
             0,
             "#F29ABD"
            ],
            [
             0.1,
             "#F2AAB8"
            ],
            [
             0.2,
             "#F1BBB3"
            ],
            [
             0.3,
             "#F1CBAF"
            ],
            [
             0.4,
             "#F0DCAA"
            ],
            [
             0.5,
             "#F0ECA5"
            ],
            [
             0.6,
             "#CAD3A7"
            ],
            [
             0.7,
             "#A4B9AA"
            ],
            [
             0.8,
             "#7DA0AC"
            ],
            [
             0.9,
             "#5786AF"
            ],
            [
             1,
             "#316DB1"
            ]
           ],
           "sequential": [
            [
             0,
             "#EEC5DD"
            ],
            [
             0.1111111111111111,
             "#DBBCD8"
            ],
            [
             0.2222222222222222,
             "#C8B3D4"
            ],
            [
             0.3333333333333333,
             "#B5ABD0"
            ],
            [
             0.4444444444444444,
             "#A2A2CB"
            ],
            [
             0.5555555555555556,
             "#9099C7"
            ],
            [
             0.6666666666666666,
             "#7D90C3"
            ],
            [
             0.7777777777777778,
             "#6A87BE"
            ],
            [
             0.8888888888888888,
             "#577FBA"
            ],
            [
             0.9999999999999999,
             "#4476B5"
            ],
            [
             1,
             "#316DB1"
            ]
           ],
           "sequentialminus": [
            [
             0,
             "#EEC5DD"
            ],
            [
             0.1111111111111111,
             "#DBBCD8"
            ],
            [
             0.2222222222222222,
             "#C8B3D4"
            ],
            [
             0.3333333333333333,
             "#B5ABD0"
            ],
            [
             0.4444444444444444,
             "#A2A2CB"
            ],
            [
             0.5555555555555556,
             "#9099C7"
            ],
            [
             0.6666666666666666,
             "#7D90C3"
            ],
            [
             0.7777777777777778,
             "#6A87BE"
            ],
            [
             0.8888888888888888,
             "#577FBA"
            ],
            [
             0.9999999999999999,
             "#4476B5"
            ],
            [
             1,
             "#316DB1"
            ]
           ]
          },
          "colorway": [
           "#90B7E4",
           "#F29ABD",
           "#7B84CA",
           "#F0ECA5",
           "#EE7984",
           "#EEC5DD",
           "#A6738F",
           "#EBACA8",
           "#36ACDD",
           "#316DB1"
          ],
          "font": {
           "color": "#2a3f5f"
          },
          "geo": {
           "bgcolor": "rgba(0,0,0,0)",
           "lakecolor": "white",
           "landcolor": "white",
           "showlakes": true,
           "showland": true,
           "subunitcolor": "#C8D4E3"
          },
          "hoverlabel": {
           "align": "left"
          },
          "hovermode": "closest",
          "mapbox": {
           "style": "light"
          },
          "paper_bgcolor": "rgba(0,0,0,0)",
          "plot_bgcolor": "rgba(0,0,0,0)",
          "polar": {
           "angularaxis": {
            "gridcolor": "#EBF0F8",
            "linecolor": "#EBF0F8",
            "ticks": ""
           },
           "bgcolor": "rgba(0,0,0,0)",
           "radialaxis": {
            "gridcolor": "#EBF0F8",
            "linecolor": "#EBF0F8",
            "ticks": ""
           }
          },
          "scene": {
           "xaxis": {
            "backgroundcolor": "white",
            "gridcolor": "#DFE8F3",
            "gridwidth": 2,
            "linecolor": "#EBF0F8",
            "showbackground": true,
            "ticks": "",
            "zerolinecolor": "#EBF0F8"
           },
           "yaxis": {
            "backgroundcolor": "white",
            "gridcolor": "#DFE8F3",
            "gridwidth": 2,
            "linecolor": "#EBF0F8",
            "showbackground": true,
            "ticks": "",
            "zerolinecolor": "#EBF0F8"
           },
           "zaxis": {
            "backgroundcolor": "white",
            "gridcolor": "#DFE8F3",
            "gridwidth": 2,
            "linecolor": "#EBF0F8",
            "showbackground": true,
            "ticks": "",
            "zerolinecolor": "#EBF0F8"
           }
          },
          "shapedefaults": {
           "line": {
            "color": "#2a3f5f"
           }
          },
          "ternary": {
           "aaxis": {
            "gridcolor": "#DFE8F3",
            "linecolor": "#A2B1C6",
            "ticks": ""
           },
           "baxis": {
            "gridcolor": "#DFE8F3",
            "linecolor": "#A2B1C6",
            "ticks": ""
           },
           "bgcolor": "rgba(0,0,0,0)",
           "caxis": {
            "gridcolor": "#DFE8F3",
            "linecolor": "#A2B1C6",
            "ticks": ""
           }
          },
          "title": {
           "x": 0.05
          },
          "xaxis": {
           "automargin": true,
           "gridcolor": "#EBF0F8",
           "linecolor": "#EBF0F8",
           "ticks": "",
           "title": {
            "standoff": 15
           },
           "zerolinecolor": "#EBF0F8",
           "zerolinewidth": 2
          },
          "yaxis": {
           "automargin": true,
           "gridcolor": "#EBF0F8",
           "linecolor": "#EBF0F8",
           "ticks": "",
           "title": {
            "standoff": 15
           },
           "zerolinecolor": "#EBF0F8",
           "zerolinewidth": 2
          }
         }
        },
        "title": {},
        "width": 900,
        "xaxis": {
         "anchor": "y",
         "categoryarray": [
          "not played",
          "bronze",
          "silver",
          "gold"
         ],
         "categoryorder": "array",
         "domain": [
          0,
          0.22444444444444445
         ],
         "showgrid": false,
         "showspikes": false,
         "showticklabels": false
        },
        "xaxis2": {
         "anchor": "y3",
         "categoryarray": [
          "not played",
          "bronze",
          "silver",
          "gold"
         ],
         "categoryorder": "array",
         "domain": [
          0.35777777777777775,
          0.5822222222222222
         ],
         "showgrid": false,
         "showspikes": false,
         "showticklabels": false
        },
        "xaxis3": {
         "anchor": "y5",
         "categoryarray": [
          "not played",
          "bronze",
          "silver",
          "gold"
         ],
         "categoryorder": "array",
         "domain": [
          0.7155555555555555,
          0.94
         ],
         "showgrid": false,
         "showspikes": false,
         "showticklabels": false
        },
        "yaxis": {
         "anchor": "x",
         "domain": [
          0,
          1
         ],
         "showgrid": false,
         "showticklabels": false
        },
        "yaxis2": {
         "anchor": "x",
         "overlaying": "y",
         "showgrid": false,
         "showticklabels": true,
         "side": "right"
        },
        "yaxis3": {
         "anchor": "x2",
         "domain": [
          0,
          1
         ],
         "matches": "y",
         "showgrid": false,
         "showticklabels": false
        },
        "yaxis4": {
         "anchor": "x2",
         "overlaying": "y3",
         "showgrid": false,
         "showticklabels": true,
         "side": "right"
        },
        "yaxis5": {
         "anchor": "x3",
         "domain": [
          0,
          1
         ],
         "matches": "y",
         "showgrid": false,
         "showticklabels": false
        },
        "yaxis6": {
         "anchor": "x3",
         "overlaying": "y5",
         "showgrid": false,
         "showticklabels": true,
         "side": "right"
        }
       }
      }
     },
     "metadata": {},
     "output_type": "display_data"
    }
   ],
   "source": [
    "cust_bar_hline(df_data = pipe_data[pipe_data['medal']!='not played'],\n",
    "x_data = 'medal',\n",
    "y_data = 'acc_w_score',\n",
    "facet_data_col = 'team',\n",
    "selector = 'event_game',\n",
    "y_title = 'Scores by Accumulative Method',\n",
    "hline_values = 'acc_w_score_total',\n",
    "hline_annot_iter = df_data[facet_data_col].unique(),\n",
    "hline_annot = '',\n",
    "category_order = ['not played', 'bronze', 'silver', 'gold'],\n",
    "barcornerradius = \"0%\",\n",
    "title = None,\n",
    "theme = 'plotly_white',\n",
    "w = 900,\n",
    "h = 400,\n",
    "customdata_cols = ['medal_rel_frequence','medal','team_participation_ratio', 'acc_w_score'],\n",
    "hovertemplate = '''<br><i>Proportion %{customdata[0]} medals</i>: %{customdata[1]}\n",
    "                <br>Team event participation %{customdata[2]}%\n",
    "                <br><i>Medal score</i>: %{customdata[3]} points<extra></extra>''')"
   ]
  },
  {
   "cell_type": "code",
   "execution_count": 35,
   "metadata": {},
   "outputs": [
    {
     "ename": "NameError",
     "evalue": "name 'subplot_cols' is not defined",
     "output_type": "error",
     "traceback": [
      "\u001b[0;31m---------------------------------------------------------------------------\u001b[0m",
      "\u001b[0;31mNameError\u001b[0m                                 Traceback (most recent call last)",
      "Cell \u001b[0;32mIn[35], line 1\u001b[0m\n\u001b[0;32m----> 1\u001b[0m \u001b[38;5;28mprint\u001b[39m([[{\u001b[38;5;124m\"\u001b[39m\u001b[38;5;124msecondary_y\u001b[39m\u001b[38;5;124m\"\u001b[39m : \u001b[38;5;28;01mTrue\u001b[39;00m} \u001b[38;5;28;01mfor\u001b[39;00m t \u001b[38;5;129;01min\u001b[39;00m \u001b[38;5;28mrange\u001b[39m(\u001b[38;5;28mlen\u001b[39m(\u001b[43msubplot_cols\u001b[49m))]])\n",
      "\u001b[0;31mNameError\u001b[0m: name 'subplot_cols' is not defined"
     ]
    }
   ],
   "source": [
    "print([[{\"secondary_y\" : True} for t in range(len(subplot_cols))]])"
   ]
  },
  {
   "cell_type": "markdown",
   "metadata": {},
   "source": [
    "## Clustering model"
   ]
  },
  {
   "cell_type": "code",
   "execution_count": 16,
   "metadata": {},
   "outputs": [
    {
     "data": {
      "text/html": [
       "<div>\n",
       "<style scoped>\n",
       "    .dataframe tbody tr th:only-of-type {\n",
       "        vertical-align: middle;\n",
       "    }\n",
       "\n",
       "    .dataframe tbody tr th {\n",
       "        vertical-align: top;\n",
       "    }\n",
       "\n",
       "    .dataframe thead th {\n",
       "        text-align: right;\n",
       "    }\n",
       "</style>\n",
       "<table border=\"1\" class=\"dataframe\">\n",
       "  <thead>\n",
       "    <tr style=\"text-align: right;\">\n",
       "      <th></th>\n",
       "      <th>player_id</th>\n",
       "      <th>event_date</th>\n",
       "      <th>event_game</th>\n",
       "      <th>score</th>\n",
       "      <th>medal</th>\n",
       "      <th>team</th>\n",
       "    </tr>\n",
       "  </thead>\n",
       "  <tbody>\n",
       "    <tr>\n",
       "      <th>0</th>\n",
       "      <td>96798</td>\n",
       "      <td>2024-12-15</td>\n",
       "      <td>A</td>\n",
       "      <td>2</td>\n",
       "      <td>silver</td>\n",
       "      <td>summer</td>\n",
       "    </tr>\n",
       "    <tr>\n",
       "      <th>1</th>\n",
       "      <td>96798</td>\n",
       "      <td>2024-12-15</td>\n",
       "      <td>B</td>\n",
       "      <td>3</td>\n",
       "      <td>gold</td>\n",
       "      <td>summer</td>\n",
       "    </tr>\n",
       "    <tr>\n",
       "      <th>2</th>\n",
       "      <td>96798</td>\n",
       "      <td>2024-12-15</td>\n",
       "      <td>C</td>\n",
       "      <td>3</td>\n",
       "      <td>gold</td>\n",
       "      <td>summer</td>\n",
       "    </tr>\n",
       "    <tr>\n",
       "      <th>3</th>\n",
       "      <td>75054</td>\n",
       "      <td>2024-12-15</td>\n",
       "      <td>A</td>\n",
       "      <td>1</td>\n",
       "      <td>bronze</td>\n",
       "      <td>summer</td>\n",
       "    </tr>\n",
       "    <tr>\n",
       "      <th>4</th>\n",
       "      <td>75054</td>\n",
       "      <td>2024-12-15</td>\n",
       "      <td>B</td>\n",
       "      <td>1</td>\n",
       "      <td>bronze</td>\n",
       "      <td>summer</td>\n",
       "    </tr>\n",
       "  </tbody>\n",
       "</table>\n",
       "</div>"
      ],
      "text/plain": [
       "  player_id  event_date event_game  score   medal    team\n",
       "0     96798  2024-12-15          A      2  silver  summer\n",
       "1     96798  2024-12-15          B      3    gold  summer\n",
       "2     96798  2024-12-15          C      3    gold  summer\n",
       "3     75054  2024-12-15          A      1  bronze  summer\n",
       "4     75054  2024-12-15          B      1  bronze  summer"
      ]
     },
     "execution_count": 16,
     "metadata": {},
     "output_type": "execute_result"
    }
   ],
   "source": [
    "df_teams_disagg.head()"
   ]
  },
  {
   "cell_type": "code",
   "execution_count": 17,
   "metadata": {},
   "outputs": [
    {
     "data": {
      "text/html": [
       "<div>\n",
       "<style scoped>\n",
       "    .dataframe tbody tr th:only-of-type {\n",
       "        vertical-align: middle;\n",
       "    }\n",
       "\n",
       "    .dataframe tbody tr th {\n",
       "        vertical-align: top;\n",
       "    }\n",
       "\n",
       "    .dataframe thead th {\n",
       "        text-align: right;\n",
       "    }\n",
       "</style>\n",
       "<table border=\"1\" class=\"dataframe\">\n",
       "  <thead>\n",
       "    <tr style=\"text-align: right;\">\n",
       "      <th></th>\n",
       "      <th>event_date</th>\n",
       "      <th>player_id</th>\n",
       "      <th>team</th>\n",
       "      <th>score</th>\n",
       "      <th>player_participation</th>\n",
       "      <th>autumn</th>\n",
       "      <th>summer</th>\n",
       "      <th>winter</th>\n",
       "    </tr>\n",
       "  </thead>\n",
       "  <tbody>\n",
       "    <tr>\n",
       "      <th>0</th>\n",
       "      <td>2024-12-15</td>\n",
       "      <td>29477</td>\n",
       "      <td>summer</td>\n",
       "      <td>3</td>\n",
       "      <td>0.666667</td>\n",
       "      <td>0</td>\n",
       "      <td>1</td>\n",
       "      <td>0</td>\n",
       "    </tr>\n",
       "    <tr>\n",
       "      <th>1</th>\n",
       "      <td>2024-12-15</td>\n",
       "      <td>30408</td>\n",
       "      <td>winter</td>\n",
       "      <td>4</td>\n",
       "      <td>0.666667</td>\n",
       "      <td>0</td>\n",
       "      <td>0</td>\n",
       "      <td>1</td>\n",
       "    </tr>\n",
       "    <tr>\n",
       "      <th>2</th>\n",
       "      <td>2024-12-15</td>\n",
       "      <td>31022</td>\n",
       "      <td>winter</td>\n",
       "      <td>4</td>\n",
       "      <td>1.000000</td>\n",
       "      <td>0</td>\n",
       "      <td>0</td>\n",
       "      <td>1</td>\n",
       "    </tr>\n",
       "    <tr>\n",
       "      <th>3</th>\n",
       "      <td>2024-12-15</td>\n",
       "      <td>33028</td>\n",
       "      <td>autumn</td>\n",
       "      <td>8</td>\n",
       "      <td>1.000000</td>\n",
       "      <td>1</td>\n",
       "      <td>0</td>\n",
       "      <td>0</td>\n",
       "    </tr>\n",
       "    <tr>\n",
       "      <th>4</th>\n",
       "      <td>2024-12-15</td>\n",
       "      <td>34224</td>\n",
       "      <td>autumn</td>\n",
       "      <td>6</td>\n",
       "      <td>1.000000</td>\n",
       "      <td>1</td>\n",
       "      <td>0</td>\n",
       "      <td>0</td>\n",
       "    </tr>\n",
       "  </tbody>\n",
       "</table>\n",
       "</div>"
      ],
      "text/plain": [
       "   event_date player_id    team  score  player_participation  autumn  summer  \\\n",
       "0  2024-12-15     29477  summer      3              0.666667       0       1   \n",
       "1  2024-12-15     30408  winter      4              0.666667       0       0   \n",
       "2  2024-12-15     31022  winter      4              1.000000       0       0   \n",
       "3  2024-12-15     33028  autumn      8              1.000000       1       0   \n",
       "4  2024-12-15     34224  autumn      6              1.000000       1       0   \n",
       "\n",
       "   winter  \n",
       "0       0  \n",
       "1       1  \n",
       "2       1  \n",
       "3       0  \n",
       "4       0  "
      ]
     },
     "execution_count": 17,
     "metadata": {},
     "output_type": "execute_result"
    }
   ],
   "source": [
    "# https://pandas.pydata.org/docs/reference/api/pandas.get_dummies.html\n",
    "\n",
    "# preprocessing\n",
    "df_clust_data = df_teams_disagg[['event_date', 'player_id', 'team', 'score', 'medal']].copy()\n",
    "df_clust_data['player_participation'] = df_clust_data['medal'].replace({'gold':1, 'silver':1, 'bronze':1, 'not played':0})\n",
    "\n",
    "df_clust_data = df_clust_data.groupby(['event_date', 'player_id', 'team']).sum(['score', 'played']).reset_index()\n",
    "df_clust_data['player_participation'] = df_clust_data['player_participation'].apply(lambda x: x/len(df_teams_disagg['event_game'].unique()))\n",
    "\n",
    "# no se si es necesario el token\n",
    "#tokens = {team:token for team,token in zip(df_teams_disagg['team'].unique(), range(1, len(df_teams_disagg['team'].unique())+1))}\n",
    "#df_clust_data['team_token'] = df_clust_data['team'].replace(tokens)\n",
    "\n",
    "# get_dummies (no suffix added, it only takes each team name as a feature to add to X)\n",
    "df_clust_data = pd.concat([df_clust_data, pd.get_dummies(df_clust_data['team'])], axis=1)\n",
    "\n",
    "X = df_clust_data[['score', 'player_participation'] + list(df_clust_data['team'].unique())].to_numpy()\n",
    "#X = df_clust_data[['score', 'player_participation']].to_numpy()\n",
    "\n",
    "df_clust_data.head()"
   ]
  },
  {
   "cell_type": "code",
   "execution_count": 18,
   "metadata": {},
   "outputs": [],
   "source": [
    "def kmeans_silhouette_score_eval(X : np.array) -> list:\n",
    "    \"\"\"\n",
    "    Function\n",
    "    -\n",
    "    Cluster labels, ideal number of clusters, average silhouete score and label samples,\n",
    "    based on sklearn metrics\n",
    "\n",
    "    Parameters\n",
    "    -\n",
    "    - X: numpy array with data to cluster with KMeans\n",
    "    \"\"\"\n",
    "\n",
    "    # evaluate silhouette best score and n_clusters\n",
    "    clusters, avg_sil_score = [], []\n",
    "    for n_clusters in range(2, len(X)):\n",
    "        kmeans = KMeans(n_clusters = n_clusters)\n",
    "        labels = kmeans.fit_predict(X)\n",
    "        sil_score = silhouette_score(X, labels)\n",
    "\n",
    "        clusters.append(n_clusters)\n",
    "        avg_sil_score.append(sil_score)\n",
    "\n",
    "    # sort together to get best score with clusters\n",
    "    eval = pd.DataFrame({'n_clusters' : clusters,\n",
    "                'silhouette_score' : avg_sil_score}\n",
    "                ). sort_values('silhouette_score', ascending=False, ignore_index=True)\n",
    "\n",
    "    clusters = eval.at[0,'n_clusters']\n",
    "    avg_sil_score = eval.at[0,'silhouette_score']\n",
    "\n",
    "    # readjust model\n",
    "    kmeans = KMeans(n_clusters = clusters)\n",
    "    labels = kmeans.fit_predict(X)\n",
    "    sil_samples = silhouette_samples(X, labels)\n",
    "\n",
    "\n",
    "    return labels, sil_samples, clusters, avg_sil_score"
   ]
  },
  {
   "cell_type": "code",
   "execution_count": 19,
   "metadata": {},
   "outputs": [
    {
     "name": "stderr",
     "output_type": "stream",
     "text": [
      "Exception ignored on calling ctypes callback function: <function _ThreadpoolInfo._find_modules_with_dl_iterate_phdr.<locals>.match_module_callback at 0x7aab87f58ea0>\n",
      "Traceback (most recent call last):\n",
      "  File \"/home/bosse/anaconda3/lib/python3.11/site-packages/threadpoolctl.py\", line 400, in match_module_callback\n",
      "    self._make_module_from_path(filepath)\n",
      "  File \"/home/bosse/anaconda3/lib/python3.11/site-packages/threadpoolctl.py\", line 515, in _make_module_from_path\n",
      "    module = module_class(filepath, prefix, user_api, internal_api)\n",
      "             ^^^^^^^^^^^^^^^^^^^^^^^^^^^^^^^^^^^^^^^^^^^^^^^^^^^^^^\n",
      "  File \"/home/bosse/anaconda3/lib/python3.11/site-packages/threadpoolctl.py\", line 606, in __init__\n",
      "    self.version = self.get_version()\n",
      "                   ^^^^^^^^^^^^^^^^^^\n",
      "  File \"/home/bosse/anaconda3/lib/python3.11/site-packages/threadpoolctl.py\", line 646, in get_version\n",
      "    config = get_config().split()\n",
      "             ^^^^^^^^^^^^^^^^^^\n",
      "AttributeError: 'NoneType' object has no attribute 'split'\n"
     ]
    },
    {
     "name": "stderr",
     "output_type": "stream",
     "text": [
      "Exception ignored on calling ctypes callback function: <function _ThreadpoolInfo._find_modules_with_dl_iterate_phdr.<locals>.match_module_callback at 0x7aab87f58ea0>\n",
      "Traceback (most recent call last):\n",
      "  File \"/home/bosse/anaconda3/lib/python3.11/site-packages/threadpoolctl.py\", line 400, in match_module_callback\n",
      "    self._make_module_from_path(filepath)\n",
      "  File \"/home/bosse/anaconda3/lib/python3.11/site-packages/threadpoolctl.py\", line 515, in _make_module_from_path\n",
      "    module = module_class(filepath, prefix, user_api, internal_api)\n",
      "             ^^^^^^^^^^^^^^^^^^^^^^^^^^^^^^^^^^^^^^^^^^^^^^^^^^^^^^\n",
      "  File \"/home/bosse/anaconda3/lib/python3.11/site-packages/threadpoolctl.py\", line 606, in __init__\n",
      "    self.version = self.get_version()\n",
      "                   ^^^^^^^^^^^^^^^^^^\n",
      "  File \"/home/bosse/anaconda3/lib/python3.11/site-packages/threadpoolctl.py\", line 646, in get_version\n",
      "    config = get_config().split()\n",
      "             ^^^^^^^^^^^^^^^^^^\n",
      "AttributeError: 'NoneType' object has no attribute 'split'\n",
      "Exception ignored on calling ctypes callback function: <function _ThreadpoolInfo._find_modules_with_dl_iterate_phdr.<locals>.match_module_callback at 0x7aab87f58ea0>\n",
      "Traceback (most recent call last):\n",
      "  File \"/home/bosse/anaconda3/lib/python3.11/site-packages/threadpoolctl.py\", line 400, in match_module_callback\n",
      "    self._make_module_from_path(filepath)\n",
      "  File \"/home/bosse/anaconda3/lib/python3.11/site-packages/threadpoolctl.py\", line 515, in _make_module_from_path\n",
      "    module = module_class(filepath, prefix, user_api, internal_api)\n",
      "             ^^^^^^^^^^^^^^^^^^^^^^^^^^^^^^^^^^^^^^^^^^^^^^^^^^^^^^\n",
      "  File \"/home/bosse/anaconda3/lib/python3.11/site-packages/threadpoolctl.py\", line 606, in __init__\n",
      "    self.version = self.get_version()\n",
      "                   ^^^^^^^^^^^^^^^^^^\n",
      "  File \"/home/bosse/anaconda3/lib/python3.11/site-packages/threadpoolctl.py\", line 646, in get_version\n",
      "    config = get_config().split()\n",
      "             ^^^^^^^^^^^^^^^^^^\n",
      "AttributeError: 'NoneType' object has no attribute 'split'\n",
      "Exception ignored on calling ctypes callback function: <function _ThreadpoolInfo._find_modules_with_dl_iterate_phdr.<locals>.match_module_callback at 0x7aab87f58ea0>\n",
      "Traceback (most recent call last):\n",
      "  File \"/home/bosse/anaconda3/lib/python3.11/site-packages/threadpoolctl.py\", line 400, in match_module_callback\n",
      "    self._make_module_from_path(filepath)\n",
      "  File \"/home/bosse/anaconda3/lib/python3.11/site-packages/threadpoolctl.py\", line 515, in _make_module_from_path\n",
      "    module = module_class(filepath, prefix, user_api, internal_api)\n",
      "             ^^^^^^^^^^^^^^^^^^^^^^^^^^^^^^^^^^^^^^^^^^^^^^^^^^^^^^\n",
      "  File \"/home/bosse/anaconda3/lib/python3.11/site-packages/threadpoolctl.py\", line 606, in __init__\n",
      "    self.version = self.get_version()\n",
      "                   ^^^^^^^^^^^^^^^^^^\n",
      "  File \"/home/bosse/anaconda3/lib/python3.11/site-packages/threadpoolctl.py\", line 646, in get_version\n",
      "    config = get_config().split()\n",
      "             ^^^^^^^^^^^^^^^^^^\n",
      "AttributeError: 'NoneType' object has no attribute 'split'\n",
      "Exception ignored on calling ctypes callback function: <function _ThreadpoolInfo._find_modules_with_dl_iterate_phdr.<locals>.match_module_callback at 0x7aab87f58ea0>\n",
      "Traceback (most recent call last):\n",
      "  File \"/home/bosse/anaconda3/lib/python3.11/site-packages/threadpoolctl.py\", line 400, in match_module_callback\n",
      "    self._make_module_from_path(filepath)\n",
      "  File \"/home/bosse/anaconda3/lib/python3.11/site-packages/threadpoolctl.py\", line 515, in _make_module_from_path\n",
      "    module = module_class(filepath, prefix, user_api, internal_api)\n",
      "             ^^^^^^^^^^^^^^^^^^^^^^^^^^^^^^^^^^^^^^^^^^^^^^^^^^^^^^\n",
      "  File \"/home/bosse/anaconda3/lib/python3.11/site-packages/threadpoolctl.py\", line 606, in __init__\n",
      "    self.version = self.get_version()\n",
      "                   ^^^^^^^^^^^^^^^^^^\n",
      "  File \"/home/bosse/anaconda3/lib/python3.11/site-packages/threadpoolctl.py\", line 646, in get_version\n",
      "    config = get_config().split()\n",
      "             ^^^^^^^^^^^^^^^^^^\n",
      "AttributeError: 'NoneType' object has no attribute 'split'\n",
      "Exception ignored on calling ctypes callback function: <function _ThreadpoolInfo._find_modules_with_dl_iterate_phdr.<locals>.match_module_callback at 0x7aab87f58ea0>\n",
      "Traceback (most recent call last):\n",
      "  File \"/home/bosse/anaconda3/lib/python3.11/site-packages/threadpoolctl.py\", line 400, in match_module_callback\n",
      "    self._make_module_from_path(filepath)\n",
      "  File \"/home/bosse/anaconda3/lib/python3.11/site-packages/threadpoolctl.py\", line 515, in _make_module_from_path\n",
      "    module = module_class(filepath, prefix, user_api, internal_api)\n",
      "             ^^^^^^^^^^^^^^^^^^^^^^^^^^^^^^^^^^^^^^^^^^^^^^^^^^^^^^\n",
      "  File \"/home/bosse/anaconda3/lib/python3.11/site-packages/threadpoolctl.py\", line 606, in __init__\n",
      "    self.version = self.get_version()\n",
      "                   ^^^^^^^^^^^^^^^^^^\n",
      "  File \"/home/bosse/anaconda3/lib/python3.11/site-packages/threadpoolctl.py\", line 646, in get_version\n",
      "    config = get_config().split()\n",
      "             ^^^^^^^^^^^^^^^^^^\n",
      "AttributeError: 'NoneType' object has no attribute 'split'\n",
      "Exception ignored on calling ctypes callback function: <function _ThreadpoolInfo._find_modules_with_dl_iterate_phdr.<locals>.match_module_callback at 0x7aab87f58ea0>\n",
      "Traceback (most recent call last):\n",
      "  File \"/home/bosse/anaconda3/lib/python3.11/site-packages/threadpoolctl.py\", line 400, in match_module_callback\n",
      "    self._make_module_from_path(filepath)\n",
      "  File \"/home/bosse/anaconda3/lib/python3.11/site-packages/threadpoolctl.py\", line 515, in _make_module_from_path\n",
      "    module = module_class(filepath, prefix, user_api, internal_api)\n",
      "             ^^^^^^^^^^^^^^^^^^^^^^^^^^^^^^^^^^^^^^^^^^^^^^^^^^^^^^\n",
      "  File \"/home/bosse/anaconda3/lib/python3.11/site-packages/threadpoolctl.py\", line 606, in __init__\n",
      "    self.version = self.get_version()\n",
      "                   ^^^^^^^^^^^^^^^^^^\n",
      "  File \"/home/bosse/anaconda3/lib/python3.11/site-packages/threadpoolctl.py\", line 646, in get_version\n",
      "    config = get_config().split()\n",
      "             ^^^^^^^^^^^^^^^^^^\n",
      "AttributeError: 'NoneType' object has no attribute 'split'\n",
      "Exception ignored on calling ctypes callback function: <function _ThreadpoolInfo._find_modules_with_dl_iterate_phdr.<locals>.match_module_callback at 0x7aab87f58ea0>\n",
      "Traceback (most recent call last):\n",
      "  File \"/home/bosse/anaconda3/lib/python3.11/site-packages/threadpoolctl.py\", line 400, in match_module_callback\n",
      "    self._make_module_from_path(filepath)\n",
      "  File \"/home/bosse/anaconda3/lib/python3.11/site-packages/threadpoolctl.py\", line 515, in _make_module_from_path\n",
      "    module = module_class(filepath, prefix, user_api, internal_api)\n",
      "             ^^^^^^^^^^^^^^^^^^^^^^^^^^^^^^^^^^^^^^^^^^^^^^^^^^^^^^\n",
      "  File \"/home/bosse/anaconda3/lib/python3.11/site-packages/threadpoolctl.py\", line 606, in __init__\n",
      "    self.version = self.get_version()\n",
      "                   ^^^^^^^^^^^^^^^^^^\n",
      "  File \"/home/bosse/anaconda3/lib/python3.11/site-packages/threadpoolctl.py\", line 646, in get_version\n",
      "    config = get_config().split()\n",
      "             ^^^^^^^^^^^^^^^^^^\n",
      "AttributeError: 'NoneType' object has no attribute 'split'\n",
      "Exception ignored on calling ctypes callback function: <function _ThreadpoolInfo._find_modules_with_dl_iterate_phdr.<locals>.match_module_callback at 0x7aab87f58ea0>\n",
      "Traceback (most recent call last):\n",
      "  File \"/home/bosse/anaconda3/lib/python3.11/site-packages/threadpoolctl.py\", line 400, in match_module_callback\n",
      "    self._make_module_from_path(filepath)\n",
      "  File \"/home/bosse/anaconda3/lib/python3.11/site-packages/threadpoolctl.py\", line 515, in _make_module_from_path\n",
      "    module = module_class(filepath, prefix, user_api, internal_api)\n",
      "             ^^^^^^^^^^^^^^^^^^^^^^^^^^^^^^^^^^^^^^^^^^^^^^^^^^^^^^\n",
      "  File \"/home/bosse/anaconda3/lib/python3.11/site-packages/threadpoolctl.py\", line 606, in __init__\n",
      "    self.version = self.get_version()\n",
      "                   ^^^^^^^^^^^^^^^^^^\n",
      "  File \"/home/bosse/anaconda3/lib/python3.11/site-packages/threadpoolctl.py\", line 646, in get_version\n",
      "    config = get_config().split()\n",
      "             ^^^^^^^^^^^^^^^^^^\n",
      "AttributeError: 'NoneType' object has no attribute 'split'\n",
      "Exception ignored on calling ctypes callback function: <function _ThreadpoolInfo._find_modules_with_dl_iterate_phdr.<locals>.match_module_callback at 0x7aab87f58ea0>\n",
      "Traceback (most recent call last):\n",
      "  File \"/home/bosse/anaconda3/lib/python3.11/site-packages/threadpoolctl.py\", line 400, in match_module_callback\n",
      "    self._make_module_from_path(filepath)\n",
      "  File \"/home/bosse/anaconda3/lib/python3.11/site-packages/threadpoolctl.py\", line 515, in _make_module_from_path\n",
      "    module = module_class(filepath, prefix, user_api, internal_api)\n",
      "             ^^^^^^^^^^^^^^^^^^^^^^^^^^^^^^^^^^^^^^^^^^^^^^^^^^^^^^\n",
      "  File \"/home/bosse/anaconda3/lib/python3.11/site-packages/threadpoolctl.py\", line 606, in __init__\n",
      "    self.version = self.get_version()\n",
      "                   ^^^^^^^^^^^^^^^^^^\n",
      "  File \"/home/bosse/anaconda3/lib/python3.11/site-packages/threadpoolctl.py\", line 646, in get_version\n",
      "    config = get_config().split()\n",
      "             ^^^^^^^^^^^^^^^^^^\n",
      "AttributeError: 'NoneType' object has no attribute 'split'\n",
      "Exception ignored on calling ctypes callback function: <function _ThreadpoolInfo._find_modules_with_dl_iterate_phdr.<locals>.match_module_callback at 0x7aab87f58ea0>\n",
      "Traceback (most recent call last):\n",
      "  File \"/home/bosse/anaconda3/lib/python3.11/site-packages/threadpoolctl.py\", line 400, in match_module_callback\n",
      "    self._make_module_from_path(filepath)\n",
      "  File \"/home/bosse/anaconda3/lib/python3.11/site-packages/threadpoolctl.py\", line 515, in _make_module_from_path\n",
      "    module = module_class(filepath, prefix, user_api, internal_api)\n",
      "             ^^^^^^^^^^^^^^^^^^^^^^^^^^^^^^^^^^^^^^^^^^^^^^^^^^^^^^\n",
      "  File \"/home/bosse/anaconda3/lib/python3.11/site-packages/threadpoolctl.py\", line 606, in __init__\n",
      "    self.version = self.get_version()\n",
      "                   ^^^^^^^^^^^^^^^^^^\n",
      "  File \"/home/bosse/anaconda3/lib/python3.11/site-packages/threadpoolctl.py\", line 646, in get_version\n",
      "    config = get_config().split()\n",
      "             ^^^^^^^^^^^^^^^^^^\n",
      "AttributeError: 'NoneType' object has no attribute 'split'\n",
      "Exception ignored on calling ctypes callback function: <function _ThreadpoolInfo._find_modules_with_dl_iterate_phdr.<locals>.match_module_callback at 0x7aab87f58ea0>\n",
      "Traceback (most recent call last):\n",
      "  File \"/home/bosse/anaconda3/lib/python3.11/site-packages/threadpoolctl.py\", line 400, in match_module_callback\n",
      "    self._make_module_from_path(filepath)\n",
      "  File \"/home/bosse/anaconda3/lib/python3.11/site-packages/threadpoolctl.py\", line 515, in _make_module_from_path\n",
      "    module = module_class(filepath, prefix, user_api, internal_api)\n",
      "             ^^^^^^^^^^^^^^^^^^^^^^^^^^^^^^^^^^^^^^^^^^^^^^^^^^^^^^\n",
      "  File \"/home/bosse/anaconda3/lib/python3.11/site-packages/threadpoolctl.py\", line 606, in __init__\n",
      "    self.version = self.get_version()\n",
      "                   ^^^^^^^^^^^^^^^^^^\n",
      "  File \"/home/bosse/anaconda3/lib/python3.11/site-packages/threadpoolctl.py\", line 646, in get_version\n",
      "    config = get_config().split()\n",
      "             ^^^^^^^^^^^^^^^^^^\n",
      "AttributeError: 'NoneType' object has no attribute 'split'\n",
      "Exception ignored on calling ctypes callback function: <function _ThreadpoolInfo._find_modules_with_dl_iterate_phdr.<locals>.match_module_callback at 0x7aab8228f560>\n",
      "Traceback (most recent call last):\n",
      "  File \"/home/bosse/anaconda3/lib/python3.11/site-packages/threadpoolctl.py\", line 400, in match_module_callback\n",
      "    self._make_module_from_path(filepath)\n",
      "  File \"/home/bosse/anaconda3/lib/python3.11/site-packages/threadpoolctl.py\", line 515, in _make_module_from_path\n",
      "    module = module_class(filepath, prefix, user_api, internal_api)\n",
      "             ^^^^^^^^^^^^^^^^^^^^^^^^^^^^^^^^^^^^^^^^^^^^^^^^^^^^^^\n",
      "  File \"/home/bosse/anaconda3/lib/python3.11/site-packages/threadpoolctl.py\", line 606, in __init__\n",
      "    self.version = self.get_version()\n",
      "                   ^^^^^^^^^^^^^^^^^^\n",
      "  File \"/home/bosse/anaconda3/lib/python3.11/site-packages/threadpoolctl.py\", line 646, in get_version\n",
      "    config = get_config().split()\n",
      "             ^^^^^^^^^^^^^^^^^^\n",
      "AttributeError: 'NoneType' object has no attribute 'split'\n",
      "Exception ignored on calling ctypes callback function: <function _ThreadpoolInfo._find_modules_with_dl_iterate_phdr.<locals>.match_module_callback at 0x7aab8228f4c0>\n",
      "Traceback (most recent call last):\n",
      "  File \"/home/bosse/anaconda3/lib/python3.11/site-packages/threadpoolctl.py\", line 400, in match_module_callback\n",
      "    self._make_module_from_path(filepath)\n",
      "  File \"/home/bosse/anaconda3/lib/python3.11/site-packages/threadpoolctl.py\", line 515, in _make_module_from_path\n",
      "    module = module_class(filepath, prefix, user_api, internal_api)\n",
      "             ^^^^^^^^^^^^^^^^^^^^^^^^^^^^^^^^^^^^^^^^^^^^^^^^^^^^^^\n",
      "  File \"/home/bosse/anaconda3/lib/python3.11/site-packages/threadpoolctl.py\", line 606, in __init__\n",
      "    self.version = self.get_version()\n",
      "                   ^^^^^^^^^^^^^^^^^^\n",
      "  File \"/home/bosse/anaconda3/lib/python3.11/site-packages/threadpoolctl.py\", line 646, in get_version\n",
      "    config = get_config().split()\n",
      "             ^^^^^^^^^^^^^^^^^^\n",
      "AttributeError: 'NoneType' object has no attribute 'split'\n",
      "Exception ignored on calling ctypes callback function: <function _ThreadpoolInfo._find_modules_with_dl_iterate_phdr.<locals>.match_module_callback at 0x7aab87f58ea0>\n",
      "Traceback (most recent call last):\n",
      "  File \"/home/bosse/anaconda3/lib/python3.11/site-packages/threadpoolctl.py\", line 400, in match_module_callback\n",
      "    self._make_module_from_path(filepath)\n",
      "  File \"/home/bosse/anaconda3/lib/python3.11/site-packages/threadpoolctl.py\", line 515, in _make_module_from_path\n",
      "    module = module_class(filepath, prefix, user_api, internal_api)\n",
      "             ^^^^^^^^^^^^^^^^^^^^^^^^^^^^^^^^^^^^^^^^^^^^^^^^^^^^^^\n",
      "  File \"/home/bosse/anaconda3/lib/python3.11/site-packages/threadpoolctl.py\", line 606, in __init__\n",
      "    self.version = self.get_version()\n",
      "                   ^^^^^^^^^^^^^^^^^^\n",
      "  File \"/home/bosse/anaconda3/lib/python3.11/site-packages/threadpoolctl.py\", line 646, in get_version\n",
      "    config = get_config().split()\n",
      "             ^^^^^^^^^^^^^^^^^^\n",
      "AttributeError: 'NoneType' object has no attribute 'split'\n",
      "Exception ignored on calling ctypes callback function: <function _ThreadpoolInfo._find_modules_with_dl_iterate_phdr.<locals>.match_module_callback at 0x7aab87f58ea0>\n",
      "Traceback (most recent call last):\n",
      "  File \"/home/bosse/anaconda3/lib/python3.11/site-packages/threadpoolctl.py\", line 400, in match_module_callback\n",
      "    self._make_module_from_path(filepath)\n",
      "  File \"/home/bosse/anaconda3/lib/python3.11/site-packages/threadpoolctl.py\", line 515, in _make_module_from_path\n",
      "    module = module_class(filepath, prefix, user_api, internal_api)\n",
      "             ^^^^^^^^^^^^^^^^^^^^^^^^^^^^^^^^^^^^^^^^^^^^^^^^^^^^^^\n",
      "  File \"/home/bosse/anaconda3/lib/python3.11/site-packages/threadpoolctl.py\", line 606, in __init__\n",
      "    self.version = self.get_version()\n",
      "                   ^^^^^^^^^^^^^^^^^^\n",
      "  File \"/home/bosse/anaconda3/lib/python3.11/site-packages/threadpoolctl.py\", line 646, in get_version\n",
      "    config = get_config().split()\n",
      "             ^^^^^^^^^^^^^^^^^^\n",
      "AttributeError: 'NoneType' object has no attribute 'split'\n",
      "Exception ignored on calling ctypes callback function: <function _ThreadpoolInfo._find_modules_with_dl_iterate_phdr.<locals>.match_module_callback at 0x7aab87f58ea0>\n",
      "Traceback (most recent call last):\n",
      "  File \"/home/bosse/anaconda3/lib/python3.11/site-packages/threadpoolctl.py\", line 400, in match_module_callback\n",
      "    self._make_module_from_path(filepath)\n",
      "  File \"/home/bosse/anaconda3/lib/python3.11/site-packages/threadpoolctl.py\", line 515, in _make_module_from_path\n",
      "    module = module_class(filepath, prefix, user_api, internal_api)\n",
      "             ^^^^^^^^^^^^^^^^^^^^^^^^^^^^^^^^^^^^^^^^^^^^^^^^^^^^^^\n",
      "  File \"/home/bosse/anaconda3/lib/python3.11/site-packages/threadpoolctl.py\", line 606, in __init__\n",
      "    self.version = self.get_version()\n",
      "                   ^^^^^^^^^^^^^^^^^^\n",
      "  File \"/home/bosse/anaconda3/lib/python3.11/site-packages/threadpoolctl.py\", line 646, in get_version\n",
      "    config = get_config().split()\n",
      "             ^^^^^^^^^^^^^^^^^^\n",
      "AttributeError: 'NoneType' object has no attribute 'split'\n",
      "Exception ignored on calling ctypes callback function: <function _ThreadpoolInfo._find_modules_with_dl_iterate_phdr.<locals>.match_module_callback at 0x7aab87f58ea0>\n",
      "Traceback (most recent call last):\n",
      "  File \"/home/bosse/anaconda3/lib/python3.11/site-packages/threadpoolctl.py\", line 400, in match_module_callback\n",
      "    self._make_module_from_path(filepath)\n",
      "  File \"/home/bosse/anaconda3/lib/python3.11/site-packages/threadpoolctl.py\", line 515, in _make_module_from_path\n",
      "    module = module_class(filepath, prefix, user_api, internal_api)\n",
      "             ^^^^^^^^^^^^^^^^^^^^^^^^^^^^^^^^^^^^^^^^^^^^^^^^^^^^^^\n",
      "  File \"/home/bosse/anaconda3/lib/python3.11/site-packages/threadpoolctl.py\", line 606, in __init__\n",
      "    self.version = self.get_version()\n",
      "                   ^^^^^^^^^^^^^^^^^^\n",
      "  File \"/home/bosse/anaconda3/lib/python3.11/site-packages/threadpoolctl.py\", line 646, in get_version\n",
      "    config = get_config().split()\n",
      "             ^^^^^^^^^^^^^^^^^^\n",
      "AttributeError: 'NoneType' object has no attribute 'split'\n",
      "Exception ignored on calling ctypes callback function: <function _ThreadpoolInfo._find_modules_with_dl_iterate_phdr.<locals>.match_module_callback at 0x7aab87f58ea0>\n",
      "Traceback (most recent call last):\n",
      "  File \"/home/bosse/anaconda3/lib/python3.11/site-packages/threadpoolctl.py\", line 400, in match_module_callback\n",
      "    self._make_module_from_path(filepath)\n",
      "  File \"/home/bosse/anaconda3/lib/python3.11/site-packages/threadpoolctl.py\", line 515, in _make_module_from_path\n",
      "    module = module_class(filepath, prefix, user_api, internal_api)\n",
      "             ^^^^^^^^^^^^^^^^^^^^^^^^^^^^^^^^^^^^^^^^^^^^^^^^^^^^^^\n",
      "  File \"/home/bosse/anaconda3/lib/python3.11/site-packages/threadpoolctl.py\", line 606, in __init__\n",
      "    self.version = self.get_version()\n",
      "                   ^^^^^^^^^^^^^^^^^^\n",
      "  File \"/home/bosse/anaconda3/lib/python3.11/site-packages/threadpoolctl.py\", line 646, in get_version\n",
      "    config = get_config().split()\n",
      "             ^^^^^^^^^^^^^^^^^^\n",
      "AttributeError: 'NoneType' object has no attribute 'split'\n",
      "Exception ignored on calling ctypes callback function: <function _ThreadpoolInfo._find_modules_with_dl_iterate_phdr.<locals>.match_module_callback at 0x7aab87f58ea0>\n",
      "Traceback (most recent call last):\n",
      "  File \"/home/bosse/anaconda3/lib/python3.11/site-packages/threadpoolctl.py\", line 400, in match_module_callback\n",
      "    self._make_module_from_path(filepath)\n",
      "  File \"/home/bosse/anaconda3/lib/python3.11/site-packages/threadpoolctl.py\", line 515, in _make_module_from_path\n",
      "    module = module_class(filepath, prefix, user_api, internal_api)\n",
      "             ^^^^^^^^^^^^^^^^^^^^^^^^^^^^^^^^^^^^^^^^^^^^^^^^^^^^^^\n",
      "  File \"/home/bosse/anaconda3/lib/python3.11/site-packages/threadpoolctl.py\", line 606, in __init__\n",
      "    self.version = self.get_version()\n",
      "                   ^^^^^^^^^^^^^^^^^^\n",
      "  File \"/home/bosse/anaconda3/lib/python3.11/site-packages/threadpoolctl.py\", line 646, in get_version\n",
      "    config = get_config().split()\n",
      "             ^^^^^^^^^^^^^^^^^^\n",
      "AttributeError: 'NoneType' object has no attribute 'split'\n",
      "Exception ignored on calling ctypes callback function: <function _ThreadpoolInfo._find_modules_with_dl_iterate_phdr.<locals>.match_module_callback at 0x7aab87f58ea0>\n",
      "Traceback (most recent call last):\n",
      "  File \"/home/bosse/anaconda3/lib/python3.11/site-packages/threadpoolctl.py\", line 400, in match_module_callback\n",
      "    self._make_module_from_path(filepath)\n",
      "  File \"/home/bosse/anaconda3/lib/python3.11/site-packages/threadpoolctl.py\", line 515, in _make_module_from_path\n",
      "    module = module_class(filepath, prefix, user_api, internal_api)\n",
      "             ^^^^^^^^^^^^^^^^^^^^^^^^^^^^^^^^^^^^^^^^^^^^^^^^^^^^^^\n",
      "  File \"/home/bosse/anaconda3/lib/python3.11/site-packages/threadpoolctl.py\", line 606, in __init__\n",
      "    self.version = self.get_version()\n",
      "                   ^^^^^^^^^^^^^^^^^^\n",
      "  File \"/home/bosse/anaconda3/lib/python3.11/site-packages/threadpoolctl.py\", line 646, in get_version\n",
      "    config = get_config().split()\n",
      "             ^^^^^^^^^^^^^^^^^^\n",
      "AttributeError: 'NoneType' object has no attribute 'split'\n",
      "Exception ignored on calling ctypes callback function: <function _ThreadpoolInfo._find_modules_with_dl_iterate_phdr.<locals>.match_module_callback at 0x7aab87f58ea0>\n",
      "Traceback (most recent call last):\n",
      "  File \"/home/bosse/anaconda3/lib/python3.11/site-packages/threadpoolctl.py\", line 400, in match_module_callback\n",
      "    self._make_module_from_path(filepath)\n",
      "  File \"/home/bosse/anaconda3/lib/python3.11/site-packages/threadpoolctl.py\", line 515, in _make_module_from_path\n",
      "    module = module_class(filepath, prefix, user_api, internal_api)\n",
      "             ^^^^^^^^^^^^^^^^^^^^^^^^^^^^^^^^^^^^^^^^^^^^^^^^^^^^^^\n",
      "  File \"/home/bosse/anaconda3/lib/python3.11/site-packages/threadpoolctl.py\", line 606, in __init__\n",
      "    self.version = self.get_version()\n",
      "                   ^^^^^^^^^^^^^^^^^^\n",
      "  File \"/home/bosse/anaconda3/lib/python3.11/site-packages/threadpoolctl.py\", line 646, in get_version\n",
      "    config = get_config().split()\n",
      "             ^^^^^^^^^^^^^^^^^^\n",
      "AttributeError: 'NoneType' object has no attribute 'split'\n",
      "Exception ignored on calling ctypes callback function: <function _ThreadpoolInfo._find_modules_with_dl_iterate_phdr.<locals>.match_module_callback at 0x7aab87f58ea0>\n",
      "Traceback (most recent call last):\n",
      "  File \"/home/bosse/anaconda3/lib/python3.11/site-packages/threadpoolctl.py\", line 400, in match_module_callback\n",
      "    self._make_module_from_path(filepath)\n",
      "  File \"/home/bosse/anaconda3/lib/python3.11/site-packages/threadpoolctl.py\", line 515, in _make_module_from_path\n",
      "    module = module_class(filepath, prefix, user_api, internal_api)\n",
      "             ^^^^^^^^^^^^^^^^^^^^^^^^^^^^^^^^^^^^^^^^^^^^^^^^^^^^^^\n",
      "  File \"/home/bosse/anaconda3/lib/python3.11/site-packages/threadpoolctl.py\", line 606, in __init__\n",
      "    self.version = self.get_version()\n",
      "                   ^^^^^^^^^^^^^^^^^^\n",
      "  File \"/home/bosse/anaconda3/lib/python3.11/site-packages/threadpoolctl.py\", line 646, in get_version\n",
      "    config = get_config().split()\n",
      "             ^^^^^^^^^^^^^^^^^^\n",
      "AttributeError: 'NoneType' object has no attribute 'split'\n",
      "Exception ignored on calling ctypes callback function: <function _ThreadpoolInfo._find_modules_with_dl_iterate_phdr.<locals>.match_module_callback at 0x7aab87f58ea0>\n",
      "Traceback (most recent call last):\n",
      "  File \"/home/bosse/anaconda3/lib/python3.11/site-packages/threadpoolctl.py\", line 400, in match_module_callback\n",
      "    self._make_module_from_path(filepath)\n",
      "  File \"/home/bosse/anaconda3/lib/python3.11/site-packages/threadpoolctl.py\", line 515, in _make_module_from_path\n",
      "    module = module_class(filepath, prefix, user_api, internal_api)\n",
      "             ^^^^^^^^^^^^^^^^^^^^^^^^^^^^^^^^^^^^^^^^^^^^^^^^^^^^^^\n",
      "  File \"/home/bosse/anaconda3/lib/python3.11/site-packages/threadpoolctl.py\", line 606, in __init__\n",
      "    self.version = self.get_version()\n",
      "                   ^^^^^^^^^^^^^^^^^^\n",
      "  File \"/home/bosse/anaconda3/lib/python3.11/site-packages/threadpoolctl.py\", line 646, in get_version\n",
      "    config = get_config().split()\n",
      "             ^^^^^^^^^^^^^^^^^^\n",
      "AttributeError: 'NoneType' object has no attribute 'split'\n"
     ]
    }
   ],
   "source": [
    "labels, samples, clusters, score = kmeans_silhouette_score_eval(X) "
   ]
  },
  {
   "cell_type": "code",
   "execution_count": 20,
   "metadata": {},
   "outputs": [
    {
     "data": {
      "text/plain": [
       "(array([5, 4, 4, 1, 3, 2, 2, 0, 5, 4, 0, 6, 4], dtype=int32),\n",
       " 13,\n",
       " array([0.39141938, 0.43727832, 0.45228694, 0.        , 0.        ,\n",
       "        0.50680304, 0.65841337, 1.        , 0.27452375, 0.54053967,\n",
       "        1.        , 0.        , 0.54053967]),\n",
       " 13,\n",
       " 7,\n",
       " 0.5568212059983091)"
      ]
     },
     "execution_count": 20,
     "metadata": {},
     "output_type": "execute_result"
    }
   ],
   "source": [
    "# show\n",
    "labels,len(labels), samples, len(samples), clusters, score"
   ]
  },
  {
   "cell_type": "code",
   "execution_count": 21,
   "metadata": {},
   "outputs": [
    {
     "name": "stdout",
     "output_type": "stream",
     "text": [
      "['cluster 0' 'cluster 1' 'cluster 2' 'cluster 3' 'cluster 4' 'cluster 5'\n",
      " 'cluster 6']\n"
     ]
    },
    {
     "data": {
      "text/html": [
       "<div>\n",
       "<style scoped>\n",
       "    .dataframe tbody tr th:only-of-type {\n",
       "        vertical-align: middle;\n",
       "    }\n",
       "\n",
       "    .dataframe tbody tr th {\n",
       "        vertical-align: top;\n",
       "    }\n",
       "\n",
       "    .dataframe thead th {\n",
       "        text-align: right;\n",
       "    }\n",
       "</style>\n",
       "<table border=\"1\" class=\"dataframe\">\n",
       "  <thead>\n",
       "    <tr style=\"text-align: right;\">\n",
       "      <th></th>\n",
       "      <th>event_date</th>\n",
       "      <th>player_id</th>\n",
       "      <th>team</th>\n",
       "      <th>score</th>\n",
       "      <th>player_participation</th>\n",
       "      <th>autumn</th>\n",
       "      <th>summer</th>\n",
       "      <th>winter</th>\n",
       "      <th>samples</th>\n",
       "      <th>labels</th>\n",
       "      <th>labels_desc</th>\n",
       "    </tr>\n",
       "  </thead>\n",
       "  <tbody>\n",
       "    <tr>\n",
       "      <th>0</th>\n",
       "      <td>2024-12-15</td>\n",
       "      <td>29477</td>\n",
       "      <td>summer</td>\n",
       "      <td>3</td>\n",
       "      <td>0.666667</td>\n",
       "      <td>0</td>\n",
       "      <td>1</td>\n",
       "      <td>0</td>\n",
       "      <td>0.391419</td>\n",
       "      <td>5</td>\n",
       "      <td>cluster 5</td>\n",
       "    </tr>\n",
       "    <tr>\n",
       "      <th>1</th>\n",
       "      <td>2024-12-15</td>\n",
       "      <td>30408</td>\n",
       "      <td>winter</td>\n",
       "      <td>4</td>\n",
       "      <td>0.666667</td>\n",
       "      <td>0</td>\n",
       "      <td>0</td>\n",
       "      <td>1</td>\n",
       "      <td>0.437278</td>\n",
       "      <td>4</td>\n",
       "      <td>cluster 4</td>\n",
       "    </tr>\n",
       "    <tr>\n",
       "      <th>2</th>\n",
       "      <td>2024-12-15</td>\n",
       "      <td>31022</td>\n",
       "      <td>winter</td>\n",
       "      <td>4</td>\n",
       "      <td>1.000000</td>\n",
       "      <td>0</td>\n",
       "      <td>0</td>\n",
       "      <td>1</td>\n",
       "      <td>0.452287</td>\n",
       "      <td>4</td>\n",
       "      <td>cluster 4</td>\n",
       "    </tr>\n",
       "    <tr>\n",
       "      <th>3</th>\n",
       "      <td>2024-12-15</td>\n",
       "      <td>33028</td>\n",
       "      <td>autumn</td>\n",
       "      <td>8</td>\n",
       "      <td>1.000000</td>\n",
       "      <td>1</td>\n",
       "      <td>0</td>\n",
       "      <td>0</td>\n",
       "      <td>0.000000</td>\n",
       "      <td>1</td>\n",
       "      <td>cluster 1</td>\n",
       "    </tr>\n",
       "    <tr>\n",
       "      <th>4</th>\n",
       "      <td>2024-12-15</td>\n",
       "      <td>34224</td>\n",
       "      <td>autumn</td>\n",
       "      <td>6</td>\n",
       "      <td>1.000000</td>\n",
       "      <td>1</td>\n",
       "      <td>0</td>\n",
       "      <td>0</td>\n",
       "      <td>0.000000</td>\n",
       "      <td>3</td>\n",
       "      <td>cluster 3</td>\n",
       "    </tr>\n",
       "  </tbody>\n",
       "</table>\n",
       "</div>"
      ],
      "text/plain": [
       "   event_date player_id    team  score  player_participation  autumn  summer  \\\n",
       "0  2024-12-15     29477  summer      3              0.666667       0       1   \n",
       "1  2024-12-15     30408  winter      4              0.666667       0       0   \n",
       "2  2024-12-15     31022  winter      4              1.000000       0       0   \n",
       "3  2024-12-15     33028  autumn      8              1.000000       1       0   \n",
       "4  2024-12-15     34224  autumn      6              1.000000       1       0   \n",
       "\n",
       "   winter   samples  labels labels_desc  \n",
       "0       0  0.391419       5   cluster 5  \n",
       "1       1  0.437278       4   cluster 4  \n",
       "2       1  0.452287       4   cluster 4  \n",
       "3       0  0.000000       1   cluster 1  \n",
       "4       0  0.000000       3   cluster 3  "
      ]
     },
     "execution_count": 21,
     "metadata": {},
     "output_type": "execute_result"
    }
   ],
   "source": [
    "# adds samples and labels new values to the processed df, and label description\n",
    "df_clust_data[['samples', 'labels']] = pd.DataFrame({'samples':samples, 'labels':labels})\n",
    "df_clust_data['labels_desc'] = pd.Series([f'cluster {l}'for l in df_clust_data['labels']])\n",
    "\n",
    "print(df_clust_data['labels_desc'].sort_values().unique())\n",
    "df_clust_data.head()"
   ]
  },
  {
   "cell_type": "code",
   "execution_count": 22,
   "metadata": {},
   "outputs": [],
   "source": [
    "def silhouette_figure(data : pd.DataFrame, t : int = 50,b : int = 30,l : int = 0,r : int = 0, theme = 'plotly_white'):\n",
    "    sil_fig = go.Figure()\n",
    "\n",
    "    y_lower = 0\n",
    "\n",
    "    for i in range(len(data['labels'].unique())):\n",
    "        cluster_size_i = data\\\n",
    "            [data['labels']==data['labels'].unique()[i]]\\\n",
    "            ['samples'].to_numpy().shape[0]\n",
    "        \n",
    "        y_upper = y_lower + cluster_size_i\n",
    "\n",
    "        sil_fig.add_trace(go.Scatter(\n",
    "            x = data[data['labels']==data['labels'].unique()[i]]\\\n",
    "                .sort_values('samples')['samples'],\n",
    "            y = np.arange(y_lower, y_upper),\n",
    "            mode = 'lines',\n",
    "            line_width=.5,\n",
    "            fill = 'tozerox',\n",
    "            showlegend=False\n",
    "        ))\n",
    "\n",
    "        y_lower = y_upper\n",
    "\n",
    "    sil_fig.add_vline(x= score,\n",
    "                    annotation_text = f\"Avg. silhouette score: {score:.4f}\",\n",
    "                    annotation_position = 'top left')\n",
    "\n",
    "    sil_fig.update_xaxes(showticklabels = True, showgrid=False)\n",
    "    sil_fig.update_yaxes(showticklabels=False, showgrid=False, showspikes=False)\n",
    "    sil_fig.update_layout(hovermode = 'x',\n",
    "                        template = f'{theme}+{pio.templates.default}',\n",
    "                        margin = dict(t=t,b=b,l=l,r=r),\n",
    "                        title= f\"Silhouette analysis for KMeans clustering with n_clusters = {clusters}\")\n",
    "\n",
    "    return sil_fig"
   ]
  },
  {
   "cell_type": "code",
   "execution_count": 23,
   "metadata": {},
   "outputs": [],
   "source": [
    "def contour_data(X, depth : list, v_margin : float|int = .35, h_margin : float|int = .35, mesh_size: float= .1) -> list[list]:\n",
    "    \"\"\"\n",
    "    Function\n",
    "    -\n",
    "    Configures range values to build plotly contour traces from KMeans input X for x and y\n",
    "    axes and scores or resulting cluster labels for z (depth).\n",
    "\n",
    "    Parameters\n",
    "    -\n",
    "    - X: training features applied in KMeans. Is recommended to have as first and second features\n",
    "        the considered most important to plot\n",
    "    - depth: KMeans output, generaly will be the labels output\n",
    "    - margin: (default .35) reescale the plot for use as add_traces\n",
    "    - mesh_size: (default .1) detail in contour gradient defined from xrange. yrange and zrange are\n",
    "        defined from xrange shape.\n",
    "    \n",
    "    Output\n",
    "    -\n",
    "    Three arrays containing x, y and z values for plotly contour trace\n",
    "    \"\"\"\n",
    "\n",
    "    # score fesature as x, participation feature as y \n",
    "    x_min, x_max = X[:,0].min() - h_margin, X[:,0].max() + h_margin\n",
    "    y_min, y_max = X[:,1].min() - v_margin, X[:,1].max() + v_margin\n",
    "    z_min, z_max = depth.min(), depth.max()\n",
    "\n",
    "    xrange = np.arange(x_min, x_max, mesh_size)\n",
    "\n",
    "    y_mesh_size = (y_max-y_min)/xrange.shape[0]\n",
    "    yrange = np.arange(y_min, y_max, y_mesh_size)\n",
    "\n",
    "    z_mesh_size = ((z_max-z_min)/xrange.shape[0])\n",
    "    zrange = np.arange(z_min, z_max, z_mesh_size)\n",
    "\n",
    "    return xrange, yrange, zrange\n"
   ]
  },
  {
   "cell_type": "code",
   "execution_count": 24,
   "metadata": {},
   "outputs": [],
   "source": [
    "def score_contour_trace(name: str, opacity: float, xrange: list[float], yrange: list[float],\n",
    "                        zrange: list[float]) -> go.Contour:\n",
    "    \"\"\"\n",
    "    Function\n",
    "    -\n",
    "    Generates a plotly contour trace to add with add_traces or bluid subplots. Ideal for\n",
    "    visualizing KMeans clustering results.\n",
    "\n",
    "    Parameters\n",
    "    -\n",
    "    - name: trace name\n",
    "    - opacity: trace opacity, between 0 and 1\n",
    "    - x: array or list of float values with the first (or main first) feature\n",
    "    - y: array or list of float values with the second (or main second) feature, must have\n",
    "        the same length as the first feature\n",
    "    - z: array or list of float values with KMeans output, wich can be scores or labels\n",
    "        range, and must have the same length as the first and second features\n",
    "    \"\"\"\n",
    "    colorscale = pio.templates[pio.templates.default]['layout']['colorscale']['sequential']\n",
    "\n",
    "    contour_trace = go.Contour(\n",
    "            x = xrange, y = yrange, z = zrange,\n",
    "            showscale=False, opacity=opacity, hoverinfo='skip',\n",
    "            name=name, colorscale = colorscale)\n",
    "\n",
    "    return contour_trace\n",
    "\n",
    "#*ranges, = contour_data(X, depth = labels)\n",
    "#go.Figure(score_contour_trace('clust_scores', .5, xrange=ranges[0], yrange=ranges[1], zrange=ranges[2]))"
   ]
  },
  {
   "cell_type": "code",
   "execution_count": 32,
   "metadata": {},
   "outputs": [],
   "source": [
    "# params\n",
    "data = df_clust_data\n",
    "#category = data['labels_desc'].sort_values().unique()\n",
    "#sub_category = df_teams_disagg['team'].unique()\n",
    "\n",
    "def kmean_scatter(data : pd.DataFrame, category : list, sub_category : list, x : str, y : str, legendgroup : str, size : str, sizescale : float,\n",
    "                  customdata : str, legend_title :str):\n",
    "    \"\"\"\n",
    "    Function\n",
    "    -\n",
    "    Creates a scatter figure, iterating through kmeans results and base data\n",
    "\n",
    "    Parameters\n",
    "    -\n",
    "    - data: main data, must have a labels_desc column related with category entry values\n",
    "    - category: list main categorical group unique values, must be values contained in 'labels_desc' column\n",
    "    - sub_category: list with unique values, must be related with legendgroup entry\n",
    "    - x: column for x axis values\n",
    "    - y: column for y axis values\n",
    "    - legendgroup: column used to group iterarions and to filter sub category data\n",
    "    - size: column with float values to give size to markers\n",
    "    - sizescale: marker size scalar\n",
    "    - customdata: column used to display in hoverdata\n",
    "    - legend_title: descriptive name of overal legend\n",
    "    \"\"\"\n",
    "    color = pio.templates[pio.templates.default]['layout']['colorway']\n",
    "    symbols = tuple(SymbolValidator().values[2::12])\n",
    "\n",
    "    scatter_fig = go.Figure()\n",
    "\n",
    "    for sc_i in range(len(sub_category)):\n",
    "        for c_i in range(len(category)):\n",
    "            data_filtered = data[data['labels_desc']== category[c_i]][data[legendgroup]== sub_category[sc_i]]\n",
    "            scatter_fig.add_trace(go.Scatter(\n",
    "                x = data_filtered[x],\n",
    "                y = data_filtered[y],\n",
    "                name = f\"{category[c_i]} - {sub_category[sc_i]}\",\n",
    "                legendgroup = f\"{sc_i}{legendgroup}\",\n",
    "                mode = 'markers',\n",
    "                marker_color = color[sc_i],\n",
    "                marker_opacity = 1,\n",
    "                marker_line_width = 1.5,\n",
    "                marker_line_color = color[c_i],\n",
    "                marker_size = data_filtered[size]*sizescale,\n",
    "                marker_sizemode = 'diameter',\n",
    "                marker_symbol = symbols[sc_i],\n",
    "                customdata = data_filtered[customdata],\n",
    "                hovertemplate = f\"<i>{customdata}: </i>\" + \"%{customdata}<br>\" +\n",
    "                                f\"<b>{x}</b> \"+\"%{x} points<br>\" +\n",
    "                                f\"<b>{y}</b> \"+\"%{y:2.2%}\" +\n",
    "                                \"<extra></extra>\"\n",
    "            ))\n",
    "\n",
    "    scatter_fig.update_layout(legend_title= legend_title)\n",
    "\n",
    "    return scatter_fig"
   ]
  },
  {
   "cell_type": "code",
   "execution_count": null,
   "metadata": {},
   "outputs": [
    {
     "data": {
      "text/plain": [
       "41"
      ]
     },
     "execution_count": 35,
     "metadata": {},
     "output_type": "execute_result"
    }
   ],
   "source": [
    "\n",
    "len(tuple(SymbolValidator().values[2::12]))"
   ]
  },
  {
   "cell_type": "code",
   "execution_count": 44,
   "metadata": {},
   "outputs": [
    {
     "name": "stdout",
     "output_type": "stream",
     "text": [
      "41\n",
      "82\n",
      "82\n"
     ]
    }
   ],
   "source": [
    "symbols = list(SymbolValidator().values[2::12])\n",
    "category, sub_category = 50,41\n",
    "\n",
    "print(len(symbols))\n",
    "while category > len(symbols) or sub_category > len(symbols):\n",
    "    symbols.extend(symbols)\n",
    "    print(len(symbols))\n",
    "\n",
    "print(len(symbols))"
   ]
  },
  {
   "cell_type": "code",
   "execution_count": 33,
   "metadata": {},
   "outputs": [
    {
     "data": {
      "application/vnd.plotly.v1+json": {
       "config": {
        "plotlyServerURL": "https://plot.ly"
       },
       "data": [
        {
         "customdata": [],
         "hovertemplate": "<i>player_id: </i>%{customdata}<br><b>score</b> %{x} points<br><b>player_participation</b> %{y:2.2%}<extra></extra>",
         "legendgroup": "0team",
         "marker": {
          "color": "#90B7E4",
          "line": {
           "color": "#90B7E4",
           "width": 1.5
          },
          "opacity": 1,
          "size": [],
          "sizemode": "diameter",
          "symbol": "circle"
         },
         "mode": "markers",
         "name": "cluster 0 - summer",
         "type": "scatter",
         "x": [],
         "y": []
        },
        {
         "customdata": [],
         "hovertemplate": "<i>player_id: </i>%{customdata}<br><b>score</b> %{x} points<br><b>player_participation</b> %{y:2.2%}<extra></extra>",
         "legendgroup": "0team",
         "marker": {
          "color": "#90B7E4",
          "line": {
           "color": "#F29ABD",
           "width": 1.5
          },
          "opacity": 1,
          "size": [],
          "sizemode": "diameter",
          "symbol": "circle"
         },
         "mode": "markers",
         "name": "cluster 1 - summer",
         "type": "scatter",
         "x": [],
         "y": []
        },
        {
         "customdata": [],
         "hovertemplate": "<i>player_id: </i>%{customdata}<br><b>score</b> %{x} points<br><b>player_participation</b> %{y:2.2%}<extra></extra>",
         "legendgroup": "0team",
         "marker": {
          "color": "#90B7E4",
          "line": {
           "color": "#7B84CA",
           "width": 1.5
          },
          "opacity": 1,
          "size": [],
          "sizemode": "diameter",
          "symbol": "circle"
         },
         "mode": "markers",
         "name": "cluster 2 - summer",
         "type": "scatter",
         "x": [],
         "y": []
        },
        {
         "customdata": [],
         "hovertemplate": "<i>player_id: </i>%{customdata}<br><b>score</b> %{x} points<br><b>player_participation</b> %{y:2.2%}<extra></extra>",
         "legendgroup": "0team",
         "marker": {
          "color": "#90B7E4",
          "line": {
           "color": "#F0ECA5",
           "width": 1.5
          },
          "opacity": 1,
          "size": [],
          "sizemode": "diameter",
          "symbol": "circle"
         },
         "mode": "markers",
         "name": "cluster 3 - summer",
         "type": "scatter",
         "x": [],
         "y": []
        },
        {
         "customdata": [],
         "hovertemplate": "<i>player_id: </i>%{customdata}<br><b>score</b> %{x} points<br><b>player_participation</b> %{y:2.2%}<extra></extra>",
         "legendgroup": "0team",
         "marker": {
          "color": "#90B7E4",
          "line": {
           "color": "#EE7984",
           "width": 1.5
          },
          "opacity": 1,
          "size": [],
          "sizemode": "diameter",
          "symbol": "circle"
         },
         "mode": "markers",
         "name": "cluster 4 - summer",
         "type": "scatter",
         "x": [],
         "y": []
        },
        {
         "customdata": [
          "29477",
          "75054"
         ],
         "hovertemplate": "<i>player_id: </i>%{customdata}<br><b>score</b> %{x} points<br><b>player_participation</b> %{y:2.2%}<extra></extra>",
         "legendgroup": "0team",
         "marker": {
          "color": "#90B7E4",
          "line": {
           "color": "#EEC5DD",
           "width": 1.5
          },
          "opacity": 1,
          "size": [
           16.666666666666664,
           25
          ],
          "sizemode": "diameter",
          "symbol": "circle"
         },
         "mode": "markers",
         "name": "cluster 5 - summer",
         "type": "scatter",
         "x": [
          3,
          4
         ],
         "y": [
          0.6666666666666666,
          1
         ]
        },
        {
         "customdata": [
          "96798"
         ],
         "hovertemplate": "<i>player_id: </i>%{customdata}<br><b>score</b> %{x} points<br><b>player_participation</b> %{y:2.2%}<extra></extra>",
         "legendgroup": "0team",
         "marker": {
          "color": "#90B7E4",
          "line": {
           "color": "#A6738F",
           "width": 1.5
          },
          "opacity": 1,
          "size": [
           25
          ],
          "sizemode": "diameter",
          "symbol": "circle"
         },
         "mode": "markers",
         "name": "cluster 6 - summer",
         "type": "scatter",
         "x": [
          8
         ],
         "y": [
          1
         ]
        },
        {
         "customdata": [
          "61056",
          "93881"
         ],
         "hovertemplate": "<i>player_id: </i>%{customdata}<br><b>score</b> %{x} points<br><b>player_participation</b> %{y:2.2%}<extra></extra>",
         "legendgroup": "1team",
         "marker": {
          "color": "#F29ABD",
          "line": {
           "color": "#90B7E4",
           "width": 1.5
          },
          "opacity": 1,
          "size": [
           16.666666666666664,
           16.666666666666664
          ],
          "sizemode": "diameter",
          "symbol": "square"
         },
         "mode": "markers",
         "name": "cluster 0 - autumn",
         "type": "scatter",
         "x": [
          4,
          4
         ],
         "y": [
          0.6666666666666666,
          0.6666666666666666
         ]
        },
        {
         "customdata": [
          "33028"
         ],
         "hovertemplate": "<i>player_id: </i>%{customdata}<br><b>score</b> %{x} points<br><b>player_participation</b> %{y:2.2%}<extra></extra>",
         "legendgroup": "1team",
         "marker": {
          "color": "#F29ABD",
          "line": {
           "color": "#F29ABD",
           "width": 1.5
          },
          "opacity": 1,
          "size": [
           25
          ],
          "sizemode": "diameter",
          "symbol": "square"
         },
         "mode": "markers",
         "name": "cluster 1 - autumn",
         "type": "scatter",
         "x": [
          8
         ],
         "y": [
          1
         ]
        },
        {
         "customdata": [
          "37177",
          "52288"
         ],
         "hovertemplate": "<i>player_id: </i>%{customdata}<br><b>score</b> %{x} points<br><b>player_participation</b> %{y:2.2%}<extra></extra>",
         "legendgroup": "1team",
         "marker": {
          "color": "#F29ABD",
          "line": {
           "color": "#7B84CA",
           "width": 1.5
          },
          "opacity": 1,
          "size": [
           8.333333333333332,
           8.333333333333332
          ],
          "sizemode": "diameter",
          "symbol": "square"
         },
         "mode": "markers",
         "name": "cluster 2 - autumn",
         "type": "scatter",
         "x": [
          2,
          1
         ],
         "y": [
          0.3333333333333333,
          0.3333333333333333
         ]
        },
        {
         "customdata": [
          "34224"
         ],
         "hovertemplate": "<i>player_id: </i>%{customdata}<br><b>score</b> %{x} points<br><b>player_participation</b> %{y:2.2%}<extra></extra>",
         "legendgroup": "1team",
         "marker": {
          "color": "#F29ABD",
          "line": {
           "color": "#F0ECA5",
           "width": 1.5
          },
          "opacity": 1,
          "size": [
           25
          ],
          "sizemode": "diameter",
          "symbol": "square"
         },
         "mode": "markers",
         "name": "cluster 3 - autumn",
         "type": "scatter",
         "x": [
          6
         ],
         "y": [
          1
         ]
        },
        {
         "customdata": [],
         "hovertemplate": "<i>player_id: </i>%{customdata}<br><b>score</b> %{x} points<br><b>player_participation</b> %{y:2.2%}<extra></extra>",
         "legendgroup": "1team",
         "marker": {
          "color": "#F29ABD",
          "line": {
           "color": "#EE7984",
           "width": 1.5
          },
          "opacity": 1,
          "size": [],
          "sizemode": "diameter",
          "symbol": "square"
         },
         "mode": "markers",
         "name": "cluster 4 - autumn",
         "type": "scatter",
         "x": [],
         "y": []
        },
        {
         "customdata": [],
         "hovertemplate": "<i>player_id: </i>%{customdata}<br><b>score</b> %{x} points<br><b>player_participation</b> %{y:2.2%}<extra></extra>",
         "legendgroup": "1team",
         "marker": {
          "color": "#F29ABD",
          "line": {
           "color": "#EEC5DD",
           "width": 1.5
          },
          "opacity": 1,
          "size": [],
          "sizemode": "diameter",
          "symbol": "square"
         },
         "mode": "markers",
         "name": "cluster 5 - autumn",
         "type": "scatter",
         "x": [],
         "y": []
        },
        {
         "customdata": [],
         "hovertemplate": "<i>player_id: </i>%{customdata}<br><b>score</b> %{x} points<br><b>player_participation</b> %{y:2.2%}<extra></extra>",
         "legendgroup": "1team",
         "marker": {
          "color": "#F29ABD",
          "line": {
           "color": "#A6738F",
           "width": 1.5
          },
          "opacity": 1,
          "size": [],
          "sizemode": "diameter",
          "symbol": "square"
         },
         "mode": "markers",
         "name": "cluster 6 - autumn",
         "type": "scatter",
         "x": [],
         "y": []
        },
        {
         "customdata": [],
         "hovertemplate": "<i>player_id: </i>%{customdata}<br><b>score</b> %{x} points<br><b>player_participation</b> %{y:2.2%}<extra></extra>",
         "legendgroup": "2team",
         "marker": {
          "color": "#7B84CA",
          "line": {
           "color": "#90B7E4",
           "width": 1.5
          },
          "opacity": 1,
          "size": [],
          "sizemode": "diameter",
          "symbol": "diamond"
         },
         "mode": "markers",
         "name": "cluster 0 - winter",
         "type": "scatter",
         "x": [],
         "y": []
        },
        {
         "customdata": [],
         "hovertemplate": "<i>player_id: </i>%{customdata}<br><b>score</b> %{x} points<br><b>player_participation</b> %{y:2.2%}<extra></extra>",
         "legendgroup": "2team",
         "marker": {
          "color": "#7B84CA",
          "line": {
           "color": "#F29ABD",
           "width": 1.5
          },
          "opacity": 1,
          "size": [],
          "sizemode": "diameter",
          "symbol": "diamond"
         },
         "mode": "markers",
         "name": "cluster 1 - winter",
         "type": "scatter",
         "x": [],
         "y": []
        },
        {
         "customdata": [],
         "hovertemplate": "<i>player_id: </i>%{customdata}<br><b>score</b> %{x} points<br><b>player_participation</b> %{y:2.2%}<extra></extra>",
         "legendgroup": "2team",
         "marker": {
          "color": "#7B84CA",
          "line": {
           "color": "#7B84CA",
           "width": 1.5
          },
          "opacity": 1,
          "size": [],
          "sizemode": "diameter",
          "symbol": "diamond"
         },
         "mode": "markers",
         "name": "cluster 2 - winter",
         "type": "scatter",
         "x": [],
         "y": []
        },
        {
         "customdata": [],
         "hovertemplate": "<i>player_id: </i>%{customdata}<br><b>score</b> %{x} points<br><b>player_participation</b> %{y:2.2%}<extra></extra>",
         "legendgroup": "2team",
         "marker": {
          "color": "#7B84CA",
          "line": {
           "color": "#F0ECA5",
           "width": 1.5
          },
          "opacity": 1,
          "size": [],
          "sizemode": "diameter",
          "symbol": "diamond"
         },
         "mode": "markers",
         "name": "cluster 3 - winter",
         "type": "scatter",
         "x": [],
         "y": []
        },
        {
         "customdata": [
          "30408",
          "31022",
          "81990",
          "99931"
         ],
         "hovertemplate": "<i>player_id: </i>%{customdata}<br><b>score</b> %{x} points<br><b>player_participation</b> %{y:2.2%}<extra></extra>",
         "legendgroup": "2team",
         "marker": {
          "color": "#7B84CA",
          "line": {
           "color": "#EE7984",
           "width": 1.5
          },
          "opacity": 1,
          "size": [
           16.666666666666664,
           25,
           25,
           16.666666666666664
          ],
          "sizemode": "diameter",
          "symbol": "diamond"
         },
         "mode": "markers",
         "name": "cluster 4 - winter",
         "type": "scatter",
         "x": [
          4,
          4,
          5,
          5
         ],
         "y": [
          0.6666666666666666,
          1,
          1,
          0.6666666666666666
         ]
        },
        {
         "customdata": [],
         "hovertemplate": "<i>player_id: </i>%{customdata}<br><b>score</b> %{x} points<br><b>player_participation</b> %{y:2.2%}<extra></extra>",
         "legendgroup": "2team",
         "marker": {
          "color": "#7B84CA",
          "line": {
           "color": "#EEC5DD",
           "width": 1.5
          },
          "opacity": 1,
          "size": [],
          "sizemode": "diameter",
          "symbol": "diamond"
         },
         "mode": "markers",
         "name": "cluster 5 - winter",
         "type": "scatter",
         "x": [],
         "y": []
        },
        {
         "customdata": [],
         "hovertemplate": "<i>player_id: </i>%{customdata}<br><b>score</b> %{x} points<br><b>player_participation</b> %{y:2.2%}<extra></extra>",
         "legendgroup": "2team",
         "marker": {
          "color": "#7B84CA",
          "line": {
           "color": "#A6738F",
           "width": 1.5
          },
          "opacity": 1,
          "size": [],
          "sizemode": "diameter",
          "symbol": "diamond"
         },
         "mode": "markers",
         "name": "cluster 6 - winter",
         "type": "scatter",
         "x": [],
         "y": []
        },
        {
         "colorscale": [
          [
           0,
           "#EEC5DD"
          ],
          [
           0.1111111111111111,
           "#DBBCD8"
          ],
          [
           0.2222222222222222,
           "#C8B3D4"
          ],
          [
           0.3333333333333333,
           "#B5ABD0"
          ],
          [
           0.4444444444444444,
           "#A2A2CB"
          ],
          [
           0.5555555555555556,
           "#9099C7"
          ],
          [
           0.6666666666666666,
           "#7D90C3"
          ],
          [
           0.7777777777777778,
           "#6A87BE"
          ],
          [
           0.8888888888888888,
           "#577FBA"
          ],
          [
           0.9999999999999999,
           "#4476B5"
          ],
          [
           1,
           "#316DB1"
          ]
         ],
         "hoverinfo": "skip",
         "name": "clust_scores",
         "opacity": 0.25,
         "showscale": false,
         "type": "contour",
         "x": [
          0.65,
          0.75,
          0.85,
          0.95,
          1.0499999999999998,
          1.15,
          1.25,
          1.3499999999999999,
          1.4499999999999997,
          1.5499999999999998,
          1.65,
          1.7499999999999996,
          1.8499999999999996,
          1.9499999999999997,
          2.05,
          2.1499999999999995,
          2.2499999999999996,
          2.3499999999999996,
          2.4499999999999997,
          2.5499999999999994,
          2.6499999999999995,
          2.7499999999999996,
          2.849999999999999,
          2.9499999999999993,
          3.0499999999999994,
          3.1499999999999995,
          3.2499999999999996,
          3.349999999999999,
          3.4499999999999993,
          3.5499999999999994,
          3.649999999999999,
          3.749999999999999,
          3.849999999999999,
          3.9499999999999993,
          4.05,
          4.1499999999999995,
          4.249999999999999,
          4.35,
          4.449999999999999,
          4.549999999999999,
          4.6499999999999995,
          4.749999999999999,
          4.85,
          4.949999999999999,
          5.049999999999999,
          5.1499999999999995,
          5.249999999999999,
          5.35,
          5.449999999999999,
          5.549999999999999,
          5.6499999999999995,
          5.749999999999999,
          5.85,
          5.949999999999999,
          6.049999999999999,
          6.1499999999999995,
          6.249999999999999,
          6.349999999999999,
          6.449999999999999,
          6.549999999999999,
          6.649999999999999,
          6.749999999999999,
          6.849999999999999,
          6.949999999999999,
          7.049999999999999,
          7.149999999999999,
          7.249999999999999,
          7.349999999999999,
          7.449999999999999,
          7.549999999999999,
          7.649999999999999,
          7.749999999999999,
          7.849999999999999,
          7.949999999999998,
          8.049999999999999,
          8.149999999999999,
          8.249999999999998
         ],
         "y": [
          -0.016666666666666663,
          0.0010822510822510872,
          0.018831168831168837,
          0.03658008658008659,
          0.05432900432900434,
          0.07207792207792209,
          0.08982683982683984,
          0.10757575757575759,
          0.12532467532467534,
          0.14307359307359307,
          0.16082251082251084,
          0.1785714285714286,
          0.19632034632034634,
          0.21406926406926408,
          0.23181818181818184,
          0.2495670995670996,
          0.26731601731601734,
          0.2850649350649351,
          0.3028138528138528,
          0.3205627705627706,
          0.33831168831168834,
          0.3560606060606061,
          0.37380952380952387,
          0.3915584415584416,
          0.40930735930735934,
          0.4270562770562771,
          0.4448051948051948,
          0.4625541125541126,
          0.48030303030303034,
          0.49805194805194813,
          0.5158008658008659,
          0.5335497835497836,
          0.5512987012987014,
          0.569047619047619,
          0.5867965367965369,
          0.6045454545454545,
          0.6222943722943723,
          0.6400432900432902,
          0.6577922077922078,
          0.6755411255411257,
          0.6932900432900433,
          0.7110389610389611,
          0.7287878787878788,
          0.7465367965367966,
          0.7642857142857145,
          0.7820346320346321,
          0.7997835497835499,
          0.8175324675324676,
          0.8352813852813854,
          0.853030303030303,
          0.8707792207792209,
          0.8885281385281385,
          0.9062770562770563,
          0.9240259740259742,
          0.9417748917748918,
          0.9595238095238097,
          0.9772727272727273,
          0.9950216450216451,
          1.012770562770563,
          1.0305194805194806,
          1.0482683982683985,
          1.066017316017316,
          1.083766233766234,
          1.1015151515151516,
          1.1192640692640694,
          1.1370129870129873,
          1.1547619047619049,
          1.1725108225108227,
          1.1902597402597404,
          1.2080086580086582,
          1.2257575757575758,
          1.2435064935064937,
          1.2612554112554113,
          1.2790043290043291,
          1.296753246753247,
          1.3145021645021646,
          1.3322510822510825
         ],
         "z": [
          0,
          0.07792207792207792,
          0.15584415584415584,
          0.23376623376623376,
          0.3116883116883117,
          0.38961038961038963,
          0.4675324675324675,
          0.5454545454545454,
          0.6233766233766234,
          0.7012987012987013,
          0.7792207792207793,
          0.8571428571428571,
          0.935064935064935,
          1.0129870129870129,
          1.0909090909090908,
          1.1688311688311688,
          1.2467532467532467,
          1.3246753246753247,
          1.4025974025974026,
          1.4805194805194806,
          1.5584415584415585,
          1.6363636363636362,
          1.7142857142857142,
          1.7922077922077921,
          1.87012987012987,
          1.948051948051948,
          2.0259740259740258,
          2.103896103896104,
          2.1818181818181817,
          2.25974025974026,
          2.3376623376623376,
          2.4155844155844157,
          2.4935064935064934,
          2.571428571428571,
          2.6493506493506493,
          2.727272727272727,
          2.8051948051948052,
          2.883116883116883,
          2.961038961038961,
          3.038961038961039,
          3.116883116883117,
          3.1948051948051948,
          3.2727272727272725,
          3.3506493506493507,
          3.4285714285714284,
          3.5064935064935066,
          3.5844155844155843,
          3.6623376623376624,
          3.74025974025974,
          3.818181818181818,
          3.896103896103896,
          3.974025974025974,
          4.0519480519480515,
          4.12987012987013,
          4.207792207792208,
          4.285714285714286,
          4.363636363636363,
          4.441558441558441,
          4.51948051948052,
          4.597402597402597,
          4.675324675324675,
          4.753246753246753,
          4.8311688311688314,
          4.909090909090909,
          4.987012987012987,
          5.064935064935065,
          5.142857142857142,
          5.220779220779221,
          5.298701298701299,
          5.376623376623376,
          5.454545454545454,
          5.532467532467533,
          5.6103896103896105,
          5.688311688311688,
          5.766233766233766,
          5.844155844155844,
          5.922077922077922
         ]
        }
       ],
       "layout": {
        "legend": {
         "orientation": "h",
         "title": {
          "text": "Clusters, teams"
         }
        },
        "showlegend": true,
        "template": {
         "layout": {
          "annotations": [
           {
            "font": {
             "color": "gray",
             "size": 12
            },
            "name": "timestamp",
            "opacity": 0.3,
            "showarrow": false,
            "text": "Simulated Data · 2024-December-15, 13:47:52 UTC +0000 Timestamp:1734270472.304084",
            "textangle": 0,
            "x": 0.99,
            "xref": "paper",
            "y": 0.01,
            "yref": "paper"
           }
          ],
          "colorscale": {
           "diverging": [
            [
             0,
             "#F29ABD"
            ],
            [
             0.1,
             "#F2AAB8"
            ],
            [
             0.2,
             "#F1BBB3"
            ],
            [
             0.3,
             "#F1CBAF"
            ],
            [
             0.4,
             "#F0DCAA"
            ],
            [
             0.5,
             "#F0ECA5"
            ],
            [
             0.6,
             "#CAD3A7"
            ],
            [
             0.7,
             "#A4B9AA"
            ],
            [
             0.8,
             "#7DA0AC"
            ],
            [
             0.9,
             "#5786AF"
            ],
            [
             1,
             "#316DB1"
            ]
           ],
           "sequential": [
            [
             0,
             "#EEC5DD"
            ],
            [
             0.1111111111111111,
             "#DBBCD8"
            ],
            [
             0.2222222222222222,
             "#C8B3D4"
            ],
            [
             0.3333333333333333,
             "#B5ABD0"
            ],
            [
             0.4444444444444444,
             "#A2A2CB"
            ],
            [
             0.5555555555555556,
             "#9099C7"
            ],
            [
             0.6666666666666666,
             "#7D90C3"
            ],
            [
             0.7777777777777778,
             "#6A87BE"
            ],
            [
             0.8888888888888888,
             "#577FBA"
            ],
            [
             0.9999999999999999,
             "#4476B5"
            ],
            [
             1,
             "#316DB1"
            ]
           ],
           "sequentialminus": [
            [
             0,
             "#EEC5DD"
            ],
            [
             0.1111111111111111,
             "#DBBCD8"
            ],
            [
             0.2222222222222222,
             "#C8B3D4"
            ],
            [
             0.3333333333333333,
             "#B5ABD0"
            ],
            [
             0.4444444444444444,
             "#A2A2CB"
            ],
            [
             0.5555555555555556,
             "#9099C7"
            ],
            [
             0.6666666666666666,
             "#7D90C3"
            ],
            [
             0.7777777777777778,
             "#6A87BE"
            ],
            [
             0.8888888888888888,
             "#577FBA"
            ],
            [
             0.9999999999999999,
             "#4476B5"
            ],
            [
             1,
             "#316DB1"
            ]
           ]
          },
          "colorway": [
           "#90B7E4",
           "#F29ABD",
           "#7B84CA",
           "#F0ECA5",
           "#EE7984",
           "#EEC5DD",
           "#A6738F",
           "#EBACA8",
           "#36ACDD",
           "#316DB1"
          ],
          "geo": {
           "bgcolor": "rgba(0,0,0,0)"
          },
          "paper_bgcolor": "rgba(0,0,0,0)",
          "plot_bgcolor": "rgba(0,0,0,0)",
          "polar": {
           "bgcolor": "rgba(0,0,0,0)"
          },
          "ternary": {
           "bgcolor": "rgba(0,0,0,0)"
          }
         }
        },
        "xaxis": {
         "showgrid": false,
         "showticklabels": false
        },
        "yaxis": {
         "showgrid": false,
         "showticklabels": false
        }
       }
      }
     },
     "metadata": {},
     "output_type": "display_data"
    }
   ],
   "source": [
    "# values for contour\n",
    "*ranges, = contour_data(X, depth = labels, mesh_size=.1)\n",
    "\n",
    "clust_ej = kmean_scatter(data = df_clust_data,\n",
    "                         category = data['labels_desc'].sort_values().unique(),\n",
    "                         sub_category = df_teams_disagg['team'].unique(),\n",
    "                         x = 'score',\n",
    "                         y = 'player_participation',\n",
    "                         legendgroup = 'team',\n",
    "                         size = 'player_participation',\n",
    "                         sizescale = 25,\n",
    "                         customdata = 'player_id',\n",
    "                         legend_title = \"Clusters, teams\")\n",
    "\n",
    "clust_ej.add_trace(score_contour_trace('clust_scores', .25,\n",
    "                                       xrange=ranges[0],\n",
    "                                       yrange=ranges[1],\n",
    "                                       zrange=ranges[2]))\n",
    "\n",
    "clust_ej.update_xaxes(showgrid=False, showticklabels=False)\n",
    "clust_ej.update_yaxes(showgrid=False, showticklabels=False)\n",
    "clust_ej.update_layout(\n",
    "    showlegend = True,\n",
    "    legend_orientation = 'h')\n",
    "\n",
    "clust_ej"
   ]
  }
 ],
 "metadata": {
  "kernelspec": {
   "display_name": "base",
   "language": "python",
   "name": "python3"
  },
  "language_info": {
   "codemirror_mode": {
    "name": "ipython",
    "version": 3
   },
   "file_extension": ".py",
   "mimetype": "text/x-python",
   "name": "python",
   "nbconvert_exporter": "python",
   "pygments_lexer": "ipython3",
   "version": "3.11.5"
  }
 },
 "nbformat": 4,
 "nbformat_minor": 2
}
