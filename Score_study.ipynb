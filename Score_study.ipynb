{
 "cells": [
  {
   "cell_type": "markdown",
   "metadata": {},
   "source": [
    "# Accumulated and Performance Score Methods: A comparative approach\n",
    "\n",
    "Common game score systems consists in assigning points on individual players that in team scores are reflected as the accumulated (and weighted) sum of this points. A common practice is to assign players to random teams for equal distribution, wich will work well when teams don't represent any symbol that has special meaning to the players. The main problem that may cause negative environments and behaviors between players with this system is precisely when teams represent something meaningful to them (be it game lore, favouritism, etc.), causing frustration, discrimination and lack of interest, with latent desires of supporting teams in small collectives (group of friends) and freedom to choose (posibility to change to other teams).\n",
    "\n",
    "Here is developed a simple proposal to change the calculus of the main accumulative score system to a distributive (or normalized) score system for games where teams have a symbolic meaning to players, evaluating a team by its performances instead, recognizing pros and cons to consider before implementing:\n",
    "\n",
    "*Pros*\n",
    "- give freedom to players to choose a side\n",
    "- easy to interpret from evaluating point of view, e.g., 3 out of 10 players won highest score in the event\n",
    "- easy to compare between teams, normalizing each team distribution separately\n",
    "- balance escenarios in wich teams have different sizes to prevent leading to biased results with increment of negative perception from the player base\n",
    "\n",
    "*Cons*\n",
    "- has a medium complexity not often used for user visualization\n",
    "- needs additional explanation with a friendly user approach to avoid conflict if teams distributions (or sizes) are notably unbalanced (e.g. the largest team may not understand why a smaller team is favoured if no explanation is provided)\n",
    "\n",
    "Since is not common to find this approach in medium to large scale, it is expected to work in a practical escenario when users are actually playing in small groups (be it 3, 8 or 10 players in one event), then the expected perception will be 'Team A has more/less skilled players than Team B' rather than 'Because Team A has more/less players, is no surprise they would win/lose against Team B'"
   ]
  },
  {
   "cell_type": "code",
   "execution_count": 1,
   "metadata": {},
   "outputs": [
    {
     "name": "stdout",
     "output_type": "stream",
     "text": [
      "CPU times: user 14.1 s, sys: 0 ns, total: 14.1 s\n",
      "Wall time: 10.7 s\n"
     ]
    }
   ],
   "source": [
    "%%time\n",
    "import numpy as np\n",
    "from random import randint, shuffle\n",
    "import time\n",
    "import datetime\n",
    "import pandas as pd\n",
    "import plotly.express as px\n",
    "import plotly.graph_objects as go\n",
    "from plotly.subplots import make_subplots\n",
    "\n",
    "# set import para bokeh (funciona como un seaborn interactivo)\n",
    "#from bokeh.io import output_notebook, show\n",
    "#from bokeh.resources import INLINE\n",
    "#from bokeh.plotting import figure\n",
    "#output_notebook(INLINE)\n",
    "#output_notebook()\n",
    "\n",
    "# ignore UserWarning (basically for dataframe filtering)\n",
    "import warnings\n",
    "warnings.simplefilter(\"ignore\", UserWarning)\n",
    "#import the_module_that_warns\n",
    "\n",
    "# visualisation category config\n",
    "medal_order = {'medal' : ['gold', 'silver', 'bronze', 'not played']}\n",
    "medal_colors = ['rgb(255, 222, 94)', 'rgb(169, 180, 195)', 'rgb(194, 144, 80)', 'rgb(0,0,0)']"
   ]
  },
  {
   "cell_type": "markdown",
   "metadata": {},
   "source": [
    "## Creating simulated data functions"
   ]
  },
  {
   "cell_type": "markdown",
   "metadata": {},
   "source": [
    "### Single player"
   ]
  },
  {
   "cell_type": "code",
   "execution_count": 2,
   "metadata": {},
   "outputs": [],
   "source": [
    "def player_score(player_id = randint(10000, 99999), date = datetime.date.today().isoformat()):\n",
    "    \"\"\"\n",
    "    Creates a DataFrame with a single random player and scores for each event (game)\n",
    "\n",
    "    **Parameters**\n",
    "    player_id: player unique identifier\n",
    "    date: date in YYYY-MM-DD (today by default)\n",
    "    \"\"\"\n",
    "    player = pd.DataFrame(\n",
    "        {\n",
    "            'player_id'  : [f\"{player_id}\" for i in range(2)],\n",
    "            'event_date' : [date for i in range(2)],\n",
    "            'event_game' : ['A','B'],\n",
    "            'score'      : [randint(0,3) for i in range(2)]\n",
    "        }\n",
    "    )\n",
    "\n",
    "    return player"
   ]
  },
  {
   "cell_type": "markdown",
   "metadata": {},
   "source": [
    "### Team with multiple players"
   ]
  },
  {
   "cell_type": "code",
   "execution_count": 3,
   "metadata": {},
   "outputs": [],
   "source": [
    "# for creating a team with simulated scores\n",
    "\n",
    "def team_players(player_id= [randint(10000,99999)], date = datetime.date.today().isoformat()):\n",
    "\n",
    "    \"\"\"\n",
    "    Creates a team score data with a given list of players with random scores for each event.\n",
    "    \"\"\"\n",
    "    \n",
    "    # creates a dataframe with the first player on list (player_id)\n",
    "    team = player_score(player_id[0], date)\n",
    "    \n",
    "    # if more players on list, it will concatenate this new players (from team_player[1])\n",
    "    if len(player_id) > 1:\n",
    "        for player in range(1, len(player_id)):\n",
    "            team = pd.concat([team, # main dataframe\n",
    "                              pd.DataFrame( # the other players\n",
    "                                  {\n",
    "                                      'player_id'  : [f\"{player_id[player]}\" for i in range(2)],\n",
    "                                      'event_date' : [date for i in range(2)],\n",
    "                                      'event_game' : ['A', 'B'],\n",
    "                                      'score'  : [randint(0,3) for i in range(2)]\n",
    "                                  }\n",
    "                              ) \n",
    "                             ])\n",
    "    # reindex de filas\n",
    "    team.reset_index(drop = True, inplace = True)\n",
    "    \n",
    "    return team"
   ]
  },
  {
   "cell_type": "markdown",
   "metadata": {},
   "source": [
    "### Describing scores"
   ]
  },
  {
   "cell_type": "code",
   "execution_count": 4,
   "metadata": {},
   "outputs": [],
   "source": [
    "# making a more fancy representation of scores: create a categorical column\n",
    "\n",
    "def team_scores(player_id = [randint(10000,99999)], date = datetime.date.today().isoformat()):\n",
    "    \"\"\"\n",
    "    Creates a team score data with a given list of players with random scores\n",
    "    for each event, and asigns score description.\n",
    "    \"\"\"\n",
    "\n",
    "    team = team_players(player_id, date)\n",
    "\n",
    "    medal = []\n",
    "\n",
    "    for s in team['score'].values:\n",
    "        if s == 1:\n",
    "            medal.append('bronze')\n",
    "        elif s == 2:\n",
    "            medal.append('silver')\n",
    "        elif s == 3:\n",
    "            medal.append('gold')\n",
    "        else:\n",
    "            medal.append('not played')\n",
    "\n",
    "    team['medal'] = pd.Categorical(medal, categories=['not played', 'bronze', 'silver', 'gold'], ordered=False)\n",
    "\n",
    "    return team"
   ]
  },
  {
   "cell_type": "markdown",
   "metadata": {},
   "source": [
    "## Creating teams from unique player ID"
   ]
  },
  {
   "cell_type": "markdown",
   "metadata": {},
   "source": [
    "### Configuring input for user defined values"
   ]
  },
  {
   "cell_type": "code",
   "execution_count": 5,
   "metadata": {},
   "outputs": [
    {
     "name": "stdout",
     "output_type": "stream",
     "text": [
      "Users in events: 611 users\n"
     ]
    }
   ],
   "source": [
    "# players id, unsorted, unique\n",
    "# the player_base must be defined by the user to test escenarios\n",
    "\n",
    "#------------------------------- n players in player base\n",
    "n_player_base = 611 #6114 #100\n",
    "#------------------------------- max player ids: 99999\n",
    "player_ids = [i for i in range(10000,100000)]\n",
    "shuffle(player_ids)\n",
    "#------------------------------- cuts list with indexing\n",
    "player_ids = player_ids[:n_player_base]\n",
    "\n",
    "# amount of players by team (add streamlit checkbox)\n",
    "input_a = 184 #1842 #27\n",
    "input_b = 236 #2357 #12\n",
    "input_c = 81 #810 #27\n",
    "# input_d = len(player_base) - (input_a + input_b + input_c) # replaced by d_pl\n",
    "\n",
    "print(f\"Users in events: {len(player_ids)} users\")"
   ]
  },
  {
   "cell_type": "code",
   "execution_count": 6,
   "metadata": {},
   "outputs": [],
   "source": [
    "# team name input for streamlit\n",
    "#--------- for default teams\n",
    "team_names_input = ['ThunderCats', 'Dog Patrol', 'Power Birds', 'Go Magikarp']\n",
    "#--------- user defined teams example\n",
    "#team_names_input = ['Daylight Prairie', 'Hidden Forest', 'Valley of Triumph', 'Golden Wasteland']\n",
    "\n",
    "# date input for Streamlit\n",
    "#date = datetime.date.today().isoformat()\n",
    "date = datetime.date(2024, 8, 15).isoformat()"
   ]
  },
  {
   "cell_type": "code",
   "execution_count": 7,
   "metadata": {},
   "outputs": [
    {
     "data": {
      "text/plain": [
       "(427, 191, 110)"
      ]
     },
     "execution_count": 7,
     "metadata": {},
     "output_type": "execute_result"
    }
   ],
   "source": [
    "# player leftover sequence\n",
    "# useful to visualize when testing n players\n",
    "\n",
    "b_pl = n_player_base - input_a\n",
    "c_pl = n_player_base - (input_a + input_b)\n",
    "d_pl = n_player_base - (input_a + input_b + input_c)\n",
    "\n",
    "b_pl, c_pl, d_pl#, b_pl+c_pl+d_pl"
   ]
  },
  {
   "cell_type": "markdown",
   "metadata": {},
   "source": [
    "### Streamlit checkbox simulation"
   ]
  },
  {
   "cell_type": "code",
   "execution_count": 8,
   "metadata": {},
   "outputs": [],
   "source": [
    "# checbox: if cb_b == true, appears cb_c == False\n",
    "# checbox: if cb_b == false, cb_c remains hidden\n",
    "cb_b = True\n",
    "cb_c = True\n",
    "cb_d = False"
   ]
  },
  {
   "cell_type": "code",
   "execution_count": 9,
   "metadata": {},
   "outputs": [
    {
     "name": "stdout",
     "output_type": "stream",
     "text": [
      "Team A: 184\n",
      "Team B: 236\n",
      "Team C: 81\n",
      "Team D: 0\n",
      "Total users: 501\n"
     ]
    }
   ],
   "source": [
    "# player distribution through all teams, sorted, rectified\n",
    "# teams b, c and d must be unlocked in the app (if checkbox b/c/d marked (True): create team b/c/d)\n",
    "\n",
    "# team B n players\n",
    "if cb_b == True:\n",
    "    if input_b <= b_pl and b_pl >= 1:\n",
    "        team_b = input_b\n",
    "    else:\n",
    "        team_b = 0\n",
    "\n",
    "# team C n players\n",
    "if cb_c == True:\n",
    "    if input_c <= c_pl and c_pl >= 1:\n",
    "        team_c = input_c\n",
    "    else:\n",
    "        team_c = 0\n",
    "else:\n",
    "    team_c = 0\n",
    "\n",
    "# team D n players\n",
    "if cb_d == True:\n",
    "    #if input_d <= d_pl and d_pl >= 1:\n",
    "    if d_pl >= 1:\n",
    "        team_d = d_pl\n",
    "    else:\n",
    "        team_d = 0\n",
    "else:\n",
    "    team_d = 0\n",
    "\n",
    "print(f\"\"\"Team A: {input_a}\\nTeam B: {team_b}\\nTeam C: {team_c}\\nTeam D: {team_d}\\nTotal users: {input_a+team_b+team_c+team_d}\"\"\")"
   ]
  },
  {
   "cell_type": "code",
   "execution_count": 10,
   "metadata": {},
   "outputs": [
    {
     "data": {
      "text/plain": [
       "(184, 236, 81, 0)"
      ]
     },
     "execution_count": 10,
     "metadata": {},
     "output_type": "execute_result"
    }
   ],
   "source": [
    "# users in each team\n",
    "team_a_players = player_ids[:input_a]\n",
    "team_b_players = player_ids[input_a:len(team_a_players)+team_b]\n",
    "team_c_players = player_ids[len(team_b_players):len(team_b_players)+team_c]\n",
    "team_d_players = player_ids[len(team_c_players):len(team_c_players)+team_d]\n",
    "\n",
    "# verify team lengths (from inputs and checkboxes)\n",
    "len(team_a_players), len(team_b_players), len(team_c_players), len(team_d_players)"
   ]
  },
  {
   "cell_type": "markdown",
   "metadata": {},
   "source": [
    "### Render players dataframe and teams aggregated dataframe"
   ]
  },
  {
   "cell_type": "code",
   "execution_count": 11,
   "metadata": {},
   "outputs": [
    {
     "data": {
      "text/html": [
       "<div>\n",
       "<style scoped>\n",
       "    .dataframe tbody tr th:only-of-type {\n",
       "        vertical-align: middle;\n",
       "    }\n",
       "\n",
       "    .dataframe tbody tr th {\n",
       "        vertical-align: top;\n",
       "    }\n",
       "\n",
       "    .dataframe thead th {\n",
       "        text-align: right;\n",
       "    }\n",
       "</style>\n",
       "<table border=\"1\" class=\"dataframe\">\n",
       "  <thead>\n",
       "    <tr style=\"text-align: right;\">\n",
       "      <th></th>\n",
       "      <th>player_id</th>\n",
       "      <th>event_date</th>\n",
       "      <th>event_game</th>\n",
       "      <th>score</th>\n",
       "      <th>medal</th>\n",
       "      <th>team</th>\n",
       "    </tr>\n",
       "  </thead>\n",
       "  <tbody>\n",
       "    <tr>\n",
       "      <th>0</th>\n",
       "      <td>16803</td>\n",
       "      <td>2024-08-15</td>\n",
       "      <td>A</td>\n",
       "      <td>2</td>\n",
       "      <td>silver</td>\n",
       "      <td>ThunderCats</td>\n",
       "    </tr>\n",
       "    <tr>\n",
       "      <th>1</th>\n",
       "      <td>16803</td>\n",
       "      <td>2024-08-15</td>\n",
       "      <td>B</td>\n",
       "      <td>1</td>\n",
       "      <td>bronze</td>\n",
       "      <td>ThunderCats</td>\n",
       "    </tr>\n",
       "    <tr>\n",
       "      <th>2</th>\n",
       "      <td>92610</td>\n",
       "      <td>2024-08-15</td>\n",
       "      <td>A</td>\n",
       "      <td>0</td>\n",
       "      <td>not played</td>\n",
       "      <td>ThunderCats</td>\n",
       "    </tr>\n",
       "    <tr>\n",
       "      <th>3</th>\n",
       "      <td>92610</td>\n",
       "      <td>2024-08-15</td>\n",
       "      <td>B</td>\n",
       "      <td>3</td>\n",
       "      <td>gold</td>\n",
       "      <td>ThunderCats</td>\n",
       "    </tr>\n",
       "    <tr>\n",
       "      <th>4</th>\n",
       "      <td>99898</td>\n",
       "      <td>2024-08-15</td>\n",
       "      <td>A</td>\n",
       "      <td>2</td>\n",
       "      <td>silver</td>\n",
       "      <td>ThunderCats</td>\n",
       "    </tr>\n",
       "    <tr>\n",
       "      <th>...</th>\n",
       "      <td>...</td>\n",
       "      <td>...</td>\n",
       "      <td>...</td>\n",
       "      <td>...</td>\n",
       "      <td>...</td>\n",
       "      <td>...</td>\n",
       "    </tr>\n",
       "    <tr>\n",
       "      <th>997</th>\n",
       "      <td>92635</td>\n",
       "      <td>2024-08-15</td>\n",
       "      <td>B</td>\n",
       "      <td>3</td>\n",
       "      <td>gold</td>\n",
       "      <td>Power Birds</td>\n",
       "    </tr>\n",
       "    <tr>\n",
       "      <th>998</th>\n",
       "      <td>31884</td>\n",
       "      <td>2024-08-15</td>\n",
       "      <td>A</td>\n",
       "      <td>2</td>\n",
       "      <td>silver</td>\n",
       "      <td>Power Birds</td>\n",
       "    </tr>\n",
       "    <tr>\n",
       "      <th>999</th>\n",
       "      <td>31884</td>\n",
       "      <td>2024-08-15</td>\n",
       "      <td>B</td>\n",
       "      <td>2</td>\n",
       "      <td>silver</td>\n",
       "      <td>Power Birds</td>\n",
       "    </tr>\n",
       "    <tr>\n",
       "      <th>1000</th>\n",
       "      <td>16706</td>\n",
       "      <td>2024-08-15</td>\n",
       "      <td>A</td>\n",
       "      <td>1</td>\n",
       "      <td>bronze</td>\n",
       "      <td>Power Birds</td>\n",
       "    </tr>\n",
       "    <tr>\n",
       "      <th>1001</th>\n",
       "      <td>16706</td>\n",
       "      <td>2024-08-15</td>\n",
       "      <td>B</td>\n",
       "      <td>0</td>\n",
       "      <td>not played</td>\n",
       "      <td>Power Birds</td>\n",
       "    </tr>\n",
       "  </tbody>\n",
       "</table>\n",
       "<p>1002 rows × 6 columns</p>\n",
       "</div>"
      ],
      "text/plain": [
       "     player_id  event_date event_game  score       medal         team\n",
       "0        16803  2024-08-15          A      2      silver  ThunderCats\n",
       "1        16803  2024-08-15          B      1      bronze  ThunderCats\n",
       "2        92610  2024-08-15          A      0  not played  ThunderCats\n",
       "3        92610  2024-08-15          B      3        gold  ThunderCats\n",
       "4        99898  2024-08-15          A      2      silver  ThunderCats\n",
       "...        ...         ...        ...    ...         ...          ...\n",
       "997      92635  2024-08-15          B      3        gold  Power Birds\n",
       "998      31884  2024-08-15          A      2      silver  Power Birds\n",
       "999      31884  2024-08-15          B      2      silver  Power Birds\n",
       "1000     16706  2024-08-15          A      1      bronze  Power Birds\n",
       "1001     16706  2024-08-15          B      0  not played  Power Birds\n",
       "\n",
       "[1002 rows x 6 columns]"
      ]
     },
     "execution_count": 11,
     "metadata": {},
     "output_type": "execute_result"
    }
   ],
   "source": [
    "# build DataFrame (no date input yet)\n",
    "\n",
    "#------------------------------------------ team A\n",
    "#team_a_players = player_base[:input_a]\n",
    "df_team_a = team_scores(player_id = team_a_players, date = date)\n",
    "df_team_a['team'] = pd.Series([team_names_input[0] for i in range(len(df_team_a))])\n",
    "# for accumulative sum method demonstration\n",
    "df_eventplayers = df_team_a.copy()\n",
    "\n",
    "# builds a total_players list for df (team a by default)\n",
    "total_players = [input_a for i in range(3)]\n",
    "\n",
    "#------------------------------------------ team B \n",
    "#if len(team_b_players) > 0:\n",
    "if cb_b == True:\n",
    "    #team_b_players = player_base[input_a:len(team_a_players)+team_b]\n",
    "    df_team_b = team_scores(player_id = team_b_players, date = date)\n",
    "    df_team_b['team'] = pd.Series([team_names_input[1] for i in range(len(df_team_b))])\n",
    "    df_eventplayers = pd.concat([df_eventplayers, df_team_b]).reset_index(drop=True)\n",
    "    \n",
    "    # appends team b players\n",
    "    total_players.extend([team_b for i in range(3)])\n",
    "#------------------------------------------ team C\n",
    "#if len(team_c_players) > 0:\n",
    "if cb_c == True:\n",
    "    #team_c_players = player_base[len(team_b_players):len(team_b_players)+team_c]\n",
    "    df_team_c = team_scores(player_id = team_c_players, date = date)\n",
    "    df_team_c['team'] = pd.Series([team_names_input[2] for i in range(len(df_team_c))])\n",
    "    df_eventplayers = pd.concat([df_eventplayers, df_team_c]).reset_index(drop=True)\n",
    "\n",
    "    # appends team c players\n",
    "    total_players.extend([team_c for i in range(3)])\n",
    "    \n",
    "#------------------------------------------ team D\n",
    "#if len(team_d_players) > 0:\n",
    "if cb_d == True:\n",
    "    #team_d_players = player_base[len(team_c_players):len(team_c_players)+team_d]\n",
    "    df_team_d = team_scores(player_id = team_d_players, date = date)\n",
    "    df_team_d['team'] = pd.Series([team_names_input[3] for i in range(len(df_team_d))])\n",
    "    df_eventplayers = pd.concat([df_eventplayers, df_team_d]).reset_index(drop=True)\n",
    "\n",
    "    # appends team d players\n",
    "    total_players.extend([team_d for i in range(3)])\n",
    "\n",
    "# all players in one dataframe\n",
    "df_eventplayers#.head(3)"
   ]
  },
  {
   "cell_type": "markdown",
   "metadata": {},
   "source": [
    "## Accumulative Method\n",
    "\n",
    "This method will consider only a weighted sum of scores, the more players the team has, it will accumulate more medals, considering some players won't participate in both events."
   ]
  },
  {
   "cell_type": "code",
   "execution_count": 12,
   "metadata": {},
   "outputs": [
    {
     "data": {
      "text/html": [
       "<div>\n",
       "<style scoped>\n",
       "    .dataframe tbody tr th:only-of-type {\n",
       "        vertical-align: middle;\n",
       "    }\n",
       "\n",
       "    .dataframe tbody tr th {\n",
       "        vertical-align: top;\n",
       "    }\n",
       "\n",
       "    .dataframe thead th {\n",
       "        text-align: right;\n",
       "    }\n",
       "</style>\n",
       "<table border=\"1\" class=\"dataframe\">\n",
       "  <thead>\n",
       "    <tr style=\"text-align: right;\">\n",
       "      <th></th>\n",
       "      <th>event_date</th>\n",
       "      <th>event_game</th>\n",
       "      <th>team</th>\n",
       "      <th>medal</th>\n",
       "      <th>medal_frequence</th>\n",
       "      <th>acc_w_score</th>\n",
       "      <th>total_players</th>\n",
       "    </tr>\n",
       "  </thead>\n",
       "  <tbody>\n",
       "    <tr>\n",
       "      <th>0</th>\n",
       "      <td>2024-08-15</td>\n",
       "      <td>A</td>\n",
       "      <td>ThunderCats</td>\n",
       "      <td>bronze</td>\n",
       "      <td>48</td>\n",
       "      <td>48</td>\n",
       "      <td>184</td>\n",
       "    </tr>\n",
       "    <tr>\n",
       "      <th>1</th>\n",
       "      <td>2024-08-15</td>\n",
       "      <td>A</td>\n",
       "      <td>ThunderCats</td>\n",
       "      <td>silver</td>\n",
       "      <td>49</td>\n",
       "      <td>98</td>\n",
       "      <td>184</td>\n",
       "    </tr>\n",
       "    <tr>\n",
       "      <th>2</th>\n",
       "      <td>2024-08-15</td>\n",
       "      <td>A</td>\n",
       "      <td>ThunderCats</td>\n",
       "      <td>gold</td>\n",
       "      <td>48</td>\n",
       "      <td>144</td>\n",
       "      <td>184</td>\n",
       "    </tr>\n",
       "    <tr>\n",
       "      <th>3</th>\n",
       "      <td>2024-08-15</td>\n",
       "      <td>A</td>\n",
       "      <td>Dog Patrol</td>\n",
       "      <td>bronze</td>\n",
       "      <td>53</td>\n",
       "      <td>53</td>\n",
       "      <td>236</td>\n",
       "    </tr>\n",
       "  </tbody>\n",
       "</table>\n",
       "</div>"
      ],
      "text/plain": [
       "   event_date event_game         team   medal  medal_frequence  acc_w_score  \\\n",
       "0  2024-08-15          A  ThunderCats  bronze               48           48   \n",
       "1  2024-08-15          A  ThunderCats  silver               49           98   \n",
       "2  2024-08-15          A  ThunderCats    gold               48          144   \n",
       "3  2024-08-15          A   Dog Patrol  bronze               53           53   \n",
       "\n",
       "   total_players  \n",
       "0            184  \n",
       "1            184  \n",
       "2            184  \n",
       "3            236  "
      ]
     },
     "execution_count": 12,
     "metadata": {},
     "output_type": "execute_result"
    }
   ],
   "source": [
    "# accumulated, weighted scores (keeping dataframe integrity)\n",
    "df_eventteams_scores = df_eventplayers.groupby(['event_date', 'event_game', 'team', 'medal']).sum('score').reset_index()\n",
    "\n",
    "#---------------- frequency (medal count)\n",
    "acc_f = []\n",
    "for i in range(len(df_eventteams_scores)):\n",
    "    if df_eventteams_scores['medal'].iat[i]=='gold':\n",
    "        acc_f.append(int(df_eventteams_scores['score'].iat[i]/3))\n",
    "    elif df_eventteams_scores['medal'].iat[i]=='silver':\n",
    "        acc_f.append(int(df_eventteams_scores['score'].iat[i]/2))\n",
    "    elif df_eventteams_scores['medal'].iat[i]=='bronze':\n",
    "        acc_f.append(int(df_eventteams_scores['score'].iat[i]))\n",
    "    else:\n",
    "        acc_f.append(0)\n",
    "\n",
    "df_eventteams_scores['medal_frequence'] = pd.Series(acc_f)\n",
    "\n",
    "#---------------- weighted scores\n",
    "df_eventteams_scores['acc_w_score'] = df_eventteams_scores['score']\n",
    "df_eventteams_scores.drop('score', axis=1, inplace=True)\n",
    "\n",
    "#---------------- drop 'not played' with filter\n",
    "df_eventteams_scores = df_eventteams_scores[df_eventteams_scores['medal']!='not played']\n",
    "\n",
    "#---------------- reorder columns and values by categorical datatypes\n",
    "df_eventteams_scores['team'] = pd.Categorical(\n",
    "    values = [i for i in df_eventteams_scores['team'].values],\n",
    "    categories = [i for i in df_eventplayers['team'].unique()],\n",
    "    ordered = True)\n",
    "df_eventteams_scores.sort_values(by=['event_game','team', 'medal'], ascending=[True,True, True], ignore_index=True, inplace=True)\n",
    "\n",
    "#---------------- set medal column to categorical\n",
    "df_eventteams_scores['medal'] = pd.Categorical(df_eventteams_scores['medal'],\n",
    "                                               ordered=True,\n",
    "                                               categories = ['bronze', 'silver', 'gold'])\n",
    "\n",
    "#---------------- adds total_players column\n",
    "total_players.extend(total_players)\n",
    "df_eventteams_scores = pd.concat([df_eventteams_scores, pd.Series(total_players, name='total_players')], axis=1)\n",
    "\n",
    "#---------------- team names list (for interactive data visualization)\n",
    "team_names = [i for i in df_eventplayers['team'].unique()]\n",
    "events = [i for i in df_eventplayers['event_game'].unique()]\n",
    "\n",
    "df_eventteams_scores.head(4)"
   ]
  },
  {
   "cell_type": "markdown",
   "metadata": {},
   "source": [
    "**Considerations**\n",
    "\n",
    "All previews data is autogenerated, so what happens with user data? Some requirements must meet in input data:\n",
    "\n",
    "- players have asociated relevant data, like resulting event score and other attributes depending on the nature of the game\n",
    "- in many games, a team can be a faction, a country, class...\n",
    "- for this score methods, a player score must be part of a batch first, and then compare globaly. For a global score alone, any score method is irrelevant (just sort your scores!).\n",
    "\n",
    "For this reasons, any new data must pass through a pipeline for this to look like this random sim data."
   ]
  },
  {
   "cell_type": "markdown",
   "metadata": {},
   "source": [
    "## Performance Score Method\n",
    "\n",
    "Separates the individual scoring from team scoring, keeping individual in the accumulative method, and using indibidual resulting position to process each team score, normalizing each team's result distribution."
   ]
  },
  {
   "cell_type": "markdown",
   "metadata": {},
   "source": [
    "## Team Metrics"
   ]
  },
  {
   "cell_type": "code",
   "execution_count": 13,
   "metadata": {},
   "outputs": [
    {
     "name": "stdout",
     "output_type": "stream",
     "text": [
      "Team A, event A medals\n",
      "    N of players: 184\n",
      "    Not played:   39\n",
      "    Bronzes:      48\n",
      "    Silvers:      49\n",
      "    Golds:        48\n"
     ]
    }
   ],
   "source": [
    "# lets take a look on team ThunderCats (team A) as example\n",
    "# we will always want some metrics from this simple numbers\n",
    "# this is our purest information from a single team\n",
    "\n",
    "print(\n",
    "    f\"\"\"Team A, event A medals\n",
    "    N of players: {len(team_a_players)}\n",
    "    Not played:   {len(df_team_a[df_team_a['score']==0][df_team_a['event_game']=='A'][['player_id', 'event_game']])}\n",
    "    Bronzes:      {len(df_team_a[df_team_a['score']==1][df_team_a['event_game']=='A'][['player_id', 'event_game']])}\n",
    "    Silvers:      {len(df_team_a[df_team_a['score']==2][df_team_a['event_game']=='A'][['player_id', 'event_game']])}\n",
    "    Golds:        {len(df_team_a[df_team_a['score']==3][df_team_a['event_game']=='A'][['player_id', 'event_game']])}\"\"\"\n",
    ")"
   ]
  },
  {
   "cell_type": "markdown",
   "metadata": {},
   "source": [
    "### Competitors ratio\n",
    "\n",
    "To have a clear idea of how many players actually played in an event, in proportional terms instead of real frequency. The output requires more information to interpret, it may vary depending on user experience and posible issues during event execution.\n",
    "\n",
    "In general terms, an output may be related with user experience, but also a team output can be related with community interactions and social experience ingame or in outer ."
   ]
  },
  {
   "cell_type": "code",
   "execution_count": 14,
   "metadata": {},
   "outputs": [],
   "source": [
    "def competitor_r(total_players, n_players):\n",
    "    \"\"\"\n",
    "    Proportion of players who have participated in an event. Outputs float, can be multiplied by 100.\n",
    "    total_players: player base\n",
    "    n_plyers: players who did/didn't participate.\n",
    "    \"\"\"\n",
    "    competitors_ratio = (total_players - n_players) / total_players\n",
    "\n",
    "    return competitors_ratio"
   ]
  },
  {
   "cell_type": "code",
   "execution_count": 15,
   "metadata": {},
   "outputs": [],
   "source": [
    "def general_participation(df, n_player_base = n_player_base,\n",
    "                          #n_players_a = team_a_players, n_players_b = team_b,\n",
    "                          #n_players_c = team_c, n_players_d = team_d,\n",
    "                          cb_b = cb_b, cb_c = cb_c, cb_d = cb_d):\n",
    "    \n",
    "    \"\"\"\n",
    "    General competitor ratios, or player ratios, by event and by team\n",
    "\n",
    "    **Output**\n",
    "    List of general events player participation (competitors ratios) and list of general teams participation\n",
    "    (competitors ratios). Can access to individual values with indexing. Values can be multiplied by 100 for\n",
    "    relative format.\n",
    "    \n",
    "    **Parameters**\n",
    "    df: dataframe with main data\n",
    "    n_player_base: all player users\n",
    "    *kwards: other data related to teams and checkboxes\n",
    "    \"\"\"\n",
    "    \n",
    "    events = list(df['event_game'].unique())\n",
    "    event_compr = []\n",
    "\n",
    "    # users, teams and event participation ratios (we use desagregated dfs)\n",
    "    #-------------- general ratio\n",
    "    for event in events:\n",
    "        event_comp = len(df[df['score']==0][df['event_game']==event])\n",
    "        event_compr.append(competitor_r(n_player_base, event_comp))\n",
    "        # can apply round(event_compr*100,2) for value in %\n",
    "    \n",
    "    #-------------- team ratios\n",
    "    #--------------------- team A by default, the rest defined by checkboxes\n",
    "    team_cr = [competitor_r(len(team_a_players), len(df_team_a[df_team_a['score']==0]))]\n",
    "    \n",
    "    if cb_b == True:\n",
    "        team_b_cr = competitor_r(len(team_b_players), len(df_team_b[df_team_b['score']==0]))\n",
    "        team_cr.append(team_b_cr)\n",
    "    if cb_c == True:\n",
    "        team_c_cr = competitor_r(len(team_c_players), len(df_team_c[df_team_c['score']==0]))\n",
    "        team_cr.append(team_c_cr)\n",
    "    if cb_d == True:\n",
    "        team_d_cr = competitor_r(len(team_d_players), len(df_team_d[df_team_d['score']==0]))\n",
    "        team_cr.append(team_d_cr)\n",
    "\n",
    "    return event_compr, team_cr"
   ]
  },
  {
   "cell_type": "code",
   "execution_count": 16,
   "metadata": {},
   "outputs": [
    {
     "name": "stdout",
     "output_type": "stream",
     "text": [
      "Event A participation: 81.01%\n",
      "Event B participation: 81.18%\n",
      "---------------------------------------------\n",
      "Team ThunderCats participation: 58.15%\n",
      "Team Dog Patrol participation: 49.58%\n",
      "Team Power Birds participation: 56.79%\n"
     ]
    }
   ],
   "source": [
    "event_compr, team_cr = general_participation(df_eventplayers)\n",
    "\n",
    "# general ratio\n",
    "for e in range(len(events)):\n",
    "    print(f\"Event {events[e]} participation: {round((event_compr[e])*100,2)}%\")\n",
    "print(\"---------------\"*3)\n",
    "\n",
    "# team ratios (team A by default, the rest defined by checkboxes)\n",
    "for t in range(len(team_names)):\n",
    "    print(f\"\"\"Team {team_names[t]} participation: {round(team_cr[t]*100,2)}%\"\"\")"
   ]
  },
  {
   "cell_type": "code",
   "execution_count": 17,
   "metadata": {},
   "outputs": [],
   "source": [
    "# estimating event competition ratios per team (team A by default)\n",
    "# competition ratio (player ratio) is an indicator that will help if in an event ends in a draw\n",
    "# also, will help learn if an event was succesfull or not and explain other phenomena\n",
    "\n",
    "def team_event_participation(df, n_players):\n",
    "\n",
    "    \"\"\"\n",
    "    DataFrame with all competitor ratios by team per event\n",
    "\n",
    "    **Parameters**\n",
    "    df: dataframe of a single team (no general playerbase)\n",
    "    n_players: number of players in the team\n",
    "    \"\"\"\n",
    "    \n",
    "    events = list(df['event_game'].unique())\n",
    "    event_team_cr = [competitor_r(n_players, len(df[df['score']==0][df['event_game']==event])) for event in events]\n",
    "\n",
    "    # builds ratio data to append to main team dataframe\n",
    "    df_event_team_cr = pd.DataFrame({\n",
    "        'player_ratio' : event_team_cr,\n",
    "        'event_game'   : events,\n",
    "        'team'         : [df.at[0,'team'] for i in range(len(events))]\n",
    "    })\n",
    "    \n",
    "    return df_event_team_cr"
   ]
  },
  {
   "cell_type": "code",
   "execution_count": 18,
   "metadata": {},
   "outputs": [
    {
     "name": "stdout",
     "output_type": "stream",
     "text": [
      "Teams Event competitor ratios\n",
      "    \tTeam ThunderCats \t - Event A: 78.8%\t Event B: 79.35%\n",
      "\tTeam Dog Patrol \t - Event A: 73.31%\t Event B: 76.27%\n",
      "\tTeam Power Birds \t - Event A: 82.72%\t Event B: 74.07%\n"
     ]
    },
    {
     "data": {
      "text/html": [
       "<div>\n",
       "<style scoped>\n",
       "    .dataframe tbody tr th:only-of-type {\n",
       "        vertical-align: middle;\n",
       "    }\n",
       "\n",
       "    .dataframe tbody tr th {\n",
       "        vertical-align: top;\n",
       "    }\n",
       "\n",
       "    .dataframe thead th {\n",
       "        text-align: right;\n",
       "    }\n",
       "</style>\n",
       "<table border=\"1\" class=\"dataframe\">\n",
       "  <thead>\n",
       "    <tr style=\"text-align: right;\">\n",
       "      <th></th>\n",
       "      <th>event_date</th>\n",
       "      <th>event_game</th>\n",
       "      <th>team</th>\n",
       "      <th>medal</th>\n",
       "      <th>medal_frequence</th>\n",
       "      <th>acc_w_score</th>\n",
       "      <th>total_players</th>\n",
       "      <th>player_ratio</th>\n",
       "    </tr>\n",
       "  </thead>\n",
       "  <tbody>\n",
       "    <tr>\n",
       "      <th>0</th>\n",
       "      <td>2024-08-15</td>\n",
       "      <td>A</td>\n",
       "      <td>ThunderCats</td>\n",
       "      <td>bronze</td>\n",
       "      <td>48</td>\n",
       "      <td>48</td>\n",
       "      <td>184</td>\n",
       "      <td>78.80</td>\n",
       "    </tr>\n",
       "    <tr>\n",
       "      <th>1</th>\n",
       "      <td>2024-08-15</td>\n",
       "      <td>A</td>\n",
       "      <td>ThunderCats</td>\n",
       "      <td>silver</td>\n",
       "      <td>49</td>\n",
       "      <td>98</td>\n",
       "      <td>184</td>\n",
       "      <td>78.80</td>\n",
       "    </tr>\n",
       "    <tr>\n",
       "      <th>2</th>\n",
       "      <td>2024-08-15</td>\n",
       "      <td>A</td>\n",
       "      <td>ThunderCats</td>\n",
       "      <td>gold</td>\n",
       "      <td>48</td>\n",
       "      <td>144</td>\n",
       "      <td>184</td>\n",
       "      <td>78.80</td>\n",
       "    </tr>\n",
       "    <tr>\n",
       "      <th>3</th>\n",
       "      <td>2024-08-15</td>\n",
       "      <td>A</td>\n",
       "      <td>Dog Patrol</td>\n",
       "      <td>bronze</td>\n",
       "      <td>53</td>\n",
       "      <td>53</td>\n",
       "      <td>236</td>\n",
       "      <td>73.31</td>\n",
       "    </tr>\n",
       "  </tbody>\n",
       "</table>\n",
       "</div>"
      ],
      "text/plain": [
       "   event_date event_game         team   medal  medal_frequence  acc_w_score  \\\n",
       "0  2024-08-15          A  ThunderCats  bronze               48           48   \n",
       "1  2024-08-15          A  ThunderCats  silver               49           98   \n",
       "2  2024-08-15          A  ThunderCats    gold               48          144   \n",
       "3  2024-08-15          A   Dog Patrol  bronze               53           53   \n",
       "\n",
       "   total_players  player_ratio  \n",
       "0            184         78.80  \n",
       "1            184         78.80  \n",
       "2            184         78.80  \n",
       "3            236         73.31  "
      ]
     },
     "execution_count": 18,
     "metadata": {},
     "output_type": "execute_result"
    }
   ],
   "source": [
    "# first team ratios\n",
    "df_aux = team_event_participation(df_team_a, input_a)\n",
    "print(\n",
    "    f\"\"\"Teams Event competitor ratios\n",
    "    \\tTeam {team_names[0]} \\t - Event {df_aux['event_game'].unique()[0]}: {round((df_aux.at[0,'player_ratio']*100),2)}%\\t Event {df_aux['event_game'].unique()[1]}: {round(df_aux.at[1,'player_ratio']*100,2)}%\"\"\")\n",
    "\n",
    "# the rest of team ratios, concatenated to the first\n",
    "if cb_b == True: \n",
    "    df_aux = pd.concat([df_aux, team_event_participation(df_team_b, team_b)],ignore_index=True)\n",
    "    print(f\"\\tTeam {team_names[1]} \\t - Event {df_aux['event_game'].unique()[0]}: {round(df_aux.at[2,'player_ratio']*100,2)}%\\t Event {df_aux['event_game'].unique()[1]}: {round(df_aux.at[3,'player_ratio']*100,2)}%\")\n",
    "if cb_c == True:\n",
    "    df_aux = pd.concat([df_aux, team_event_participation(df_team_c, team_c)],ignore_index=True)\n",
    "    print(f\"\\tTeam {team_names[2]} \\t - Event {df_aux['event_game'].unique()[0]}: {round(df_aux.at[4,'player_ratio']*100,2)}%\\t Event {df_aux['event_game'].unique()[1]}: {round(df_aux.at[5,'player_ratio']*100,2)}%\")\n",
    "if cb_d == True:\n",
    "    df_aux = pd.concat([df_aux, team_event_participation(df_team_d, team_d)],ignore_index=True)\n",
    "    print(f\"\\tTeam {team_names[3]} \\t - Event {df_aux['event_game'].unique()[0]}: {round(df_aux.at[6,'player_ratio']*100,2)}%\\t Event {df_aux['event_game'].unique()[1]}: {round(df_aux.at[7,'player_ratio']*100,2)}%\")\n",
    "\n",
    "# appends auxiliar df with competitor ratios (player ratio) to main team scores df\n",
    "df_eventteams_scores = pd.merge(\n",
    "    left=df_eventteams_scores,\n",
    "    right = df_aux,\n",
    "    how = 'inner',\n",
    "    on = ['event_game', 'team'])\n",
    "\n",
    "# formats player ratio\n",
    "df_eventteams_scores['player_ratio'] = (df_eventteams_scores['player_ratio']*100).round(2)\n",
    "\n",
    "# player ratio seems like duplicated data but its based on team, not on medals, helping on data visualization\n",
    "df_eventteams_scores.head(4)"
   ]
  },
  {
   "cell_type": "markdown",
   "metadata": {},
   "source": [
    "### Team medals relative frequencies\n",
    "\n",
    "Lets estimate the percentage of medals won by each team in each event, since having only frecuency is not enough to compare between teams. With this we will have something like \"$n$ out of 10 players won $m$ medal\""
   ]
  },
  {
   "cell_type": "code",
   "execution_count": 19,
   "metadata": {},
   "outputs": [],
   "source": [
    "# here are used 3 functions\n",
    "\n",
    "#----------- Medal relative frequence function optimizations (indirect use)\n",
    "# medal proportion, by team\n",
    "def medal_r(team_players, n_gold, n_silver, n_bronze):\n",
    "    \"\"\"\n",
    "    Proportion of medals won.\n",
    "    Team_players: int\n",
    "    medals (n_gold, n_silver, n_bronze): int\n",
    "    \"\"\"\n",
    "    goldm = n_gold / team_players\n",
    "    silvm = n_silver / team_players\n",
    "    bronm = n_bronze / team_players\n",
    "\n",
    "    return goldm, silvm, bronm\n",
    "\n",
    "# medal proportion, by team and event\n",
    "def event_medal_r(team_players_df, event):\n",
    "    \"\"\"\n",
    "    Proportion of medals won, counting from a DataFrame an filtering by event\n",
    "    \"\"\"\n",
    "    competitors = int((len(team_players_df)/2)-len(team_players_df[team_players_df['score']==0][team_players_df['event_game']==event]))\n",
    "    n_gold = len(team_players_df[team_players_df['score']==3][team_players_df['event_game']==event])\n",
    "    n_silv = len(team_players_df[team_players_df['score']==2][team_players_df['event_game']==event])\n",
    "    n_bron = len(team_players_df[team_players_df['score']==1][team_players_df['event_game']==event])\n",
    "\n",
    "    gold, silver, bronze = medal_r(competitors, n_gold, n_silv, n_bron)\n",
    "    \n",
    "    return gold, silver, bronze\n",
    "\n",
    "#----------- Direct use in Streamlit\n",
    "# build auxiliar medal df to concatenate with main df \n",
    "def team_event_medals(df_team, main_df = df_eventteams_scores):\n",
    "    \"\"\"\n",
    "    Builds df of medal relative frequence by team and event.\n",
    "    \n",
    "    Parameters\n",
    "    df: team dataframe (not general)\n",
    "    \"\"\"\n",
    "    # builds auxiliar df with medal relative count (from team A by default)\n",
    "    \n",
    "    events = list(main_df['event_game'].unique())\n",
    "    aux_data = list(event_medal_r(df_team, events[0])[:])\n",
    "\n",
    "    # creates a list of events based on medal colors (winning positions)\n",
    "    aux_events = [events[0] for e in range(len(main_df['medal'].unique()))]\n",
    "    aux_medals = ['gold', 'silver', 'bronze']\n",
    "    #for i in range(len(events)):\n",
    "        \n",
    "    for i in range(1,len(events)):\n",
    "        aux_events.extend([events[i] for e in range(len(main_df['medal'].unique()))])\n",
    "        aux_data.extend(list(event_medal_r(df_team, events[i])[:]))\n",
    "        aux_medals.extend(aux_medals)\n",
    "    \n",
    "\n",
    "    df_aux = pd.DataFrame({\n",
    "        'event_game'     : aux_events,\n",
    "        'team'           : [df_team['team'].unique()[0] for i in range(len(aux_events))],\n",
    "        'medal'          : ['gold', 'silver', 'bronze', 'gold', 'silver', 'bronze'],\n",
    "        'medal_relative' : aux_data})\n",
    "\n",
    "    return df_aux"
   ]
  },
  {
   "cell_type": "code",
   "execution_count": 20,
   "metadata": {},
   "outputs": [
    {
     "data": {
      "text/html": [
       "<div>\n",
       "<style scoped>\n",
       "    .dataframe tbody tr th:only-of-type {\n",
       "        vertical-align: middle;\n",
       "    }\n",
       "\n",
       "    .dataframe tbody tr th {\n",
       "        vertical-align: top;\n",
       "    }\n",
       "\n",
       "    .dataframe thead th {\n",
       "        text-align: right;\n",
       "    }\n",
       "</style>\n",
       "<table border=\"1\" class=\"dataframe\">\n",
       "  <thead>\n",
       "    <tr style=\"text-align: right;\">\n",
       "      <th></th>\n",
       "      <th>event_date</th>\n",
       "      <th>event_game</th>\n",
       "      <th>team</th>\n",
       "      <th>medal</th>\n",
       "      <th>medal_frequence</th>\n",
       "      <th>acc_w_score</th>\n",
       "      <th>total_players</th>\n",
       "      <th>player_ratio</th>\n",
       "      <th>medal_relative</th>\n",
       "    </tr>\n",
       "  </thead>\n",
       "  <tbody>\n",
       "    <tr>\n",
       "      <th>0</th>\n",
       "      <td>2024-08-15</td>\n",
       "      <td>A</td>\n",
       "      <td>ThunderCats</td>\n",
       "      <td>bronze</td>\n",
       "      <td>48</td>\n",
       "      <td>48</td>\n",
       "      <td>184</td>\n",
       "      <td>78.80</td>\n",
       "      <td>0.3310</td>\n",
       "    </tr>\n",
       "    <tr>\n",
       "      <th>1</th>\n",
       "      <td>2024-08-15</td>\n",
       "      <td>A</td>\n",
       "      <td>ThunderCats</td>\n",
       "      <td>silver</td>\n",
       "      <td>49</td>\n",
       "      <td>98</td>\n",
       "      <td>184</td>\n",
       "      <td>78.80</td>\n",
       "      <td>0.3379</td>\n",
       "    </tr>\n",
       "    <tr>\n",
       "      <th>2</th>\n",
       "      <td>2024-08-15</td>\n",
       "      <td>A</td>\n",
       "      <td>ThunderCats</td>\n",
       "      <td>gold</td>\n",
       "      <td>48</td>\n",
       "      <td>144</td>\n",
       "      <td>184</td>\n",
       "      <td>78.80</td>\n",
       "      <td>0.3310</td>\n",
       "    </tr>\n",
       "    <tr>\n",
       "      <th>3</th>\n",
       "      <td>2024-08-15</td>\n",
       "      <td>A</td>\n",
       "      <td>Dog Patrol</td>\n",
       "      <td>bronze</td>\n",
       "      <td>53</td>\n",
       "      <td>53</td>\n",
       "      <td>236</td>\n",
       "      <td>73.31</td>\n",
       "      <td>0.3064</td>\n",
       "    </tr>\n",
       "  </tbody>\n",
       "</table>\n",
       "</div>"
      ],
      "text/plain": [
       "   event_date event_game         team   medal  medal_frequence  acc_w_score  \\\n",
       "0  2024-08-15          A  ThunderCats  bronze               48           48   \n",
       "1  2024-08-15          A  ThunderCats  silver               49           98   \n",
       "2  2024-08-15          A  ThunderCats    gold               48          144   \n",
       "3  2024-08-15          A   Dog Patrol  bronze               53           53   \n",
       "\n",
       "   total_players  player_ratio  medal_relative  \n",
       "0            184         78.80          0.3310  \n",
       "1            184         78.80          0.3379  \n",
       "2            184         78.80          0.3310  \n",
       "3            236         73.31          0.3064  "
      ]
     },
     "execution_count": 20,
     "metadata": {},
     "output_type": "execute_result"
    }
   ],
   "source": [
    "# teams medal relative frequency in each event, estimated by each team\n",
    "# this way, it doesn't matter how many players are in each team, but how players performed in relative terms\n",
    "# here is where the method unbias the results, since results are independent from player count in a large playerbase\n",
    "# also, it considers players that actually participated in each event\n",
    "\n",
    "# builds auxiliar df with medal relative count (from team A by default)\n",
    "df_aux = team_event_medals(df_team_a)\n",
    "\n",
    "if cb_b == True:\n",
    "    df_aux = pd.concat([df_aux, team_event_medals(df_team_b)])\n",
    "if cb_c == True:\n",
    "    df_aux = pd.concat([df_aux, team_event_medals(df_team_c)])\n",
    "if cb_d == True:\n",
    "    df_aux = pd.concat([df_aux, team_event_medals(df_team_d)])\n",
    "\n",
    "# appends relative frequencies to main team data\n",
    "df_eventteams_scores = pd.merge(\n",
    "    left=df_eventteams_scores,\n",
    "    right = df_aux,\n",
    "    how = 'inner',\n",
    "    on = ['event_game', 'team', 'medal'])\n",
    "\n",
    "#formats float values\n",
    "df_eventteams_scores['medal_relative'] = df_eventteams_scores['medal_relative'].round(4)\n",
    "\n",
    "df_eventteams_scores.head(4)"
   ]
  },
  {
   "cell_type": "code",
   "execution_count": 21,
   "metadata": {},
   "outputs": [
    {
     "name": "stdout",
     "output_type": "stream",
     "text": [
      "Teams Performance ratios during each event\n",
      "Event A\n",
      "    \tTeam ThunderCats\t - Gold: 33.1%\t Silver: 33.79%\n",
      "    \tTeam Dog Patrol \t - Gold: 33.53%\t Silver: 35.839999999999996%\n"
     ]
    }
   ],
   "source": [
    "# lets compare only teams A and B in event A\n",
    "print(\n",
    "    f\"\"\"Teams Performance ratios during each event\n",
    "Event A\n",
    "    \\tTeam ThunderCats\\t - Gold: {(df_eventteams_scores[df_eventteams_scores['event_game']=='A'][df_eventteams_scores['team']=='ThunderCats'][df_eventteams_scores['medal']=='gold']['medal_relative']*100).iloc[0]}%\\t Silver: {(df_eventteams_scores[df_eventteams_scores['event_game']=='A'][df_eventteams_scores['team']=='ThunderCats'][df_eventteams_scores['medal']=='silver']['medal_relative']*100).iloc[0]}%\n",
    "    \\tTeam Dog Patrol \\t - Gold: {(df_eventteams_scores[df_eventteams_scores['event_game']=='A'][df_eventteams_scores['team']=='Dog Patrol'][df_eventteams_scores['medal']=='gold']['medal_relative']*100).iloc[0]}%\\t Silver: {((df_eventteams_scores[df_eventteams_scores['event_game']=='A'][df_eventteams_scores['team']=='Dog Patrol'][df_eventteams_scores['medal']=='silver']['medal_relative'])*100).iloc[0]}%\"\"\")"
   ]
  },
  {
   "cell_type": "markdown",
   "metadata": {},
   "source": [
    "### Performance score\n",
    "\n",
    "All new counts are put together, now we need the final performance score from medal relative frequence and build a 2 score columns for visualization purpose."
   ]
  },
  {
   "cell_type": "code",
   "execution_count": 22,
   "metadata": {
    "scrolled": true
   },
   "outputs": [
    {
     "data": {
      "text/html": [
       "<div>\n",
       "<style scoped>\n",
       "    .dataframe tbody tr th:only-of-type {\n",
       "        vertical-align: middle;\n",
       "    }\n",
       "\n",
       "    .dataframe tbody tr th {\n",
       "        vertical-align: top;\n",
       "    }\n",
       "\n",
       "    .dataframe thead th {\n",
       "        text-align: right;\n",
       "    }\n",
       "</style>\n",
       "<table border=\"1\" class=\"dataframe\">\n",
       "  <thead>\n",
       "    <tr style=\"text-align: right;\">\n",
       "      <th></th>\n",
       "      <th>event_date</th>\n",
       "      <th>event_game</th>\n",
       "      <th>team</th>\n",
       "      <th>medal</th>\n",
       "      <th>medal_frequence</th>\n",
       "      <th>acc_w_score</th>\n",
       "      <th>total_players</th>\n",
       "      <th>player_ratio</th>\n",
       "      <th>medal_relative</th>\n",
       "      <th>performance_score</th>\n",
       "    </tr>\n",
       "  </thead>\n",
       "  <tbody>\n",
       "    <tr>\n",
       "      <th>0</th>\n",
       "      <td>2024-08-15</td>\n",
       "      <td>A</td>\n",
       "      <td>ThunderCats</td>\n",
       "      <td>bronze</td>\n",
       "      <td>48</td>\n",
       "      <td>48</td>\n",
       "      <td>184</td>\n",
       "      <td>78.80</td>\n",
       "      <td>33</td>\n",
       "      <td>33.10</td>\n",
       "    </tr>\n",
       "    <tr>\n",
       "      <th>1</th>\n",
       "      <td>2024-08-15</td>\n",
       "      <td>A</td>\n",
       "      <td>ThunderCats</td>\n",
       "      <td>silver</td>\n",
       "      <td>49</td>\n",
       "      <td>98</td>\n",
       "      <td>184</td>\n",
       "      <td>78.80</td>\n",
       "      <td>33</td>\n",
       "      <td>67.58</td>\n",
       "    </tr>\n",
       "    <tr>\n",
       "      <th>2</th>\n",
       "      <td>2024-08-15</td>\n",
       "      <td>A</td>\n",
       "      <td>ThunderCats</td>\n",
       "      <td>gold</td>\n",
       "      <td>48</td>\n",
       "      <td>144</td>\n",
       "      <td>184</td>\n",
       "      <td>78.80</td>\n",
       "      <td>33</td>\n",
       "      <td>99.30</td>\n",
       "    </tr>\n",
       "    <tr>\n",
       "      <th>3</th>\n",
       "      <td>2024-08-15</td>\n",
       "      <td>A</td>\n",
       "      <td>Dog Patrol</td>\n",
       "      <td>bronze</td>\n",
       "      <td>53</td>\n",
       "      <td>53</td>\n",
       "      <td>236</td>\n",
       "      <td>73.31</td>\n",
       "      <td>30</td>\n",
       "      <td>30.64</td>\n",
       "    </tr>\n",
       "  </tbody>\n",
       "</table>\n",
       "</div>"
      ],
      "text/plain": [
       "   event_date event_game         team   medal  medal_frequence  acc_w_score  \\\n",
       "0  2024-08-15          A  ThunderCats  bronze               48           48   \n",
       "1  2024-08-15          A  ThunderCats  silver               49           98   \n",
       "2  2024-08-15          A  ThunderCats    gold               48          144   \n",
       "3  2024-08-15          A   Dog Patrol  bronze               53           53   \n",
       "\n",
       "   total_players  player_ratio  medal_relative  performance_score  \n",
       "0            184         78.80              33              33.10  \n",
       "1            184         78.80              33              67.58  \n",
       "2            184         78.80              33              99.30  \n",
       "3            236         73.31              30              30.64  "
      ]
     },
     "execution_count": 22,
     "metadata": {},
     "output_type": "execute_result"
    }
   ],
   "source": [
    "# first lets build the last medal scores using relative frequencies with the same weights\n",
    "\n",
    "perf_s = []\n",
    "for i in range(len(df_eventteams_scores)):\n",
    "    if df_eventteams_scores['medal'].iat[i]=='gold':\n",
    "        perf_s.append(round(df_eventteams_scores['medal_relative'].iat[i]*300,2))\n",
    "    elif df_eventteams_scores['medal'].iat[i]=='silver':\n",
    "        perf_s.append(round(df_eventteams_scores['medal_relative'].iat[i]*200,2))\n",
    "    elif df_eventteams_scores['medal'].iat[i]=='bronze':\n",
    "        perf_s.append(round(df_eventteams_scores['medal_relative'].iat[i]*100,2))\n",
    "    else:\n",
    "        perf_s.append(0)\n",
    "\n",
    "df_eventteams_scores['performance_score'] = pd.Series(perf_s)\n",
    "\n",
    "# formats medal_relative after score\n",
    "df_eventteams_scores['medal_relative'] = (df_eventteams_scores['medal_relative']*100).apply(lambda x: int(x))\n",
    "\n",
    "df_eventteams_scores.head(4)"
   ]
  },
  {
   "cell_type": "code",
   "execution_count": 23,
   "metadata": {
    "scrolled": true
   },
   "outputs": [
    {
     "data": {
      "text/html": [
       "<div>\n",
       "<style scoped>\n",
       "    .dataframe tbody tr th:only-of-type {\n",
       "        vertical-align: middle;\n",
       "    }\n",
       "\n",
       "    .dataframe tbody tr th {\n",
       "        vertical-align: top;\n",
       "    }\n",
       "\n",
       "    .dataframe thead th {\n",
       "        text-align: right;\n",
       "    }\n",
       "</style>\n",
       "<table border=\"1\" class=\"dataframe\">\n",
       "  <thead>\n",
       "    <tr style=\"text-align: right;\">\n",
       "      <th></th>\n",
       "      <th>event_date</th>\n",
       "      <th>event_game</th>\n",
       "      <th>team</th>\n",
       "      <th>medal</th>\n",
       "      <th>medal_frequence</th>\n",
       "      <th>acc_w_score</th>\n",
       "      <th>total_players</th>\n",
       "      <th>player_ratio</th>\n",
       "      <th>medal_relative</th>\n",
       "      <th>performance_score</th>\n",
       "      <th>acc_w_score_total</th>\n",
       "      <th>performance_score_total</th>\n",
       "    </tr>\n",
       "  </thead>\n",
       "  <tbody>\n",
       "    <tr>\n",
       "      <th>0</th>\n",
       "      <td>2024-08-15</td>\n",
       "      <td>A</td>\n",
       "      <td>ThunderCats</td>\n",
       "      <td>bronze</td>\n",
       "      <td>48</td>\n",
       "      <td>48</td>\n",
       "      <td>184</td>\n",
       "      <td>78.80</td>\n",
       "      <td>33</td>\n",
       "      <td>33.10</td>\n",
       "      <td>290</td>\n",
       "      <td>199.98</td>\n",
       "    </tr>\n",
       "    <tr>\n",
       "      <th>1</th>\n",
       "      <td>2024-08-15</td>\n",
       "      <td>A</td>\n",
       "      <td>ThunderCats</td>\n",
       "      <td>silver</td>\n",
       "      <td>49</td>\n",
       "      <td>98</td>\n",
       "      <td>184</td>\n",
       "      <td>78.80</td>\n",
       "      <td>33</td>\n",
       "      <td>67.58</td>\n",
       "      <td>290</td>\n",
       "      <td>199.98</td>\n",
       "    </tr>\n",
       "    <tr>\n",
       "      <th>2</th>\n",
       "      <td>2024-08-15</td>\n",
       "      <td>A</td>\n",
       "      <td>ThunderCats</td>\n",
       "      <td>gold</td>\n",
       "      <td>48</td>\n",
       "      <td>144</td>\n",
       "      <td>184</td>\n",
       "      <td>78.80</td>\n",
       "      <td>33</td>\n",
       "      <td>99.30</td>\n",
       "      <td>290</td>\n",
       "      <td>199.98</td>\n",
       "    </tr>\n",
       "    <tr>\n",
       "      <th>3</th>\n",
       "      <td>2024-08-15</td>\n",
       "      <td>A</td>\n",
       "      <td>Dog Patrol</td>\n",
       "      <td>bronze</td>\n",
       "      <td>53</td>\n",
       "      <td>53</td>\n",
       "      <td>236</td>\n",
       "      <td>73.31</td>\n",
       "      <td>30</td>\n",
       "      <td>30.64</td>\n",
       "      <td>351</td>\n",
       "      <td>202.91</td>\n",
       "    </tr>\n",
       "  </tbody>\n",
       "</table>\n",
       "</div>"
      ],
      "text/plain": [
       "   event_date event_game         team   medal  medal_frequence  acc_w_score  \\\n",
       "0  2024-08-15          A  ThunderCats  bronze               48           48   \n",
       "1  2024-08-15          A  ThunderCats  silver               49           98   \n",
       "2  2024-08-15          A  ThunderCats    gold               48          144   \n",
       "3  2024-08-15          A   Dog Patrol  bronze               53           53   \n",
       "\n",
       "   total_players  player_ratio  medal_relative  performance_score  \\\n",
       "0            184         78.80              33              33.10   \n",
       "1            184         78.80              33              67.58   \n",
       "2            184         78.80              33              99.30   \n",
       "3            236         73.31              30              30.64   \n",
       "\n",
       "   acc_w_score_total  performance_score_total  \n",
       "0                290                   199.98  \n",
       "1                290                   199.98  \n",
       "2                290                   199.98  \n",
       "3                351                   202.91  "
      ]
     },
     "execution_count": 23,
     "metadata": {},
     "output_type": "execute_result"
    }
   ],
   "source": [
    "# add total score totals to main team score df\n",
    "\n",
    "df_aux = df_eventteams_scores[['event_game', 'team','acc_w_score','performance_score']].groupby(['event_game','team']).sum(['acc_w_score','performance_score']).reset_index()\n",
    "df_aux.columns = ['event_game', 'team', 'acc_w_score_total', 'performance_score_total']\n",
    "\n",
    "df_eventteams_scores = pd.merge(\n",
    "    left = df_eventteams_scores, right = df_aux,\n",
    "    how = 'inner', on = ['event_game', 'team'])\n",
    "\n",
    "\n",
    "df_eventteams_scores.head(4)"
   ]
  },
  {
   "cell_type": "markdown",
   "metadata": {},
   "source": [
    "## Defining winners\n",
    "\n",
    "Now that we can see the difference between acumulative score and performance by normalizing every team, the final question is: *how can we tell if a team won gold, silver or bronze in an event?* Lets explore some ways."
   ]
  },
  {
   "cell_type": "markdown",
   "metadata": {},
   "source": [
    "### Sorting values\n",
    "\n",
    "By observing the performance figure, can be seen the teams who won more gold, silver and bronze medals.\n",
    "\n",
    "By sorting the data jerarquically, considering as a first instance to define a winner one of the total scores (performance or accumulative), then the team that has a 'best quality' score (e.g. more gold than silver, or the one who made more kills and/or died less times), and if those don't suffice, a comparison between competitor (player) ratios (can be non participants or deserters).\n",
    "\n",
    "Its important to keep performance score in a relative scale already estimated, the same with accumulative score since it's in real scale."
   ]
  },
  {
   "cell_type": "code",
   "execution_count": 24,
   "metadata": {},
   "outputs": [],
   "source": [
    "def event_winners(score_type = 'accumulative', df = df_eventteams_scores):\n",
    "\n",
    "    \"\"\"\n",
    "    Shows the winners sorted by total score > medal score > competitor ratio (or player ratio).\n",
    "\n",
    "    **Parameters**\n",
    "    score_type: choose 'performance' or 'accumulative' ('accumulative' by default)\n",
    "    df: main DataFrame\n",
    "    \"\"\"\n",
    "\n",
    "    team_names = list(df['team'].unique())\n",
    "    loc_index = [i*2 for i in range(len(team_names))]\n",
    "\n",
    "    if score_type == 'accumulative':\n",
    "        score_cols = ['acc_w_score_total', 'acc_w_score']\n",
    "    if score_type == 'performance':\n",
    "        score_cols = 'performance_score_total', 'performance_score'\n",
    "\n",
    "    events = list(df['event_game'].unique())\n",
    "\n",
    "    observed_winners = df[df['event_game']==events[0]][df['medal']!='bronze'].copy()\\\n",
    "                        .sort_values(by = [score_cols[0], score_cols[1], 'player_ratio'],\n",
    "                                     ascending = [False, False, False])\\\n",
    "                       [['event_game','team','medal',score_cols[0], score_cols[1],'player_ratio']]\\\n",
    "                       .reset_index(drop=True).iloc[loc_index,:]\n",
    "\n",
    "    if len(events)>1:\n",
    "        for e in range(1,len(events)):\n",
    "            observed_winners = pd.concat([observed_winners,df[df['event_game']==events[e]][df['medal']!='bronze']\\\n",
    "                                .sort_values(by = [score_cols[0], score_cols[1], 'player_ratio'],\n",
    "                                             ascending = [False, False, False])\\\n",
    "                               [['event_game','team','medal',score_cols[0], score_cols[1],'player_ratio']]\\\n",
    "                               .reset_index(drop=True).iloc[loc_index,:]])\n",
    "\n",
    "    return observed_winners"
   ]
  },
  {
   "cell_type": "code",
   "execution_count": 25,
   "metadata": {},
   "outputs": [
    {
     "data": {
      "text/html": [
       "<div>\n",
       "<style scoped>\n",
       "    .dataframe tbody tr th:only-of-type {\n",
       "        vertical-align: middle;\n",
       "    }\n",
       "\n",
       "    .dataframe tbody tr th {\n",
       "        vertical-align: top;\n",
       "    }\n",
       "\n",
       "    .dataframe thead th {\n",
       "        text-align: right;\n",
       "    }\n",
       "</style>\n",
       "<table border=\"1\" class=\"dataframe\">\n",
       "  <thead>\n",
       "    <tr style=\"text-align: right;\">\n",
       "      <th></th>\n",
       "      <th>event_game</th>\n",
       "      <th>team</th>\n",
       "      <th>medal</th>\n",
       "      <th>acc_w_score_total</th>\n",
       "      <th>acc_w_score</th>\n",
       "      <th>player_ratio</th>\n",
       "    </tr>\n",
       "  </thead>\n",
       "  <tbody>\n",
       "    <tr>\n",
       "      <th>0</th>\n",
       "      <td>A</td>\n",
       "      <td>Dog Patrol</td>\n",
       "      <td>gold</td>\n",
       "      <td>351</td>\n",
       "      <td>174</td>\n",
       "      <td>73.31</td>\n",
       "    </tr>\n",
       "    <tr>\n",
       "      <th>2</th>\n",
       "      <td>A</td>\n",
       "      <td>ThunderCats</td>\n",
       "      <td>gold</td>\n",
       "      <td>290</td>\n",
       "      <td>144</td>\n",
       "      <td>78.80</td>\n",
       "    </tr>\n",
       "    <tr>\n",
       "      <th>4</th>\n",
       "      <td>A</td>\n",
       "      <td>Power Birds</td>\n",
       "      <td>gold</td>\n",
       "      <td>128</td>\n",
       "      <td>54</td>\n",
       "      <td>82.72</td>\n",
       "    </tr>\n",
       "    <tr>\n",
       "      <th>0</th>\n",
       "      <td>B</td>\n",
       "      <td>Dog Patrol</td>\n",
       "      <td>gold</td>\n",
       "      <td>358</td>\n",
       "      <td>183</td>\n",
       "      <td>76.27</td>\n",
       "    </tr>\n",
       "    <tr>\n",
       "      <th>2</th>\n",
       "      <td>B</td>\n",
       "      <td>ThunderCats</td>\n",
       "      <td>gold</td>\n",
       "      <td>304</td>\n",
       "      <td>171</td>\n",
       "      <td>79.35</td>\n",
       "    </tr>\n",
       "    <tr>\n",
       "      <th>4</th>\n",
       "      <td>B</td>\n",
       "      <td>Power Birds</td>\n",
       "      <td>gold</td>\n",
       "      <td>118</td>\n",
       "      <td>66</td>\n",
       "      <td>74.07</td>\n",
       "    </tr>\n",
       "  </tbody>\n",
       "</table>\n",
       "</div>"
      ],
      "text/plain": [
       "  event_game         team medal  acc_w_score_total  acc_w_score  player_ratio\n",
       "0          A   Dog Patrol  gold                351          174         73.31\n",
       "2          A  ThunderCats  gold                290          144         78.80\n",
       "4          A  Power Birds  gold                128           54         82.72\n",
       "0          B   Dog Patrol  gold                358          183         76.27\n",
       "2          B  ThunderCats  gold                304          171         79.35\n",
       "4          B  Power Birds  gold                118           66         74.07"
      ]
     },
     "execution_count": 25,
     "metadata": {},
     "output_type": "execute_result"
    }
   ],
   "source": [
    "event_winners(score_type = 'accumulative')"
   ]
  },
  {
   "cell_type": "code",
   "execution_count": 26,
   "metadata": {},
   "outputs": [
    {
     "data": {
      "text/html": [
       "<div>\n",
       "<style scoped>\n",
       "    .dataframe tbody tr th:only-of-type {\n",
       "        vertical-align: middle;\n",
       "    }\n",
       "\n",
       "    .dataframe tbody tr th {\n",
       "        vertical-align: top;\n",
       "    }\n",
       "\n",
       "    .dataframe thead th {\n",
       "        text-align: right;\n",
       "    }\n",
       "</style>\n",
       "<table border=\"1\" class=\"dataframe\">\n",
       "  <thead>\n",
       "    <tr style=\"text-align: right;\">\n",
       "      <th></th>\n",
       "      <th>event_game</th>\n",
       "      <th>team</th>\n",
       "      <th>medal</th>\n",
       "      <th>performance_score_total</th>\n",
       "      <th>performance_score</th>\n",
       "      <th>player_ratio</th>\n",
       "    </tr>\n",
       "  </thead>\n",
       "  <tbody>\n",
       "    <tr>\n",
       "      <th>0</th>\n",
       "      <td>A</td>\n",
       "      <td>Dog Patrol</td>\n",
       "      <td>gold</td>\n",
       "      <td>202.91</td>\n",
       "      <td>100.59</td>\n",
       "      <td>73.31</td>\n",
       "    </tr>\n",
       "    <tr>\n",
       "      <th>2</th>\n",
       "      <td>A</td>\n",
       "      <td>ThunderCats</td>\n",
       "      <td>gold</td>\n",
       "      <td>199.98</td>\n",
       "      <td>99.30</td>\n",
       "      <td>78.80</td>\n",
       "    </tr>\n",
       "    <tr>\n",
       "      <th>4</th>\n",
       "      <td>A</td>\n",
       "      <td>Power Birds</td>\n",
       "      <td>gold</td>\n",
       "      <td>191.05</td>\n",
       "      <td>80.61</td>\n",
       "      <td>82.72</td>\n",
       "    </tr>\n",
       "    <tr>\n",
       "      <th>0</th>\n",
       "      <td>B</td>\n",
       "      <td>ThunderCats</td>\n",
       "      <td>gold</td>\n",
       "      <td>208.22</td>\n",
       "      <td>117.12</td>\n",
       "      <td>79.35</td>\n",
       "    </tr>\n",
       "    <tr>\n",
       "      <th>2</th>\n",
       "      <td>B</td>\n",
       "      <td>Dog Patrol</td>\n",
       "      <td>gold</td>\n",
       "      <td>198.89</td>\n",
       "      <td>101.67</td>\n",
       "      <td>76.27</td>\n",
       "    </tr>\n",
       "    <tr>\n",
       "      <th>4</th>\n",
       "      <td>B</td>\n",
       "      <td>Power Birds</td>\n",
       "      <td>gold</td>\n",
       "      <td>196.67</td>\n",
       "      <td>110.01</td>\n",
       "      <td>74.07</td>\n",
       "    </tr>\n",
       "  </tbody>\n",
       "</table>\n",
       "</div>"
      ],
      "text/plain": [
       "  event_game         team medal  performance_score_total  performance_score  \\\n",
       "0          A   Dog Patrol  gold                   202.91             100.59   \n",
       "2          A  ThunderCats  gold                   199.98              99.30   \n",
       "4          A  Power Birds  gold                   191.05              80.61   \n",
       "0          B  ThunderCats  gold                   208.22             117.12   \n",
       "2          B   Dog Patrol  gold                   198.89             101.67   \n",
       "4          B  Power Birds  gold                   196.67             110.01   \n",
       "\n",
       "   player_ratio  \n",
       "0         73.31  \n",
       "2         78.80  \n",
       "4         82.72  \n",
       "0         79.35  \n",
       "2         76.27  \n",
       "4         74.07  "
      ]
     },
     "execution_count": 26,
     "metadata": {},
     "output_type": "execute_result"
    }
   ],
   "source": [
    "event_winners(score_type = 'performance')"
   ]
  },
  {
   "cell_type": "code",
   "execution_count": 27,
   "metadata": {},
   "outputs": [
    {
     "name": "stdout",
     "output_type": "stream",
     "text": [
      "Winners by methods\n",
      "Event A\t\tAcc_w method\t\tPerformance method\n",
      "    gold\tDog Patrol\t\tDog Patrol\n",
      "    silver\tThunderCats\t\tThunderCats\n",
      "    bronze\tPower Birds\t\tPower Birds\n",
      "Event B\n",
      "    gold\tDog Patrol\t\tThunderCats\n",
      "    silver\tThunderCats\t\tDog Patrol\n",
      "    bronze\tPower Birds\t\tPower Birds\n"
     ]
    }
   ],
   "source": [
    "# da winners! (from 3 teams or more)\n",
    "\n",
    "print(\n",
    "    f\"\"\"Winners by methods\n",
    "Event A\\t\\tAcc_w method\\t\\tPerformance method\n",
    "    gold\\t{list(list(event_winners(score_type = 'accumulative')['team']))[0]}\\t\\t{list(list(event_winners(score_type = 'performance')['team']))[0]}\n",
    "    silver\\t{list(event_winners(score_type = 'accumulative')['team'])[1]}\\t\\t{list(event_winners(score_type = 'performance')['team'])[1]}\n",
    "    bronze\\t{list(event_winners(score_type = 'accumulative')['team'])[2]}\\t\\t{list(event_winners(score_type = 'performance')['team'])[2]}\n",
    "Event B\n",
    "    gold\\t{list(event_winners(score_type = 'accumulative')['team'])[3]}\\t\\t{list(event_winners(score_type = 'performance')['team'])[3]}\n",
    "    silver\\t{list(event_winners(score_type = 'accumulative')['team'])[4]}\\t\\t{list(event_winners(score_type = 'performance')['team'])[4]}\n",
    "    bronze\\t{list(event_winners(score_type = 'accumulative')['team'])[5]}\\t\\t{list(event_winners(score_type = 'performance')['team'])[5]}\"\"\")"
   ]
  },
  {
   "cell_type": "markdown",
   "metadata": {},
   "source": [
    "## Comparative plots\n",
    "\n",
    "Resuming all results, a notable difference will be noticed."
   ]
  },
  {
   "cell_type": "code",
   "execution_count": 28,
   "metadata": {
    "scrolled": true
   },
   "outputs": [
    {
     "data": {
      "text/html": [
       "<div>\n",
       "<style scoped>\n",
       "    .dataframe tbody tr th:only-of-type {\n",
       "        vertical-align: middle;\n",
       "    }\n",
       "\n",
       "    .dataframe tbody tr th {\n",
       "        vertical-align: top;\n",
       "    }\n",
       "\n",
       "    .dataframe thead th {\n",
       "        text-align: right;\n",
       "    }\n",
       "</style>\n",
       "<table border=\"1\" class=\"dataframe\">\n",
       "  <thead>\n",
       "    <tr style=\"text-align: right;\">\n",
       "      <th></th>\n",
       "      <th>event_date</th>\n",
       "      <th>event_game</th>\n",
       "      <th>team</th>\n",
       "      <th>medal</th>\n",
       "      <th>medal_frequence</th>\n",
       "      <th>acc_w_score</th>\n",
       "      <th>total_players</th>\n",
       "      <th>player_ratio</th>\n",
       "      <th>medal_relative</th>\n",
       "      <th>performance_score</th>\n",
       "      <th>acc_w_score_total</th>\n",
       "      <th>performance_score_total</th>\n",
       "    </tr>\n",
       "  </thead>\n",
       "  <tbody>\n",
       "    <tr>\n",
       "      <th>0</th>\n",
       "      <td>2024-08-15</td>\n",
       "      <td>A</td>\n",
       "      <td>ThunderCats</td>\n",
       "      <td>bronze</td>\n",
       "      <td>48</td>\n",
       "      <td>48</td>\n",
       "      <td>184</td>\n",
       "      <td>78.80</td>\n",
       "      <td>33</td>\n",
       "      <td>33.10</td>\n",
       "      <td>290</td>\n",
       "      <td>199.98</td>\n",
       "    </tr>\n",
       "    <tr>\n",
       "      <th>1</th>\n",
       "      <td>2024-08-15</td>\n",
       "      <td>A</td>\n",
       "      <td>ThunderCats</td>\n",
       "      <td>silver</td>\n",
       "      <td>49</td>\n",
       "      <td>98</td>\n",
       "      <td>184</td>\n",
       "      <td>78.80</td>\n",
       "      <td>33</td>\n",
       "      <td>67.58</td>\n",
       "      <td>290</td>\n",
       "      <td>199.98</td>\n",
       "    </tr>\n",
       "    <tr>\n",
       "      <th>2</th>\n",
       "      <td>2024-08-15</td>\n",
       "      <td>A</td>\n",
       "      <td>ThunderCats</td>\n",
       "      <td>gold</td>\n",
       "      <td>48</td>\n",
       "      <td>144</td>\n",
       "      <td>184</td>\n",
       "      <td>78.80</td>\n",
       "      <td>33</td>\n",
       "      <td>99.30</td>\n",
       "      <td>290</td>\n",
       "      <td>199.98</td>\n",
       "    </tr>\n",
       "    <tr>\n",
       "      <th>3</th>\n",
       "      <td>2024-08-15</td>\n",
       "      <td>A</td>\n",
       "      <td>Dog Patrol</td>\n",
       "      <td>bronze</td>\n",
       "      <td>53</td>\n",
       "      <td>53</td>\n",
       "      <td>236</td>\n",
       "      <td>73.31</td>\n",
       "      <td>30</td>\n",
       "      <td>30.64</td>\n",
       "      <td>351</td>\n",
       "      <td>202.91</td>\n",
       "    </tr>\n",
       "    <tr>\n",
       "      <th>4</th>\n",
       "      <td>2024-08-15</td>\n",
       "      <td>A</td>\n",
       "      <td>Dog Patrol</td>\n",
       "      <td>silver</td>\n",
       "      <td>62</td>\n",
       "      <td>124</td>\n",
       "      <td>236</td>\n",
       "      <td>73.31</td>\n",
       "      <td>35</td>\n",
       "      <td>71.68</td>\n",
       "      <td>351</td>\n",
       "      <td>202.91</td>\n",
       "    </tr>\n",
       "    <tr>\n",
       "      <th>5</th>\n",
       "      <td>2024-08-15</td>\n",
       "      <td>A</td>\n",
       "      <td>Dog Patrol</td>\n",
       "      <td>gold</td>\n",
       "      <td>58</td>\n",
       "      <td>174</td>\n",
       "      <td>236</td>\n",
       "      <td>73.31</td>\n",
       "      <td>33</td>\n",
       "      <td>100.59</td>\n",
       "      <td>351</td>\n",
       "      <td>202.91</td>\n",
       "    </tr>\n",
       "    <tr>\n",
       "      <th>6</th>\n",
       "      <td>2024-08-15</td>\n",
       "      <td>A</td>\n",
       "      <td>Power Birds</td>\n",
       "      <td>bronze</td>\n",
       "      <td>24</td>\n",
       "      <td>24</td>\n",
       "      <td>81</td>\n",
       "      <td>82.72</td>\n",
       "      <td>35</td>\n",
       "      <td>35.82</td>\n",
       "      <td>128</td>\n",
       "      <td>191.05</td>\n",
       "    </tr>\n",
       "    <tr>\n",
       "      <th>7</th>\n",
       "      <td>2024-08-15</td>\n",
       "      <td>A</td>\n",
       "      <td>Power Birds</td>\n",
       "      <td>silver</td>\n",
       "      <td>25</td>\n",
       "      <td>50</td>\n",
       "      <td>81</td>\n",
       "      <td>82.72</td>\n",
       "      <td>37</td>\n",
       "      <td>74.62</td>\n",
       "      <td>128</td>\n",
       "      <td>191.05</td>\n",
       "    </tr>\n",
       "    <tr>\n",
       "      <th>8</th>\n",
       "      <td>2024-08-15</td>\n",
       "      <td>A</td>\n",
       "      <td>Power Birds</td>\n",
       "      <td>gold</td>\n",
       "      <td>18</td>\n",
       "      <td>54</td>\n",
       "      <td>81</td>\n",
       "      <td>82.72</td>\n",
       "      <td>26</td>\n",
       "      <td>80.61</td>\n",
       "      <td>128</td>\n",
       "      <td>191.05</td>\n",
       "    </tr>\n",
       "    <tr>\n",
       "      <th>9</th>\n",
       "      <td>2024-08-15</td>\n",
       "      <td>B</td>\n",
       "      <td>ThunderCats</td>\n",
       "      <td>bronze</td>\n",
       "      <td>45</td>\n",
       "      <td>45</td>\n",
       "      <td>184</td>\n",
       "      <td>79.35</td>\n",
       "      <td>30</td>\n",
       "      <td>30.82</td>\n",
       "      <td>304</td>\n",
       "      <td>208.22</td>\n",
       "    </tr>\n",
       "    <tr>\n",
       "      <th>10</th>\n",
       "      <td>2024-08-15</td>\n",
       "      <td>B</td>\n",
       "      <td>ThunderCats</td>\n",
       "      <td>silver</td>\n",
       "      <td>44</td>\n",
       "      <td>88</td>\n",
       "      <td>184</td>\n",
       "      <td>79.35</td>\n",
       "      <td>30</td>\n",
       "      <td>60.28</td>\n",
       "      <td>304</td>\n",
       "      <td>208.22</td>\n",
       "    </tr>\n",
       "    <tr>\n",
       "      <th>11</th>\n",
       "      <td>2024-08-15</td>\n",
       "      <td>B</td>\n",
       "      <td>ThunderCats</td>\n",
       "      <td>gold</td>\n",
       "      <td>57</td>\n",
       "      <td>171</td>\n",
       "      <td>184</td>\n",
       "      <td>79.35</td>\n",
       "      <td>39</td>\n",
       "      <td>117.12</td>\n",
       "      <td>304</td>\n",
       "      <td>208.22</td>\n",
       "    </tr>\n",
       "    <tr>\n",
       "      <th>12</th>\n",
       "      <td>2024-08-15</td>\n",
       "      <td>B</td>\n",
       "      <td>Dog Patrol</td>\n",
       "      <td>bronze</td>\n",
       "      <td>63</td>\n",
       "      <td>63</td>\n",
       "      <td>236</td>\n",
       "      <td>76.27</td>\n",
       "      <td>35</td>\n",
       "      <td>35.00</td>\n",
       "      <td>358</td>\n",
       "      <td>198.89</td>\n",
       "    </tr>\n",
       "    <tr>\n",
       "      <th>13</th>\n",
       "      <td>2024-08-15</td>\n",
       "      <td>B</td>\n",
       "      <td>Dog Patrol</td>\n",
       "      <td>silver</td>\n",
       "      <td>56</td>\n",
       "      <td>112</td>\n",
       "      <td>236</td>\n",
       "      <td>76.27</td>\n",
       "      <td>31</td>\n",
       "      <td>62.22</td>\n",
       "      <td>358</td>\n",
       "      <td>198.89</td>\n",
       "    </tr>\n",
       "    <tr>\n",
       "      <th>14</th>\n",
       "      <td>2024-08-15</td>\n",
       "      <td>B</td>\n",
       "      <td>Dog Patrol</td>\n",
       "      <td>gold</td>\n",
       "      <td>61</td>\n",
       "      <td>183</td>\n",
       "      <td>236</td>\n",
       "      <td>76.27</td>\n",
       "      <td>33</td>\n",
       "      <td>101.67</td>\n",
       "      <td>358</td>\n",
       "      <td>198.89</td>\n",
       "    </tr>\n",
       "    <tr>\n",
       "      <th>15</th>\n",
       "      <td>2024-08-15</td>\n",
       "      <td>B</td>\n",
       "      <td>Power Birds</td>\n",
       "      <td>bronze</td>\n",
       "      <td>24</td>\n",
       "      <td>24</td>\n",
       "      <td>81</td>\n",
       "      <td>74.07</td>\n",
       "      <td>40</td>\n",
       "      <td>40.00</td>\n",
       "      <td>118</td>\n",
       "      <td>196.67</td>\n",
       "    </tr>\n",
       "    <tr>\n",
       "      <th>16</th>\n",
       "      <td>2024-08-15</td>\n",
       "      <td>B</td>\n",
       "      <td>Power Birds</td>\n",
       "      <td>silver</td>\n",
       "      <td>14</td>\n",
       "      <td>28</td>\n",
       "      <td>81</td>\n",
       "      <td>74.07</td>\n",
       "      <td>23</td>\n",
       "      <td>46.66</td>\n",
       "      <td>118</td>\n",
       "      <td>196.67</td>\n",
       "    </tr>\n",
       "    <tr>\n",
       "      <th>17</th>\n",
       "      <td>2024-08-15</td>\n",
       "      <td>B</td>\n",
       "      <td>Power Birds</td>\n",
       "      <td>gold</td>\n",
       "      <td>22</td>\n",
       "      <td>66</td>\n",
       "      <td>81</td>\n",
       "      <td>74.07</td>\n",
       "      <td>36</td>\n",
       "      <td>110.01</td>\n",
       "      <td>118</td>\n",
       "      <td>196.67</td>\n",
       "    </tr>\n",
       "  </tbody>\n",
       "</table>\n",
       "</div>"
      ],
      "text/plain": [
       "    event_date event_game         team   medal  medal_frequence  acc_w_score  \\\n",
       "0   2024-08-15          A  ThunderCats  bronze               48           48   \n",
       "1   2024-08-15          A  ThunderCats  silver               49           98   \n",
       "2   2024-08-15          A  ThunderCats    gold               48          144   \n",
       "3   2024-08-15          A   Dog Patrol  bronze               53           53   \n",
       "4   2024-08-15          A   Dog Patrol  silver               62          124   \n",
       "5   2024-08-15          A   Dog Patrol    gold               58          174   \n",
       "6   2024-08-15          A  Power Birds  bronze               24           24   \n",
       "7   2024-08-15          A  Power Birds  silver               25           50   \n",
       "8   2024-08-15          A  Power Birds    gold               18           54   \n",
       "9   2024-08-15          B  ThunderCats  bronze               45           45   \n",
       "10  2024-08-15          B  ThunderCats  silver               44           88   \n",
       "11  2024-08-15          B  ThunderCats    gold               57          171   \n",
       "12  2024-08-15          B   Dog Patrol  bronze               63           63   \n",
       "13  2024-08-15          B   Dog Patrol  silver               56          112   \n",
       "14  2024-08-15          B   Dog Patrol    gold               61          183   \n",
       "15  2024-08-15          B  Power Birds  bronze               24           24   \n",
       "16  2024-08-15          B  Power Birds  silver               14           28   \n",
       "17  2024-08-15          B  Power Birds    gold               22           66   \n",
       "\n",
       "    total_players  player_ratio  medal_relative  performance_score  \\\n",
       "0             184         78.80              33              33.10   \n",
       "1             184         78.80              33              67.58   \n",
       "2             184         78.80              33              99.30   \n",
       "3             236         73.31              30              30.64   \n",
       "4             236         73.31              35              71.68   \n",
       "5             236         73.31              33             100.59   \n",
       "6              81         82.72              35              35.82   \n",
       "7              81         82.72              37              74.62   \n",
       "8              81         82.72              26              80.61   \n",
       "9             184         79.35              30              30.82   \n",
       "10            184         79.35              30              60.28   \n",
       "11            184         79.35              39             117.12   \n",
       "12            236         76.27              35              35.00   \n",
       "13            236         76.27              31              62.22   \n",
       "14            236         76.27              33             101.67   \n",
       "15             81         74.07              40              40.00   \n",
       "16             81         74.07              23              46.66   \n",
       "17             81         74.07              36             110.01   \n",
       "\n",
       "    acc_w_score_total  performance_score_total  \n",
       "0                 290                   199.98  \n",
       "1                 290                   199.98  \n",
       "2                 290                   199.98  \n",
       "3                 351                   202.91  \n",
       "4                 351                   202.91  \n",
       "5                 351                   202.91  \n",
       "6                 128                   191.05  \n",
       "7                 128                   191.05  \n",
       "8                 128                   191.05  \n",
       "9                 304                   208.22  \n",
       "10                304                   208.22  \n",
       "11                304                   208.22  \n",
       "12                358                   198.89  \n",
       "13                358                   198.89  \n",
       "14                358                   198.89  \n",
       "15                118                   196.67  \n",
       "16                118                   196.67  \n",
       "17                118                   196.67  "
      ]
     },
     "execution_count": 28,
     "metadata": {},
     "output_type": "execute_result"
    }
   ],
   "source": [
    "# main score df view\n",
    "df_eventteams_scores"
   ]
  },
  {
   "cell_type": "markdown",
   "metadata": {},
   "source": [
    "### Bar/Scatter comparative figures"
   ]
  },
  {
   "cell_type": "code",
   "execution_count": 39,
   "metadata": {},
   "outputs": [],
   "source": [
    "# create an aux list o lists to flexibilize the code (indirect function)\n",
    "\n",
    "def marker_size(df, score_type, score_columns, scale):\n",
    "\n",
    "    \"\"\"\n",
    "    Returns a list of lists to give marker size according to total scores. Use solely in score_figure function\n",
    "    \"\"\"\n",
    "    \n",
    "    l_aux = []\n",
    "    l_subaux = []\n",
    "    # first list groups total scores per event, all scores are in the same list\n",
    "    for e in range(len(events)):\n",
    "        l_subaux.extend([(df[df['event_game']== events[e]][score_columns[2]]).to_list()])\n",
    "        if len(events)<2:\n",
    "            if e == len(events):\n",
    "                break\n",
    "        elif len(events)>=2:\n",
    "            if e == len(events) -1:\n",
    "                break\n",
    "        l_aux.append(l_subaux)\n",
    "\n",
    "    # empty list of lists for 2nd for\n",
    "    l_score_size = [[] for e in range(len(events))]\n",
    "    \n",
    "    # iterates through the auxiliar list to group scores by team, by event\n",
    "    # the result is list[event idx][team idx]\n",
    "    for e in range(len(events)):\n",
    "        # first and last indexes\n",
    "        first = 0\n",
    "        last = 3\n",
    "    \n",
    "        if score_type == 'accumulative':\n",
    "            l_score_size[e] = []\n",
    "        # mask for each team score\n",
    "        for t in range(len(team_names)):\n",
    "            #print(first, last)\n",
    "            #print(l_aux[0][e][first:last])\n",
    "            l_score_size[e].extend([l_aux[0][e][first:last]])\n",
    "            first = first + 3\n",
    "            last  = last + 3\n",
    "    \n",
    "    for e in range(len(events)):\n",
    "        if score_type == 'accumulative':\n",
    "            l_score_size[e] = [[s/scale for s in sl] for sl in l_score_size[e]]\n",
    "        if score_type == 'performance':\n",
    "            l_score_size[e] = [[s/10 for s in sl] for sl in l_score_size[e]]\n",
    "    \n",
    "    return l_score_size"
   ]
  },
  {
   "cell_type": "code",
   "execution_count": 49,
   "metadata": {},
   "outputs": [],
   "source": [
    "# creates a function to plot score data for each team\n",
    "\n",
    "def score_figure(df, score_type, scale=1, scatter_opacity=1, width = 900, height = 400):\n",
    "\n",
    "    \"\"\"\n",
    "    Creates an interactive figure with subplots for each event and team. Can work for a single event\n",
    "    or many, as for a single team or many.\n",
    "\n",
    "    Parameters\n",
    "    df: DataFrame containing all data features developed\n",
    "    score_type: set 'accumulative' or 'performance'. If 'accumulative', will plot traditional scoring,\n",
    "                if 'performance', will plot proposed scoring method based on medal relative frequency,\n",
    "                ignoring team size.\n",
    "    scale: set scale for scatter bubbles when score_type is 'accumulative' (1 by default). If score_type\n",
    "                is set to 'performance', scatter bubbles scale multiplier is 0.1\n",
    "    scatter_opacity: set a float from 0 to 1, changes scatter bubbles opacity (1 by default)\n",
    "    \"\"\"\n",
    "\n",
    "    # score_type selector\n",
    "    if score_type == 'accumulative':\n",
    "        score_columns = ['medal_frequence', 'acc_w_score', 'acc_w_score_total']\n",
    "    elif score_type == 'performance':\n",
    "        score_columns = ['medal_relative', 'performance_score', 'performance_score_total']\n",
    "    #---------------------------------------- build figure\n",
    "    # team list\n",
    "    team_names = [i for i in df['team'].unique()]\n",
    "    # event list\n",
    "    events = [i for i in df['event_game'].unique()]\n",
    "    # subplots config\n",
    "    score_fig = make_subplots(rows= len(events), cols= len(team_names),\n",
    "                            shared_xaxes = True,\n",
    "                            shared_yaxes=True,\n",
    "                            column_titles= team_names,\n",
    "                            print_grid=False,\n",
    "                            specs = [[{\"secondary_y\" : True} for t in range(len(team_names))] for e in range(len(events))])\n",
    "    #---------------------------------------- build graphs\n",
    "    l_marker_size = marker_size(df = df, score_type = score_type, score_columns = score_columns, scale = scale)\n",
    "    for e in range(len(events)):\n",
    "        for i in range(len(team_names)):\n",
    "    #----------------------- traces: bar accumulative score values per medal\n",
    "            score_fig.add_trace(\n",
    "                go.Bar(\n",
    "                    x = df[df['event_game']== events[e]][df['team']==team_names[i]]['medal'].map(lambda x : x.capitalize()),\n",
    "                    y = df[df['event_game']== events[e]][df['team']==team_names[i]][score_columns[0]].values,\n",
    "                    name = '<b>Event '+ events[e] +'</b>',\n",
    "                    marker_color = [medal_colors[2], medal_colors[1],medal_colors[0], medal_colors[3]],\n",
    "                    opacity = 0.8,\n",
    "                    text = df[df['event_game']== events[e]][df['team']==team_names[i]][score_columns[0]].values,\n",
    "                    textposition = 'inside',\n",
    "                    textangle = 0,\n",
    "                    textfont_color = 'black',\n",
    "                    customdata = df[df['event_game']== events[e]][df['team']==team_names[i]][['medal_frequence','medal', score_columns[1]]],\n",
    "                    hovertemplate = '<br><i>Total medals</i>: %{customdata[0]} %{customdata[1]}<br>'+\n",
    "                                    '<i>Medal score</i>: %{customdata[2]} points',\n",
    "                ), row = e+1, col = i+1, secondary_y = False)\n",
    "\n",
    "    #----------------------- traces: scatter accumulative total score values\n",
    "            score_fig.add_trace(\n",
    "                go.Scatter(\n",
    "                    x = df[df['event_game']== events[e]][df['team']==team_names[i]]['medal'].map(lambda x : x.capitalize()),\n",
    "                    y = df[df['event_game']== events[e]][df['team']==team_names[0]][score_columns[1]],\n",
    "                    name = '<b>Team metrics</b>',\n",
    "                    mode = 'markers',\n",
    "                    marker_size = l_marker_size[e][i],\n",
    "                    marker_color = [medal_colors[2], medal_colors[1],medal_colors[0]],\n",
    "                    marker_line_color = 'white',\n",
    "                    opacity = scatter_opacity,\n",
    "                    customdata = df[df['event_game']== events[e]][df['team']==team_names[i]][['medal_relative','player_ratio', 'total_players', score_columns[2]]],\n",
    "                    hovertemplate = '<br><i>Medal distribution</i>: %{customdata[0]}%<br>'+\n",
    "                                    '<i>Participation</i>: %{customdata[1]}%<br>'+\n",
    "                                    '<i>Team players</i>: %{customdata[2]}<br>'+\n",
    "                                    '<br><b>Team Score</b>: %{customdata[3]}'\n",
    "                ), row = e+1, col = i+1, secondary_y = True)\n",
    "\n",
    "    #---------------------------------------- fix category orders for 0 values\n",
    "    score_fig.update_xaxes(\n",
    "        categoryorder = 'array',\n",
    "        categoryarray = ['gold', 'silver', 'bronze'],\n",
    "        showticklabels= False,\n",
    "        showspikes = False)\n",
    "    #---------------------------------------- applies secondary y axis for subplots\n",
    "    score_fig.update_yaxes(\n",
    "        side = 'right',\n",
    "        secondary_y = True)\n",
    "    #---------------------------------------- config: title, legend, hover, template, fig dimensions\n",
    "    score_fig.update_layout(\n",
    "        title = f\"Event {score_type.capitalize()} scores, by teams, date {df['event_date'].unique()[0]}\",\n",
    "        barmode = 'group',\n",
    "        showlegend = False,\n",
    "        hovermode = 'x unified',\n",
    "        hoverlabel_align = 'right',\n",
    "        barcornerradius = \"50%\",\n",
    "        template = 'plotly_dark',\n",
    "        width = width, height = height)\n",
    "    \n",
    "    #----------------------- 'show' line (return for Streamlit)\n",
    "    return score_fig"
   ]
  },
  {
   "cell_type": "code",
   "execution_count": 50,
   "metadata": {},
   "outputs": [
    {
     "data": {
      "application/vnd.plotly.v1+json": {
       "config": {
        "plotlyServerURL": "https://plot.ly"
       },
       "data": [
        {
         "customdata": [
          [
           48,
           "bronze",
           48
          ],
          [
           49,
           "silver",
           98
          ],
          [
           48,
           "gold",
           144
          ]
         ],
         "hovertemplate": "<br><i>Total medals</i>: %{customdata[0]} %{customdata[1]}<br><i>Medal score</i>: %{customdata[2]} points",
         "marker": {
          "color": [
           "rgb(194, 144, 80)",
           "rgb(169, 180, 195)",
           "rgb(255, 222, 94)",
           "rgb(0, 0, 0)"
          ]
         },
         "name": "<b>Event A</b>",
         "opacity": 0.8,
         "text": [
          48,
          49,
          48
         ],
         "textangle": 0,
         "textfont": {
          "color": "black"
         },
         "textposition": "inside",
         "type": "bar",
         "x": [
          "Bronze",
          "Silver",
          "Gold"
         ],
         "xaxis": "x",
         "y": [
          48,
          49,
          48
         ],
         "yaxis": "y"
        },
        {
         "customdata": [
          [
           33,
           78.8,
           184,
           290
          ],
          [
           33,
           78.8,
           184,
           290
          ],
          [
           33,
           78.8,
           184,
           290
          ]
         ],
         "hovertemplate": "<br><i>Medal distribution</i>: %{customdata[0]}%<br><i>Participation</i>: %{customdata[1]}%<br><i>Team players</i>: %{customdata[2]}<br><br><b>Team Score</b>: %{customdata[3]}",
         "marker": {
          "color": [
           "rgb(194, 144, 80)",
           "rgb(169, 180, 195)",
           "rgb(255, 222, 94)"
          ],
          "line": {
           "color": "white"
          },
          "size": [
           41.42857142857143,
           41.42857142857143,
           41.42857142857143
          ]
         },
         "mode": "markers",
         "name": "<b>Team metrics</b>",
         "opacity": 0.5,
         "type": "scatter",
         "x": [
          "Bronze",
          "Silver",
          "Gold"
         ],
         "xaxis": "x",
         "y": [
          48,
          98,
          144
         ],
         "yaxis": "y2"
        },
        {
         "customdata": [
          [
           53,
           "bronze",
           53
          ],
          [
           62,
           "silver",
           124
          ],
          [
           58,
           "gold",
           174
          ]
         ],
         "hovertemplate": "<br><i>Total medals</i>: %{customdata[0]} %{customdata[1]}<br><i>Medal score</i>: %{customdata[2]} points",
         "marker": {
          "color": [
           "rgb(194, 144, 80)",
           "rgb(169, 180, 195)",
           "rgb(255, 222, 94)",
           "rgb(0, 0, 0)"
          ]
         },
         "name": "<b>Event A</b>",
         "opacity": 0.8,
         "text": [
          53,
          62,
          58
         ],
         "textangle": 0,
         "textfont": {
          "color": "black"
         },
         "textposition": "inside",
         "type": "bar",
         "x": [
          "Bronze",
          "Silver",
          "Gold"
         ],
         "xaxis": "x2",
         "y": [
          53,
          62,
          58
         ],
         "yaxis": "y3"
        },
        {
         "customdata": [
          [
           30,
           73.31,
           236,
           351
          ],
          [
           35,
           73.31,
           236,
           351
          ],
          [
           33,
           73.31,
           236,
           351
          ]
         ],
         "hovertemplate": "<br><i>Medal distribution</i>: %{customdata[0]}%<br><i>Participation</i>: %{customdata[1]}%<br><i>Team players</i>: %{customdata[2]}<br><br><b>Team Score</b>: %{customdata[3]}",
         "marker": {
          "color": [
           "rgb(194, 144, 80)",
           "rgb(169, 180, 195)",
           "rgb(255, 222, 94)"
          ],
          "line": {
           "color": "white"
          },
          "size": [
           50.142857142857146,
           50.142857142857146,
           50.142857142857146
          ]
         },
         "mode": "markers",
         "name": "<b>Team metrics</b>",
         "opacity": 0.5,
         "type": "scatter",
         "x": [
          "Bronze",
          "Silver",
          "Gold"
         ],
         "xaxis": "x2",
         "y": [
          48,
          98,
          144
         ],
         "yaxis": "y4"
        },
        {
         "customdata": [
          [
           24,
           "bronze",
           24
          ],
          [
           25,
           "silver",
           50
          ],
          [
           18,
           "gold",
           54
          ]
         ],
         "hovertemplate": "<br><i>Total medals</i>: %{customdata[0]} %{customdata[1]}<br><i>Medal score</i>: %{customdata[2]} points",
         "marker": {
          "color": [
           "rgb(194, 144, 80)",
           "rgb(169, 180, 195)",
           "rgb(255, 222, 94)",
           "rgb(0, 0, 0)"
          ]
         },
         "name": "<b>Event A</b>",
         "opacity": 0.8,
         "text": [
          24,
          25,
          18
         ],
         "textangle": 0,
         "textfont": {
          "color": "black"
         },
         "textposition": "inside",
         "type": "bar",
         "x": [
          "Bronze",
          "Silver",
          "Gold"
         ],
         "xaxis": "x3",
         "y": [
          24,
          25,
          18
         ],
         "yaxis": "y5"
        },
        {
         "customdata": [
          [
           35,
           82.72,
           81,
           128
          ],
          [
           37,
           82.72,
           81,
           128
          ],
          [
           26,
           82.72,
           81,
           128
          ]
         ],
         "hovertemplate": "<br><i>Medal distribution</i>: %{customdata[0]}%<br><i>Participation</i>: %{customdata[1]}%<br><i>Team players</i>: %{customdata[2]}<br><br><b>Team Score</b>: %{customdata[3]}",
         "marker": {
          "color": [
           "rgb(194, 144, 80)",
           "rgb(169, 180, 195)",
           "rgb(255, 222, 94)"
          ],
          "line": {
           "color": "white"
          },
          "size": [
           18.285714285714285,
           18.285714285714285,
           18.285714285714285
          ]
         },
         "mode": "markers",
         "name": "<b>Team metrics</b>",
         "opacity": 0.5,
         "type": "scatter",
         "x": [
          "Bronze",
          "Silver",
          "Gold"
         ],
         "xaxis": "x3",
         "y": [
          48,
          98,
          144
         ],
         "yaxis": "y6"
        },
        {
         "customdata": [
          [
           45,
           "bronze",
           45
          ],
          [
           44,
           "silver",
           88
          ],
          [
           57,
           "gold",
           171
          ]
         ],
         "hovertemplate": "<br><i>Total medals</i>: %{customdata[0]} %{customdata[1]}<br><i>Medal score</i>: %{customdata[2]} points",
         "marker": {
          "color": [
           "rgb(194, 144, 80)",
           "rgb(169, 180, 195)",
           "rgb(255, 222, 94)",
           "rgb(0, 0, 0)"
          ]
         },
         "name": "<b>Event B</b>",
         "opacity": 0.8,
         "text": [
          45,
          44,
          57
         ],
         "textangle": 0,
         "textfont": {
          "color": "black"
         },
         "textposition": "inside",
         "type": "bar",
         "x": [
          "Bronze",
          "Silver",
          "Gold"
         ],
         "xaxis": "x4",
         "y": [
          45,
          44,
          57
         ],
         "yaxis": "y7"
        },
        {
         "customdata": [
          [
           30,
           79.35,
           184,
           304
          ],
          [
           30,
           79.35,
           184,
           304
          ],
          [
           39,
           79.35,
           184,
           304
          ]
         ],
         "hovertemplate": "<br><i>Medal distribution</i>: %{customdata[0]}%<br><i>Participation</i>: %{customdata[1]}%<br><i>Team players</i>: %{customdata[2]}<br><br><b>Team Score</b>: %{customdata[3]}",
         "marker": {
          "color": [
           "rgb(194, 144, 80)",
           "rgb(169, 180, 195)",
           "rgb(255, 222, 94)"
          ],
          "line": {
           "color": "white"
          },
          "size": [
           43.42857142857143,
           43.42857142857143,
           43.42857142857143
          ]
         },
         "mode": "markers",
         "name": "<b>Team metrics</b>",
         "opacity": 0.5,
         "type": "scatter",
         "x": [
          "Bronze",
          "Silver",
          "Gold"
         ],
         "xaxis": "x4",
         "y": [
          45,
          88,
          171
         ],
         "yaxis": "y8"
        },
        {
         "customdata": [
          [
           63,
           "bronze",
           63
          ],
          [
           56,
           "silver",
           112
          ],
          [
           61,
           "gold",
           183
          ]
         ],
         "hovertemplate": "<br><i>Total medals</i>: %{customdata[0]} %{customdata[1]}<br><i>Medal score</i>: %{customdata[2]} points",
         "marker": {
          "color": [
           "rgb(194, 144, 80)",
           "rgb(169, 180, 195)",
           "rgb(255, 222, 94)",
           "rgb(0, 0, 0)"
          ]
         },
         "name": "<b>Event B</b>",
         "opacity": 0.8,
         "text": [
          63,
          56,
          61
         ],
         "textangle": 0,
         "textfont": {
          "color": "black"
         },
         "textposition": "inside",
         "type": "bar",
         "x": [
          "Bronze",
          "Silver",
          "Gold"
         ],
         "xaxis": "x5",
         "y": [
          63,
          56,
          61
         ],
         "yaxis": "y9"
        },
        {
         "customdata": [
          [
           35,
           76.27,
           236,
           358
          ],
          [
           31,
           76.27,
           236,
           358
          ],
          [
           33,
           76.27,
           236,
           358
          ]
         ],
         "hovertemplate": "<br><i>Medal distribution</i>: %{customdata[0]}%<br><i>Participation</i>: %{customdata[1]}%<br><i>Team players</i>: %{customdata[2]}<br><br><b>Team Score</b>: %{customdata[3]}",
         "marker": {
          "color": [
           "rgb(194, 144, 80)",
           "rgb(169, 180, 195)",
           "rgb(255, 222, 94)"
          ],
          "line": {
           "color": "white"
          },
          "size": [
           51.142857142857146,
           51.142857142857146,
           51.142857142857146
          ]
         },
         "mode": "markers",
         "name": "<b>Team metrics</b>",
         "opacity": 0.5,
         "type": "scatter",
         "x": [
          "Bronze",
          "Silver",
          "Gold"
         ],
         "xaxis": "x5",
         "y": [
          45,
          88,
          171
         ],
         "yaxis": "y10"
        },
        {
         "customdata": [
          [
           24,
           "bronze",
           24
          ],
          [
           14,
           "silver",
           28
          ],
          [
           22,
           "gold",
           66
          ]
         ],
         "hovertemplate": "<br><i>Total medals</i>: %{customdata[0]} %{customdata[1]}<br><i>Medal score</i>: %{customdata[2]} points",
         "marker": {
          "color": [
           "rgb(194, 144, 80)",
           "rgb(169, 180, 195)",
           "rgb(255, 222, 94)",
           "rgb(0, 0, 0)"
          ]
         },
         "name": "<b>Event B</b>",
         "opacity": 0.8,
         "text": [
          24,
          14,
          22
         ],
         "textangle": 0,
         "textfont": {
          "color": "black"
         },
         "textposition": "inside",
         "type": "bar",
         "x": [
          "Bronze",
          "Silver",
          "Gold"
         ],
         "xaxis": "x6",
         "y": [
          24,
          14,
          22
         ],
         "yaxis": "y11"
        },
        {
         "customdata": [
          [
           40,
           74.07,
           81,
           118
          ],
          [
           23,
           74.07,
           81,
           118
          ],
          [
           36,
           74.07,
           81,
           118
          ]
         ],
         "hovertemplate": "<br><i>Medal distribution</i>: %{customdata[0]}%<br><i>Participation</i>: %{customdata[1]}%<br><i>Team players</i>: %{customdata[2]}<br><br><b>Team Score</b>: %{customdata[3]}",
         "marker": {
          "color": [
           "rgb(194, 144, 80)",
           "rgb(169, 180, 195)",
           "rgb(255, 222, 94)"
          ],
          "line": {
           "color": "white"
          },
          "size": [
           16.857142857142858,
           16.857142857142858,
           16.857142857142858
          ]
         },
         "mode": "markers",
         "name": "<b>Team metrics</b>",
         "opacity": 0.5,
         "type": "scatter",
         "x": [
          "Bronze",
          "Silver",
          "Gold"
         ],
         "xaxis": "x6",
         "y": [
          45,
          88,
          171
         ],
         "yaxis": "y12"
        }
       ],
       "layout": {
        "annotations": [
         {
          "font": {
           "size": 16
          },
          "showarrow": false,
          "text": "ThunderCats",
          "x": 0.11222222222222222,
          "xanchor": "center",
          "xref": "paper",
          "y": 1,
          "yanchor": "bottom",
          "yref": "paper"
         },
         {
          "font": {
           "size": 16
          },
          "showarrow": false,
          "text": "Dog Patrol",
          "x": 0.47,
          "xanchor": "center",
          "xref": "paper",
          "y": 1,
          "yanchor": "bottom",
          "yref": "paper"
         },
         {
          "font": {
           "size": 16
          },
          "showarrow": false,
          "text": "Power Birds",
          "x": 0.8277777777777777,
          "xanchor": "center",
          "xref": "paper",
          "y": 1,
          "yanchor": "bottom",
          "yref": "paper"
         }
        ],
        "barcornerradius": "50%",
        "barmode": "group",
        "height": 400,
        "hoverlabel": {
         "align": "right"
        },
        "hovermode": "x unified",
        "showlegend": false,
        "template": {
         "data": {
          "bar": [
           {
            "error_x": {
             "color": "#f2f5fa"
            },
            "error_y": {
             "color": "#f2f5fa"
            },
            "marker": {
             "line": {
              "color": "rgb(17,17,17)",
              "width": 0.5
             },
             "pattern": {
              "fillmode": "overlay",
              "size": 10,
              "solidity": 0.2
             }
            },
            "type": "bar"
           }
          ],
          "barpolar": [
           {
            "marker": {
             "line": {
              "color": "rgb(17,17,17)",
              "width": 0.5
             },
             "pattern": {
              "fillmode": "overlay",
              "size": 10,
              "solidity": 0.2
             }
            },
            "type": "barpolar"
           }
          ],
          "carpet": [
           {
            "aaxis": {
             "endlinecolor": "#A2B1C6",
             "gridcolor": "#506784",
             "linecolor": "#506784",
             "minorgridcolor": "#506784",
             "startlinecolor": "#A2B1C6"
            },
            "baxis": {
             "endlinecolor": "#A2B1C6",
             "gridcolor": "#506784",
             "linecolor": "#506784",
             "minorgridcolor": "#506784",
             "startlinecolor": "#A2B1C6"
            },
            "type": "carpet"
           }
          ],
          "choropleth": [
           {
            "colorbar": {
             "outlinewidth": 0,
             "ticks": ""
            },
            "type": "choropleth"
           }
          ],
          "contour": [
           {
            "colorbar": {
             "outlinewidth": 0,
             "ticks": ""
            },
            "colorscale": [
             [
              0,
              "#0d0887"
             ],
             [
              0.1111111111111111,
              "#46039f"
             ],
             [
              0.2222222222222222,
              "#7201a8"
             ],
             [
              0.3333333333333333,
              "#9c179e"
             ],
             [
              0.4444444444444444,
              "#bd3786"
             ],
             [
              0.5555555555555556,
              "#d8576b"
             ],
             [
              0.6666666666666666,
              "#ed7953"
             ],
             [
              0.7777777777777778,
              "#fb9f3a"
             ],
             [
              0.8888888888888888,
              "#fdca26"
             ],
             [
              1,
              "#f0f921"
             ]
            ],
            "type": "contour"
           }
          ],
          "contourcarpet": [
           {
            "colorbar": {
             "outlinewidth": 0,
             "ticks": ""
            },
            "type": "contourcarpet"
           }
          ],
          "heatmap": [
           {
            "colorbar": {
             "outlinewidth": 0,
             "ticks": ""
            },
            "colorscale": [
             [
              0,
              "#0d0887"
             ],
             [
              0.1111111111111111,
              "#46039f"
             ],
             [
              0.2222222222222222,
              "#7201a8"
             ],
             [
              0.3333333333333333,
              "#9c179e"
             ],
             [
              0.4444444444444444,
              "#bd3786"
             ],
             [
              0.5555555555555556,
              "#d8576b"
             ],
             [
              0.6666666666666666,
              "#ed7953"
             ],
             [
              0.7777777777777778,
              "#fb9f3a"
             ],
             [
              0.8888888888888888,
              "#fdca26"
             ],
             [
              1,
              "#f0f921"
             ]
            ],
            "type": "heatmap"
           }
          ],
          "heatmapgl": [
           {
            "colorbar": {
             "outlinewidth": 0,
             "ticks": ""
            },
            "colorscale": [
             [
              0,
              "#0d0887"
             ],
             [
              0.1111111111111111,
              "#46039f"
             ],
             [
              0.2222222222222222,
              "#7201a8"
             ],
             [
              0.3333333333333333,
              "#9c179e"
             ],
             [
              0.4444444444444444,
              "#bd3786"
             ],
             [
              0.5555555555555556,
              "#d8576b"
             ],
             [
              0.6666666666666666,
              "#ed7953"
             ],
             [
              0.7777777777777778,
              "#fb9f3a"
             ],
             [
              0.8888888888888888,
              "#fdca26"
             ],
             [
              1,
              "#f0f921"
             ]
            ],
            "type": "heatmapgl"
           }
          ],
          "histogram": [
           {
            "marker": {
             "pattern": {
              "fillmode": "overlay",
              "size": 10,
              "solidity": 0.2
             }
            },
            "type": "histogram"
           }
          ],
          "histogram2d": [
           {
            "colorbar": {
             "outlinewidth": 0,
             "ticks": ""
            },
            "colorscale": [
             [
              0,
              "#0d0887"
             ],
             [
              0.1111111111111111,
              "#46039f"
             ],
             [
              0.2222222222222222,
              "#7201a8"
             ],
             [
              0.3333333333333333,
              "#9c179e"
             ],
             [
              0.4444444444444444,
              "#bd3786"
             ],
             [
              0.5555555555555556,
              "#d8576b"
             ],
             [
              0.6666666666666666,
              "#ed7953"
             ],
             [
              0.7777777777777778,
              "#fb9f3a"
             ],
             [
              0.8888888888888888,
              "#fdca26"
             ],
             [
              1,
              "#f0f921"
             ]
            ],
            "type": "histogram2d"
           }
          ],
          "histogram2dcontour": [
           {
            "colorbar": {
             "outlinewidth": 0,
             "ticks": ""
            },
            "colorscale": [
             [
              0,
              "#0d0887"
             ],
             [
              0.1111111111111111,
              "#46039f"
             ],
             [
              0.2222222222222222,
              "#7201a8"
             ],
             [
              0.3333333333333333,
              "#9c179e"
             ],
             [
              0.4444444444444444,
              "#bd3786"
             ],
             [
              0.5555555555555556,
              "#d8576b"
             ],
             [
              0.6666666666666666,
              "#ed7953"
             ],
             [
              0.7777777777777778,
              "#fb9f3a"
             ],
             [
              0.8888888888888888,
              "#fdca26"
             ],
             [
              1,
              "#f0f921"
             ]
            ],
            "type": "histogram2dcontour"
           }
          ],
          "mesh3d": [
           {
            "colorbar": {
             "outlinewidth": 0,
             "ticks": ""
            },
            "type": "mesh3d"
           }
          ],
          "parcoords": [
           {
            "line": {
             "colorbar": {
              "outlinewidth": 0,
              "ticks": ""
             }
            },
            "type": "parcoords"
           }
          ],
          "pie": [
           {
            "automargin": true,
            "type": "pie"
           }
          ],
          "scatter": [
           {
            "marker": {
             "line": {
              "color": "#283442"
             }
            },
            "type": "scatter"
           }
          ],
          "scatter3d": [
           {
            "line": {
             "colorbar": {
              "outlinewidth": 0,
              "ticks": ""
             }
            },
            "marker": {
             "colorbar": {
              "outlinewidth": 0,
              "ticks": ""
             }
            },
            "type": "scatter3d"
           }
          ],
          "scattercarpet": [
           {
            "marker": {
             "colorbar": {
              "outlinewidth": 0,
              "ticks": ""
             }
            },
            "type": "scattercarpet"
           }
          ],
          "scattergeo": [
           {
            "marker": {
             "colorbar": {
              "outlinewidth": 0,
              "ticks": ""
             }
            },
            "type": "scattergeo"
           }
          ],
          "scattergl": [
           {
            "marker": {
             "line": {
              "color": "#283442"
             }
            },
            "type": "scattergl"
           }
          ],
          "scattermapbox": [
           {
            "marker": {
             "colorbar": {
              "outlinewidth": 0,
              "ticks": ""
             }
            },
            "type": "scattermapbox"
           }
          ],
          "scatterpolar": [
           {
            "marker": {
             "colorbar": {
              "outlinewidth": 0,
              "ticks": ""
             }
            },
            "type": "scatterpolar"
           }
          ],
          "scatterpolargl": [
           {
            "marker": {
             "colorbar": {
              "outlinewidth": 0,
              "ticks": ""
             }
            },
            "type": "scatterpolargl"
           }
          ],
          "scatterternary": [
           {
            "marker": {
             "colorbar": {
              "outlinewidth": 0,
              "ticks": ""
             }
            },
            "type": "scatterternary"
           }
          ],
          "surface": [
           {
            "colorbar": {
             "outlinewidth": 0,
             "ticks": ""
            },
            "colorscale": [
             [
              0,
              "#0d0887"
             ],
             [
              0.1111111111111111,
              "#46039f"
             ],
             [
              0.2222222222222222,
              "#7201a8"
             ],
             [
              0.3333333333333333,
              "#9c179e"
             ],
             [
              0.4444444444444444,
              "#bd3786"
             ],
             [
              0.5555555555555556,
              "#d8576b"
             ],
             [
              0.6666666666666666,
              "#ed7953"
             ],
             [
              0.7777777777777778,
              "#fb9f3a"
             ],
             [
              0.8888888888888888,
              "#fdca26"
             ],
             [
              1,
              "#f0f921"
             ]
            ],
            "type": "surface"
           }
          ],
          "table": [
           {
            "cells": {
             "fill": {
              "color": "#506784"
             },
             "line": {
              "color": "rgb(17,17,17)"
             }
            },
            "header": {
             "fill": {
              "color": "#2a3f5f"
             },
             "line": {
              "color": "rgb(17,17,17)"
             }
            },
            "type": "table"
           }
          ]
         },
         "layout": {
          "annotationdefaults": {
           "arrowcolor": "#f2f5fa",
           "arrowhead": 0,
           "arrowwidth": 1
          },
          "autotypenumbers": "strict",
          "coloraxis": {
           "colorbar": {
            "outlinewidth": 0,
            "ticks": ""
           }
          },
          "colorscale": {
           "diverging": [
            [
             0,
             "#8e0152"
            ],
            [
             0.1,
             "#c51b7d"
            ],
            [
             0.2,
             "#de77ae"
            ],
            [
             0.3,
             "#f1b6da"
            ],
            [
             0.4,
             "#fde0ef"
            ],
            [
             0.5,
             "#f7f7f7"
            ],
            [
             0.6,
             "#e6f5d0"
            ],
            [
             0.7,
             "#b8e186"
            ],
            [
             0.8,
             "#7fbc41"
            ],
            [
             0.9,
             "#4d9221"
            ],
            [
             1,
             "#276419"
            ]
           ],
           "sequential": [
            [
             0,
             "#0d0887"
            ],
            [
             0.1111111111111111,
             "#46039f"
            ],
            [
             0.2222222222222222,
             "#7201a8"
            ],
            [
             0.3333333333333333,
             "#9c179e"
            ],
            [
             0.4444444444444444,
             "#bd3786"
            ],
            [
             0.5555555555555556,
             "#d8576b"
            ],
            [
             0.6666666666666666,
             "#ed7953"
            ],
            [
             0.7777777777777778,
             "#fb9f3a"
            ],
            [
             0.8888888888888888,
             "#fdca26"
            ],
            [
             1,
             "#f0f921"
            ]
           ],
           "sequentialminus": [
            [
             0,
             "#0d0887"
            ],
            [
             0.1111111111111111,
             "#46039f"
            ],
            [
             0.2222222222222222,
             "#7201a8"
            ],
            [
             0.3333333333333333,
             "#9c179e"
            ],
            [
             0.4444444444444444,
             "#bd3786"
            ],
            [
             0.5555555555555556,
             "#d8576b"
            ],
            [
             0.6666666666666666,
             "#ed7953"
            ],
            [
             0.7777777777777778,
             "#fb9f3a"
            ],
            [
             0.8888888888888888,
             "#fdca26"
            ],
            [
             1,
             "#f0f921"
            ]
           ]
          },
          "colorway": [
           "#636efa",
           "#EF553B",
           "#00cc96",
           "#ab63fa",
           "#FFA15A",
           "#19d3f3",
           "#FF6692",
           "#B6E880",
           "#FF97FF",
           "#FECB52"
          ],
          "font": {
           "color": "#f2f5fa"
          },
          "geo": {
           "bgcolor": "rgb(17,17,17)",
           "lakecolor": "rgb(17,17,17)",
           "landcolor": "rgb(17,17,17)",
           "showlakes": true,
           "showland": true,
           "subunitcolor": "#506784"
          },
          "hoverlabel": {
           "align": "left"
          },
          "hovermode": "closest",
          "mapbox": {
           "style": "dark"
          },
          "paper_bgcolor": "rgb(17,17,17)",
          "plot_bgcolor": "rgb(17,17,17)",
          "polar": {
           "angularaxis": {
            "gridcolor": "#506784",
            "linecolor": "#506784",
            "ticks": ""
           },
           "bgcolor": "rgb(17,17,17)",
           "radialaxis": {
            "gridcolor": "#506784",
            "linecolor": "#506784",
            "ticks": ""
           }
          },
          "scene": {
           "xaxis": {
            "backgroundcolor": "rgb(17,17,17)",
            "gridcolor": "#506784",
            "gridwidth": 2,
            "linecolor": "#506784",
            "showbackground": true,
            "ticks": "",
            "zerolinecolor": "#C8D4E3"
           },
           "yaxis": {
            "backgroundcolor": "rgb(17,17,17)",
            "gridcolor": "#506784",
            "gridwidth": 2,
            "linecolor": "#506784",
            "showbackground": true,
            "ticks": "",
            "zerolinecolor": "#C8D4E3"
           },
           "zaxis": {
            "backgroundcolor": "rgb(17,17,17)",
            "gridcolor": "#506784",
            "gridwidth": 2,
            "linecolor": "#506784",
            "showbackground": true,
            "ticks": "",
            "zerolinecolor": "#C8D4E3"
           }
          },
          "shapedefaults": {
           "line": {
            "color": "#f2f5fa"
           }
          },
          "sliderdefaults": {
           "bgcolor": "#C8D4E3",
           "bordercolor": "rgb(17,17,17)",
           "borderwidth": 1,
           "tickwidth": 0
          },
          "ternary": {
           "aaxis": {
            "gridcolor": "#506784",
            "linecolor": "#506784",
            "ticks": ""
           },
           "baxis": {
            "gridcolor": "#506784",
            "linecolor": "#506784",
            "ticks": ""
           },
           "bgcolor": "rgb(17,17,17)",
           "caxis": {
            "gridcolor": "#506784",
            "linecolor": "#506784",
            "ticks": ""
           }
          },
          "title": {
           "x": 0.05
          },
          "updatemenudefaults": {
           "bgcolor": "#506784",
           "borderwidth": 0
          },
          "xaxis": {
           "automargin": true,
           "gridcolor": "#283442",
           "linecolor": "#506784",
           "ticks": "",
           "title": {
            "standoff": 15
           },
           "zerolinecolor": "#283442",
           "zerolinewidth": 2
          },
          "yaxis": {
           "automargin": true,
           "gridcolor": "#283442",
           "linecolor": "#506784",
           "ticks": "",
           "title": {
            "standoff": 15
           },
           "zerolinecolor": "#283442",
           "zerolinewidth": 2
          }
         }
        },
        "title": {
         "text": "Event Accumulative scores, by teams, date 2024-08-15"
        },
        "width": 900,
        "xaxis": {
         "anchor": "y",
         "autorange": true,
         "categoryarray": [
          "gold",
          "silver",
          "bronze"
         ],
         "categoryorder": "array",
         "domain": [
          0,
          0.22444444444444445
         ],
         "matches": "x4",
         "range": [
          2.2552640881472144,
          5.744735911852786
         ],
         "showspikes": false,
         "showticklabels": false,
         "type": "category"
        },
        "xaxis2": {
         "anchor": "y3",
         "autorange": true,
         "categoryarray": [
          "gold",
          "silver",
          "bronze"
         ],
         "categoryorder": "array",
         "domain": [
          0.35777777777777775,
          0.5822222222222222
         ],
         "matches": "x5",
         "range": [
          2.0586076508328786,
          5.9413923491671214
         ],
         "showspikes": false,
         "showticklabels": false,
         "type": "category"
        },
        "xaxis3": {
         "anchor": "y5",
         "autorange": true,
         "categoryarray": [
          "gold",
          "silver",
          "bronze"
         ],
         "categoryorder": "array",
         "domain": [
          0.7155555555555555,
          0.94
         ],
         "matches": "x6",
         "range": [
          2.5,
          5.5
         ],
         "showspikes": false,
         "showticklabels": false,
         "type": "category"
        },
        "xaxis4": {
         "anchor": "y7",
         "autorange": true,
         "categoryarray": [
          "gold",
          "silver",
          "bronze"
         ],
         "categoryorder": "array",
         "domain": [
          0,
          0.22444444444444445
         ],
         "range": [
          2.2552640881472144,
          5.744735911852786
         ],
         "showspikes": false,
         "showticklabels": false,
         "type": "category"
        },
        "xaxis5": {
         "anchor": "y9",
         "autorange": true,
         "categoryarray": [
          "gold",
          "silver",
          "bronze"
         ],
         "categoryorder": "array",
         "domain": [
          0.35777777777777775,
          0.5822222222222222
         ],
         "range": [
          2.0586076508328786,
          5.9413923491671214
         ],
         "showspikes": false,
         "showticklabels": false,
         "type": "category"
        },
        "xaxis6": {
         "anchor": "y11",
         "autorange": true,
         "categoryarray": [
          "gold",
          "silver",
          "bronze"
         ],
         "categoryorder": "array",
         "domain": [
          0.7155555555555555,
          0.94
         ],
         "range": [
          2.5,
          5.5
         ],
         "showspikes": false,
         "showticklabels": false,
         "type": "category"
        },
        "yaxis": {
         "anchor": "x",
         "autorange": true,
         "domain": [
          0.575,
          1
         ],
         "range": [
          0,
          65.26315789473684
         ],
         "type": "linear"
        },
        "yaxis10": {
         "anchor": "x5",
         "autorange": true,
         "overlaying": "y9",
         "range": [
          -183.2998940303779,
          399.2998940303779
         ],
         "side": "right",
         "type": "linear"
        },
        "yaxis11": {
         "anchor": "x6",
         "autorange": true,
         "domain": [
          0,
          0.425
         ],
         "matches": "y7",
         "range": [
          0,
          66.3157894736842
         ],
         "showticklabels": false,
         "type": "linear"
        },
        "yaxis12": {
         "anchor": "x6",
         "autorange": true,
         "overlaying": "y11",
         "range": [
          14.616464726531532,
          201.38353527346845
         ],
         "side": "right",
         "type": "linear"
        },
        "yaxis2": {
         "anchor": "x",
         "autorange": true,
         "overlaying": "y",
         "range": [
          -42.67137497241224,
          234.67137497241225
         ],
         "side": "right",
         "type": "linear"
        },
        "yaxis3": {
         "anchor": "x2",
         "autorange": true,
         "domain": [
          0.575,
          1
         ],
         "matches": "y",
         "range": [
          0,
          65.26315789473684
         ],
         "showticklabels": false,
         "type": "linear"
        },
        "yaxis4": {
         "anchor": "x2",
         "autorange": true,
         "overlaying": "y3",
         "range": [
          -113.02195608782435,
          305.0219560878244
         ],
         "side": "right",
         "type": "linear"
        },
        "yaxis5": {
         "anchor": "x3",
         "autorange": true,
         "domain": [
          0.575,
          1
         ],
         "matches": "y",
         "range": [
          0,
          65.26315789473684
         ],
         "showticklabels": false,
         "type": "linear"
        },
        "yaxis6": {
         "anchor": "x3",
         "autorange": true,
         "overlaying": "y5",
         "range": [
          22.777764829273984,
          169.222235170726
         ],
         "side": "right",
         "type": "linear"
        },
        "yaxis7": {
         "anchor": "x4",
         "autorange": true,
         "domain": [
          0,
          0.425
         ],
         "range": [
          0,
          66.3157894736842
         ],
         "type": "linear"
        },
        "yaxis8": {
         "anchor": "x4",
         "autorange": true,
         "overlaying": "y7",
         "range": [
          -89.24228653432192,
          305.2422865343219
         ],
         "side": "right",
         "type": "linear"
        },
        "yaxis9": {
         "anchor": "x5",
         "autorange": true,
         "domain": [
          0,
          0.425
         ],
         "matches": "y7",
         "range": [
          0,
          66.3157894736842
         ],
         "showticklabels": false,
         "type": "linear"
        }
       }
      },
      "image/png": "[encoded data removed]",
      "text/html": [
       "<div>                            <div id=\"0324428f-22db-44ea-96dc-3e0bc97a7e27\" class=\"plotly-graph-div\" style=\"height:400px; width:900px;\"></div>            <script type=\"text/javascript\">                require([\"plotly\"], function(Plotly) {                    window.PLOTLYENV=window.PLOTLYENV || {};                                    if (document.getElementById(\"0324428f-22db-44ea-96dc-3e0bc97a7e27\")) {                    Plotly.newPlot(                        \"0324428f-22db-44ea-96dc-3e0bc97a7e27\",                        [{\"customdata\":[[48,\"bronze\",48],[49,\"silver\",98],[48,\"gold\",144]],\"hovertemplate\":\"\\u003cbr\\u003e\\u003ci\\u003eTotal medals\\u003c\\u002fi\\u003e: %{customdata[0]} %{customdata[1]}\\u003cbr\\u003e\\u003ci\\u003eMedal score\\u003c\\u002fi\\u003e: %{customdata[2]} points\",\"marker\":{\"color\":[\"rgb(194, 144, 80)\",\"rgb(169, 180, 195)\",\"rgb(255, 222, 94)\",\"rgb(0,0,0)\"]},\"name\":\"\\u003cb\\u003eEvent A\\u003c\\u002fb\\u003e\",\"opacity\":0.8,\"text\":[48.0,49.0,48.0],\"textangle\":0,\"textfont\":{\"color\":\"black\"},\"textposition\":\"inside\",\"x\":[\"Bronze\",\"Silver\",\"Gold\"],\"y\":[48,49,48],\"type\":\"bar\",\"xaxis\":\"x\",\"yaxis\":\"y\"},{\"customdata\":[[33.0,78.8,184.0,290.0],[33.0,78.8,184.0,290.0],[33.0,78.8,184.0,290.0]],\"hovertemplate\":\"\\u003cbr\\u003e\\u003ci\\u003eMedal distribution\\u003c\\u002fi\\u003e: %{customdata[0]}%\\u003cbr\\u003e\\u003ci\\u003eParticipation\\u003c\\u002fi\\u003e: %{customdata[1]}%\\u003cbr\\u003e\\u003ci\\u003eTeam players\\u003c\\u002fi\\u003e: %{customdata[2]}\\u003cbr\\u003e\\u003cbr\\u003e\\u003cb\\u003eTeam Score\\u003c\\u002fb\\u003e: %{customdata[3]}\",\"marker\":{\"color\":[\"rgb(194, 144, 80)\",\"rgb(169, 180, 195)\",\"rgb(255, 222, 94)\"],\"line\":{\"color\":\"white\"},\"size\":[41.42857142857143,41.42857142857143,41.42857142857143]},\"mode\":\"markers\",\"name\":\"\\u003cb\\u003eTeam metrics\\u003c\\u002fb\\u003e\",\"opacity\":0.5,\"x\":[\"Bronze\",\"Silver\",\"Gold\"],\"y\":[48,98,144],\"type\":\"scatter\",\"xaxis\":\"x\",\"yaxis\":\"y2\"},{\"customdata\":[[53,\"bronze\",53],[62,\"silver\",124],[58,\"gold\",174]],\"hovertemplate\":\"\\u003cbr\\u003e\\u003ci\\u003eTotal medals\\u003c\\u002fi\\u003e: %{customdata[0]} %{customdata[1]}\\u003cbr\\u003e\\u003ci\\u003eMedal score\\u003c\\u002fi\\u003e: %{customdata[2]} points\",\"marker\":{\"color\":[\"rgb(194, 144, 80)\",\"rgb(169, 180, 195)\",\"rgb(255, 222, 94)\",\"rgb(0,0,0)\"]},\"name\":\"\\u003cb\\u003eEvent A\\u003c\\u002fb\\u003e\",\"opacity\":0.8,\"text\":[53.0,62.0,58.0],\"textangle\":0,\"textfont\":{\"color\":\"black\"},\"textposition\":\"inside\",\"x\":[\"Bronze\",\"Silver\",\"Gold\"],\"y\":[53,62,58],\"type\":\"bar\",\"xaxis\":\"x2\",\"yaxis\":\"y3\"},{\"customdata\":[[30.0,73.31,236.0,351.0],[35.0,73.31,236.0,351.0],[33.0,73.31,236.0,351.0]],\"hovertemplate\":\"\\u003cbr\\u003e\\u003ci\\u003eMedal distribution\\u003c\\u002fi\\u003e: %{customdata[0]}%\\u003cbr\\u003e\\u003ci\\u003eParticipation\\u003c\\u002fi\\u003e: %{customdata[1]}%\\u003cbr\\u003e\\u003ci\\u003eTeam players\\u003c\\u002fi\\u003e: %{customdata[2]}\\u003cbr\\u003e\\u003cbr\\u003e\\u003cb\\u003eTeam Score\\u003c\\u002fb\\u003e: %{customdata[3]}\",\"marker\":{\"color\":[\"rgb(194, 144, 80)\",\"rgb(169, 180, 195)\",\"rgb(255, 222, 94)\"],\"line\":{\"color\":\"white\"},\"size\":[50.142857142857146,50.142857142857146,50.142857142857146]},\"mode\":\"markers\",\"name\":\"\\u003cb\\u003eTeam metrics\\u003c\\u002fb\\u003e\",\"opacity\":0.5,\"x\":[\"Bronze\",\"Silver\",\"Gold\"],\"y\":[48,98,144],\"type\":\"scatter\",\"xaxis\":\"x2\",\"yaxis\":\"y4\"},{\"customdata\":[[24,\"bronze\",24],[25,\"silver\",50],[18,\"gold\",54]],\"hovertemplate\":\"\\u003cbr\\u003e\\u003ci\\u003eTotal medals\\u003c\\u002fi\\u003e: %{customdata[0]} %{customdata[1]}\\u003cbr\\u003e\\u003ci\\u003eMedal score\\u003c\\u002fi\\u003e: %{customdata[2]} points\",\"marker\":{\"color\":[\"rgb(194, 144, 80)\",\"rgb(169, 180, 195)\",\"rgb(255, 222, 94)\",\"rgb(0,0,0)\"]},\"name\":\"\\u003cb\\u003eEvent A\\u003c\\u002fb\\u003e\",\"opacity\":0.8,\"text\":[24.0,25.0,18.0],\"textangle\":0,\"textfont\":{\"color\":\"black\"},\"textposition\":\"inside\",\"x\":[\"Bronze\",\"Silver\",\"Gold\"],\"y\":[24,25,18],\"type\":\"bar\",\"xaxis\":\"x3\",\"yaxis\":\"y5\"},{\"customdata\":[[35.0,82.72,81.0,128.0],[37.0,82.72,81.0,128.0],[26.0,82.72,81.0,128.0]],\"hovertemplate\":\"\\u003cbr\\u003e\\u003ci\\u003eMedal distribution\\u003c\\u002fi\\u003e: %{customdata[0]}%\\u003cbr\\u003e\\u003ci\\u003eParticipation\\u003c\\u002fi\\u003e: %{customdata[1]}%\\u003cbr\\u003e\\u003ci\\u003eTeam players\\u003c\\u002fi\\u003e: %{customdata[2]}\\u003cbr\\u003e\\u003cbr\\u003e\\u003cb\\u003eTeam Score\\u003c\\u002fb\\u003e: %{customdata[3]}\",\"marker\":{\"color\":[\"rgb(194, 144, 80)\",\"rgb(169, 180, 195)\",\"rgb(255, 222, 94)\"],\"line\":{\"color\":\"white\"},\"size\":[18.285714285714285,18.285714285714285,18.285714285714285]},\"mode\":\"markers\",\"name\":\"\\u003cb\\u003eTeam metrics\\u003c\\u002fb\\u003e\",\"opacity\":0.5,\"x\":[\"Bronze\",\"Silver\",\"Gold\"],\"y\":[48,98,144],\"type\":\"scatter\",\"xaxis\":\"x3\",\"yaxis\":\"y6\"},{\"customdata\":[[45,\"bronze\",45],[44,\"silver\",88],[57,\"gold\",171]],\"hovertemplate\":\"\\u003cbr\\u003e\\u003ci\\u003eTotal medals\\u003c\\u002fi\\u003e: %{customdata[0]} %{customdata[1]}\\u003cbr\\u003e\\u003ci\\u003eMedal score\\u003c\\u002fi\\u003e: %{customdata[2]} points\",\"marker\":{\"color\":[\"rgb(194, 144, 80)\",\"rgb(169, 180, 195)\",\"rgb(255, 222, 94)\",\"rgb(0,0,0)\"]},\"name\":\"\\u003cb\\u003eEvent B\\u003c\\u002fb\\u003e\",\"opacity\":0.8,\"text\":[45.0,44.0,57.0],\"textangle\":0,\"textfont\":{\"color\":\"black\"},\"textposition\":\"inside\",\"x\":[\"Bronze\",\"Silver\",\"Gold\"],\"y\":[45,44,57],\"type\":\"bar\",\"xaxis\":\"x4\",\"yaxis\":\"y7\"},{\"customdata\":[[30.0,79.35,184.0,304.0],[30.0,79.35,184.0,304.0],[39.0,79.35,184.0,304.0]],\"hovertemplate\":\"\\u003cbr\\u003e\\u003ci\\u003eMedal distribution\\u003c\\u002fi\\u003e: %{customdata[0]}%\\u003cbr\\u003e\\u003ci\\u003eParticipation\\u003c\\u002fi\\u003e: %{customdata[1]}%\\u003cbr\\u003e\\u003ci\\u003eTeam players\\u003c\\u002fi\\u003e: %{customdata[2]}\\u003cbr\\u003e\\u003cbr\\u003e\\u003cb\\u003eTeam Score\\u003c\\u002fb\\u003e: %{customdata[3]}\",\"marker\":{\"color\":[\"rgb(194, 144, 80)\",\"rgb(169, 180, 195)\",\"rgb(255, 222, 94)\"],\"line\":{\"color\":\"white\"},\"size\":[43.42857142857143,43.42857142857143,43.42857142857143]},\"mode\":\"markers\",\"name\":\"\\u003cb\\u003eTeam metrics\\u003c\\u002fb\\u003e\",\"opacity\":0.5,\"x\":[\"Bronze\",\"Silver\",\"Gold\"],\"y\":[45,88,171],\"type\":\"scatter\",\"xaxis\":\"x4\",\"yaxis\":\"y8\"},{\"customdata\":[[63,\"bronze\",63],[56,\"silver\",112],[61,\"gold\",183]],\"hovertemplate\":\"\\u003cbr\\u003e\\u003ci\\u003eTotal medals\\u003c\\u002fi\\u003e: %{customdata[0]} %{customdata[1]}\\u003cbr\\u003e\\u003ci\\u003eMedal score\\u003c\\u002fi\\u003e: %{customdata[2]} points\",\"marker\":{\"color\":[\"rgb(194, 144, 80)\",\"rgb(169, 180, 195)\",\"rgb(255, 222, 94)\",\"rgb(0,0,0)\"]},\"name\":\"\\u003cb\\u003eEvent B\\u003c\\u002fb\\u003e\",\"opacity\":0.8,\"text\":[63.0,56.0,61.0],\"textangle\":0,\"textfont\":{\"color\":\"black\"},\"textposition\":\"inside\",\"x\":[\"Bronze\",\"Silver\",\"Gold\"],\"y\":[63,56,61],\"type\":\"bar\",\"xaxis\":\"x5\",\"yaxis\":\"y9\"},{\"customdata\":[[35.0,76.27,236.0,358.0],[31.0,76.27,236.0,358.0],[33.0,76.27,236.0,358.0]],\"hovertemplate\":\"\\u003cbr\\u003e\\u003ci\\u003eMedal distribution\\u003c\\u002fi\\u003e: %{customdata[0]}%\\u003cbr\\u003e\\u003ci\\u003eParticipation\\u003c\\u002fi\\u003e: %{customdata[1]}%\\u003cbr\\u003e\\u003ci\\u003eTeam players\\u003c\\u002fi\\u003e: %{customdata[2]}\\u003cbr\\u003e\\u003cbr\\u003e\\u003cb\\u003eTeam Score\\u003c\\u002fb\\u003e: %{customdata[3]}\",\"marker\":{\"color\":[\"rgb(194, 144, 80)\",\"rgb(169, 180, 195)\",\"rgb(255, 222, 94)\"],\"line\":{\"color\":\"white\"},\"size\":[51.142857142857146,51.142857142857146,51.142857142857146]},\"mode\":\"markers\",\"name\":\"\\u003cb\\u003eTeam metrics\\u003c\\u002fb\\u003e\",\"opacity\":0.5,\"x\":[\"Bronze\",\"Silver\",\"Gold\"],\"y\":[45,88,171],\"type\":\"scatter\",\"xaxis\":\"x5\",\"yaxis\":\"y10\"},{\"customdata\":[[24,\"bronze\",24],[14,\"silver\",28],[22,\"gold\",66]],\"hovertemplate\":\"\\u003cbr\\u003e\\u003ci\\u003eTotal medals\\u003c\\u002fi\\u003e: %{customdata[0]} %{customdata[1]}\\u003cbr\\u003e\\u003ci\\u003eMedal score\\u003c\\u002fi\\u003e: %{customdata[2]} points\",\"marker\":{\"color\":[\"rgb(194, 144, 80)\",\"rgb(169, 180, 195)\",\"rgb(255, 222, 94)\",\"rgb(0,0,0)\"]},\"name\":\"\\u003cb\\u003eEvent B\\u003c\\u002fb\\u003e\",\"opacity\":0.8,\"text\":[24.0,14.0,22.0],\"textangle\":0,\"textfont\":{\"color\":\"black\"},\"textposition\":\"inside\",\"x\":[\"Bronze\",\"Silver\",\"Gold\"],\"y\":[24,14,22],\"type\":\"bar\",\"xaxis\":\"x6\",\"yaxis\":\"y11\"},{\"customdata\":[[40.0,74.07,81.0,118.0],[23.0,74.07,81.0,118.0],[36.0,74.07,81.0,118.0]],\"hovertemplate\":\"\\u003cbr\\u003e\\u003ci\\u003eMedal distribution\\u003c\\u002fi\\u003e: %{customdata[0]}%\\u003cbr\\u003e\\u003ci\\u003eParticipation\\u003c\\u002fi\\u003e: %{customdata[1]}%\\u003cbr\\u003e\\u003ci\\u003eTeam players\\u003c\\u002fi\\u003e: %{customdata[2]}\\u003cbr\\u003e\\u003cbr\\u003e\\u003cb\\u003eTeam Score\\u003c\\u002fb\\u003e: %{customdata[3]}\",\"marker\":{\"color\":[\"rgb(194, 144, 80)\",\"rgb(169, 180, 195)\",\"rgb(255, 222, 94)\"],\"line\":{\"color\":\"white\"},\"size\":[16.857142857142858,16.857142857142858,16.857142857142858]},\"mode\":\"markers\",\"name\":\"\\u003cb\\u003eTeam metrics\\u003c\\u002fb\\u003e\",\"opacity\":0.5,\"x\":[\"Bronze\",\"Silver\",\"Gold\"],\"y\":[45,88,171],\"type\":\"scatter\",\"xaxis\":\"x6\",\"yaxis\":\"y12\"}],                        {\"template\":{\"data\":{\"barpolar\":[{\"marker\":{\"line\":{\"color\":\"rgb(17,17,17)\",\"width\":0.5},\"pattern\":{\"fillmode\":\"overlay\",\"size\":10,\"solidity\":0.2}},\"type\":\"barpolar\"}],\"bar\":[{\"error_x\":{\"color\":\"#f2f5fa\"},\"error_y\":{\"color\":\"#f2f5fa\"},\"marker\":{\"line\":{\"color\":\"rgb(17,17,17)\",\"width\":0.5},\"pattern\":{\"fillmode\":\"overlay\",\"size\":10,\"solidity\":0.2}},\"type\":\"bar\"}],\"carpet\":[{\"aaxis\":{\"endlinecolor\":\"#A2B1C6\",\"gridcolor\":\"#506784\",\"linecolor\":\"#506784\",\"minorgridcolor\":\"#506784\",\"startlinecolor\":\"#A2B1C6\"},\"baxis\":{\"endlinecolor\":\"#A2B1C6\",\"gridcolor\":\"#506784\",\"linecolor\":\"#506784\",\"minorgridcolor\":\"#506784\",\"startlinecolor\":\"#A2B1C6\"},\"type\":\"carpet\"}],\"choropleth\":[{\"colorbar\":{\"outlinewidth\":0,\"ticks\":\"\"},\"type\":\"choropleth\"}],\"contourcarpet\":[{\"colorbar\":{\"outlinewidth\":0,\"ticks\":\"\"},\"type\":\"contourcarpet\"}],\"contour\":[{\"colorbar\":{\"outlinewidth\":0,\"ticks\":\"\"},\"colorscale\":[[0.0,\"#0d0887\"],[0.1111111111111111,\"#46039f\"],[0.2222222222222222,\"#7201a8\"],[0.3333333333333333,\"#9c179e\"],[0.4444444444444444,\"#bd3786\"],[0.5555555555555556,\"#d8576b\"],[0.6666666666666666,\"#ed7953\"],[0.7777777777777778,\"#fb9f3a\"],[0.8888888888888888,\"#fdca26\"],[1.0,\"#f0f921\"]],\"type\":\"contour\"}],\"heatmapgl\":[{\"colorbar\":{\"outlinewidth\":0,\"ticks\":\"\"},\"colorscale\":[[0.0,\"#0d0887\"],[0.1111111111111111,\"#46039f\"],[0.2222222222222222,\"#7201a8\"],[0.3333333333333333,\"#9c179e\"],[0.4444444444444444,\"#bd3786\"],[0.5555555555555556,\"#d8576b\"],[0.6666666666666666,\"#ed7953\"],[0.7777777777777778,\"#fb9f3a\"],[0.8888888888888888,\"#fdca26\"],[1.0,\"#f0f921\"]],\"type\":\"heatmapgl\"}],\"heatmap\":[{\"colorbar\":{\"outlinewidth\":0,\"ticks\":\"\"},\"colorscale\":[[0.0,\"#0d0887\"],[0.1111111111111111,\"#46039f\"],[0.2222222222222222,\"#7201a8\"],[0.3333333333333333,\"#9c179e\"],[0.4444444444444444,\"#bd3786\"],[0.5555555555555556,\"#d8576b\"],[0.6666666666666666,\"#ed7953\"],[0.7777777777777778,\"#fb9f3a\"],[0.8888888888888888,\"#fdca26\"],[1.0,\"#f0f921\"]],\"type\":\"heatmap\"}],\"histogram2dcontour\":[{\"colorbar\":{\"outlinewidth\":0,\"ticks\":\"\"},\"colorscale\":[[0.0,\"#0d0887\"],[0.1111111111111111,\"#46039f\"],[0.2222222222222222,\"#7201a8\"],[0.3333333333333333,\"#9c179e\"],[0.4444444444444444,\"#bd3786\"],[0.5555555555555556,\"#d8576b\"],[0.6666666666666666,\"#ed7953\"],[0.7777777777777778,\"#fb9f3a\"],[0.8888888888888888,\"#fdca26\"],[1.0,\"#f0f921\"]],\"type\":\"histogram2dcontour\"}],\"histogram2d\":[{\"colorbar\":{\"outlinewidth\":0,\"ticks\":\"\"},\"colorscale\":[[0.0,\"#0d0887\"],[0.1111111111111111,\"#46039f\"],[0.2222222222222222,\"#7201a8\"],[0.3333333333333333,\"#9c179e\"],[0.4444444444444444,\"#bd3786\"],[0.5555555555555556,\"#d8576b\"],[0.6666666666666666,\"#ed7953\"],[0.7777777777777778,\"#fb9f3a\"],[0.8888888888888888,\"#fdca26\"],[1.0,\"#f0f921\"]],\"type\":\"histogram2d\"}],\"histogram\":[{\"marker\":{\"pattern\":{\"fillmode\":\"overlay\",\"size\":10,\"solidity\":0.2}},\"type\":\"histogram\"}],\"mesh3d\":[{\"colorbar\":{\"outlinewidth\":0,\"ticks\":\"\"},\"type\":\"mesh3d\"}],\"parcoords\":[{\"line\":{\"colorbar\":{\"outlinewidth\":0,\"ticks\":\"\"}},\"type\":\"parcoords\"}],\"pie\":[{\"automargin\":true,\"type\":\"pie\"}],\"scatter3d\":[{\"line\":{\"colorbar\":{\"outlinewidth\":0,\"ticks\":\"\"}},\"marker\":{\"colorbar\":{\"outlinewidth\":0,\"ticks\":\"\"}},\"type\":\"scatter3d\"}],\"scattercarpet\":[{\"marker\":{\"colorbar\":{\"outlinewidth\":0,\"ticks\":\"\"}},\"type\":\"scattercarpet\"}],\"scattergeo\":[{\"marker\":{\"colorbar\":{\"outlinewidth\":0,\"ticks\":\"\"}},\"type\":\"scattergeo\"}],\"scattergl\":[{\"marker\":{\"line\":{\"color\":\"#283442\"}},\"type\":\"scattergl\"}],\"scattermapbox\":[{\"marker\":{\"colorbar\":{\"outlinewidth\":0,\"ticks\":\"\"}},\"type\":\"scattermapbox\"}],\"scatterpolargl\":[{\"marker\":{\"colorbar\":{\"outlinewidth\":0,\"ticks\":\"\"}},\"type\":\"scatterpolargl\"}],\"scatterpolar\":[{\"marker\":{\"colorbar\":{\"outlinewidth\":0,\"ticks\":\"\"}},\"type\":\"scatterpolar\"}],\"scatter\":[{\"marker\":{\"line\":{\"color\":\"#283442\"}},\"type\":\"scatter\"}],\"scatterternary\":[{\"marker\":{\"colorbar\":{\"outlinewidth\":0,\"ticks\":\"\"}},\"type\":\"scatterternary\"}],\"surface\":[{\"colorbar\":{\"outlinewidth\":0,\"ticks\":\"\"},\"colorscale\":[[0.0,\"#0d0887\"],[0.1111111111111111,\"#46039f\"],[0.2222222222222222,\"#7201a8\"],[0.3333333333333333,\"#9c179e\"],[0.4444444444444444,\"#bd3786\"],[0.5555555555555556,\"#d8576b\"],[0.6666666666666666,\"#ed7953\"],[0.7777777777777778,\"#fb9f3a\"],[0.8888888888888888,\"#fdca26\"],[1.0,\"#f0f921\"]],\"type\":\"surface\"}],\"table\":[{\"cells\":{\"fill\":{\"color\":\"#506784\"},\"line\":{\"color\":\"rgb(17,17,17)\"}},\"header\":{\"fill\":{\"color\":\"#2a3f5f\"},\"line\":{\"color\":\"rgb(17,17,17)\"}},\"type\":\"table\"}]},\"layout\":{\"annotationdefaults\":{\"arrowcolor\":\"#f2f5fa\",\"arrowhead\":0,\"arrowwidth\":1},\"autotypenumbers\":\"strict\",\"coloraxis\":{\"colorbar\":{\"outlinewidth\":0,\"ticks\":\"\"}},\"colorscale\":{\"diverging\":[[0,\"#8e0152\"],[0.1,\"#c51b7d\"],[0.2,\"#de77ae\"],[0.3,\"#f1b6da\"],[0.4,\"#fde0ef\"],[0.5,\"#f7f7f7\"],[0.6,\"#e6f5d0\"],[0.7,\"#b8e186\"],[0.8,\"#7fbc41\"],[0.9,\"#4d9221\"],[1,\"#276419\"]],\"sequential\":[[0.0,\"#0d0887\"],[0.1111111111111111,\"#46039f\"],[0.2222222222222222,\"#7201a8\"],[0.3333333333333333,\"#9c179e\"],[0.4444444444444444,\"#bd3786\"],[0.5555555555555556,\"#d8576b\"],[0.6666666666666666,\"#ed7953\"],[0.7777777777777778,\"#fb9f3a\"],[0.8888888888888888,\"#fdca26\"],[1.0,\"#f0f921\"]],\"sequentialminus\":[[0.0,\"#0d0887\"],[0.1111111111111111,\"#46039f\"],[0.2222222222222222,\"#7201a8\"],[0.3333333333333333,\"#9c179e\"],[0.4444444444444444,\"#bd3786\"],[0.5555555555555556,\"#d8576b\"],[0.6666666666666666,\"#ed7953\"],[0.7777777777777778,\"#fb9f3a\"],[0.8888888888888888,\"#fdca26\"],[1.0,\"#f0f921\"]]},\"colorway\":[\"#636efa\",\"#EF553B\",\"#00cc96\",\"#ab63fa\",\"#FFA15A\",\"#19d3f3\",\"#FF6692\",\"#B6E880\",\"#FF97FF\",\"#FECB52\"],\"font\":{\"color\":\"#f2f5fa\"},\"geo\":{\"bgcolor\":\"rgb(17,17,17)\",\"lakecolor\":\"rgb(17,17,17)\",\"landcolor\":\"rgb(17,17,17)\",\"showlakes\":true,\"showland\":true,\"subunitcolor\":\"#506784\"},\"hoverlabel\":{\"align\":\"left\"},\"hovermode\":\"closest\",\"mapbox\":{\"style\":\"dark\"},\"paper_bgcolor\":\"rgb(17,17,17)\",\"plot_bgcolor\":\"rgb(17,17,17)\",\"polar\":{\"angularaxis\":{\"gridcolor\":\"#506784\",\"linecolor\":\"#506784\",\"ticks\":\"\"},\"bgcolor\":\"rgb(17,17,17)\",\"radialaxis\":{\"gridcolor\":\"#506784\",\"linecolor\":\"#506784\",\"ticks\":\"\"}},\"scene\":{\"xaxis\":{\"backgroundcolor\":\"rgb(17,17,17)\",\"gridcolor\":\"#506784\",\"gridwidth\":2,\"linecolor\":\"#506784\",\"showbackground\":true,\"ticks\":\"\",\"zerolinecolor\":\"#C8D4E3\"},\"yaxis\":{\"backgroundcolor\":\"rgb(17,17,17)\",\"gridcolor\":\"#506784\",\"gridwidth\":2,\"linecolor\":\"#506784\",\"showbackground\":true,\"ticks\":\"\",\"zerolinecolor\":\"#C8D4E3\"},\"zaxis\":{\"backgroundcolor\":\"rgb(17,17,17)\",\"gridcolor\":\"#506784\",\"gridwidth\":2,\"linecolor\":\"#506784\",\"showbackground\":true,\"ticks\":\"\",\"zerolinecolor\":\"#C8D4E3\"}},\"shapedefaults\":{\"line\":{\"color\":\"#f2f5fa\"}},\"sliderdefaults\":{\"bgcolor\":\"#C8D4E3\",\"bordercolor\":\"rgb(17,17,17)\",\"borderwidth\":1,\"tickwidth\":0},\"ternary\":{\"aaxis\":{\"gridcolor\":\"#506784\",\"linecolor\":\"#506784\",\"ticks\":\"\"},\"baxis\":{\"gridcolor\":\"#506784\",\"linecolor\":\"#506784\",\"ticks\":\"\"},\"bgcolor\":\"rgb(17,17,17)\",\"caxis\":{\"gridcolor\":\"#506784\",\"linecolor\":\"#506784\",\"ticks\":\"\"}},\"title\":{\"x\":0.05},\"updatemenudefaults\":{\"bgcolor\":\"#506784\",\"borderwidth\":0},\"xaxis\":{\"automargin\":true,\"gridcolor\":\"#283442\",\"linecolor\":\"#506784\",\"ticks\":\"\",\"title\":{\"standoff\":15},\"zerolinecolor\":\"#283442\",\"zerolinewidth\":2},\"yaxis\":{\"automargin\":true,\"gridcolor\":\"#283442\",\"linecolor\":\"#506784\",\"ticks\":\"\",\"title\":{\"standoff\":15},\"zerolinecolor\":\"#283442\",\"zerolinewidth\":2}}},\"xaxis\":{\"anchor\":\"y\",\"domain\":[0.0,0.22444444444444445],\"matches\":\"x4\",\"showticklabels\":false,\"categoryorder\":\"array\",\"categoryarray\":[\"gold\",\"silver\",\"bronze\"],\"showspikes\":false},\"yaxis\":{\"anchor\":\"x\",\"domain\":[0.575,1.0]},\"yaxis2\":{\"anchor\":\"x\",\"overlaying\":\"y\",\"side\":\"right\"},\"xaxis2\":{\"anchor\":\"y3\",\"domain\":[0.35777777777777775,0.5822222222222222],\"matches\":\"x5\",\"showticklabels\":false,\"categoryorder\":\"array\",\"categoryarray\":[\"gold\",\"silver\",\"bronze\"],\"showspikes\":false},\"yaxis3\":{\"anchor\":\"x2\",\"domain\":[0.575,1.0],\"matches\":\"y\",\"showticklabels\":false},\"yaxis4\":{\"anchor\":\"x2\",\"overlaying\":\"y3\",\"side\":\"right\"},\"xaxis3\":{\"anchor\":\"y5\",\"domain\":[0.7155555555555555,0.94],\"matches\":\"x6\",\"showticklabels\":false,\"categoryorder\":\"array\",\"categoryarray\":[\"gold\",\"silver\",\"bronze\"],\"showspikes\":false},\"yaxis5\":{\"anchor\":\"x3\",\"domain\":[0.575,1.0],\"matches\":\"y\",\"showticklabels\":false},\"yaxis6\":{\"anchor\":\"x3\",\"overlaying\":\"y5\",\"side\":\"right\"},\"xaxis4\":{\"anchor\":\"y7\",\"domain\":[0.0,0.22444444444444445],\"categoryorder\":\"array\",\"categoryarray\":[\"gold\",\"silver\",\"bronze\"],\"showticklabels\":false,\"showspikes\":false},\"yaxis7\":{\"anchor\":\"x4\",\"domain\":[0.0,0.425]},\"yaxis8\":{\"anchor\":\"x4\",\"overlaying\":\"y7\",\"side\":\"right\"},\"xaxis5\":{\"anchor\":\"y9\",\"domain\":[0.35777777777777775,0.5822222222222222],\"categoryorder\":\"array\",\"categoryarray\":[\"gold\",\"silver\",\"bronze\"],\"showticklabels\":false,\"showspikes\":false},\"yaxis9\":{\"anchor\":\"x5\",\"domain\":[0.0,0.425],\"matches\":\"y7\",\"showticklabels\":false},\"yaxis10\":{\"anchor\":\"x5\",\"overlaying\":\"y9\",\"side\":\"right\"},\"xaxis6\":{\"anchor\":\"y11\",\"domain\":[0.7155555555555555,0.94],\"categoryorder\":\"array\",\"categoryarray\":[\"gold\",\"silver\",\"bronze\"],\"showticklabels\":false,\"showspikes\":false},\"yaxis11\":{\"anchor\":\"x6\",\"domain\":[0.0,0.425],\"matches\":\"y7\",\"showticklabels\":false},\"yaxis12\":{\"anchor\":\"x6\",\"overlaying\":\"y11\",\"side\":\"right\"},\"annotations\":[{\"font\":{\"size\":16},\"showarrow\":false,\"text\":\"ThunderCats\",\"x\":0.11222222222222222,\"xanchor\":\"center\",\"xref\":\"paper\",\"y\":1.0,\"yanchor\":\"bottom\",\"yref\":\"paper\"},{\"font\":{\"size\":16},\"showarrow\":false,\"text\":\"Dog Patrol\",\"x\":0.47,\"xanchor\":\"center\",\"xref\":\"paper\",\"y\":1.0,\"yanchor\":\"bottom\",\"yref\":\"paper\"},{\"font\":{\"size\":16},\"showarrow\":false,\"text\":\"Power Birds\",\"x\":0.8277777777777777,\"xanchor\":\"center\",\"xref\":\"paper\",\"y\":1.0,\"yanchor\":\"bottom\",\"yref\":\"paper\"}],\"hoverlabel\":{\"align\":\"right\"},\"title\":{\"text\":\"Event Accumulative scores, by teams, date 2024-08-15\"},\"barmode\":\"group\",\"showlegend\":false,\"hovermode\":\"x unified\",\"barcornerradius\":\"50%\",\"width\":900,\"height\":400},                        {\"responsive\": true}                    ).then(function(){\n",
       "                            \n",
       "var gd = document.getElementById('0324428f-22db-44ea-96dc-3e0bc97a7e27');\n",
       "var x = new MutationObserver(function (mutations, observer) {{\n",
       "        var display = window.getComputedStyle(gd).display;\n",
       "        if (!display || display === 'none') {{\n",
       "            console.log([gd, 'removed!']);\n",
       "            Plotly.purge(gd);\n",
       "            observer.disconnect();\n",
       "        }}\n",
       "}});\n",
       "\n",
       "// Listen for the removal of the full notebook cells\n",
       "var notebookContainer = gd.closest('#notebook-container');\n",
       "if (notebookContainer) {{\n",
       "    x.observe(notebookContainer, {childList: true});\n",
       "}}\n",
       "\n",
       "// Listen for the clearing of the current output cell\n",
       "var outputEl = gd.closest('.output');\n",
       "if (outputEl) {{\n",
       "    x.observe(outputEl, {childList: true});\n",
       "}}\n",
       "\n",
       "                        })                };                });            </script>        </div>"
      ]
     },
     "metadata": {},
     "output_type": "display_data"
    }
   ],
   "source": [
    "# scatter bubbles at 70% of its size\n",
    "score_figure(df_eventteams_scores, 'accumulative', 7, scatter_opacity = 0.5)"
   ]
  },
  {
   "cell_type": "code",
   "execution_count": 48,
   "metadata": {},
   "outputs": [
    {
     "data": {
      "application/vnd.plotly.v1+json": {
       "config": {
        "plotlyServerURL": "https://plot.ly"
       },
       "data": [
        {
         "customdata": [
          [
           48,
           "bronze",
           33.1
          ],
          [
           49,
           "silver",
           67.58
          ],
          [
           48,
           "gold",
           99.3
          ]
         ],
         "hovertemplate": "<br><i>Total medals</i>: %{customdata[0]} %{customdata[1]}<br><i>Medal score</i>: %{customdata[2]} points",
         "marker": {
          "color": [
           "rgb(194, 144, 80)",
           "rgb(169, 180, 195)",
           "rgb(255, 222, 94)",
           "rgb(0, 0, 0)"
          ]
         },
         "name": "<b>Event A</b>",
         "opacity": 0.8,
         "text": [
          33,
          33,
          33
         ],
         "textangle": 0,
         "textfont": {
          "color": "black"
         },
         "textposition": "inside",
         "type": "bar",
         "x": [
          "Bronze",
          "Silver",
          "Gold"
         ],
         "xaxis": "x",
         "y": [
          33,
          33,
          33
         ],
         "yaxis": "y"
        },
        {
         "customdata": [
          [
           33,
           78.8,
           184,
           199.98
          ],
          [
           33,
           78.8,
           184,
           199.98
          ],
          [
           33,
           78.8,
           184,
           199.98
          ]
         ],
         "hovertemplate": "<br><i>Medal distribution</i>: %{customdata[0]}%<br><i>Participation</i>: %{customdata[1]}%<br><i>Team players</i>: %{customdata[2]}<br><br><b>Team Score</b>: %{customdata[3]}",
         "marker": {
          "color": [
           "rgb(194, 144, 80)",
           "rgb(169, 180, 195)",
           "rgb(255, 222, 94)"
          ],
          "line": {
           "color": "white"
          },
          "size": [
           19.997999999999998,
           19.997999999999998,
           19.997999999999998
          ]
         },
         "mode": "markers",
         "name": "<b>Team metrics</b>",
         "opacity": 0.5,
         "type": "scatter",
         "x": [
          "Bronze",
          "Silver",
          "Gold"
         ],
         "xaxis": "x",
         "y": [
          33.1,
          67.58,
          99.3
         ],
         "yaxis": "y2"
        },
        {
         "customdata": [
          [
           53,
           "bronze",
           30.64
          ],
          [
           62,
           "silver",
           71.68
          ],
          [
           58,
           "gold",
           100.59
          ]
         ],
         "hovertemplate": "<br><i>Total medals</i>: %{customdata[0]} %{customdata[1]}<br><i>Medal score</i>: %{customdata[2]} points",
         "marker": {
          "color": [
           "rgb(194, 144, 80)",
           "rgb(169, 180, 195)",
           "rgb(255, 222, 94)",
           "rgb(0, 0, 0)"
          ]
         },
         "name": "<b>Event A</b>",
         "opacity": 0.8,
         "text": [
          30,
          35,
          33
         ],
         "textangle": 0,
         "textfont": {
          "color": "black"
         },
         "textposition": "inside",
         "type": "bar",
         "x": [
          "Bronze",
          "Silver",
          "Gold"
         ],
         "xaxis": "x2",
         "y": [
          30,
          35,
          33
         ],
         "yaxis": "y3"
        },
        {
         "customdata": [
          [
           30,
           73.31,
           236,
           202.91000000000003
          ],
          [
           35,
           73.31,
           236,
           202.91000000000003
          ],
          [
           33,
           73.31,
           236,
           202.91000000000003
          ]
         ],
         "hovertemplate": "<br><i>Medal distribution</i>: %{customdata[0]}%<br><i>Participation</i>: %{customdata[1]}%<br><i>Team players</i>: %{customdata[2]}<br><br><b>Team Score</b>: %{customdata[3]}",
         "marker": {
          "color": [
           "rgb(194, 144, 80)",
           "rgb(169, 180, 195)",
           "rgb(255, 222, 94)"
          ],
          "line": {
           "color": "white"
          },
          "size": [
           20.291000000000004,
           20.291000000000004,
           20.291000000000004
          ]
         },
         "mode": "markers",
         "name": "<b>Team metrics</b>",
         "opacity": 0.5,
         "type": "scatter",
         "x": [
          "Bronze",
          "Silver",
          "Gold"
         ],
         "xaxis": "x2",
         "y": [
          33.1,
          67.58,
          99.3
         ],
         "yaxis": "y4"
        },
        {
         "customdata": [
          [
           24,
           "bronze",
           35.82
          ],
          [
           25,
           "silver",
           74.62
          ],
          [
           18,
           "gold",
           80.61
          ]
         ],
         "hovertemplate": "<br><i>Total medals</i>: %{customdata[0]} %{customdata[1]}<br><i>Medal score</i>: %{customdata[2]} points",
         "marker": {
          "color": [
           "rgb(194, 144, 80)",
           "rgb(169, 180, 195)",
           "rgb(255, 222, 94)",
           "rgb(0, 0, 0)"
          ]
         },
         "name": "<b>Event A</b>",
         "opacity": 0.8,
         "text": [
          35,
          37,
          26
         ],
         "textangle": 0,
         "textfont": {
          "color": "black"
         },
         "textposition": "inside",
         "type": "bar",
         "x": [
          "Bronze",
          "Silver",
          "Gold"
         ],
         "xaxis": "x3",
         "y": [
          35,
          37,
          26
         ],
         "yaxis": "y5"
        },
        {
         "customdata": [
          [
           35,
           82.72,
           81,
           191.05
          ],
          [
           37,
           82.72,
           81,
           191.05
          ],
          [
           26,
           82.72,
           81,
           191.05
          ]
         ],
         "hovertemplate": "<br><i>Medal distribution</i>: %{customdata[0]}%<br><i>Participation</i>: %{customdata[1]}%<br><i>Team players</i>: %{customdata[2]}<br><br><b>Team Score</b>: %{customdata[3]}",
         "marker": {
          "color": [
           "rgb(194, 144, 80)",
           "rgb(169, 180, 195)",
           "rgb(255, 222, 94)"
          ],
          "line": {
           "color": "white"
          },
          "size": [
           19.105,
           19.105,
           19.105
          ]
         },
         "mode": "markers",
         "name": "<b>Team metrics</b>",
         "opacity": 0.5,
         "type": "scatter",
         "x": [
          "Bronze",
          "Silver",
          "Gold"
         ],
         "xaxis": "x3",
         "y": [
          33.1,
          67.58,
          99.3
         ],
         "yaxis": "y6"
        },
        {
         "customdata": [
          [
           45,
           "bronze",
           30.82
          ],
          [
           44,
           "silver",
           60.28
          ],
          [
           57,
           "gold",
           117.12
          ]
         ],
         "hovertemplate": "<br><i>Total medals</i>: %{customdata[0]} %{customdata[1]}<br><i>Medal score</i>: %{customdata[2]} points",
         "marker": {
          "color": [
           "rgb(194, 144, 80)",
           "rgb(169, 180, 195)",
           "rgb(255, 222, 94)",
           "rgb(0, 0, 0)"
          ]
         },
         "name": "<b>Event B</b>",
         "opacity": 0.8,
         "text": [
          30,
          30,
          39
         ],
         "textangle": 0,
         "textfont": {
          "color": "black"
         },
         "textposition": "inside",
         "type": "bar",
         "x": [
          "Bronze",
          "Silver",
          "Gold"
         ],
         "xaxis": "x4",
         "y": [
          30,
          30,
          39
         ],
         "yaxis": "y7"
        },
        {
         "customdata": [
          [
           30,
           79.35,
           184,
           208.22
          ],
          [
           30,
           79.35,
           184,
           208.22
          ],
          [
           39,
           79.35,
           184,
           208.22
          ]
         ],
         "hovertemplate": "<br><i>Medal distribution</i>: %{customdata[0]}%<br><i>Participation</i>: %{customdata[1]}%<br><i>Team players</i>: %{customdata[2]}<br><br><b>Team Score</b>: %{customdata[3]}",
         "marker": {
          "color": [
           "rgb(194, 144, 80)",
           "rgb(169, 180, 195)",
           "rgb(255, 222, 94)"
          ],
          "line": {
           "color": "white"
          },
          "size": [
           20.822,
           20.822,
           20.822
          ]
         },
         "mode": "markers",
         "name": "<b>Team metrics</b>",
         "opacity": 0.5,
         "type": "scatter",
         "x": [
          "Bronze",
          "Silver",
          "Gold"
         ],
         "xaxis": "x4",
         "y": [
          30.82,
          60.28,
          117.12
         ],
         "yaxis": "y8"
        },
        {
         "customdata": [
          [
           63,
           "bronze",
           35
          ],
          [
           56,
           "silver",
           62.22
          ],
          [
           61,
           "gold",
           101.67
          ]
         ],
         "hovertemplate": "<br><i>Total medals</i>: %{customdata[0]} %{customdata[1]}<br><i>Medal score</i>: %{customdata[2]} points",
         "marker": {
          "color": [
           "rgb(194, 144, 80)",
           "rgb(169, 180, 195)",
           "rgb(255, 222, 94)",
           "rgb(0, 0, 0)"
          ]
         },
         "name": "<b>Event B</b>",
         "opacity": 0.8,
         "text": [
          35,
          31,
          33
         ],
         "textangle": 0,
         "textfont": {
          "color": "black"
         },
         "textposition": "inside",
         "type": "bar",
         "x": [
          "Bronze",
          "Silver",
          "Gold"
         ],
         "xaxis": "x5",
         "y": [
          35,
          31,
          33
         ],
         "yaxis": "y9"
        },
        {
         "customdata": [
          [
           35,
           76.27,
           236,
           198.89
          ],
          [
           31,
           76.27,
           236,
           198.89
          ],
          [
           33,
           76.27,
           236,
           198.89
          ]
         ],
         "hovertemplate": "<br><i>Medal distribution</i>: %{customdata[0]}%<br><i>Participation</i>: %{customdata[1]}%<br><i>Team players</i>: %{customdata[2]}<br><br><b>Team Score</b>: %{customdata[3]}",
         "marker": {
          "color": [
           "rgb(194, 144, 80)",
           "rgb(169, 180, 195)",
           "rgb(255, 222, 94)"
          ],
          "line": {
           "color": "white"
          },
          "size": [
           19.889,
           19.889,
           19.889
          ]
         },
         "mode": "markers",
         "name": "<b>Team metrics</b>",
         "opacity": 0.5,
         "type": "scatter",
         "x": [
          "Bronze",
          "Silver",
          "Gold"
         ],
         "xaxis": "x5",
         "y": [
          30.82,
          60.28,
          117.12
         ],
         "yaxis": "y10"
        },
        {
         "customdata": [
          [
           24,
           "bronze",
           40
          ],
          [
           14,
           "silver",
           46.66
          ],
          [
           22,
           "gold",
           110.01
          ]
         ],
         "hovertemplate": "<br><i>Total medals</i>: %{customdata[0]} %{customdata[1]}<br><i>Medal score</i>: %{customdata[2]} points",
         "marker": {
          "color": [
           "rgb(194, 144, 80)",
           "rgb(169, 180, 195)",
           "rgb(255, 222, 94)",
           "rgb(0, 0, 0)"
          ]
         },
         "name": "<b>Event B</b>",
         "opacity": 0.8,
         "text": [
          40,
          23,
          36
         ],
         "textangle": 0,
         "textfont": {
          "color": "black"
         },
         "textposition": "inside",
         "type": "bar",
         "x": [
          "Bronze",
          "Silver",
          "Gold"
         ],
         "xaxis": "x6",
         "y": [
          40,
          23,
          36
         ],
         "yaxis": "y11"
        },
        {
         "customdata": [
          [
           40,
           74.07,
           81,
           196.67000000000002
          ],
          [
           23,
           74.07,
           81,
           196.67000000000002
          ],
          [
           36,
           74.07,
           81,
           196.67000000000002
          ]
         ],
         "hovertemplate": "<br><i>Medal distribution</i>: %{customdata[0]}%<br><i>Participation</i>: %{customdata[1]}%<br><i>Team players</i>: %{customdata[2]}<br><br><b>Team Score</b>: %{customdata[3]}",
         "marker": {
          "color": [
           "rgb(194, 144, 80)",
           "rgb(169, 180, 195)",
           "rgb(255, 222, 94)"
          ],
          "line": {
           "color": "white"
          },
          "size": [
           19.667,
           19.667,
           19.667
          ]
         },
         "mode": "markers",
         "name": "<b>Team metrics</b>",
         "opacity": 0.5,
         "type": "scatter",
         "x": [
          "Bronze",
          "Silver",
          "Gold"
         ],
         "xaxis": "x6",
         "y": [
          30.82,
          60.28,
          117.12
         ],
         "yaxis": "y12"
        }
       ],
       "layout": {
        "annotations": [
         {
          "font": {
           "size": 16
          },
          "showarrow": false,
          "text": "ThunderCats",
          "x": 0.11222222222222222,
          "xanchor": "center",
          "xref": "paper",
          "y": 1,
          "yanchor": "bottom",
          "yref": "paper"
         },
         {
          "font": {
           "size": 16
          },
          "showarrow": false,
          "text": "Dog Patrol",
          "x": 0.47,
          "xanchor": "center",
          "xref": "paper",
          "y": 1,
          "yanchor": "bottom",
          "yref": "paper"
         },
         {
          "font": {
           "size": 16
          },
          "showarrow": false,
          "text": "Power Birds",
          "x": 0.8277777777777777,
          "xanchor": "center",
          "xref": "paper",
          "y": 1,
          "yanchor": "bottom",
          "yref": "paper"
         }
        ],
        "barcornerradius": "50%",
        "barmode": "group",
        "height": 400,
        "hoverlabel": {
         "align": "right"
        },
        "hovermode": "x unified",
        "showlegend": false,
        "template": {
         "data": {
          "bar": [
           {
            "error_x": {
             "color": "#f2f5fa"
            },
            "error_y": {
             "color": "#f2f5fa"
            },
            "marker": {
             "line": {
              "color": "rgb(17,17,17)",
              "width": 0.5
             },
             "pattern": {
              "fillmode": "overlay",
              "size": 10,
              "solidity": 0.2
             }
            },
            "type": "bar"
           }
          ],
          "barpolar": [
           {
            "marker": {
             "line": {
              "color": "rgb(17,17,17)",
              "width": 0.5
             },
             "pattern": {
              "fillmode": "overlay",
              "size": 10,
              "solidity": 0.2
             }
            },
            "type": "barpolar"
           }
          ],
          "carpet": [
           {
            "aaxis": {
             "endlinecolor": "#A2B1C6",
             "gridcolor": "#506784",
             "linecolor": "#506784",
             "minorgridcolor": "#506784",
             "startlinecolor": "#A2B1C6"
            },
            "baxis": {
             "endlinecolor": "#A2B1C6",
             "gridcolor": "#506784",
             "linecolor": "#506784",
             "minorgridcolor": "#506784",
             "startlinecolor": "#A2B1C6"
            },
            "type": "carpet"
           }
          ],
          "choropleth": [
           {
            "colorbar": {
             "outlinewidth": 0,
             "ticks": ""
            },
            "type": "choropleth"
           }
          ],
          "contour": [
           {
            "colorbar": {
             "outlinewidth": 0,
             "ticks": ""
            },
            "colorscale": [
             [
              0,
              "#0d0887"
             ],
             [
              0.1111111111111111,
              "#46039f"
             ],
             [
              0.2222222222222222,
              "#7201a8"
             ],
             [
              0.3333333333333333,
              "#9c179e"
             ],
             [
              0.4444444444444444,
              "#bd3786"
             ],
             [
              0.5555555555555556,
              "#d8576b"
             ],
             [
              0.6666666666666666,
              "#ed7953"
             ],
             [
              0.7777777777777778,
              "#fb9f3a"
             ],
             [
              0.8888888888888888,
              "#fdca26"
             ],
             [
              1,
              "#f0f921"
             ]
            ],
            "type": "contour"
           }
          ],
          "contourcarpet": [
           {
            "colorbar": {
             "outlinewidth": 0,
             "ticks": ""
            },
            "type": "contourcarpet"
           }
          ],
          "heatmap": [
           {
            "colorbar": {
             "outlinewidth": 0,
             "ticks": ""
            },
            "colorscale": [
             [
              0,
              "#0d0887"
             ],
             [
              0.1111111111111111,
              "#46039f"
             ],
             [
              0.2222222222222222,
              "#7201a8"
             ],
             [
              0.3333333333333333,
              "#9c179e"
             ],
             [
              0.4444444444444444,
              "#bd3786"
             ],
             [
              0.5555555555555556,
              "#d8576b"
             ],
             [
              0.6666666666666666,
              "#ed7953"
             ],
             [
              0.7777777777777778,
              "#fb9f3a"
             ],
             [
              0.8888888888888888,
              "#fdca26"
             ],
             [
              1,
              "#f0f921"
             ]
            ],
            "type": "heatmap"
           }
          ],
          "heatmapgl": [
           {
            "colorbar": {
             "outlinewidth": 0,
             "ticks": ""
            },
            "colorscale": [
             [
              0,
              "#0d0887"
             ],
             [
              0.1111111111111111,
              "#46039f"
             ],
             [
              0.2222222222222222,
              "#7201a8"
             ],
             [
              0.3333333333333333,
              "#9c179e"
             ],
             [
              0.4444444444444444,
              "#bd3786"
             ],
             [
              0.5555555555555556,
              "#d8576b"
             ],
             [
              0.6666666666666666,
              "#ed7953"
             ],
             [
              0.7777777777777778,
              "#fb9f3a"
             ],
             [
              0.8888888888888888,
              "#fdca26"
             ],
             [
              1,
              "#f0f921"
             ]
            ],
            "type": "heatmapgl"
           }
          ],
          "histogram": [
           {
            "marker": {
             "pattern": {
              "fillmode": "overlay",
              "size": 10,
              "solidity": 0.2
             }
            },
            "type": "histogram"
           }
          ],
          "histogram2d": [
           {
            "colorbar": {
             "outlinewidth": 0,
             "ticks": ""
            },
            "colorscale": [
             [
              0,
              "#0d0887"
             ],
             [
              0.1111111111111111,
              "#46039f"
             ],
             [
              0.2222222222222222,
              "#7201a8"
             ],
             [
              0.3333333333333333,
              "#9c179e"
             ],
             [
              0.4444444444444444,
              "#bd3786"
             ],
             [
              0.5555555555555556,
              "#d8576b"
             ],
             [
              0.6666666666666666,
              "#ed7953"
             ],
             [
              0.7777777777777778,
              "#fb9f3a"
             ],
             [
              0.8888888888888888,
              "#fdca26"
             ],
             [
              1,
              "#f0f921"
             ]
            ],
            "type": "histogram2d"
           }
          ],
          "histogram2dcontour": [
           {
            "colorbar": {
             "outlinewidth": 0,
             "ticks": ""
            },
            "colorscale": [
             [
              0,
              "#0d0887"
             ],
             [
              0.1111111111111111,
              "#46039f"
             ],
             [
              0.2222222222222222,
              "#7201a8"
             ],
             [
              0.3333333333333333,
              "#9c179e"
             ],
             [
              0.4444444444444444,
              "#bd3786"
             ],
             [
              0.5555555555555556,
              "#d8576b"
             ],
             [
              0.6666666666666666,
              "#ed7953"
             ],
             [
              0.7777777777777778,
              "#fb9f3a"
             ],
             [
              0.8888888888888888,
              "#fdca26"
             ],
             [
              1,
              "#f0f921"
             ]
            ],
            "type": "histogram2dcontour"
           }
          ],
          "mesh3d": [
           {
            "colorbar": {
             "outlinewidth": 0,
             "ticks": ""
            },
            "type": "mesh3d"
           }
          ],
          "parcoords": [
           {
            "line": {
             "colorbar": {
              "outlinewidth": 0,
              "ticks": ""
             }
            },
            "type": "parcoords"
           }
          ],
          "pie": [
           {
            "automargin": true,
            "type": "pie"
           }
          ],
          "scatter": [
           {
            "marker": {
             "line": {
              "color": "#283442"
             }
            },
            "type": "scatter"
           }
          ],
          "scatter3d": [
           {
            "line": {
             "colorbar": {
              "outlinewidth": 0,
              "ticks": ""
             }
            },
            "marker": {
             "colorbar": {
              "outlinewidth": 0,
              "ticks": ""
             }
            },
            "type": "scatter3d"
           }
          ],
          "scattercarpet": [
           {
            "marker": {
             "colorbar": {
              "outlinewidth": 0,
              "ticks": ""
             }
            },
            "type": "scattercarpet"
           }
          ],
          "scattergeo": [
           {
            "marker": {
             "colorbar": {
              "outlinewidth": 0,
              "ticks": ""
             }
            },
            "type": "scattergeo"
           }
          ],
          "scattergl": [
           {
            "marker": {
             "line": {
              "color": "#283442"
             }
            },
            "type": "scattergl"
           }
          ],
          "scattermapbox": [
           {
            "marker": {
             "colorbar": {
              "outlinewidth": 0,
              "ticks": ""
             }
            },
            "type": "scattermapbox"
           }
          ],
          "scatterpolar": [
           {
            "marker": {
             "colorbar": {
              "outlinewidth": 0,
              "ticks": ""
             }
            },
            "type": "scatterpolar"
           }
          ],
          "scatterpolargl": [
           {
            "marker": {
             "colorbar": {
              "outlinewidth": 0,
              "ticks": ""
             }
            },
            "type": "scatterpolargl"
           }
          ],
          "scatterternary": [
           {
            "marker": {
             "colorbar": {
              "outlinewidth": 0,
              "ticks": ""
             }
            },
            "type": "scatterternary"
           }
          ],
          "surface": [
           {
            "colorbar": {
             "outlinewidth": 0,
             "ticks": ""
            },
            "colorscale": [
             [
              0,
              "#0d0887"
             ],
             [
              0.1111111111111111,
              "#46039f"
             ],
             [
              0.2222222222222222,
              "#7201a8"
             ],
             [
              0.3333333333333333,
              "#9c179e"
             ],
             [
              0.4444444444444444,
              "#bd3786"
             ],
             [
              0.5555555555555556,
              "#d8576b"
             ],
             [
              0.6666666666666666,
              "#ed7953"
             ],
             [
              0.7777777777777778,
              "#fb9f3a"
             ],
             [
              0.8888888888888888,
              "#fdca26"
             ],
             [
              1,
              "#f0f921"
             ]
            ],
            "type": "surface"
           }
          ],
          "table": [
           {
            "cells": {
             "fill": {
              "color": "#506784"
             },
             "line": {
              "color": "rgb(17,17,17)"
             }
            },
            "header": {
             "fill": {
              "color": "#2a3f5f"
             },
             "line": {
              "color": "rgb(17,17,17)"
             }
            },
            "type": "table"
           }
          ]
         },
         "layout": {
          "annotationdefaults": {
           "arrowcolor": "#f2f5fa",
           "arrowhead": 0,
           "arrowwidth": 1
          },
          "autotypenumbers": "strict",
          "coloraxis": {
           "colorbar": {
            "outlinewidth": 0,
            "ticks": ""
           }
          },
          "colorscale": {
           "diverging": [
            [
             0,
             "#8e0152"
            ],
            [
             0.1,
             "#c51b7d"
            ],
            [
             0.2,
             "#de77ae"
            ],
            [
             0.3,
             "#f1b6da"
            ],
            [
             0.4,
             "#fde0ef"
            ],
            [
             0.5,
             "#f7f7f7"
            ],
            [
             0.6,
             "#e6f5d0"
            ],
            [
             0.7,
             "#b8e186"
            ],
            [
             0.8,
             "#7fbc41"
            ],
            [
             0.9,
             "#4d9221"
            ],
            [
             1,
             "#276419"
            ]
           ],
           "sequential": [
            [
             0,
             "#0d0887"
            ],
            [
             0.1111111111111111,
             "#46039f"
            ],
            [
             0.2222222222222222,
             "#7201a8"
            ],
            [
             0.3333333333333333,
             "#9c179e"
            ],
            [
             0.4444444444444444,
             "#bd3786"
            ],
            [
             0.5555555555555556,
             "#d8576b"
            ],
            [
             0.6666666666666666,
             "#ed7953"
            ],
            [
             0.7777777777777778,
             "#fb9f3a"
            ],
            [
             0.8888888888888888,
             "#fdca26"
            ],
            [
             1,
             "#f0f921"
            ]
           ],
           "sequentialminus": [
            [
             0,
             "#0d0887"
            ],
            [
             0.1111111111111111,
             "#46039f"
            ],
            [
             0.2222222222222222,
             "#7201a8"
            ],
            [
             0.3333333333333333,
             "#9c179e"
            ],
            [
             0.4444444444444444,
             "#bd3786"
            ],
            [
             0.5555555555555556,
             "#d8576b"
            ],
            [
             0.6666666666666666,
             "#ed7953"
            ],
            [
             0.7777777777777778,
             "#fb9f3a"
            ],
            [
             0.8888888888888888,
             "#fdca26"
            ],
            [
             1,
             "#f0f921"
            ]
           ]
          },
          "colorway": [
           "#636efa",
           "#EF553B",
           "#00cc96",
           "#ab63fa",
           "#FFA15A",
           "#19d3f3",
           "#FF6692",
           "#B6E880",
           "#FF97FF",
           "#FECB52"
          ],
          "font": {
           "color": "#f2f5fa"
          },
          "geo": {
           "bgcolor": "rgb(17,17,17)",
           "lakecolor": "rgb(17,17,17)",
           "landcolor": "rgb(17,17,17)",
           "showlakes": true,
           "showland": true,
           "subunitcolor": "#506784"
          },
          "hoverlabel": {
           "align": "left"
          },
          "hovermode": "closest",
          "mapbox": {
           "style": "dark"
          },
          "paper_bgcolor": "rgb(17,17,17)",
          "plot_bgcolor": "rgb(17,17,17)",
          "polar": {
           "angularaxis": {
            "gridcolor": "#506784",
            "linecolor": "#506784",
            "ticks": ""
           },
           "bgcolor": "rgb(17,17,17)",
           "radialaxis": {
            "gridcolor": "#506784",
            "linecolor": "#506784",
            "ticks": ""
           }
          },
          "scene": {
           "xaxis": {
            "backgroundcolor": "rgb(17,17,17)",
            "gridcolor": "#506784",
            "gridwidth": 2,
            "linecolor": "#506784",
            "showbackground": true,
            "ticks": "",
            "zerolinecolor": "#C8D4E3"
           },
           "yaxis": {
            "backgroundcolor": "rgb(17,17,17)",
            "gridcolor": "#506784",
            "gridwidth": 2,
            "linecolor": "#506784",
            "showbackground": true,
            "ticks": "",
            "zerolinecolor": "#C8D4E3"
           },
           "zaxis": {
            "backgroundcolor": "rgb(17,17,17)",
            "gridcolor": "#506784",
            "gridwidth": 2,
            "linecolor": "#506784",
            "showbackground": true,
            "ticks": "",
            "zerolinecolor": "#C8D4E3"
           }
          },
          "shapedefaults": {
           "line": {
            "color": "#f2f5fa"
           }
          },
          "sliderdefaults": {
           "bgcolor": "#C8D4E3",
           "bordercolor": "rgb(17,17,17)",
           "borderwidth": 1,
           "tickwidth": 0
          },
          "ternary": {
           "aaxis": {
            "gridcolor": "#506784",
            "linecolor": "#506784",
            "ticks": ""
           },
           "baxis": {
            "gridcolor": "#506784",
            "linecolor": "#506784",
            "ticks": ""
           },
           "bgcolor": "rgb(17,17,17)",
           "caxis": {
            "gridcolor": "#506784",
            "linecolor": "#506784",
            "ticks": ""
           }
          },
          "title": {
           "x": 0.05
          },
          "updatemenudefaults": {
           "bgcolor": "#506784",
           "borderwidth": 0
          },
          "xaxis": {
           "automargin": true,
           "gridcolor": "#283442",
           "linecolor": "#506784",
           "ticks": "",
           "title": {
            "standoff": 15
           },
           "zerolinecolor": "#283442",
           "zerolinewidth": 2
          },
          "yaxis": {
           "automargin": true,
           "gridcolor": "#283442",
           "linecolor": "#506784",
           "ticks": "",
           "title": {
            "standoff": 15
           },
           "zerolinecolor": "#283442",
           "zerolinewidth": 2
          }
         }
        },
        "title": {
         "text": "Event Performance scores, by teams, date 2024-08-15"
        },
        "width": 900,
        "xaxis": {
         "anchor": "y",
         "autorange": true,
         "categoryarray": [
          "gold",
          "silver",
          "bronze"
         ],
         "categoryorder": "array",
         "domain": [
          0,
          0.22444444444444445
         ],
         "matches": "x4",
         "range": [
          2.5,
          5.5
         ],
         "showspikes": false,
         "showticklabels": false,
         "type": "category"
        },
        "xaxis2": {
         "anchor": "y3",
         "autorange": true,
         "categoryarray": [
          "gold",
          "silver",
          "bronze"
         ],
         "categoryorder": "array",
         "domain": [
          0.35777777777777775,
          0.5822222222222222
         ],
         "matches": "x5",
         "range": [
          2.5,
          5.5
         ],
         "showspikes": false,
         "showticklabels": false,
         "type": "category"
        },
        "xaxis3": {
         "anchor": "y5",
         "autorange": true,
         "categoryarray": [
          "gold",
          "silver",
          "bronze"
         ],
         "categoryorder": "array",
         "domain": [
          0.7155555555555555,
          0.94
         ],
         "matches": "x6",
         "range": [
          2.5,
          5.5
         ],
         "showspikes": false,
         "showticklabels": false,
         "type": "category"
        },
        "xaxis4": {
         "anchor": "y7",
         "autorange": true,
         "categoryarray": [
          "gold",
          "silver",
          "bronze"
         ],
         "categoryorder": "array",
         "domain": [
          0,
          0.22444444444444445
         ],
         "range": [
          2.5,
          5.5
         ],
         "showspikes": false,
         "showticklabels": false,
         "type": "category"
        },
        "xaxis5": {
         "anchor": "y9",
         "autorange": true,
         "categoryarray": [
          "gold",
          "silver",
          "bronze"
         ],
         "categoryorder": "array",
         "domain": [
          0.35777777777777775,
          0.5822222222222222
         ],
         "range": [
          2.5,
          5.5
         ],
         "showspikes": false,
         "showticklabels": false,
         "type": "category"
        },
        "xaxis6": {
         "anchor": "y11",
         "autorange": true,
         "categoryarray": [
          "gold",
          "silver",
          "bronze"
         ],
         "categoryorder": "array",
         "domain": [
          0.7155555555555555,
          0.94
         ],
         "range": [
          2.5,
          5.5
         ],
         "showspikes": false,
         "showticklabels": false,
         "type": "category"
        },
        "yaxis": {
         "anchor": "x",
         "autorange": true,
         "domain": [
          0.575,
          1
         ],
         "range": [
          0,
          38.94736842105263
         ],
         "type": "linear"
        },
        "yaxis10": {
         "anchor": "x5",
         "autorange": true,
         "overlaying": "y9",
         "range": [
          5.921255508001092,
          142.01874449199892
         ],
         "side": "right",
         "type": "linear"
        },
        "yaxis11": {
         "anchor": "x6",
         "autorange": true,
         "domain": [
          0,
          0.425
         ],
         "matches": "y7",
         "range": [
          0,
          42.10526315789474
         ],
         "showticklabels": false,
         "type": "linear"
        },
        "yaxis12": {
         "anchor": "x6",
         "autorange": true,
         "overlaying": "y11",
         "range": [
          6.2382727215495315,
          141.70172727845048
         ],
         "side": "right",
         "type": "linear"
        },
        "yaxis2": {
         "anchor": "x",
         "autorange": true,
         "overlaying": "y",
         "range": [
          13.880148768014891,
          118.51985123198511
         ],
         "side": "right",
         "type": "linear"
        },
        "yaxis3": {
         "anchor": "x2",
         "autorange": true,
         "domain": [
          0.575,
          1
         ],
         "matches": "y",
         "range": [
          0,
          38.94736842105263
         ],
         "showticklabels": false,
         "type": "linear"
        },
        "yaxis4": {
         "anchor": "x2",
         "autorange": true,
         "overlaying": "y3",
         "range": [
          13.554185715197011,
          118.84581428480298
         ],
         "side": "right",
         "type": "linear"
        },
        "yaxis5": {
         "anchor": "x3",
         "autorange": true,
         "domain": [
          0.575,
          1
         ],
         "matches": "y",
         "range": [
          0,
          38.94736842105263
         ],
         "showticklabels": false,
         "type": "linear"
        },
        "yaxis6": {
         "anchor": "x3",
         "autorange": true,
         "overlaying": "y5",
         "range": [
          14.849175567769372,
          117.55082443223063
         ],
         "side": "right",
         "type": "linear"
        },
        "yaxis7": {
         "anchor": "x4",
         "autorange": true,
         "domain": [
          0,
          0.425
         ],
         "range": [
          0,
          42.10526315789474
         ],
         "type": "linear"
        },
        "yaxis8": {
         "anchor": "x4",
         "autorange": true,
         "overlaying": "y7",
         "range": [
          4.55583164867306,
          143.38416835132693
         ],
         "side": "right",
         "type": "linear"
        },
        "yaxis9": {
         "anchor": "x5",
         "autorange": true,
         "domain": [
          0,
          0.425
         ],
         "matches": "y7",
         "range": [
          0,
          42.10526315789474
         ],
         "showticklabels": false,
         "type": "linear"
        }
       }
      },
      "image/png": "[encoded data removed]",
      "text/html": [
       "<div>                            <div id=\"d4ee784d-19ff-4527-be97-14773f8ea0ee\" class=\"plotly-graph-div\" style=\"height:400px; width:900px;\"></div>            <script type=\"text/javascript\">                require([\"plotly\"], function(Plotly) {                    window.PLOTLYENV=window.PLOTLYENV || {};                                    if (document.getElementById(\"d4ee784d-19ff-4527-be97-14773f8ea0ee\")) {                    Plotly.newPlot(                        \"d4ee784d-19ff-4527-be97-14773f8ea0ee\",                        [{\"customdata\":[[48,\"bronze\",33.1],[49,\"silver\",67.58],[48,\"gold\",99.3]],\"hovertemplate\":\"\\u003cbr\\u003e\\u003ci\\u003eTotal medals\\u003c\\u002fi\\u003e: %{customdata[0]} %{customdata[1]}\\u003cbr\\u003e\\u003ci\\u003eMedal score\\u003c\\u002fi\\u003e: %{customdata[2]} points\",\"marker\":{\"color\":[\"rgb(194, 144, 80)\",\"rgb(169, 180, 195)\",\"rgb(255, 222, 94)\",\"rgb(0,0,0)\"]},\"name\":\"\\u003cb\\u003eEvent A\\u003c\\u002fb\\u003e\",\"opacity\":0.8,\"text\":[33.0,33.0,33.0],\"textangle\":0,\"textfont\":{\"color\":\"black\"},\"textposition\":\"inside\",\"x\":[\"Bronze\",\"Silver\",\"Gold\"],\"y\":[33,33,33],\"type\":\"bar\",\"xaxis\":\"x\",\"yaxis\":\"y\"},{\"customdata\":[[33.0,78.8,184.0,199.98],[33.0,78.8,184.0,199.98],[33.0,78.8,184.0,199.98]],\"hovertemplate\":\"\\u003cbr\\u003e\\u003ci\\u003eMedal distribution\\u003c\\u002fi\\u003e: %{customdata[0]}%\\u003cbr\\u003e\\u003ci\\u003eParticipation\\u003c\\u002fi\\u003e: %{customdata[1]}%\\u003cbr\\u003e\\u003ci\\u003eTeam players\\u003c\\u002fi\\u003e: %{customdata[2]}\\u003cbr\\u003e\\u003cbr\\u003e\\u003cb\\u003eTeam Score\\u003c\\u002fb\\u003e: %{customdata[3]}\",\"marker\":{\"color\":[\"rgb(194, 144, 80)\",\"rgb(169, 180, 195)\",\"rgb(255, 222, 94)\"],\"line\":{\"color\":\"white\"},\"size\":[19.997999999999998,19.997999999999998,19.997999999999998]},\"mode\":\"markers\",\"name\":\"\\u003cb\\u003eTeam metrics\\u003c\\u002fb\\u003e\",\"opacity\":0.5,\"x\":[\"Bronze\",\"Silver\",\"Gold\"],\"y\":[33.1,67.58,99.3],\"type\":\"scatter\",\"xaxis\":\"x\",\"yaxis\":\"y2\"},{\"customdata\":[[53,\"bronze\",30.64],[62,\"silver\",71.68],[58,\"gold\",100.59]],\"hovertemplate\":\"\\u003cbr\\u003e\\u003ci\\u003eTotal medals\\u003c\\u002fi\\u003e: %{customdata[0]} %{customdata[1]}\\u003cbr\\u003e\\u003ci\\u003eMedal score\\u003c\\u002fi\\u003e: %{customdata[2]} points\",\"marker\":{\"color\":[\"rgb(194, 144, 80)\",\"rgb(169, 180, 195)\",\"rgb(255, 222, 94)\",\"rgb(0,0,0)\"]},\"name\":\"\\u003cb\\u003eEvent A\\u003c\\u002fb\\u003e\",\"opacity\":0.8,\"text\":[30.0,35.0,33.0],\"textangle\":0,\"textfont\":{\"color\":\"black\"},\"textposition\":\"inside\",\"x\":[\"Bronze\",\"Silver\",\"Gold\"],\"y\":[30,35,33],\"type\":\"bar\",\"xaxis\":\"x2\",\"yaxis\":\"y3\"},{\"customdata\":[[30.0,73.31,236.0,202.91000000000003],[35.0,73.31,236.0,202.91000000000003],[33.0,73.31,236.0,202.91000000000003]],\"hovertemplate\":\"\\u003cbr\\u003e\\u003ci\\u003eMedal distribution\\u003c\\u002fi\\u003e: %{customdata[0]}%\\u003cbr\\u003e\\u003ci\\u003eParticipation\\u003c\\u002fi\\u003e: %{customdata[1]}%\\u003cbr\\u003e\\u003ci\\u003eTeam players\\u003c\\u002fi\\u003e: %{customdata[2]}\\u003cbr\\u003e\\u003cbr\\u003e\\u003cb\\u003eTeam Score\\u003c\\u002fb\\u003e: %{customdata[3]}\",\"marker\":{\"color\":[\"rgb(194, 144, 80)\",\"rgb(169, 180, 195)\",\"rgb(255, 222, 94)\"],\"line\":{\"color\":\"white\"},\"size\":[20.291000000000004,20.291000000000004,20.291000000000004]},\"mode\":\"markers\",\"name\":\"\\u003cb\\u003eTeam metrics\\u003c\\u002fb\\u003e\",\"opacity\":0.5,\"x\":[\"Bronze\",\"Silver\",\"Gold\"],\"y\":[33.1,67.58,99.3],\"type\":\"scatter\",\"xaxis\":\"x2\",\"yaxis\":\"y4\"},{\"customdata\":[[24,\"bronze\",35.82],[25,\"silver\",74.62],[18,\"gold\",80.61]],\"hovertemplate\":\"\\u003cbr\\u003e\\u003ci\\u003eTotal medals\\u003c\\u002fi\\u003e: %{customdata[0]} %{customdata[1]}\\u003cbr\\u003e\\u003ci\\u003eMedal score\\u003c\\u002fi\\u003e: %{customdata[2]} points\",\"marker\":{\"color\":[\"rgb(194, 144, 80)\",\"rgb(169, 180, 195)\",\"rgb(255, 222, 94)\",\"rgb(0,0,0)\"]},\"name\":\"\\u003cb\\u003eEvent A\\u003c\\u002fb\\u003e\",\"opacity\":0.8,\"text\":[35.0,37.0,26.0],\"textangle\":0,\"textfont\":{\"color\":\"black\"},\"textposition\":\"inside\",\"x\":[\"Bronze\",\"Silver\",\"Gold\"],\"y\":[35,37,26],\"type\":\"bar\",\"xaxis\":\"x3\",\"yaxis\":\"y5\"},{\"customdata\":[[35.0,82.72,81.0,191.05],[37.0,82.72,81.0,191.05],[26.0,82.72,81.0,191.05]],\"hovertemplate\":\"\\u003cbr\\u003e\\u003ci\\u003eMedal distribution\\u003c\\u002fi\\u003e: %{customdata[0]}%\\u003cbr\\u003e\\u003ci\\u003eParticipation\\u003c\\u002fi\\u003e: %{customdata[1]}%\\u003cbr\\u003e\\u003ci\\u003eTeam players\\u003c\\u002fi\\u003e: %{customdata[2]}\\u003cbr\\u003e\\u003cbr\\u003e\\u003cb\\u003eTeam Score\\u003c\\u002fb\\u003e: %{customdata[3]}\",\"marker\":{\"color\":[\"rgb(194, 144, 80)\",\"rgb(169, 180, 195)\",\"rgb(255, 222, 94)\"],\"line\":{\"color\":\"white\"},\"size\":[19.105,19.105,19.105]},\"mode\":\"markers\",\"name\":\"\\u003cb\\u003eTeam metrics\\u003c\\u002fb\\u003e\",\"opacity\":0.5,\"x\":[\"Bronze\",\"Silver\",\"Gold\"],\"y\":[33.1,67.58,99.3],\"type\":\"scatter\",\"xaxis\":\"x3\",\"yaxis\":\"y6\"},{\"customdata\":[[45,\"bronze\",30.82],[44,\"silver\",60.28],[57,\"gold\",117.12]],\"hovertemplate\":\"\\u003cbr\\u003e\\u003ci\\u003eTotal medals\\u003c\\u002fi\\u003e: %{customdata[0]} %{customdata[1]}\\u003cbr\\u003e\\u003ci\\u003eMedal score\\u003c\\u002fi\\u003e: %{customdata[2]} points\",\"marker\":{\"color\":[\"rgb(194, 144, 80)\",\"rgb(169, 180, 195)\",\"rgb(255, 222, 94)\",\"rgb(0,0,0)\"]},\"name\":\"\\u003cb\\u003eEvent B\\u003c\\u002fb\\u003e\",\"opacity\":0.8,\"text\":[30.0,30.0,39.0],\"textangle\":0,\"textfont\":{\"color\":\"black\"},\"textposition\":\"inside\",\"x\":[\"Bronze\",\"Silver\",\"Gold\"],\"y\":[30,30,39],\"type\":\"bar\",\"xaxis\":\"x4\",\"yaxis\":\"y7\"},{\"customdata\":[[30.0,79.35,184.0,208.22],[30.0,79.35,184.0,208.22],[39.0,79.35,184.0,208.22]],\"hovertemplate\":\"\\u003cbr\\u003e\\u003ci\\u003eMedal distribution\\u003c\\u002fi\\u003e: %{customdata[0]}%\\u003cbr\\u003e\\u003ci\\u003eParticipation\\u003c\\u002fi\\u003e: %{customdata[1]}%\\u003cbr\\u003e\\u003ci\\u003eTeam players\\u003c\\u002fi\\u003e: %{customdata[2]}\\u003cbr\\u003e\\u003cbr\\u003e\\u003cb\\u003eTeam Score\\u003c\\u002fb\\u003e: %{customdata[3]}\",\"marker\":{\"color\":[\"rgb(194, 144, 80)\",\"rgb(169, 180, 195)\",\"rgb(255, 222, 94)\"],\"line\":{\"color\":\"white\"},\"size\":[20.822,20.822,20.822]},\"mode\":\"markers\",\"name\":\"\\u003cb\\u003eTeam metrics\\u003c\\u002fb\\u003e\",\"opacity\":0.5,\"x\":[\"Bronze\",\"Silver\",\"Gold\"],\"y\":[30.82,60.28,117.12],\"type\":\"scatter\",\"xaxis\":\"x4\",\"yaxis\":\"y8\"},{\"customdata\":[[63,\"bronze\",35.0],[56,\"silver\",62.22],[61,\"gold\",101.67]],\"hovertemplate\":\"\\u003cbr\\u003e\\u003ci\\u003eTotal medals\\u003c\\u002fi\\u003e: %{customdata[0]} %{customdata[1]}\\u003cbr\\u003e\\u003ci\\u003eMedal score\\u003c\\u002fi\\u003e: %{customdata[2]} points\",\"marker\":{\"color\":[\"rgb(194, 144, 80)\",\"rgb(169, 180, 195)\",\"rgb(255, 222, 94)\",\"rgb(0,0,0)\"]},\"name\":\"\\u003cb\\u003eEvent B\\u003c\\u002fb\\u003e\",\"opacity\":0.8,\"text\":[35.0,31.0,33.0],\"textangle\":0,\"textfont\":{\"color\":\"black\"},\"textposition\":\"inside\",\"x\":[\"Bronze\",\"Silver\",\"Gold\"],\"y\":[35,31,33],\"type\":\"bar\",\"xaxis\":\"x5\",\"yaxis\":\"y9\"},{\"customdata\":[[35.0,76.27,236.0,198.89],[31.0,76.27,236.0,198.89],[33.0,76.27,236.0,198.89]],\"hovertemplate\":\"\\u003cbr\\u003e\\u003ci\\u003eMedal distribution\\u003c\\u002fi\\u003e: %{customdata[0]}%\\u003cbr\\u003e\\u003ci\\u003eParticipation\\u003c\\u002fi\\u003e: %{customdata[1]}%\\u003cbr\\u003e\\u003ci\\u003eTeam players\\u003c\\u002fi\\u003e: %{customdata[2]}\\u003cbr\\u003e\\u003cbr\\u003e\\u003cb\\u003eTeam Score\\u003c\\u002fb\\u003e: %{customdata[3]}\",\"marker\":{\"color\":[\"rgb(194, 144, 80)\",\"rgb(169, 180, 195)\",\"rgb(255, 222, 94)\"],\"line\":{\"color\":\"white\"},\"size\":[19.889,19.889,19.889]},\"mode\":\"markers\",\"name\":\"\\u003cb\\u003eTeam metrics\\u003c\\u002fb\\u003e\",\"opacity\":0.5,\"x\":[\"Bronze\",\"Silver\",\"Gold\"],\"y\":[30.82,60.28,117.12],\"type\":\"scatter\",\"xaxis\":\"x5\",\"yaxis\":\"y10\"},{\"customdata\":[[24,\"bronze\",40.0],[14,\"silver\",46.66],[22,\"gold\",110.01]],\"hovertemplate\":\"\\u003cbr\\u003e\\u003ci\\u003eTotal medals\\u003c\\u002fi\\u003e: %{customdata[0]} %{customdata[1]}\\u003cbr\\u003e\\u003ci\\u003eMedal score\\u003c\\u002fi\\u003e: %{customdata[2]} points\",\"marker\":{\"color\":[\"rgb(194, 144, 80)\",\"rgb(169, 180, 195)\",\"rgb(255, 222, 94)\",\"rgb(0,0,0)\"]},\"name\":\"\\u003cb\\u003eEvent B\\u003c\\u002fb\\u003e\",\"opacity\":0.8,\"text\":[40.0,23.0,36.0],\"textangle\":0,\"textfont\":{\"color\":\"black\"},\"textposition\":\"inside\",\"x\":[\"Bronze\",\"Silver\",\"Gold\"],\"y\":[40,23,36],\"type\":\"bar\",\"xaxis\":\"x6\",\"yaxis\":\"y11\"},{\"customdata\":[[40.0,74.07,81.0,196.67000000000002],[23.0,74.07,81.0,196.67000000000002],[36.0,74.07,81.0,196.67000000000002]],\"hovertemplate\":\"\\u003cbr\\u003e\\u003ci\\u003eMedal distribution\\u003c\\u002fi\\u003e: %{customdata[0]}%\\u003cbr\\u003e\\u003ci\\u003eParticipation\\u003c\\u002fi\\u003e: %{customdata[1]}%\\u003cbr\\u003e\\u003ci\\u003eTeam players\\u003c\\u002fi\\u003e: %{customdata[2]}\\u003cbr\\u003e\\u003cbr\\u003e\\u003cb\\u003eTeam Score\\u003c\\u002fb\\u003e: %{customdata[3]}\",\"marker\":{\"color\":[\"rgb(194, 144, 80)\",\"rgb(169, 180, 195)\",\"rgb(255, 222, 94)\"],\"line\":{\"color\":\"white\"},\"size\":[19.667,19.667,19.667]},\"mode\":\"markers\",\"name\":\"\\u003cb\\u003eTeam metrics\\u003c\\u002fb\\u003e\",\"opacity\":0.5,\"x\":[\"Bronze\",\"Silver\",\"Gold\"],\"y\":[30.82,60.28,117.12],\"type\":\"scatter\",\"xaxis\":\"x6\",\"yaxis\":\"y12\"}],                        {\"template\":{\"data\":{\"barpolar\":[{\"marker\":{\"line\":{\"color\":\"rgb(17,17,17)\",\"width\":0.5},\"pattern\":{\"fillmode\":\"overlay\",\"size\":10,\"solidity\":0.2}},\"type\":\"barpolar\"}],\"bar\":[{\"error_x\":{\"color\":\"#f2f5fa\"},\"error_y\":{\"color\":\"#f2f5fa\"},\"marker\":{\"line\":{\"color\":\"rgb(17,17,17)\",\"width\":0.5},\"pattern\":{\"fillmode\":\"overlay\",\"size\":10,\"solidity\":0.2}},\"type\":\"bar\"}],\"carpet\":[{\"aaxis\":{\"endlinecolor\":\"#A2B1C6\",\"gridcolor\":\"#506784\",\"linecolor\":\"#506784\",\"minorgridcolor\":\"#506784\",\"startlinecolor\":\"#A2B1C6\"},\"baxis\":{\"endlinecolor\":\"#A2B1C6\",\"gridcolor\":\"#506784\",\"linecolor\":\"#506784\",\"minorgridcolor\":\"#506784\",\"startlinecolor\":\"#A2B1C6\"},\"type\":\"carpet\"}],\"choropleth\":[{\"colorbar\":{\"outlinewidth\":0,\"ticks\":\"\"},\"type\":\"choropleth\"}],\"contourcarpet\":[{\"colorbar\":{\"outlinewidth\":0,\"ticks\":\"\"},\"type\":\"contourcarpet\"}],\"contour\":[{\"colorbar\":{\"outlinewidth\":0,\"ticks\":\"\"},\"colorscale\":[[0.0,\"#0d0887\"],[0.1111111111111111,\"#46039f\"],[0.2222222222222222,\"#7201a8\"],[0.3333333333333333,\"#9c179e\"],[0.4444444444444444,\"#bd3786\"],[0.5555555555555556,\"#d8576b\"],[0.6666666666666666,\"#ed7953\"],[0.7777777777777778,\"#fb9f3a\"],[0.8888888888888888,\"#fdca26\"],[1.0,\"#f0f921\"]],\"type\":\"contour\"}],\"heatmapgl\":[{\"colorbar\":{\"outlinewidth\":0,\"ticks\":\"\"},\"colorscale\":[[0.0,\"#0d0887\"],[0.1111111111111111,\"#46039f\"],[0.2222222222222222,\"#7201a8\"],[0.3333333333333333,\"#9c179e\"],[0.4444444444444444,\"#bd3786\"],[0.5555555555555556,\"#d8576b\"],[0.6666666666666666,\"#ed7953\"],[0.7777777777777778,\"#fb9f3a\"],[0.8888888888888888,\"#fdca26\"],[1.0,\"#f0f921\"]],\"type\":\"heatmapgl\"}],\"heatmap\":[{\"colorbar\":{\"outlinewidth\":0,\"ticks\":\"\"},\"colorscale\":[[0.0,\"#0d0887\"],[0.1111111111111111,\"#46039f\"],[0.2222222222222222,\"#7201a8\"],[0.3333333333333333,\"#9c179e\"],[0.4444444444444444,\"#bd3786\"],[0.5555555555555556,\"#d8576b\"],[0.6666666666666666,\"#ed7953\"],[0.7777777777777778,\"#fb9f3a\"],[0.8888888888888888,\"#fdca26\"],[1.0,\"#f0f921\"]],\"type\":\"heatmap\"}],\"histogram2dcontour\":[{\"colorbar\":{\"outlinewidth\":0,\"ticks\":\"\"},\"colorscale\":[[0.0,\"#0d0887\"],[0.1111111111111111,\"#46039f\"],[0.2222222222222222,\"#7201a8\"],[0.3333333333333333,\"#9c179e\"],[0.4444444444444444,\"#bd3786\"],[0.5555555555555556,\"#d8576b\"],[0.6666666666666666,\"#ed7953\"],[0.7777777777777778,\"#fb9f3a\"],[0.8888888888888888,\"#fdca26\"],[1.0,\"#f0f921\"]],\"type\":\"histogram2dcontour\"}],\"histogram2d\":[{\"colorbar\":{\"outlinewidth\":0,\"ticks\":\"\"},\"colorscale\":[[0.0,\"#0d0887\"],[0.1111111111111111,\"#46039f\"],[0.2222222222222222,\"#7201a8\"],[0.3333333333333333,\"#9c179e\"],[0.4444444444444444,\"#bd3786\"],[0.5555555555555556,\"#d8576b\"],[0.6666666666666666,\"#ed7953\"],[0.7777777777777778,\"#fb9f3a\"],[0.8888888888888888,\"#fdca26\"],[1.0,\"#f0f921\"]],\"type\":\"histogram2d\"}],\"histogram\":[{\"marker\":{\"pattern\":{\"fillmode\":\"overlay\",\"size\":10,\"solidity\":0.2}},\"type\":\"histogram\"}],\"mesh3d\":[{\"colorbar\":{\"outlinewidth\":0,\"ticks\":\"\"},\"type\":\"mesh3d\"}],\"parcoords\":[{\"line\":{\"colorbar\":{\"outlinewidth\":0,\"ticks\":\"\"}},\"type\":\"parcoords\"}],\"pie\":[{\"automargin\":true,\"type\":\"pie\"}],\"scatter3d\":[{\"line\":{\"colorbar\":{\"outlinewidth\":0,\"ticks\":\"\"}},\"marker\":{\"colorbar\":{\"outlinewidth\":0,\"ticks\":\"\"}},\"type\":\"scatter3d\"}],\"scattercarpet\":[{\"marker\":{\"colorbar\":{\"outlinewidth\":0,\"ticks\":\"\"}},\"type\":\"scattercarpet\"}],\"scattergeo\":[{\"marker\":{\"colorbar\":{\"outlinewidth\":0,\"ticks\":\"\"}},\"type\":\"scattergeo\"}],\"scattergl\":[{\"marker\":{\"line\":{\"color\":\"#283442\"}},\"type\":\"scattergl\"}],\"scattermapbox\":[{\"marker\":{\"colorbar\":{\"outlinewidth\":0,\"ticks\":\"\"}},\"type\":\"scattermapbox\"}],\"scatterpolargl\":[{\"marker\":{\"colorbar\":{\"outlinewidth\":0,\"ticks\":\"\"}},\"type\":\"scatterpolargl\"}],\"scatterpolar\":[{\"marker\":{\"colorbar\":{\"outlinewidth\":0,\"ticks\":\"\"}},\"type\":\"scatterpolar\"}],\"scatter\":[{\"marker\":{\"line\":{\"color\":\"#283442\"}},\"type\":\"scatter\"}],\"scatterternary\":[{\"marker\":{\"colorbar\":{\"outlinewidth\":0,\"ticks\":\"\"}},\"type\":\"scatterternary\"}],\"surface\":[{\"colorbar\":{\"outlinewidth\":0,\"ticks\":\"\"},\"colorscale\":[[0.0,\"#0d0887\"],[0.1111111111111111,\"#46039f\"],[0.2222222222222222,\"#7201a8\"],[0.3333333333333333,\"#9c179e\"],[0.4444444444444444,\"#bd3786\"],[0.5555555555555556,\"#d8576b\"],[0.6666666666666666,\"#ed7953\"],[0.7777777777777778,\"#fb9f3a\"],[0.8888888888888888,\"#fdca26\"],[1.0,\"#f0f921\"]],\"type\":\"surface\"}],\"table\":[{\"cells\":{\"fill\":{\"color\":\"#506784\"},\"line\":{\"color\":\"rgb(17,17,17)\"}},\"header\":{\"fill\":{\"color\":\"#2a3f5f\"},\"line\":{\"color\":\"rgb(17,17,17)\"}},\"type\":\"table\"}]},\"layout\":{\"annotationdefaults\":{\"arrowcolor\":\"#f2f5fa\",\"arrowhead\":0,\"arrowwidth\":1},\"autotypenumbers\":\"strict\",\"coloraxis\":{\"colorbar\":{\"outlinewidth\":0,\"ticks\":\"\"}},\"colorscale\":{\"diverging\":[[0,\"#8e0152\"],[0.1,\"#c51b7d\"],[0.2,\"#de77ae\"],[0.3,\"#f1b6da\"],[0.4,\"#fde0ef\"],[0.5,\"#f7f7f7\"],[0.6,\"#e6f5d0\"],[0.7,\"#b8e186\"],[0.8,\"#7fbc41\"],[0.9,\"#4d9221\"],[1,\"#276419\"]],\"sequential\":[[0.0,\"#0d0887\"],[0.1111111111111111,\"#46039f\"],[0.2222222222222222,\"#7201a8\"],[0.3333333333333333,\"#9c179e\"],[0.4444444444444444,\"#bd3786\"],[0.5555555555555556,\"#d8576b\"],[0.6666666666666666,\"#ed7953\"],[0.7777777777777778,\"#fb9f3a\"],[0.8888888888888888,\"#fdca26\"],[1.0,\"#f0f921\"]],\"sequentialminus\":[[0.0,\"#0d0887\"],[0.1111111111111111,\"#46039f\"],[0.2222222222222222,\"#7201a8\"],[0.3333333333333333,\"#9c179e\"],[0.4444444444444444,\"#bd3786\"],[0.5555555555555556,\"#d8576b\"],[0.6666666666666666,\"#ed7953\"],[0.7777777777777778,\"#fb9f3a\"],[0.8888888888888888,\"#fdca26\"],[1.0,\"#f0f921\"]]},\"colorway\":[\"#636efa\",\"#EF553B\",\"#00cc96\",\"#ab63fa\",\"#FFA15A\",\"#19d3f3\",\"#FF6692\",\"#B6E880\",\"#FF97FF\",\"#FECB52\"],\"font\":{\"color\":\"#f2f5fa\"},\"geo\":{\"bgcolor\":\"rgb(17,17,17)\",\"lakecolor\":\"rgb(17,17,17)\",\"landcolor\":\"rgb(17,17,17)\",\"showlakes\":true,\"showland\":true,\"subunitcolor\":\"#506784\"},\"hoverlabel\":{\"align\":\"left\"},\"hovermode\":\"closest\",\"mapbox\":{\"style\":\"dark\"},\"paper_bgcolor\":\"rgb(17,17,17)\",\"plot_bgcolor\":\"rgb(17,17,17)\",\"polar\":{\"angularaxis\":{\"gridcolor\":\"#506784\",\"linecolor\":\"#506784\",\"ticks\":\"\"},\"bgcolor\":\"rgb(17,17,17)\",\"radialaxis\":{\"gridcolor\":\"#506784\",\"linecolor\":\"#506784\",\"ticks\":\"\"}},\"scene\":{\"xaxis\":{\"backgroundcolor\":\"rgb(17,17,17)\",\"gridcolor\":\"#506784\",\"gridwidth\":2,\"linecolor\":\"#506784\",\"showbackground\":true,\"ticks\":\"\",\"zerolinecolor\":\"#C8D4E3\"},\"yaxis\":{\"backgroundcolor\":\"rgb(17,17,17)\",\"gridcolor\":\"#506784\",\"gridwidth\":2,\"linecolor\":\"#506784\",\"showbackground\":true,\"ticks\":\"\",\"zerolinecolor\":\"#C8D4E3\"},\"zaxis\":{\"backgroundcolor\":\"rgb(17,17,17)\",\"gridcolor\":\"#506784\",\"gridwidth\":2,\"linecolor\":\"#506784\",\"showbackground\":true,\"ticks\":\"\",\"zerolinecolor\":\"#C8D4E3\"}},\"shapedefaults\":{\"line\":{\"color\":\"#f2f5fa\"}},\"sliderdefaults\":{\"bgcolor\":\"#C8D4E3\",\"bordercolor\":\"rgb(17,17,17)\",\"borderwidth\":1,\"tickwidth\":0},\"ternary\":{\"aaxis\":{\"gridcolor\":\"#506784\",\"linecolor\":\"#506784\",\"ticks\":\"\"},\"baxis\":{\"gridcolor\":\"#506784\",\"linecolor\":\"#506784\",\"ticks\":\"\"},\"bgcolor\":\"rgb(17,17,17)\",\"caxis\":{\"gridcolor\":\"#506784\",\"linecolor\":\"#506784\",\"ticks\":\"\"}},\"title\":{\"x\":0.05},\"updatemenudefaults\":{\"bgcolor\":\"#506784\",\"borderwidth\":0},\"xaxis\":{\"automargin\":true,\"gridcolor\":\"#283442\",\"linecolor\":\"#506784\",\"ticks\":\"\",\"title\":{\"standoff\":15},\"zerolinecolor\":\"#283442\",\"zerolinewidth\":2},\"yaxis\":{\"automargin\":true,\"gridcolor\":\"#283442\",\"linecolor\":\"#506784\",\"ticks\":\"\",\"title\":{\"standoff\":15},\"zerolinecolor\":\"#283442\",\"zerolinewidth\":2}}},\"xaxis\":{\"anchor\":\"y\",\"domain\":[0.0,0.22444444444444445],\"matches\":\"x4\",\"showticklabels\":false,\"categoryorder\":\"array\",\"categoryarray\":[\"gold\",\"silver\",\"bronze\"],\"showspikes\":false},\"yaxis\":{\"anchor\":\"x\",\"domain\":[0.575,1.0]},\"yaxis2\":{\"anchor\":\"x\",\"overlaying\":\"y\",\"side\":\"right\"},\"xaxis2\":{\"anchor\":\"y3\",\"domain\":[0.35777777777777775,0.5822222222222222],\"matches\":\"x5\",\"showticklabels\":false,\"categoryorder\":\"array\",\"categoryarray\":[\"gold\",\"silver\",\"bronze\"],\"showspikes\":false},\"yaxis3\":{\"anchor\":\"x2\",\"domain\":[0.575,1.0],\"matches\":\"y\",\"showticklabels\":false},\"yaxis4\":{\"anchor\":\"x2\",\"overlaying\":\"y3\",\"side\":\"right\"},\"xaxis3\":{\"anchor\":\"y5\",\"domain\":[0.7155555555555555,0.94],\"matches\":\"x6\",\"showticklabels\":false,\"categoryorder\":\"array\",\"categoryarray\":[\"gold\",\"silver\",\"bronze\"],\"showspikes\":false},\"yaxis5\":{\"anchor\":\"x3\",\"domain\":[0.575,1.0],\"matches\":\"y\",\"showticklabels\":false},\"yaxis6\":{\"anchor\":\"x3\",\"overlaying\":\"y5\",\"side\":\"right\"},\"xaxis4\":{\"anchor\":\"y7\",\"domain\":[0.0,0.22444444444444445],\"categoryorder\":\"array\",\"categoryarray\":[\"gold\",\"silver\",\"bronze\"],\"showticklabels\":false,\"showspikes\":false},\"yaxis7\":{\"anchor\":\"x4\",\"domain\":[0.0,0.425]},\"yaxis8\":{\"anchor\":\"x4\",\"overlaying\":\"y7\",\"side\":\"right\"},\"xaxis5\":{\"anchor\":\"y9\",\"domain\":[0.35777777777777775,0.5822222222222222],\"categoryorder\":\"array\",\"categoryarray\":[\"gold\",\"silver\",\"bronze\"],\"showticklabels\":false,\"showspikes\":false},\"yaxis9\":{\"anchor\":\"x5\",\"domain\":[0.0,0.425],\"matches\":\"y7\",\"showticklabels\":false},\"yaxis10\":{\"anchor\":\"x5\",\"overlaying\":\"y9\",\"side\":\"right\"},\"xaxis6\":{\"anchor\":\"y11\",\"domain\":[0.7155555555555555,0.94],\"categoryorder\":\"array\",\"categoryarray\":[\"gold\",\"silver\",\"bronze\"],\"showticklabels\":false,\"showspikes\":false},\"yaxis11\":{\"anchor\":\"x6\",\"domain\":[0.0,0.425],\"matches\":\"y7\",\"showticklabels\":false},\"yaxis12\":{\"anchor\":\"x6\",\"overlaying\":\"y11\",\"side\":\"right\"},\"annotations\":[{\"font\":{\"size\":16},\"showarrow\":false,\"text\":\"ThunderCats\",\"x\":0.11222222222222222,\"xanchor\":\"center\",\"xref\":\"paper\",\"y\":1.0,\"yanchor\":\"bottom\",\"yref\":\"paper\"},{\"font\":{\"size\":16},\"showarrow\":false,\"text\":\"Dog Patrol\",\"x\":0.47,\"xanchor\":\"center\",\"xref\":\"paper\",\"y\":1.0,\"yanchor\":\"bottom\",\"yref\":\"paper\"},{\"font\":{\"size\":16},\"showarrow\":false,\"text\":\"Power Birds\",\"x\":0.8277777777777777,\"xanchor\":\"center\",\"xref\":\"paper\",\"y\":1.0,\"yanchor\":\"bottom\",\"yref\":\"paper\"}],\"hoverlabel\":{\"align\":\"right\"},\"title\":{\"text\":\"Event Performance scores, by teams, date 2024-08-15\"},\"barmode\":\"group\",\"showlegend\":false,\"hovermode\":\"x unified\",\"barcornerradius\":\"50%\",\"width\":900,\"height\":400},                        {\"responsive\": true}                    ).then(function(){\n",
       "                            \n",
       "var gd = document.getElementById('d4ee784d-19ff-4527-be97-14773f8ea0ee');\n",
       "var x = new MutationObserver(function (mutations, observer) {{\n",
       "        var display = window.getComputedStyle(gd).display;\n",
       "        if (!display || display === 'none') {{\n",
       "            console.log([gd, 'removed!']);\n",
       "            Plotly.purge(gd);\n",
       "            observer.disconnect();\n",
       "        }}\n",
       "}});\n",
       "\n",
       "// Listen for the removal of the full notebook cells\n",
       "var notebookContainer = gd.closest('#notebook-container');\n",
       "if (notebookContainer) {{\n",
       "    x.observe(notebookContainer, {childList: true});\n",
       "}}\n",
       "\n",
       "// Listen for the clearing of the current output cell\n",
       "var outputEl = gd.closest('.output');\n",
       "if (outputEl) {{\n",
       "    x.observe(outputEl, {childList: true});\n",
       "}}\n",
       "\n",
       "                        })                };                });            </script>        </div>"
      ]
     },
     "metadata": {},
     "output_type": "display_data"
    }
   ],
   "source": [
    "score_figure(df_eventteams_scores, 'performance', scatter_opacity=0.5)"
   ]
  },
  {
   "cell_type": "markdown",
   "metadata": {},
   "source": [
    "## \"Conclusions\" (and hipothesis)\n",
    "\n",
    "After reviewing the calculus and impact of accumulative score system in the escenario wich players are placed in teams with symbolic value, posible solutions are proposed, allowing players to choose freely and estimate winners based on performance, calculating scores by normalizing each team instead of considering all the players without data processing. It's expected to reduce negative impact on the perception from user experience and community perspectives.\n",
    "\n",
    "Since is not commonly applied or seen, is suggested to do a test event with any of these approaches and observe the impact on players."
   ]
  }
 ],
 "metadata": {
  "kernelspec": {
   "display_name": "Python 3 (ipykernel)",
   "language": "python",
   "name": "python3"
  },
  "language_info": {
   "codemirror_mode": {
    "name": "ipython",
    "version": 3
   },
   "file_extension": ".py",
   "mimetype": "text/x-python",
   "name": "python",
   "nbconvert_exporter": "python",
   "pygments_lexer": "ipython3",
   "version": "3.11.0"
  }
 },
 "nbformat": 4,
 "nbformat_minor": 4
}
